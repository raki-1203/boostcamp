{
 "cells": [
  {
   "cell_type": "markdown",
   "id": "1c98175b-de86-4802-a51a-925b7648e5c9",
   "metadata": {},
   "source": [
    "# 01. 자연어 처리 전처리 이해하기"
   ]
  },
  {
   "cell_type": "markdown",
   "id": "872624b1-35de-4f7b-9894-190b4058086d",
   "metadata": {},
   "source": [
    "자연어 처리는 일반적으로 토큰화, 단어 집합 생성, 정수 인코딩, 패딩, 벡터화의 과정을 거칩니다.\n",
    "\n",
    "이번 챕터에서는 이러한 전반적인 과정에 대해서 이해합니다."
   ]
  },
  {
   "cell_type": "markdown",
   "id": "5847156b-bfe0-4ce6-9f81-14258b53fca3",
   "metadata": {},
   "source": [
    "## 1. 토큰화(Tokenization)\n",
    "---\n",
    "주어진 텍스트를 단어 또는 문자 단위로 자르는 것을 토큰화라고 합니다. 예를 들어 주어진 문장이 다음과 같다고 해봅시다. 영어의 경우 토큰화를 사용하는 도구로서 대표적으로 spaCy와 NLTK가 있습니다. 물론, 파이썬 기본 함수인 split으로 토큰화를 할 수도 있습니다.\n",
    "\n",
    "우선 영어에 대해서 토큰화 실습을 해봅시다."
   ]
  },
  {
   "cell_type": "code",
   "execution_count": 1,
   "id": "e56b61aa-5103-45c3-a7e9-58af1ae8c4f6",
   "metadata": {},
   "outputs": [],
   "source": [
    "en_text = 'A Dog Run back corner near spare bedrooms'"
   ]
  },
  {
   "cell_type": "markdown",
   "id": "833a3ee3-4e4a-4f16-9d33-b6767dc45844",
   "metadata": {},
   "source": [
    "### 1. spaCy 사용하기"
   ]
  },
  {
   "cell_type": "code",
   "execution_count": 6,
   "id": "3c5d8a80-aaab-4c42-96ee-07725aaceb1a",
   "metadata": {},
   "outputs": [],
   "source": [
    "import spacy\n",
    "print(spacy.__version__)\n",
    "spacy_en = spacy.load('en')"
   ]
  },
  {
   "cell_type": "markdown",
   "id": "1604e17b-0c4c-4360-b197-06a331eb7e60",
   "metadata": {
    "tags": []
   },
   "source": [
    "`!python -m spacy download en`\n",
    "\n",
    "# spacy 모듈 사용시 Can't find model 'en'. It doesn't seem to be a shortcut link, a Python package or a valid path to a data directory. 에러 해결법\n",
    "\n",
    "spacy.load('en') 시 에러나는 경우 이 명렁어를 사용하면 문제 해결"
   ]
  },
  {
   "cell_type": "code",
   "execution_count": 7,
   "id": "0c3efd42-8b94-4940-a555-780a4474a67b",
   "metadata": {},
   "outputs": [],
   "source": [
    "def tokenize(en_text):\n",
    "    return [tok.text for tok in spacy_en.tokenizer(en_text)]"
   ]
  },
  {
   "cell_type": "code",
   "execution_count": 8,
   "id": "5017f229-f431-4d4b-91bc-2f16685004d6",
   "metadata": {},
   "outputs": [
    {
     "name": "stdout",
     "output_type": "stream",
     "text": [
      "['A', 'Dog', 'Run', 'back', 'corner', 'near', 'spare', 'bedrooms']\n"
     ]
    }
   ],
   "source": [
    "print(tokenize(en_text))"
   ]
  },
  {
   "cell_type": "markdown",
   "id": "d3083729-19c1-44c4-9577-8ddead75caec",
   "metadata": {},
   "source": [
    "### 2. NLTK 사용하기"
   ]
  },
  {
   "cell_type": "code",
   "execution_count": 10,
   "id": "700141eb-2c35-4198-84f8-ab17f6d85b80",
   "metadata": {},
   "outputs": [
    {
     "name": "stdout",
     "output_type": "stream",
     "text": [
      "3.2.5\n",
      "[nltk_data] Downloading package punkt to /opt/ml/nltk_data...\n",
      "[nltk_data]   Unzipping tokenizers/punkt.zip.\n"
     ]
    },
    {
     "data": {
      "text/plain": [
       "True"
      ]
     },
     "execution_count": 10,
     "metadata": {},
     "output_type": "execute_result"
    }
   ],
   "source": [
    "import nltk\n",
    "print(nltk.__version__)\n",
    "nltk.download('punkt')"
   ]
  },
  {
   "cell_type": "code",
   "execution_count": 11,
   "id": "7dedd90a-e69e-4635-9435-1b3818807d86",
   "metadata": {},
   "outputs": [
    {
     "name": "stdout",
     "output_type": "stream",
     "text": [
      "['A', 'Dog', 'Run', 'back', 'corner', 'near', 'spare', 'bedrooms']\n"
     ]
    }
   ],
   "source": [
    "from nltk.tokenize import word_tokenize\n",
    "print(word_tokenize(en_text))"
   ]
  },
  {
   "cell_type": "markdown",
   "id": "7ac2f62f-a69f-4fed-9911-5f397c2a91e7",
   "metadata": {},
   "source": [
    "### 3. 띄어쓰기로 토큰화"
   ]
  },
  {
   "cell_type": "code",
   "execution_count": 12,
   "id": "03c44425-63d7-4782-954d-eb859607c15e",
   "metadata": {},
   "outputs": [
    {
     "name": "stdout",
     "output_type": "stream",
     "text": [
      "['A', 'Dog', 'Run', 'back', 'corner', 'near', 'spare', 'bedrooms']\n"
     ]
    }
   ],
   "source": [
    "print(en_text.split())"
   ]
  },
  {
   "cell_type": "markdown",
   "id": "b2b5d0ea-83c7-463b-bb9f-98a8e1e22bd4",
   "metadata": {},
   "source": [
    "사실 영어의 경우에는 띄어쓰기 단위로 토큰화를 해도 단어들 간 구분이 꽤나 명확하기 때문에, 토큰화 작업이 수월합니다.\n",
    "\n",
    "하지만 한국어의 경우에는 토큰화 작업이 훨씬 까다롭습니다.\n",
    "\n",
    "그 이유는 한국어는 조사, 접사 등으로 인해 단순 띄어쓰기 단위로 나누면 같은 단어가 다른 단어로 인식되어서 단어 집합(vocabulary)의\n",
    "크기가 불필요하게 커지기 때문입니다.\n",
    "\n",
    "- 단어 집합(vocabulary)이란 중복을 제거한 텍스트의 총 단어의 집합(set)을 의미합니다.\n",
    "\n",
    "예를 들어 단어 '사과'가 많이 들어간 어떤 문장에 띄어쓰기 토큰화를 한다면 '사과가', '사과를', '사과의', '사과와', '사과는'과 같은\n",
    "식으로 간은 단어임에도 조사가 붙어서 다른 단어로 인식될 수 있습니다.\n",
    "\n",
    "예를 통해 구체적으로 이해해봅시다."
   ]
  },
  {
   "cell_type": "markdown",
   "id": "022ed330-abab-4dbb-917b-7c1e64393c9c",
   "metadata": {},
   "source": [
    "### 4. 한국어 띄어쓰기 토큰화"
   ]
  },
  {
   "cell_type": "code",
   "execution_count": 13,
   "id": "d91c3ea7-c916-472a-8811-46cf25fbae13",
   "metadata": {},
   "outputs": [],
   "source": [
    "kor_text = '사과의 놀라운 효능이라는 글을 봤어. 그래서 오늘 사과를 먹으려고 했는데 사과가 썩어서 슈퍼에 가서 사과랑 오렌지 사왔어'"
   ]
  },
  {
   "cell_type": "code",
   "execution_count": 14,
   "id": "b6f372ac-9afd-4074-881c-d9feecb30710",
   "metadata": {},
   "outputs": [
    {
     "name": "stdout",
     "output_type": "stream",
     "text": [
      "['사과의', '놀라운', '효능이라는', '글을', '봤어.', '그래서', '오늘', '사과를', '먹으려고', '했는데', '사과가', '썩어서', '슈퍼에', '가서', '사과랑', '오렌지', '사왔어']\n"
     ]
    }
   ],
   "source": [
    "print(kor_text.split())"
   ]
  },
  {
   "cell_type": "markdown",
   "id": "9ccaf1ca-f53a-40ac-9caf-b7ca7d0a4210",
   "metadata": {},
   "source": [
    "위의 예제에서는 '사과'란 단어가 총 4번 등장했는데 모두 '의', '를', '가', '랑' 등이 붙어있어 이를 제거해주지 않으면 기계는 전부 다른 단어로 인식하게 됩니다."
   ]
  },
  {
   "cell_type": "markdown",
   "id": "baa80fbf-e4dc-4074-8de4-dff2ef501aab",
   "metadata": {},
   "source": [
    "### 5. 형태소 토큰화"
   ]
  },
  {
   "cell_type": "markdown",
   "id": "1de6010f-bdb0-4081-8aa7-3d82a93f6293",
   "metadata": {},
   "source": [
    "위와 같은 상황을 방지하기 위해서 한국어는 보편적으로 '형태소 분석기'로 토큰화를 합니다. \n",
    "\n",
    "여기서는 형태소 분석기 중에서 mecab을 사용해보겠습니다.\n",
    "\n",
    "아래의 커맨드로 colab에서 mecab을 설치합니다.\n",
    "\n",
    "[여기](https://github.com/raki-1203/boostcamp_note/blob/main/Week_6/Day_25/Ubuntu%2018.04%20konlpy%20%26%20mecab%20install.md) 를 보고 설치합시다."
   ]
  },
  {
   "cell_type": "code",
   "execution_count": 15,
   "id": "ff92df23-3391-40a1-94a1-281764522238",
   "metadata": {},
   "outputs": [
    {
     "name": "stdout",
     "output_type": "stream",
     "text": [
      "['사과', '의', '놀라운', '효능', '이', '라는', '글', '을', '봤', '어', '.', '그래서', '오늘', '사과', '를', '먹', '으려고', '했', '는데', '사과', '가', '썩', '어서', '슈퍼', '에', '가', '서', '사과', '랑', '오렌지', '사', '왔', '어']\n"
     ]
    }
   ],
   "source": [
    "from konlpy.tag import Mecab\n",
    "tokenizer = Mecab()\n",
    "print(tokenizer.morphs(kor_text))"
   ]
  },
  {
   "cell_type": "markdown",
   "id": "754a36ad-ad54-498f-b5e3-f3463c84c966",
   "metadata": {},
   "source": [
    "앞선 예와 다르게 '의', '를', '가', '랑' 등이 전부 분리되어 기계는 '사과'라는 단어를 하나의 단어로 처리할 수 있습니다.\n",
    "\n",
    "지금까지는 단어 또는 형태소 단위로 토큰화를 했지만 이보다도 더 작은 단위인 문자 단위로 토큰화를 수행하는 경우도 있습니다."
   ]
  },
  {
   "cell_type": "markdown",
   "id": "165b6eae-b7cd-4f33-9c96-69f3a85e5d62",
   "metadata": {},
   "source": [
    "### 6. 문자 토큰화"
   ]
  },
  {
   "cell_type": "code",
   "execution_count": 16,
   "id": "aadba30e-65d5-4167-ad9f-373f721f6e48",
   "metadata": {},
   "outputs": [
    {
     "name": "stdout",
     "output_type": "stream",
     "text": [
      "['A', ' ', 'D', 'o', 'g', ' ', 'R', 'u', 'n', ' ', 'b', 'a', 'c', 'k', ' ', 'c', 'o', 'r', 'n', 'e', 'r', ' ', 'n', 'e', 'a', 'r', ' ', 's', 'p', 'a', 'r', 'e', ' ', 'b', 'e', 'd', 'r', 'o', 'o', 'm', 's']\n"
     ]
    }
   ],
   "source": [
    "print(list(en_text))"
   ]
  },
  {
   "cell_type": "markdown",
   "id": "77cdc477-ba21-48ad-ac6d-b0ad1333fef7",
   "metadata": {},
   "source": [
    "간단히 토큰화에 대해서 알아봤습니다. 이제부터는 좀 더 많은 데이터를 가지고 실습해보겠습니다."
   ]
  },
  {
   "cell_type": "markdown",
   "id": "53aabfe5-a1c7-429d-9724-4101cf893154",
   "metadata": {},
   "source": [
    "## 2. 단어 집합(Vocabulary) 생성\n",
    "---\n",
    "단어 집합(vocabulary)이란 중복을 제거한 텍스트의 총 단어의 집합(set)을 의미합니다. \n",
    "\n",
    "우선, 실습을 위해서 깃허브에서 '네이버 영화 리뷰 분류하기' 데이터를 다운로드하겠습니다. \n",
    "\n",
    "네이버 영화 리뷰 데이터는 총 20만 개의 영화 리뷰를 긍정 1, 부정 0으로 레이블링한 데이터입니다."
   ]
  },
  {
   "cell_type": "code",
   "execution_count": 17,
   "id": "14bc34e8-e375-4d3b-8c0b-2f1882b4a3fa",
   "metadata": {},
   "outputs": [],
   "source": [
    "import urllib.request\n",
    "import pandas as pd\n",
    "from konlpy.tag import Mecab\n",
    "from nltk import FreqDist\n",
    "import numpy as np\n",
    "import matplotlib.pyplot as plt"
   ]
  },
  {
   "cell_type": "code",
   "execution_count": 20,
   "id": "71e76865-d3b7-4bb9-baeb-cd3ab3d8073a",
   "metadata": {},
   "outputs": [
    {
     "data": {
      "text/html": [
       "<div>\n",
       "<style scoped>\n",
       "    .dataframe tbody tr th:only-of-type {\n",
       "        vertical-align: middle;\n",
       "    }\n",
       "\n",
       "    .dataframe tbody tr th {\n",
       "        vertical-align: top;\n",
       "    }\n",
       "\n",
       "    .dataframe thead th {\n",
       "        text-align: right;\n",
       "    }\n",
       "</style>\n",
       "<table border=\"1\" class=\"dataframe\">\n",
       "  <thead>\n",
       "    <tr style=\"text-align: right;\">\n",
       "      <th></th>\n",
       "      <th>id</th>\n",
       "      <th>document</th>\n",
       "      <th>label</th>\n",
       "    </tr>\n",
       "  </thead>\n",
       "  <tbody>\n",
       "    <tr>\n",
       "      <th>0</th>\n",
       "      <td>8112052</td>\n",
       "      <td>어릴때보고 지금다시봐도 재밌어요ㅋㅋ</td>\n",
       "      <td>1</td>\n",
       "    </tr>\n",
       "    <tr>\n",
       "      <th>1</th>\n",
       "      <td>8132799</td>\n",
       "      <td>디자인을 배우는 학생으로, 외국디자이너와 그들이 일군 전통을 통해 발전해가는 문화산...</td>\n",
       "      <td>1</td>\n",
       "    </tr>\n",
       "    <tr>\n",
       "      <th>2</th>\n",
       "      <td>4655635</td>\n",
       "      <td>폴리스스토리 시리즈는 1부터 뉴까지 버릴께 하나도 없음.. 최고.</td>\n",
       "      <td>1</td>\n",
       "    </tr>\n",
       "    <tr>\n",
       "      <th>3</th>\n",
       "      <td>9251303</td>\n",
       "      <td>와.. 연기가 진짜 개쩔구나.. 지루할거라고 생각했는데 몰입해서 봤다.. 그래 이런...</td>\n",
       "      <td>1</td>\n",
       "    </tr>\n",
       "    <tr>\n",
       "      <th>4</th>\n",
       "      <td>10067386</td>\n",
       "      <td>안개 자욱한 밤하늘에 떠 있는 초승달 같은 영화.</td>\n",
       "      <td>1</td>\n",
       "    </tr>\n",
       "    <tr>\n",
       "      <th>5</th>\n",
       "      <td>2190435</td>\n",
       "      <td>사랑을 해본사람이라면 처음부터 끝까지 웃을수 있는영화</td>\n",
       "      <td>1</td>\n",
       "    </tr>\n",
       "    <tr>\n",
       "      <th>6</th>\n",
       "      <td>9279041</td>\n",
       "      <td>완전 감동입니다 다시봐도 감동</td>\n",
       "      <td>1</td>\n",
       "    </tr>\n",
       "    <tr>\n",
       "      <th>7</th>\n",
       "      <td>7865729</td>\n",
       "      <td>개들의 전쟁2 나오나요? 나오면 1빠로 보고 싶음</td>\n",
       "      <td>1</td>\n",
       "    </tr>\n",
       "    <tr>\n",
       "      <th>8</th>\n",
       "      <td>7477618</td>\n",
       "      <td>굿</td>\n",
       "      <td>1</td>\n",
       "    </tr>\n",
       "    <tr>\n",
       "      <th>9</th>\n",
       "      <td>9250537</td>\n",
       "      <td>바보가 아니라 병 쉰 인듯</td>\n",
       "      <td>1</td>\n",
       "    </tr>\n",
       "  </tbody>\n",
       "</table>\n",
       "</div>"
      ],
      "text/plain": [
       "         id                                           document  label\n",
       "0   8112052                                어릴때보고 지금다시봐도 재밌어요ㅋㅋ      1\n",
       "1   8132799  디자인을 배우는 학생으로, 외국디자이너와 그들이 일군 전통을 통해 발전해가는 문화산...      1\n",
       "2   4655635               폴리스스토리 시리즈는 1부터 뉴까지 버릴께 하나도 없음.. 최고.      1\n",
       "3   9251303  와.. 연기가 진짜 개쩔구나.. 지루할거라고 생각했는데 몰입해서 봤다.. 그래 이런...      1\n",
       "4  10067386                        안개 자욱한 밤하늘에 떠 있는 초승달 같은 영화.      1\n",
       "5   2190435                      사랑을 해본사람이라면 처음부터 끝까지 웃을수 있는영화      1\n",
       "6   9279041                                   완전 감동입니다 다시봐도 감동      1\n",
       "7   7865729                        개들의 전쟁2 나오나요? 나오면 1빠로 보고 싶음      1\n",
       "8   7477618                                                  굿      1\n",
       "9   9250537                                     바보가 아니라 병 쉰 인듯      1"
      ]
     },
     "execution_count": 20,
     "metadata": {},
     "output_type": "execute_result"
    }
   ],
   "source": [
    "urllib.request.urlretrieve('https://raw.githubusercontent.com/e9t/nsmc/master/ratings.txt', filename='ratings.txt')\n",
    "data = pd.read_table('ratings.txt')  # 데이터프레임에 저장\n",
    "data[:10]"
   ]
  },
  {
   "cell_type": "code",
   "execution_count": 21,
   "id": "2a8acfa8-0f51-4de2-8249-ee8e57b052a0",
   "metadata": {},
   "outputs": [
    {
     "name": "stdout",
     "output_type": "stream",
     "text": [
      "전체 샘플의 수 : 200000\n"
     ]
    }
   ],
   "source": [
    "print('전체 샘플의 수 : {}'.format(len(data)))"
   ]
  },
  {
   "cell_type": "code",
   "execution_count": 22,
   "id": "dd422293-1297-402b-9251-3d2baf40d718",
   "metadata": {},
   "outputs": [],
   "source": [
    "sample_data = data[:100]  # 임의로 100개만 저장"
   ]
  },
  {
   "cell_type": "markdown",
   "id": "6e0d52b3-a07d-4901-b294-bbed55b07ef5",
   "metadata": {},
   "source": [
    "정규 표현식을 통해서 데이터를 정제합니다."
   ]
  },
  {
   "cell_type": "code",
   "execution_count": 23,
   "id": "c750efc5-7d3d-435d-b3c5-a3fa416b7cbc",
   "metadata": {},
   "outputs": [
    {
     "name": "stderr",
     "output_type": "stream",
     "text": [
      "<ipython-input-23-5c72bdaa07c3>:1: SettingWithCopyWarning: \n",
      "A value is trying to be set on a copy of a slice from a DataFrame.\n",
      "Try using .loc[row_indexer,col_indexer] = value instead\n",
      "\n",
      "See the caveats in the documentation: https://pandas.pydata.org/pandas-docs/stable/user_guide/indexing.html#returning-a-view-versus-a-copy\n",
      "  sample_data['document'] = sample_data['document'].str.replace('[^ㄱ-ㅎㅏ-ㅣ가-힣 ]', '')\n"
     ]
    },
    {
     "data": {
      "text/html": [
       "<div>\n",
       "<style scoped>\n",
       "    .dataframe tbody tr th:only-of-type {\n",
       "        vertical-align: middle;\n",
       "    }\n",
       "\n",
       "    .dataframe tbody tr th {\n",
       "        vertical-align: top;\n",
       "    }\n",
       "\n",
       "    .dataframe thead th {\n",
       "        text-align: right;\n",
       "    }\n",
       "</style>\n",
       "<table border=\"1\" class=\"dataframe\">\n",
       "  <thead>\n",
       "    <tr style=\"text-align: right;\">\n",
       "      <th></th>\n",
       "      <th>id</th>\n",
       "      <th>document</th>\n",
       "      <th>label</th>\n",
       "    </tr>\n",
       "  </thead>\n",
       "  <tbody>\n",
       "    <tr>\n",
       "      <th>0</th>\n",
       "      <td>8112052</td>\n",
       "      <td>어릴때보고 지금다시봐도 재밌어요ㅋㅋ</td>\n",
       "      <td>1</td>\n",
       "    </tr>\n",
       "    <tr>\n",
       "      <th>1</th>\n",
       "      <td>8132799</td>\n",
       "      <td>디자인을 배우는 학생으로 외국디자이너와 그들이 일군 전통을 통해 발전해가는 문화산업...</td>\n",
       "      <td>1</td>\n",
       "    </tr>\n",
       "    <tr>\n",
       "      <th>2</th>\n",
       "      <td>4655635</td>\n",
       "      <td>폴리스스토리 시리즈는 부터 뉴까지 버릴께 하나도 없음 최고</td>\n",
       "      <td>1</td>\n",
       "    </tr>\n",
       "    <tr>\n",
       "      <th>3</th>\n",
       "      <td>9251303</td>\n",
       "      <td>와 연기가 진짜 개쩔구나 지루할거라고 생각했는데 몰입해서 봤다 그래 이런게 진짜 영화지</td>\n",
       "      <td>1</td>\n",
       "    </tr>\n",
       "    <tr>\n",
       "      <th>4</th>\n",
       "      <td>10067386</td>\n",
       "      <td>안개 자욱한 밤하늘에 떠 있는 초승달 같은 영화</td>\n",
       "      <td>1</td>\n",
       "    </tr>\n",
       "    <tr>\n",
       "      <th>5</th>\n",
       "      <td>2190435</td>\n",
       "      <td>사랑을 해본사람이라면 처음부터 끝까지 웃을수 있는영화</td>\n",
       "      <td>1</td>\n",
       "    </tr>\n",
       "    <tr>\n",
       "      <th>6</th>\n",
       "      <td>9279041</td>\n",
       "      <td>완전 감동입니다 다시봐도 감동</td>\n",
       "      <td>1</td>\n",
       "    </tr>\n",
       "    <tr>\n",
       "      <th>7</th>\n",
       "      <td>7865729</td>\n",
       "      <td>개들의 전쟁 나오나요 나오면 빠로 보고 싶음</td>\n",
       "      <td>1</td>\n",
       "    </tr>\n",
       "    <tr>\n",
       "      <th>8</th>\n",
       "      <td>7477618</td>\n",
       "      <td>굿</td>\n",
       "      <td>1</td>\n",
       "    </tr>\n",
       "    <tr>\n",
       "      <th>9</th>\n",
       "      <td>9250537</td>\n",
       "      <td>바보가 아니라 병 쉰 인듯</td>\n",
       "      <td>1</td>\n",
       "    </tr>\n",
       "  </tbody>\n",
       "</table>\n",
       "</div>"
      ],
      "text/plain": [
       "         id                                           document  label\n",
       "0   8112052                                어릴때보고 지금다시봐도 재밌어요ㅋㅋ      1\n",
       "1   8132799  디자인을 배우는 학생으로 외국디자이너와 그들이 일군 전통을 통해 발전해가는 문화산업...      1\n",
       "2   4655635                   폴리스스토리 시리즈는 부터 뉴까지 버릴께 하나도 없음 최고      1\n",
       "3   9251303   와 연기가 진짜 개쩔구나 지루할거라고 생각했는데 몰입해서 봤다 그래 이런게 진짜 영화지      1\n",
       "4  10067386                         안개 자욱한 밤하늘에 떠 있는 초승달 같은 영화      1\n",
       "5   2190435                      사랑을 해본사람이라면 처음부터 끝까지 웃을수 있는영화      1\n",
       "6   9279041                                   완전 감동입니다 다시봐도 감동      1\n",
       "7   7865729                           개들의 전쟁 나오나요 나오면 빠로 보고 싶음      1\n",
       "8   7477618                                                  굿      1\n",
       "9   9250537                                     바보가 아니라 병 쉰 인듯      1"
      ]
     },
     "execution_count": 23,
     "metadata": {},
     "output_type": "execute_result"
    }
   ],
   "source": [
    "sample_data['document'] = sample_data['document'].str.replace('[^ㄱ-ㅎㅏ-ㅣ가-힣 ]', '')\n",
    "# 한글과 공백을 제외하고 모두 제거\n",
    "sample_data[:10]"
   ]
  },
  {
   "cell_type": "markdown",
   "id": "9bdb6b16-28f9-45e6-a733-7dbf1bb4f2d0",
   "metadata": {},
   "source": [
    "토큰화를 수행해보겠습니다. 토큰화 과정에서 불용어를 제거하기 위해 불용어를 우선 정의합니다."
   ]
  },
  {
   "cell_type": "code",
   "execution_count": 24,
   "id": "b31d180d-687d-4ff6-8b97-866f159eb8dc",
   "metadata": {},
   "outputs": [],
   "source": [
    "# 불용어 정의\n",
    "stopwords = ['의', '가', '이', '은', '들', '는', '좀', '잘', '걍', '과', '도', '를', '으로', \n",
    "             '자', '에', '와', '한', '하다']"
   ]
  },
  {
   "cell_type": "markdown",
   "id": "4fca3dbc-7354-4450-a39e-065942c9a5ca",
   "metadata": {},
   "source": [
    "형태소 분석기는 mecab을 사용합니다."
   ]
  },
  {
   "cell_type": "code",
   "execution_count": 25,
   "id": "c02cd709-d73d-45e7-a54e-f4e0cf2d057f",
   "metadata": {},
   "outputs": [],
   "source": [
    "tokenizer = Mecab()"
   ]
  },
  {
   "cell_type": "code",
   "execution_count": 29,
   "id": "59db93cd-f0b1-4286-84d7-24ce0e8f601d",
   "metadata": {},
   "outputs": [],
   "source": [
    "tokenized = []\n",
    "for sentence in sample_data['document']:\n",
    "    temp = tokenizer.morphs(sentence)  # 토큰화\n",
    "    temp = [word for word in temp if word not in stopwords]  # 불용어 제거\n",
    "    tokenized.append(temp)"
   ]
  },
  {
   "cell_type": "code",
   "execution_count": 30,
   "id": "cf929aff-cf26-49d2-a46a-8739d85be792",
   "metadata": {},
   "outputs": [
    {
     "name": "stdout",
     "output_type": "stream",
     "text": [
      "[['어릴', '때', '보', '고', '지금', '다시', '봐도', '재밌', '어요', 'ㅋㅋ'], ['디자인', '을', '배우', '학생', '외국', '디자이너', '그', '일군', '전통', '을', '통해', '발전', '해', '문화', '산업', '부러웠', '는데', '사실', '우리', '나라', '에서', '그', '어려운', '시절', '끝', '까지', '열정', '을', '지킨', '노라노', '같', '전통', '있', '어', '저', '같', '사람', '꿈', '을', '꾸', '고', '이뤄나갈', '수', '있', '다는', '것', '감사', '합니다'], ['폴리스', '스토리', '시리즈', '부터', '뉴', '까지', '버릴', '께', '하나', '없', '음', '최고'], ['연기', '진짜', '개', '쩔', '구나', '지루', '할거', '라고', '생각', '했', '는데', '몰입', '해서', '봤', '다', '그래', '이런', '게', '진짜', '영화', '지'], ['안개', '자욱', '밤하늘', '떠', '있', '초승달', '같', '영화'], ['사랑', '을', '해', '본', '사람', '라면', '처음', '부터', '끝', '까지', '웃', '을', '수', '있', '영화'], ['완전', '감동', '입니다', '다시', '봐도', '감동'], ['개', '전쟁', '나오', '나요', '나오', '면', '빠', '로', '보', '고', '싶', '음'], ['굿'], ['바보', '아니', '라', '병', '쉰', '인', '듯']]\n"
     ]
    }
   ],
   "source": [
    "print(tokenized[:10])"
   ]
  },
  {
   "cell_type": "markdown",
   "id": "a67ebe90-32fe-42dd-8a5f-c715677a803a",
   "metadata": {},
   "source": [
    "이제 단어 집합을 만들어봅시다. NLTK 에서는 빈도수 계산 도구인 FreaDist()를 지원합니다."
   ]
  },
  {
   "cell_type": "code",
   "execution_count": 32,
   "id": "0b9c7ce1-b71c-4216-8c2a-bc43872c383f",
   "metadata": {},
   "outputs": [
    {
     "name": "stdout",
     "output_type": "stream",
     "text": [
      "단어 집합의 크기 : 664\n"
     ]
    }
   ],
   "source": [
    "vocab = FreqDist(np.hstack(tokenized))\n",
    "print('단어 집합의 크기 : {}'.format(len(vocab)))"
   ]
  },
  {
   "cell_type": "code",
   "execution_count": 36,
   "id": "d20e0d75-94c1-4aa9-ab33-3f7323d5970a",
   "metadata": {},
   "outputs": [
    {
     "data": {
      "text/plain": [
       "array(['어릴', '때', '보', ..., '따', '봉', '임'], dtype='<U13')"
      ]
     },
     "execution_count": 36,
     "metadata": {},
     "output_type": "execute_result"
    }
   ],
   "source": [
    "# 이중 list 를 하나로 모두 연결\n",
    "np.hstack(tokenized)"
   ]
  },
  {
   "cell_type": "markdown",
   "id": "9e07203d-4eaf-4683-a9a2-ffcc39abbc55",
   "metadata": {},
   "source": [
    "단어를 키(key)로, 단어에 대한 비도수가 값(value)으로 저장되어져 있습니다. \n",
    "\n",
    "vocab에 단어를 입력하면 빈도수를 리턴합니다."
   ]
  },
  {
   "cell_type": "code",
   "execution_count": 37,
   "id": "9a899257-a933-4cd8-9cf3-802b1c699f76",
   "metadata": {},
   "outputs": [
    {
     "data": {
      "text/plain": [
       "10"
      ]
     },
     "execution_count": 37,
     "metadata": {},
     "output_type": "execute_result"
    }
   ],
   "source": [
    "vocab['재밌']"
   ]
  },
  {
   "cell_type": "markdown",
   "id": "af46ef4b-829b-41af-b716-ec78f1a802d3",
   "metadata": {},
   "source": [
    "'재밋' 이란 단어가 총 10번 등장하였습니다. most_common()는 상위 빈도수를 가진 주어진 수의 단어만을 리턴합니다.\n",
    "\n",
    "이를 사용하여 등장 빈도수가 높은 단어들을 원하는 개수만큼만 얻을 수 있습니다.\n",
    "\n",
    "등장 빈도수 상위 500개의 단어만 단어 집합으로 저장해봅시다."
   ]
  },
  {
   "cell_type": "code",
   "execution_count": 38,
   "id": "10145de4-4b2e-45a3-8cae-4dc11c3c3228",
   "metadata": {},
   "outputs": [
    {
     "name": "stdout",
     "output_type": "stream",
     "text": [
      "단어 집합의 크기: 500\n"
     ]
    }
   ],
   "source": [
    "vocab_size = 500\n",
    "# 상위 vocab_size개의 단어만 보존\n",
    "vocab = vocab.most_common(vocab_size)\n",
    "print('단어 집합의 크기: {}'.format(len(vocab)))"
   ]
  },
  {
   "cell_type": "markdown",
   "id": "f80bba3c-6271-4e9d-901a-5d7ce6b514fb",
   "metadata": {},
   "source": [
    "단어 집합의 크기가 500으로 줄어든 것을 확인할 수 있습니다."
   ]
  },
  {
   "cell_type": "markdown",
   "id": "69b5c422-2984-4c63-a626-dcaf36c95162",
   "metadata": {},
   "source": [
    "## 3. 각 단어에 고유한 정수 부여\n",
    "---\n",
    "enumerate()는 순서가 있는 자료형(list, set, tuple, dictionary, string)을 입력으로 받아 인덱스를 순차적으로 함께 리턴한다는\n",
    "특징이 있습니다.\n",
    "\n",
    "인덱스 0과 1은 다른 용도로 남겨두고 나머지 단어들은 2부터 501까지 순차적으로 인덱스를 부여해봅시다."
   ]
  },
  {
   "cell_type": "code",
   "execution_count": 39,
   "id": "82c66ae4-5607-4464-a6d4-ad6cde09d1f5",
   "metadata": {},
   "outputs": [],
   "source": [
    "word_to_index = {word[0]: index + 2 for index, word in enumerate(vocab)}\n",
    "word_to_index['pad'] = 1\n",
    "word_to_index['unk'] = 0"
   ]
  },
  {
   "cell_type": "code",
   "execution_count": 40,
   "id": "073d35df-0f93-4c20-9aef-e37a9250a97b",
   "metadata": {
    "scrolled": true,
    "tags": []
   },
   "outputs": [
    {
     "data": {
      "text/plain": [
       "{'다': 2,\n",
       " '영화': 3,\n",
       " '고': 4,\n",
       " '을': 5,\n",
       " '하': 6,\n",
       " '있': 7,\n",
       " '게': 8,\n",
       " '보': 9,\n",
       " '없': 10,\n",
       " '최고': 11,\n",
       " '좋': 12,\n",
       " '는데': 13,\n",
       " '수': 14,\n",
       " '봤': 15,\n",
       " '재밌': 16,\n",
       " '같': 17,\n",
       " '적': 18,\n",
       " '할': 19,\n",
       " '었': 20,\n",
       " '내': 21,\n",
       " '만': 22,\n",
       " '정말': 23,\n",
       " '해': 24,\n",
       " '음': 25,\n",
       " '였': 26,\n",
       " '때': 27,\n",
       " '어요': 28,\n",
       " 'ㅋㅋ': 29,\n",
       " '에서': 30,\n",
       " '까지': 31,\n",
       " '것': 32,\n",
       " '진짜': 33,\n",
       " '했': 34,\n",
       " '지': 35,\n",
       " '본': 36,\n",
       " '감동': 37,\n",
       " '로': 38,\n",
       " '아': 39,\n",
       " '네요': 40,\n",
       " '너무': 41,\n",
       " '다시': 42,\n",
       " '그': 43,\n",
       " '사람': 44,\n",
       " '연기': 45,\n",
       " '생각': 46,\n",
       " '싶': 47,\n",
       " '나': 48,\n",
       " '으면': 49,\n",
       " '지금': 50,\n",
       " '사실': 51,\n",
       " '저': 52,\n",
       " '부터': 53,\n",
       " '하나': 54,\n",
       " '나오': 55,\n",
       " '굿': 56,\n",
       " '인': 57,\n",
       " '왜': 58,\n",
       " '네': 59,\n",
       " '년': 60,\n",
       " '마음': 61,\n",
       " '말': 62,\n",
       " '거': 63,\n",
       " '재미있': 64,\n",
       " '뭐': 65,\n",
       " '지만': 66,\n",
       " '중': 67,\n",
       " '어': 68,\n",
       " '라고': 69,\n",
       " '이런': 70,\n",
       " '았': 71,\n",
       " '평점': 72,\n",
       " '된': 73,\n",
       " '기': 74,\n",
       " '속': 75,\n",
       " '면서': 76,\n",
       " '주': 77,\n",
       " '건': 78,\n",
       " '어릴': 79,\n",
       " '봐도': 80,\n",
       " '배우': 81,\n",
       " '우리': 82,\n",
       " '다는': 83,\n",
       " '합니다': 84,\n",
       " '웃': 85,\n",
       " '면': 86,\n",
       " '아니': 87,\n",
       " '라': 88,\n",
       " '듯': 89,\n",
       " '낮': 90,\n",
       " '인데': 91,\n",
       " '서': 92,\n",
       " '던': 93,\n",
       " '마지막': 94,\n",
       " '대한': 95,\n",
       " '명작': 96,\n",
       " '될': 97,\n",
       " '는지': 98,\n",
       " '어디': 99,\n",
       " '안': 100,\n",
       " '볼': 101,\n",
       " '이거': 102,\n",
       " '친구': 103,\n",
       " '또': 104,\n",
       " '방': 105,\n",
       " '재미': 106,\n",
       " '느낌': 107,\n",
       " '남자': 108,\n",
       " '되': 109,\n",
       " '매력': 110,\n",
       " 'ㅎ': 111,\n",
       " '습니다': 112,\n",
       " '전통': 113,\n",
       " '문화': 114,\n",
       " '나라': 115,\n",
       " '시절': 116,\n",
       " '끝': 117,\n",
       " '스토리': 118,\n",
       " '개': 119,\n",
       " '해서': 120,\n",
       " '사랑': 121,\n",
       " '라면': 122,\n",
       " '처음': 123,\n",
       " '완전': 124,\n",
       " '감정': 125,\n",
       " '화': 126,\n",
       " '해야': 127,\n",
       " '작품': 128,\n",
       " '긴장감': 129,\n",
       " '랑': 130,\n",
       " '갈수록': 131,\n",
       " '더욱': 132,\n",
       " '잠': 133,\n",
       " '남': 134,\n",
       " '역시': 135,\n",
       " '씬': 136,\n",
       " '잊': 137,\n",
       " '용서': 138,\n",
       " '비판': 139,\n",
       " '시대': 140,\n",
       " '시간': 141,\n",
       " '죽': 142,\n",
       " '전': 143,\n",
       " '아름답': 144,\n",
       " '기억': 145,\n",
       " '여러': 146,\n",
       " '왔': 147,\n",
       " '일': 148,\n",
       " '알': 149,\n",
       " '봄': 150,\n",
       " '이정재': 151,\n",
       " '우정': 152,\n",
       " '해라': 153,\n",
       " '못': 154,\n",
       " '내내': 155,\n",
       " '샤': 156,\n",
       " '많이': 157,\n",
       " '그런가': 158,\n",
       " '흥미진진': 159,\n",
       " 'ㄷ': 160,\n",
       " 'ㅋㅋㅋ': 161,\n",
       " '티비': 162,\n",
       " '모르': 163,\n",
       " '인정': 164,\n",
       " '넘': 165,\n",
       " '내용': 166,\n",
       " '아요': 167,\n",
       " '한다': 168,\n",
       " '재': 169,\n",
       " '밋': 170,\n",
       " '음악': 171,\n",
       " '드라마': 172,\n",
       " '겠': 173,\n",
       " '가지': 174,\n",
       " '싫': 175,\n",
       " '어서': 176,\n",
       " '훌륭': 177,\n",
       " '인생': 178,\n",
       " '엔': 179,\n",
       " '첫': 180,\n",
       " '너무너무': 181,\n",
       " '보다': 182,\n",
       " '가을': 183,\n",
       " '연기자': 184,\n",
       " '요': 185,\n",
       " '했었': 186,\n",
       " '장르': 187,\n",
       " '디자인': 188,\n",
       " '학생': 189,\n",
       " '외국': 190,\n",
       " '디자이너': 191,\n",
       " '일군': 192,\n",
       " '통해': 193,\n",
       " '발전': 194,\n",
       " '산업': 195,\n",
       " '부러웠': 196,\n",
       " '어려운': 197,\n",
       " '열정': 198,\n",
       " '지킨': 199,\n",
       " '노라노': 200,\n",
       " '꿈': 201,\n",
       " '꾸': 202,\n",
       " '이뤄나갈': 203,\n",
       " '감사': 204,\n",
       " '폴리스': 205,\n",
       " '시리즈': 206,\n",
       " '뉴': 207,\n",
       " '버릴': 208,\n",
       " '께': 209,\n",
       " '쩔': 210,\n",
       " '구나': 211,\n",
       " '지루': 212,\n",
       " '할거': 213,\n",
       " '몰입': 214,\n",
       " '그래': 215,\n",
       " '안개': 216,\n",
       " '자욱': 217,\n",
       " '밤하늘': 218,\n",
       " '떠': 219,\n",
       " '초승달': 220,\n",
       " '입니다': 221,\n",
       " '전쟁': 222,\n",
       " '나요': 223,\n",
       " '빠': 224,\n",
       " '바보': 225,\n",
       " '병': 226,\n",
       " '쉰': 227,\n",
       " '나이': 228,\n",
       " '하지만': 229,\n",
       " '훗날': 230,\n",
       " '보면대': 231,\n",
       " '사': 232,\n",
       " '완벽': 233,\n",
       " '이해': 234,\n",
       " '고질라': 235,\n",
       " '니무': 236,\n",
       " '귀엽': 237,\n",
       " '능': 238,\n",
       " '오페라': 239,\n",
       " '극단': 240,\n",
       " '평갈': 241,\n",
       " '림': 242,\n",
       " '어쩔': 243,\n",
       " '반전': 244,\n",
       " '제': 245,\n",
       " '스릴감': 246,\n",
       " '전장': 247,\n",
       " '느끼': 248,\n",
       " '공포': 249,\n",
       " '생생': 250,\n",
       " '전해준다': 251,\n",
       " '고시': 252,\n",
       " '이터': 253,\n",
       " '소재': 254,\n",
       " '뿐': 255,\n",
       " '아무런': 256,\n",
       " '관련': 257,\n",
       " '단연': 258,\n",
       " '빠져드': 259,\n",
       " '밀회': 260,\n",
       " '화이팅': 261,\n",
       " '생각없이': 262,\n",
       " '상당': 263,\n",
       " '수작': 264,\n",
       " '일본': 265,\n",
       " '강렬': 266,\n",
       " '임팩트': 267,\n",
       " '일품': 268,\n",
       " '오랜만': 269,\n",
       " '제대로': 270,\n",
       " '범죄': 271,\n",
       " '스릴러': 272,\n",
       " '그런': 273,\n",
       " '해도': 274,\n",
       " '그저': 275,\n",
       " '한다는': 276,\n",
       " '마디': 277,\n",
       " '꺼내': 278,\n",
       " '벅차': 279,\n",
       " '밤': 280,\n",
       " '설치': 281,\n",
       " '커': 282,\n",
       " '징': 283,\n",
       " '텅': 284,\n",
       " '교복': 285,\n",
       " '션': 286,\n",
       " '자이': 287,\n",
       " '볼펜': 288,\n",
       " '자국': 289,\n",
       " '미처': 290,\n",
       " '전하': 291,\n",
       " '못한': 292,\n",
       " '형태': 293,\n",
       " '강압': 294,\n",
       " '세뇌': 295,\n",
       " '중세': 296,\n",
       " '이래': 297,\n",
       " '짜리': 298,\n",
       " '영상': 299,\n",
       " '존재': 300,\n",
       " '한다면': 301,\n",
       " '꼭': 302,\n",
       " '한번': 303,\n",
       " '슬픈': 304,\n",
       " '제니퍼코넬리': 305,\n",
       " '눈부신': 306,\n",
       " '아역': 307,\n",
       " '로버트드니로': 308,\n",
       " '장면': 309,\n",
       " '가슴': 310,\n",
       " '영원히': 311,\n",
       " '어떻': 312,\n",
       " '저런': 313,\n",
       " '짓': 314,\n",
       " 'ㅡㅡ': 315,\n",
       " '화나': 316,\n",
       " '더라': 317,\n",
       " '인간': 318,\n",
       " '잠재': 319,\n",
       " '악마': 320,\n",
       " '성': 321,\n",
       " '공간': 322,\n",
       " '존속': 323,\n",
       " '다큐': 324,\n",
       " '그것': 325,\n",
       " '엉뚱': 326,\n",
       " '광적': 327,\n",
       " '재현': 328,\n",
       " '삼': 329,\n",
       " '동안': 330,\n",
       " '쉬': 331,\n",
       " '틈틈이': 332,\n",
       " '줄여': 333,\n",
       " '여운': 334,\n",
       " '는다': 335,\n",
       " '실화': 336,\n",
       " '여서': 337,\n",
       " '충격': 338,\n",
       " '일어나': 339,\n",
       " '경각심': 340,\n",
       " '일깨워': 341,\n",
       " '존': 342,\n",
       " '그라': 343,\n",
       " '샴': 344,\n",
       " '번': 345,\n",
       " '쯤': 346,\n",
       " '가치': 347,\n",
       " '농아': 348,\n",
       " '아야': 349,\n",
       " '어렸': 350,\n",
       " '되게': 351,\n",
       " '이범수': 352,\n",
       " '쩜': 353,\n",
       " '매우': 354,\n",
       " '제발': 355,\n",
       " 'ㅠㅠ': 356,\n",
       " '어울린다': 357,\n",
       " '제이크': 358,\n",
       " '질렌할': 359,\n",
       " '넌': 360,\n",
       " '대체': 361,\n",
       " '냐': 362,\n",
       " '입가': 363,\n",
       " '미소': 364,\n",
       " '원표': 365,\n",
       " '조연': 366,\n",
       " '양': 367,\n",
       " '젤': 368,\n",
       " '는구만': 369,\n",
       " '마치': 370,\n",
       " '바다': 371,\n",
       " '아쿠아리움': 372,\n",
       " '들어간': 373,\n",
       " '어린': 374,\n",
       " '자녀': 375,\n",
       " '에게': 376,\n",
       " '강추': 377,\n",
       " '정의': 378,\n",
       " '세우': 379,\n",
       " '콜트': 380,\n",
       " '콜': 381,\n",
       " '텍': 382,\n",
       " '노동자': 383,\n",
       " '이야기': 384,\n",
       " '브라질': 385,\n",
       " '사라질': 386,\n",
       " '난': 387,\n",
       " '울렸': 388,\n",
       " '그리고': 389,\n",
       " '두': 390,\n",
       " '여배우': 391,\n",
       " '도법': 392,\n",
       " '멤버': 393,\n",
       " '모두': 394,\n",
       " '기대': 395,\n",
       " '됨': 396,\n",
       " '액션': 397,\n",
       " '겁나': 398,\n",
       " '던데': 399,\n",
       " '워낙에': 400,\n",
       " '격투': 401,\n",
       " '좋아해서': 402,\n",
       " '그냥': 403,\n",
       " '아무': 404,\n",
       " '없이': 405,\n",
       " '집': 406,\n",
       " '스마트': 407,\n",
       " '봐서': 408,\n",
       " '뭔': 409,\n",
       " '인지': 410,\n",
       " '암살': 411,\n",
       " '나온': 412,\n",
       " '길래': 413,\n",
       " '걍봄': 414,\n",
       " '하여튼': 415,\n",
       " 'ㅆ파르': 416,\n",
       " '북한': 417,\n",
       " '살만': 418,\n",
       " '목숨걸': 419,\n",
       " '대한민국': 420,\n",
       " '오': 421,\n",
       " '건데': 422,\n",
       " '그거': 423,\n",
       " '납득': 424,\n",
       " '시키': 425,\n",
       " '나불거려': 426,\n",
       " '종북': 427,\n",
       " '박평식': 428,\n",
       " '튼': 429,\n",
       " '대여': 430,\n",
       " '월이': 431,\n",
       " '비': 432,\n",
       " '내려야': 433,\n",
       " '그대': 434,\n",
       " '보이': 435,\n",
       " '시작': 436,\n",
       " '반가운': 437,\n",
       " '얼굴': 438,\n",
       " '여주인공': 439,\n",
       " '구': 440,\n",
       " '유쾌': 441,\n",
       " '요즘': 442,\n",
       " '아이': 443,\n",
       " '돌': 444,\n",
       " '먹': 445,\n",
       " '정도': 446,\n",
       " '봣는대요': 447,\n",
       " '받': 448,\n",
       " '잇': 449,\n",
       " '조': 450,\n",
       " '탱고': 451,\n",
       " '밀려': 452,\n",
       " '온다': 453,\n",
       " '평생': 454,\n",
       " '후회': 455,\n",
       " '뻔': 456,\n",
       " '따뜻': 457,\n",
       " '나왔': 458,\n",
       " '많': 459,\n",
       " '영상미': 460,\n",
       " '캐릭터': 461,\n",
       " '련결': 462,\n",
       " 'ㅠ': 463,\n",
       " '슬프': 464,\n",
       " '이제': 465,\n",
       " '잔잔': 466,\n",
       " '영순위': 467,\n",
       " '상당히': 468,\n",
       " '신동엽': 469,\n",
       " 'ㅋ': 470,\n",
       " '순간': 471,\n",
       " '캐치': 472,\n",
       " '탁': 473,\n",
       " '얄밉': 474,\n",
       " '긴': 475,\n",
       " '미워할': 476,\n",
       " '감탄': 477,\n",
       " '영': 478,\n",
       " '자랑': 479,\n",
       " '함': 480,\n",
       " '대박': 481,\n",
       " '텐데': 482,\n",
       " '왠': 483,\n",
       " '이동욱': 484,\n",
       " '전작': 485,\n",
       " '비해': 486,\n",
       " '떨어지': 487,\n",
       " '쓰레기': 488,\n",
       " '한국': 489,\n",
       " '점대': 490,\n",
       " '별': 491,\n",
       " '헐': 492,\n",
       " '니': 493,\n",
       " '다소': 494,\n",
       " '진부': 495,\n",
       " '어도': 496,\n",
       " '당시': 497,\n",
       " '눈물': 498,\n",
       " '사발': 499,\n",
       " '흘리': 500,\n",
       " '준': 501,\n",
       " 'pad': 1,\n",
       " 'unk': 0}"
      ]
     },
     "execution_count": 40,
     "metadata": {},
     "output_type": "execute_result"
    }
   ],
   "source": [
    "word_to_index"
   ]
  },
  {
   "cell_type": "markdown",
   "id": "c2c8e3d4-993e-4025-b385-8cff6c35972f",
   "metadata": {},
   "source": [
    "이제 기존의 훈련 데이터에서 각 단어를 고유한 정수로 부여하는 작업을 진행해보겠습니다."
   ]
  },
  {
   "cell_type": "code",
   "execution_count": 41,
   "id": "18c52507-6c70-4b9d-80ed-c9bdf9508e08",
   "metadata": {},
   "outputs": [],
   "source": [
    "encoded = []\n",
    "for line in tokenized:  # 입력 데이터에서 1줄씩 문장을 읽음\n",
    "    temp = []\n",
    "    for w in line:  # 각 줄에서 1개씩 글자를 읽음\n",
    "        try:\n",
    "            temp.append(word_to_index[w])  # 글자를 해당하는 정수로 변환\n",
    "        except KeyError:  # 단어 집합에 없는 단어일 경우 unk로 대체된다.\n",
    "                temp.append(word_to_index['unk'])  # unk의 인덱스로 변환\n",
    "                \n",
    "    encoded.append(temp)"
   ]
  },
  {
   "cell_type": "code",
   "execution_count": 42,
   "id": "ac8381fb-98e9-4eab-9270-a604cae6a232",
   "metadata": {},
   "outputs": [
    {
     "name": "stdout",
     "output_type": "stream",
     "text": [
      "[[79, 27, 9, 4, 50, 42, 80, 16, 28, 29], [188, 5, 81, 189, 190, 191, 43, 192, 113, 5, 193, 194, 24, 114, 195, 196, 13, 51, 82, 115, 30, 43, 197, 116, 117, 31, 198, 5, 199, 200, 17, 113, 7, 68, 52, 17, 44, 201, 5, 202, 4, 203, 14, 7, 83, 32, 204, 84], [205, 118, 206, 53, 207, 31, 208, 209, 54, 10, 25, 11], [45, 33, 119, 210, 211, 212, 213, 69, 46, 34, 13, 214, 120, 15, 2, 215, 70, 8, 33, 3, 35], [216, 217, 218, 219, 7, 220, 17, 3], [121, 5, 24, 36, 44, 122, 123, 53, 117, 31, 85, 5, 14, 7, 3], [124, 37, 221, 42, 80, 37], [119, 222, 55, 223, 55, 86, 224, 38, 9, 4, 47, 25], [56], [225, 87, 88, 226, 227, 57, 89]]\n"
     ]
    }
   ],
   "source": [
    "print(encoded[:10])"
   ]
  },
  {
   "cell_type": "markdown",
   "id": "6356571e-5d51-4ac1-be3a-9b88e37ba32c",
   "metadata": {},
   "source": [
    "## 4. 길이가 다른 문장들을 모두 동일한 길이로 바꿔주는 패딩(padding)\n",
    "---\n",
    "이제 길이가 다른 리뷰들을 모두 동일한 길이로 바꿔주는 패딩 작업을 진행해보겠습니다.\n",
    "\n",
    "앞서 단어집합에 패딩을 위한 토큰인 'pad'를 추가했었습니다.\n",
    "\n",
    "패딩 작업은 정해준 길이로 모든 샘플들의 길이를 맞춰주되, 길이가 정해준 길이보다 짧은 샘플들에는 'pad' 토큰을 추가하여 길이를 맞춰주는 작업입니다."
   ]
  },
  {
   "cell_type": "code",
   "execution_count": 45,
   "id": "596b9478-f90a-40d9-8395-9d5da56d220c",
   "metadata": {},
   "outputs": [
    {
     "name": "stdout",
     "output_type": "stream",
     "text": [
      "리뷰의 최대 길이: 62\n",
      "리뷰의 최소 길이: 1\n",
      "리뷰의 평균 길이: 13.9\n"
     ]
    },
    {
     "data": {
      "image/png": "[encoded data removed]",
      "text/plain": [
       "<Figure size 432x288 with 1 Axes>"
      ]
     },
     "metadata": {
      "needs_background": "light"
     },
     "output_type": "display_data"
    }
   ],
   "source": [
    "max_len = max(len(l) for l in encoded)\n",
    "min_len = min(len(l) for l in encoded)\n",
    "mean_len = sum(map(len, encoded)) / len(encoded)\n",
    "print('리뷰의 최대 길이: {}'.format(max_len))\n",
    "print('리뷰의 최소 길이: {}'.format(min_len))\n",
    "print('리뷰의 평균 길이: {}'.format(mean_len))\n",
    "plt.hist([len(s) for s in encoded], bins=50)\n",
    "plt.xlabel('length of sample')\n",
    "plt.ylabel('number of sample')\n",
    "plt.show()"
   ]
  },
  {
   "cell_type": "markdown",
   "id": "5151909e-2b85-4f6c-8ad3-594a0557ab78",
   "metadata": {},
   "source": [
    "가장 길이가 긴 리뷰의 길이는 62입니다. \n",
    "\n",
    "모든 리뷰의 길이를 62으로 통일시켜주겠습니다."
   ]
  },
  {
   "cell_type": "code",
   "execution_count": 48,
   "id": "3904b1e1-efd4-4da2-8760-39767fb0aee2",
   "metadata": {},
   "outputs": [],
   "source": [
    "for line in encoded:\n",
    "    if len(line) < max_len:  # 현재 샘플이 정해준 길이보다 짧으면\n",
    "        line += [word_to_index['pad']] * (max_len - len(line))  # 나머지는 전부 'pad' 토큰으로 채운다."
   ]
  },
  {
   "cell_type": "code",
   "execution_count": 49,
   "id": "f45b8f36-45ab-436c-a912-05d0facedfc4",
   "metadata": {},
   "outputs": [
    {
     "name": "stdout",
     "output_type": "stream",
     "text": [
      "리뷰의 최대 길이: 62\n",
      "리뷰의 최소 길이: 62\n",
      "리뷰의 평균 길이: 62.0\n"
     ]
    }
   ],
   "source": [
    "print('리뷰의 최대 길이: {}'.format(max(len(l) for l in encoded)))\n",
    "print('리뷰의 최소 길이: {}'.format(min(len(l) for l in encoded)))\n",
    "print('리뷰의 평균 길이: {}'.format(sum(map(len, encoded)) / len(encoded)))"
   ]
  },
  {
   "cell_type": "markdown",
   "id": "bc032824-7b35-4b78-b1c9-8c83a98c6335",
   "metadata": {},
   "source": [
    "지면의 한계로 인해 상위 3개의 샘플들만 출력해보겠습니다."
   ]
  },
  {
   "cell_type": "code",
   "execution_count": 54,
   "id": "26d4b387-821f-4c47-bcff-502aa00dfb5c",
   "metadata": {},
   "outputs": [
    {
     "name": "stdout",
     "output_type": "stream",
     "text": [
      "[[79, 27, 9, 4, 50, 42, 80, 16, 28, 29, 1, 1, 1, 1, 1, 1, 1, 1, 1, 1, 1, 1, 1, 1, 1, 1, 1, 1, 1, 1, 1, 1, 1, 1, 1, 1, 1, 1, 1, 1, 1, 1, 1, 1, 1, 1, 1, 1, 1, 1, 1, 1, 1, 1, 1, 1, 1, 1, 1, 1, 1, 1], [188, 5, 81, 189, 190, 191, 43, 192, 113, 5, 193, 194, 24, 114, 195, 196, 13, 51, 82, 115, 30, 43, 197, 116, 117, 31, 198, 5, 199, 200, 17, 113, 7, 68, 52, 17, 44, 201, 5, 202, 4, 203, 14, 7, 83, 32, 204, 84, 1, 1, 1, 1, 1, 1, 1, 1, 1, 1, 1, 1, 1, 1], [205, 118, 206, 53, 207, 31, 208, 209, 54, 10, 25, 11, 1, 1, 1, 1, 1, 1, 1, 1, 1, 1, 1, 1, 1, 1, 1, 1, 1, 1, 1, 1, 1, 1, 1, 1, 1, 1, 1, 1, 1, 1, 1, 1, 1, 1, 1, 1, 1, 1, 1, 1, 1, 1, 1, 1, 1, 1, 1, 1, 1, 1]]\n"
     ]
    }
   ],
   "source": [
    "print(encoded[:3])"
   ]
  },
  {
   "cell_type": "markdown",
   "id": "fae9e816-bd4a-45aa-a56f-fb08b1d80383",
   "metadata": {},
   "source": [
    "이제 단어들을 고유한 정수로 맵핑하였으니, 각 정수를 고유한 단어 벡터로 바꾸는 작업이 필요합니다.\n",
    "\n",
    "단어 벡터를 얻는 방법은 크게 원-핫 인코딩과 워드 임베딩이 있는데, 주로 워드 임베딩이 사용됩니다.\n",
    "\n",
    "원-핫 인코딩과 워드 임베딩에 대해서는 9챕터에서 다룹니다.\n",
    "\n",
    "9챕터로 넘어가기 전에 우리가 배워야 할 것은 방금 했던 과정을 좀 더 쉽게 수행해주는 파이토치의 토치텍스트라는 도구입니다."
   ]
  },
  {
   "cell_type": "code",
   "execution_count": null,
   "id": "b26cee4c-cfe2-4de8-ba00-21b391da9aa6",
   "metadata": {},
   "outputs": [],
   "source": []
  }
 ],
 "metadata": {
  "kernelspec": {
   "display_name": "Python 3 (ipykernel)",
   "language": "python",
   "name": "python3"
  },
  "language_info": {
   "codemirror_mode": {
    "name": "ipython",
    "version": 3
   },
   "file_extension": ".py",
   "mimetype": "text/x-python",
   "name": "python",
   "nbconvert_exporter": "python",
   "pygments_lexer": "ipython3",
   "version": "3.8.5"
  }
 },
 "nbformat": 4,
 "nbformat_minor": 5
}
