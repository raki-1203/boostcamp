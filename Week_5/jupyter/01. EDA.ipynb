{
 "cells": [
  {
   "cell_type": "markdown",
   "id": "fc6eac0f",
   "metadata": {},
   "source": [
    "# Library import"
   ]
  },
  {
   "cell_type": "code",
   "execution_count": 1,
   "id": "e4de1b3b",
   "metadata": {},
   "outputs": [],
   "source": [
    "import os\n",
    "import glob\n",
    "import pandas as pd\n",
    "import numpy as np\n",
    "import matplotlib.pyplot as plt\n",
    "import matplotlib as mpl\n",
    "import seaborn as sns\n",
    "\n",
    "from PIL import Image\n",
    "from tqdm import tqdm\n",
    "from warnings import filterwarnings\n",
    "filterwarnings('ignore')"
   ]
  },
  {
   "cell_type": "code",
   "execution_count": 2,
   "id": "874c48ab",
   "metadata": {},
   "outputs": [
    {
     "name": "stdout",
     "output_type": "stream",
     "text": [
      "pandas version :  1.1.5\n",
      "numpy version :  1.19.2\n",
      "matplotlib version :  3.2.1\n",
      "seaborn version :  0.11.0\n"
     ]
    }
   ],
   "source": [
    "print('pandas version : ', pd.__version__)\n",
    "print('numpy version : ', np.__version__)\n",
    "print('matplotlib version : ', mpl.__version__)\n",
    "print('seaborn version : ', sns.__version__)"
   ]
  },
  {
   "cell_type": "code",
   "execution_count": 3,
   "id": "72ce1c9a",
   "metadata": {},
   "outputs": [],
   "source": [
    "# 학습 데이터셋 폴더 경로를 지정해주세요.\n",
    "train_dir = '/opt/ml/input/data/train'\n",
    "# 테스트 데이터셋 폴더 경로를 지정해주세요.\n",
    "test_dir = '/opt/ml/input/data/eval'"
   ]
  },
  {
   "cell_type": "markdown",
   "id": "a6d5c75b",
   "metadata": {},
   "source": [
    "# Data load"
   ]
  },
  {
   "cell_type": "code",
   "execution_count": 4,
   "id": "05cffd51",
   "metadata": {},
   "outputs": [],
   "source": [
    "train_info = pd.read_csv(os.path.join(train_dir, 'train.csv'))\n",
    "test = pd.read_csv(os.path.join(test_dir, 'info.csv'))"
   ]
  },
  {
   "cell_type": "markdown",
   "id": "99dcc645",
   "metadata": {},
   "source": [
    "## Dataset Head"
   ]
  },
  {
   "cell_type": "code",
   "execution_count": 5,
   "id": "a203066c",
   "metadata": {},
   "outputs": [
    {
     "data": {
      "text/html": [
       "<div>\n",
       "<style scoped>\n",
       "    .dataframe tbody tr th:only-of-type {\n",
       "        vertical-align: middle;\n",
       "    }\n",
       "\n",
       "    .dataframe tbody tr th {\n",
       "        vertical-align: top;\n",
       "    }\n",
       "\n",
       "    .dataframe thead th {\n",
       "        text-align: right;\n",
       "    }\n",
       "</style>\n",
       "<table border=\"1\" class=\"dataframe\">\n",
       "  <thead>\n",
       "    <tr style=\"text-align: right;\">\n",
       "      <th></th>\n",
       "      <th>id</th>\n",
       "      <th>gender</th>\n",
       "      <th>race</th>\n",
       "      <th>age</th>\n",
       "      <th>path</th>\n",
       "    </tr>\n",
       "  </thead>\n",
       "  <tbody>\n",
       "    <tr>\n",
       "      <th>0</th>\n",
       "      <td>000001</td>\n",
       "      <td>female</td>\n",
       "      <td>Asian</td>\n",
       "      <td>45</td>\n",
       "      <td>000001_female_Asian_45</td>\n",
       "    </tr>\n",
       "    <tr>\n",
       "      <th>1</th>\n",
       "      <td>000002</td>\n",
       "      <td>female</td>\n",
       "      <td>Asian</td>\n",
       "      <td>52</td>\n",
       "      <td>000002_female_Asian_52</td>\n",
       "    </tr>\n",
       "    <tr>\n",
       "      <th>2</th>\n",
       "      <td>000004</td>\n",
       "      <td>male</td>\n",
       "      <td>Asian</td>\n",
       "      <td>54</td>\n",
       "      <td>000004_male_Asian_54</td>\n",
       "    </tr>\n",
       "    <tr>\n",
       "      <th>3</th>\n",
       "      <td>000005</td>\n",
       "      <td>female</td>\n",
       "      <td>Asian</td>\n",
       "      <td>58</td>\n",
       "      <td>000005_female_Asian_58</td>\n",
       "    </tr>\n",
       "    <tr>\n",
       "      <th>4</th>\n",
       "      <td>000006</td>\n",
       "      <td>female</td>\n",
       "      <td>Asian</td>\n",
       "      <td>59</td>\n",
       "      <td>000006_female_Asian_59</td>\n",
       "    </tr>\n",
       "  </tbody>\n",
       "</table>\n",
       "</div>"
      ],
      "text/plain": [
       "       id  gender   race  age                    path\n",
       "0  000001  female  Asian   45  000001_female_Asian_45\n",
       "1  000002  female  Asian   52  000002_female_Asian_52\n",
       "2  000004    male  Asian   54    000004_male_Asian_54\n",
       "3  000005  female  Asian   58  000005_female_Asian_58\n",
       "4  000006  female  Asian   59  000006_female_Asian_59"
      ]
     },
     "execution_count": 5,
     "metadata": {},
     "output_type": "execute_result"
    }
   ],
   "source": [
    "train_info.head()"
   ]
  },
  {
   "cell_type": "code",
   "execution_count": 6,
   "id": "9456e3cb",
   "metadata": {},
   "outputs": [
    {
     "data": {
      "text/html": [
       "<div>\n",
       "<style scoped>\n",
       "    .dataframe tbody tr th:only-of-type {\n",
       "        vertical-align: middle;\n",
       "    }\n",
       "\n",
       "    .dataframe tbody tr th {\n",
       "        vertical-align: top;\n",
       "    }\n",
       "\n",
       "    .dataframe thead th {\n",
       "        text-align: right;\n",
       "    }\n",
       "</style>\n",
       "<table border=\"1\" class=\"dataframe\">\n",
       "  <thead>\n",
       "    <tr style=\"text-align: right;\">\n",
       "      <th></th>\n",
       "      <th>ImageID</th>\n",
       "      <th>ans</th>\n",
       "    </tr>\n",
       "  </thead>\n",
       "  <tbody>\n",
       "    <tr>\n",
       "      <th>0</th>\n",
       "      <td>cbc5c6e168e63498590db46022617123f1fe1268.jpg</td>\n",
       "      <td>0</td>\n",
       "    </tr>\n",
       "    <tr>\n",
       "      <th>1</th>\n",
       "      <td>0e72482bf56b3581c081f7da2a6180b8792c7089.jpg</td>\n",
       "      <td>0</td>\n",
       "    </tr>\n",
       "    <tr>\n",
       "      <th>2</th>\n",
       "      <td>b549040c49190cedc41327748aeb197c1670f14d.jpg</td>\n",
       "      <td>0</td>\n",
       "    </tr>\n",
       "    <tr>\n",
       "      <th>3</th>\n",
       "      <td>4f9cb2a045c6d5b9e50ad3459ea7b791eb6e18bc.jpg</td>\n",
       "      <td>0</td>\n",
       "    </tr>\n",
       "    <tr>\n",
       "      <th>4</th>\n",
       "      <td>248428d9a4a5b6229a7081c32851b90cb8d38d0c.jpg</td>\n",
       "      <td>0</td>\n",
       "    </tr>\n",
       "  </tbody>\n",
       "</table>\n",
       "</div>"
      ],
      "text/plain": [
       "                                        ImageID  ans\n",
       "0  cbc5c6e168e63498590db46022617123f1fe1268.jpg    0\n",
       "1  0e72482bf56b3581c081f7da2a6180b8792c7089.jpg    0\n",
       "2  b549040c49190cedc41327748aeb197c1670f14d.jpg    0\n",
       "3  4f9cb2a045c6d5b9e50ad3459ea7b791eb6e18bc.jpg    0\n",
       "4  248428d9a4a5b6229a7081c32851b90cb8d38d0c.jpg    0"
      ]
     },
     "execution_count": 6,
     "metadata": {},
     "output_type": "execute_result"
    }
   ],
   "source": [
    "test.head()"
   ]
  },
  {
   "cell_type": "markdown",
   "id": "8c80a3a7",
   "metadata": {},
   "source": [
    "## Dataset Shape"
   ]
  },
  {
   "cell_type": "code",
   "execution_count": 7,
   "id": "e5e72321",
   "metadata": {},
   "outputs": [
    {
     "data": {
      "text/plain": [
       "(2700, 5)"
      ]
     },
     "execution_count": 7,
     "metadata": {},
     "output_type": "execute_result"
    }
   ],
   "source": [
    "train_info.shape"
   ]
  },
  {
   "cell_type": "markdown",
   "id": "0589e3e2",
   "metadata": {
    "tags": []
   },
   "source": [
    "## Dataset Size"
   ]
  },
  {
   "cell_type": "code",
   "execution_count": 8,
   "id": "b75533b5",
   "metadata": {},
   "outputs": [
    {
     "name": "stdout",
     "output_type": "stream",
     "text": [
      "Trianing Info Shape: (2700, 5)\n",
      "Traning Image Data: 18900\n",
      "Test Dataset Shape: (12600, 2)\n"
     ]
    }
   ],
   "source": [
    "print(f'Trianing Info Shape: {train_info.shape}')\n",
    "print(f'Traning Image Data: {train_info.shape[0] * 7}')\n",
    "print(f'Test Dataset Shape: {test.shape}')"
   ]
  },
  {
   "cell_type": "markdown",
   "id": "a3e194eb",
   "metadata": {},
   "source": [
    "## train_info data information"
   ]
  },
  {
   "cell_type": "code",
   "execution_count": 9,
   "id": "d77d49b9",
   "metadata": {},
   "outputs": [
    {
     "name": "stdout",
     "output_type": "stream",
     "text": [
      "<class 'pandas.core.frame.DataFrame'>\n",
      "RangeIndex: 2700 entries, 0 to 2699\n",
      "Data columns (total 5 columns):\n",
      " #   Column  Non-Null Count  Dtype \n",
      "---  ------  --------------  ----- \n",
      " 0   id      2700 non-null   object\n",
      " 1   gender  2700 non-null   object\n",
      " 2   race    2700 non-null   object\n",
      " 3   age     2700 non-null   int64 \n",
      " 4   path    2700 non-null   object\n",
      "dtypes: int64(1), object(4)\n",
      "memory usage: 105.6+ KB\n"
     ]
    }
   ],
   "source": [
    "train_info.info()"
   ]
  },
  {
   "cell_type": "markdown",
   "id": "3904db97-7032-415b-b0ef-b1c23e2f730b",
   "metadata": {},
   "source": [
    "대회 데이터라 그런지 깔끔하게 null 값이 없음"
   ]
  },
  {
   "cell_type": "markdown",
   "id": "1cc370ee",
   "metadata": {},
   "source": [
    "# Train_info Dataset columns Visualize"
   ]
  },
  {
   "cell_type": "markdown",
   "id": "518f8fa6",
   "metadata": {},
   "source": [
    "## 성별 비율"
   ]
  },
  {
   "cell_type": "code",
   "execution_count": 31,
   "id": "b2aa00de",
   "metadata": {},
   "outputs": [
    {
     "data": {
      "image/png": "[encoded data removed]",
      "text/plain": [
       "<Figure size 1008x504 with 2 Axes>"
      ]
     },
     "metadata": {
      "needs_background": "light"
     },
     "output_type": "display_data"
    }
   ],
   "source": [
    "gender_rate = train_info['gender'].value_counts() / len(train_info) * 100\n",
    "\n",
    "fig, axes = plt.subplots(1, 2, figsize=(14, 7))\n",
    "axes.flatten()\n",
    "\n",
    "sns.countplot(x='gender', data=train_info, ax=axes[0],\n",
    "              order=['male', 'female'])\n",
    "axes[0].text(x=0, y=train_info['gender'].value_counts()[1] / 2, \n",
    "             s=train_info['gender'].value_counts()[1], \n",
    "             fontsize=20, \n",
    "             fontweight='semibold', \n",
    "             ha='center',\n",
    "             linespacing=2,\n",
    "            )\n",
    "axes[0].text(x=1, y=train_info['gender'].value_counts()[0] / 2, \n",
    "             s=train_info['gender'].value_counts()[0], \n",
    "             fontsize=20, \n",
    "             fontweight='semibold', \n",
    "             ha='center',\n",
    "             linespacing=2,\n",
    "            )\n",
    "axes[0].set_title('male vs female count')\n",
    "\n",
    "sns.barplot(gender_rate.index, gender_rate, ax=axes[1],\n",
    "            order=['male', 'female'])\n",
    "axes[1].text(x=0, y=gender_rate[1] / 2, \n",
    "             s=f\"{gender_rate[1]:.2f}%\", \n",
    "             fontsize=20, \n",
    "             fontweight='semibold', \n",
    "             ha='center',\n",
    "             linespacing=2,\n",
    "            )\n",
    "axes[1].text(x=1, y=gender_rate[0] / 2, \n",
    "             s=f\"{gender_rate[0]:.2f}%\", \n",
    "             fontsize=20, \n",
    "             fontweight='semibold', \n",
    "             ha='center',\n",
    "             linespacing=2,\n",
    "            )\n",
    "axes[1].set_title('male vs female percent')\n",
    "axes[1].set_ylabel('percent')\n",
    "\n",
    "for ax in axes:\n",
    "    ax.spines['top'].set_visible(False)\n",
    "    ax.spines['right'].set_visible(False)\n",
    "\n",
    "plt.show()"
   ]
  },
  {
   "cell_type": "code",
   "execution_count": 32,
   "id": "8e82a6f2",
   "metadata": {},
   "outputs": [
    {
     "name": "stdout",
     "output_type": "stream",
     "text": [
      "male 수: 1042명 (38.59%)\n",
      "female 수: 1658명 (61.41%)\n",
      "female 의 수가 male 의 수보다 1.59배\n"
     ]
    }
   ],
   "source": [
    "print(f\"male 수: {train_info['gender'].value_counts()[1]}명 ({gender_rate[1]:.2f}%)\")\n",
    "print(f\"female 수: {train_info['gender'].value_counts()[0]}명 ({gender_rate[0]:.2f}%)\")\n",
    "print(f\"female 의 수가 male 의 수보다 {gender_rate[0] / gender_rate[1]:.2f}배\")"
   ]
  },
  {
   "cell_type": "markdown",
   "id": "a687e6a9-4d71-46e2-9924-dd0f19152185",
   "metadata": {},
   "source": [
    "## 나이"
   ]
  },
  {
   "cell_type": "code",
   "execution_count": 134,
   "id": "3e6ca62c-832e-423c-a690-ab1a74372616",
   "metadata": {},
   "outputs": [
    {
     "data": {
      "image/png": "[encoded data removed]",
      "text/plain": [
       "<Figure size 432x288 with 1 Axes>"
      ]
     },
     "metadata": {
      "needs_background": "light"
     },
     "output_type": "display_data"
    }
   ],
   "source": [
    "sns.boxplot(x='gender', y='age', data=train_info)\n",
    "plt.show()"
   ]
  },
  {
   "cell_type": "markdown",
   "id": "61762e77-fddd-41ac-b18a-1797321a2d95",
   "metadata": {},
   "source": [
    "남자는 어린 사람이 더 많은 경향이 있고\n",
    "\n",
    "여자는 44세 이상이 많은 경향이 있다."
   ]
  },
  {
   "cell_type": "markdown",
   "id": "ade3b7f5",
   "metadata": {},
   "source": [
    "## 나이대"
   ]
  },
  {
   "cell_type": "code",
   "execution_count": 33,
   "id": "3dbf87d9",
   "metadata": {},
   "outputs": [],
   "source": [
    "train_info['age_band'] = train_info['age'].apply(lambda x: \"10's\" if x < 20 else \"20's\"\n",
    "                                                 if x < 30 else \"30's\" if x < 40 else \"40's\"\n",
    "                                                 if x < 50 else \"50's\" if x < 60 else \"60's over\")"
   ]
  },
  {
   "cell_type": "code",
   "execution_count": 34,
   "id": "238b47a4",
   "metadata": {},
   "outputs": [
    {
     "data": {
      "image/png": "[encoded data removed]",
      "text/plain": [
       "<Figure size 432x288 with 1 Axes>"
      ]
     },
     "metadata": {
      "needs_background": "light"
     },
     "output_type": "display_data"
    }
   ],
   "source": [
    "sns.countplot(x='age_band', data=train_info,\n",
    "              hue='gender',\n",
    "              order=sorted(train_info['age_band'].unique()))\n",
    "plt.show()"
   ]
  },
  {
   "cell_type": "markdown",
   "id": "279d7722",
   "metadata": {},
   "source": [
    "전체적으로 여성의 비율이 남성의 비율보다 높다.\n",
    "\n",
    "30대 40대의 사진은 유난히 부족하다.\n",
    "\n",
    "50대는 여성의 비율이 거의 2배다."
   ]
  },
  {
   "cell_type": "code",
   "execution_count": 37,
   "id": "b39a58c1-5892-424b-9375-6d401e73f040",
   "metadata": {},
   "outputs": [
    {
     "data": {
      "text/plain": [
       "0       45\n",
       "1       52\n",
       "2       54\n",
       "3       58\n",
       "4       59\n",
       "        ..\n",
       "2695    19\n",
       "2696    19\n",
       "2697    19\n",
       "2698    20\n",
       "2699    19\n",
       "Name: age, Length: 2700, dtype: int64"
      ]
     },
     "execution_count": 37,
     "metadata": {},
     "output_type": "execute_result"
    }
   ],
   "source": [
    "train_info['age']"
   ]
  },
  {
   "cell_type": "code",
   "execution_count": 38,
   "id": "7dd9e82a-4b00-429a-92e7-549ba1facedb",
   "metadata": {},
   "outputs": [
    {
     "data": {
      "text/plain": [
       "0       >= 30 and < 60\n",
       "1       >= 30 and < 60\n",
       "2       >= 30 and < 60\n",
       "3       >= 30 and < 60\n",
       "4       >= 30 and < 60\n",
       "             ...      \n",
       "2695              < 30\n",
       "2696              < 30\n",
       "2697              < 30\n",
       "2698              < 30\n",
       "2699              < 30\n",
       "Name: age_band, Length: 2700, dtype: object"
      ]
     },
     "execution_count": 38,
     "metadata": {},
     "output_type": "execute_result"
    }
   ],
   "source": [
    "train_info['age_band']"
   ]
  },
  {
   "cell_type": "code",
   "execution_count": 39,
   "id": "f2f8dd4f-a6dc-4b31-9b3d-354a244e9f79",
   "metadata": {},
   "outputs": [],
   "source": [
    "def get_age_band(age):\n",
    "    if age < 30:\n",
    "        return '< 30'\n",
    "    elif 30 <= age < 60:\n",
    "        return '>= 30 and < 60'\n",
    "    elif age >= 60:\n",
    "        return '>= 60'"
   ]
  },
  {
   "cell_type": "markdown",
   "id": "62544c2b",
   "metadata": {},
   "source": [
    "## 실제 target 에서는 `~ 29`, `30 ~ 59`, `60 ~` 으로 나이대를 분류"
   ]
  },
  {
   "cell_type": "code",
   "execution_count": 40,
   "id": "23ea8059",
   "metadata": {},
   "outputs": [],
   "source": [
    "train_info['age_band'] = train_info['age'].apply(get_age_band)"
   ]
  },
  {
   "cell_type": "code",
   "execution_count": 58,
   "id": "0678ba59",
   "metadata": {},
   "outputs": [
    {
     "data": {
      "image/png": "[encoded data removed]",
      "text/plain": [
       "<Figure size 1008x504 with 2 Axes>"
      ]
     },
     "metadata": {
      "needs_background": "light"
     },
     "output_type": "display_data"
    }
   ],
   "source": [
    "fig, axes = plt.subplots(1, 2, figsize=(14, 7))\n",
    "sns.countplot(x='age_band', data=train_info, ax=axes[0],\n",
    "              order=sorted(train_info['age_band'].unique()))\n",
    "\n",
    "counts = train_info['age_band'].value_counts()\n",
    "counts_pct = counts / sum(counts)\n",
    "\n",
    "for i, cnt in enumerate(counts):\n",
    "    axes[0].text(x=i, y=cnt / 2, s=cnt, ha='center',\n",
    "                 fontsize=15, fontweight='semibold',\n",
    "                )\n",
    "    \n",
    "sns.barplot(x=counts_pct.index, y=counts_pct, ax=axes[1])\n",
    "axes[1].set_ylabel('percent')\n",
    "\n",
    "for i, pct in enumerate(counts_pct):\n",
    "    axes[1].text(x=i, y=pct / 2, s=f\"{pct * 100:.2f}%\", ha='center',\n",
    "                 fontsize=15, fontweight='semibold',\n",
    "                )\n",
    "    \n",
    "for ax in axes:\n",
    "    ax.spines['top'].set_visible(False)\n",
    "    ax.spines['right'].set_visible(False)\n",
    "\n",
    "plt.show()"
   ]
  },
  {
   "cell_type": "markdown",
   "id": "aaeb9121",
   "metadata": {},
   "source": [
    "30세 미만이 1281명으로 가장 많고 30~59세가 1227명으로 2번째, 그리고 60대이상은 192명이다."
   ]
  },
  {
   "cell_type": "markdown",
   "id": "96f26e0d",
   "metadata": {},
   "source": [
    "비율은 47.45%, 45.45% 7.11%로 60대 이상이 상당히 적은 비율이라서 이걸 어떻게 해결하면 좋을까?"
   ]
  },
  {
   "cell_type": "markdown",
   "id": "10cedf22",
   "metadata": {},
   "source": [
    "전체적으로 남성보다 여성의 비율이 높다."
   ]
  },
  {
   "cell_type": "markdown",
   "id": "11466301",
   "metadata": {},
   "source": [
    "## 특이사항"
   ]
  },
  {
   "cell_type": "markdown",
   "id": "9b600cca-0c5c-4691-ac4a-e74f2e2798bd",
   "metadata": {},
   "source": [
    "# train_df 이미지 데이터를 가지고 만듦"
   ]
  },
  {
   "cell_type": "code",
   "execution_count": 81,
   "id": "5616d65c-c4da-4bbe-b2db-784a9f1f1ee7",
   "metadata": {},
   "outputs": [],
   "source": [
    "def get_age_band(age):\n",
    "    if age < 30:\n",
    "        return '< 30'\n",
    "    elif 30 <= age < 60:\n",
    "        return '>= 30 and < 60'\n",
    "    elif age >= 60:\n",
    "        return '>= 60'"
   ]
  },
  {
   "cell_type": "code",
   "execution_count": 82,
   "id": "013a9c4d-ce1e-4ded-95cf-49fefee3404b",
   "metadata": {},
   "outputs": [
    {
     "name": "stderr",
     "output_type": "stream",
     "text": [
      "100%|██████████| 2700/2700 [00:04<00:00, 627.06it/s]\n"
     ]
    }
   ],
   "source": [
    "image_df_list = []\n",
    "for idx, folder_dir in enumerate(tqdm(image_folder_list)):\n",
    "    image_df = pd.DataFrame()\n",
    "    file_list = glob.glob(folder_dir + '/*')\n",
    "    if len(file_list) != 7:\n",
    "        print(folder_dir)\n",
    "    image_df['mask'] = ['Incorrect' if 'incorrect' in file.split('/')[-1].split('.')[0] else 'Not Wear' \n",
    "                        if 'normal' in file.split('/')[-1].split('.')[0] else 'Wear' \n",
    "                        for file in file_list]\n",
    "    image_df['path'] = folder_dir.split('/')[-1]\n",
    "    image_df['image_path'] = file_list\n",
    "    image_df_list.append(image_df)\n",
    "train_df = pd.concat(image_df_list, ignore_index=True)\n",
    "train_df['age'] = train_df['path'].apply(lambda x: int(x.split('_')[-1]))\n",
    "train_df['gender'] = train_df['path'].apply(lambda x: x.split('_')[1])\n",
    "train_df['age_band'] = train_df['age'].apply(get_age_band)"
   ]
  },
  {
   "cell_type": "code",
   "execution_count": 83,
   "id": "f84f6c18-f3a8-4dae-a4f8-fdd8784fb826",
   "metadata": {},
   "outputs": [
    {
     "data": {
      "text/plain": [
       "(18900, 6)"
      ]
     },
     "execution_count": 83,
     "metadata": {},
     "output_type": "execute_result"
    }
   ],
   "source": [
    "train_df.shape"
   ]
  },
  {
   "cell_type": "code",
   "execution_count": 84,
   "id": "d7e60aa0-4358-4978-9d59-2ba0dc0ecf75",
   "metadata": {},
   "outputs": [
    {
     "data": {
      "text/html": [
       "<div>\n",
       "<style scoped>\n",
       "    .dataframe tbody tr th:only-of-type {\n",
       "        vertical-align: middle;\n",
       "    }\n",
       "\n",
       "    .dataframe tbody tr th {\n",
       "        vertical-align: top;\n",
       "    }\n",
       "\n",
       "    .dataframe thead th {\n",
       "        text-align: right;\n",
       "    }\n",
       "</style>\n",
       "<table border=\"1\" class=\"dataframe\">\n",
       "  <thead>\n",
       "    <tr style=\"text-align: right;\">\n",
       "      <th></th>\n",
       "      <th>mask</th>\n",
       "      <th>path</th>\n",
       "      <th>image_path</th>\n",
       "      <th>age</th>\n",
       "      <th>gender</th>\n",
       "      <th>age_band</th>\n",
       "    </tr>\n",
       "  </thead>\n",
       "  <tbody>\n",
       "    <tr>\n",
       "      <th>0</th>\n",
       "      <td>Incorrect</td>\n",
       "      <td>000001_female_Asian_45</td>\n",
       "      <td>/opt/ml/input/data/train/images/000001_female_...</td>\n",
       "      <td>45</td>\n",
       "      <td>female</td>\n",
       "      <td>&gt;= 30 and &lt; 60</td>\n",
       "    </tr>\n",
       "    <tr>\n",
       "      <th>1</th>\n",
       "      <td>Wear</td>\n",
       "      <td>000001_female_Asian_45</td>\n",
       "      <td>/opt/ml/input/data/train/images/000001_female_...</td>\n",
       "      <td>45</td>\n",
       "      <td>female</td>\n",
       "      <td>&gt;= 30 and &lt; 60</td>\n",
       "    </tr>\n",
       "    <tr>\n",
       "      <th>2</th>\n",
       "      <td>Wear</td>\n",
       "      <td>000001_female_Asian_45</td>\n",
       "      <td>/opt/ml/input/data/train/images/000001_female_...</td>\n",
       "      <td>45</td>\n",
       "      <td>female</td>\n",
       "      <td>&gt;= 30 and &lt; 60</td>\n",
       "    </tr>\n",
       "    <tr>\n",
       "      <th>3</th>\n",
       "      <td>Not Wear</td>\n",
       "      <td>000001_female_Asian_45</td>\n",
       "      <td>/opt/ml/input/data/train/images/000001_female_...</td>\n",
       "      <td>45</td>\n",
       "      <td>female</td>\n",
       "      <td>&gt;= 30 and &lt; 60</td>\n",
       "    </tr>\n",
       "    <tr>\n",
       "      <th>4</th>\n",
       "      <td>Wear</td>\n",
       "      <td>000001_female_Asian_45</td>\n",
       "      <td>/opt/ml/input/data/train/images/000001_female_...</td>\n",
       "      <td>45</td>\n",
       "      <td>female</td>\n",
       "      <td>&gt;= 30 and &lt; 60</td>\n",
       "    </tr>\n",
       "  </tbody>\n",
       "</table>\n",
       "</div>"
      ],
      "text/plain": [
       "        mask                    path  \\\n",
       "0  Incorrect  000001_female_Asian_45   \n",
       "1       Wear  000001_female_Asian_45   \n",
       "2       Wear  000001_female_Asian_45   \n",
       "3   Not Wear  000001_female_Asian_45   \n",
       "4       Wear  000001_female_Asian_45   \n",
       "\n",
       "                                          image_path  age  gender  \\\n",
       "0  /opt/ml/input/data/train/images/000001_female_...   45  female   \n",
       "1  /opt/ml/input/data/train/images/000001_female_...   45  female   \n",
       "2  /opt/ml/input/data/train/images/000001_female_...   45  female   \n",
       "3  /opt/ml/input/data/train/images/000001_female_...   45  female   \n",
       "4  /opt/ml/input/data/train/images/000001_female_...   45  female   \n",
       "\n",
       "         age_band  \n",
       "0  >= 30 and < 60  \n",
       "1  >= 30 and < 60  \n",
       "2  >= 30 and < 60  \n",
       "3  >= 30 and < 60  \n",
       "4  >= 30 and < 60  "
      ]
     },
     "execution_count": 84,
     "metadata": {},
     "output_type": "execute_result"
    }
   ],
   "source": [
    "train_df.head()"
   ]
  },
  {
   "cell_type": "markdown",
   "id": "3c1d5017-c40b-4492-b76e-611c3c09c5a1",
   "metadata": {
    "id": "split-webster",
    "tags": []
   },
   "source": [
    "## 데이터 노이즈 확인\n",
    "- 사람마다 총 7장의 사진이 존재합니다. (마스크 정상 착용 5장, 미착용 1장, 이상하게 착용 1장).\n",
    "- 이 파트에서는 이미지를 직접 시각화하여 눈으로 관찰하여 label에 문제가 없는지 확인해봅시다. \n"
   ]
  },
  {
   "cell_type": "code",
   "execution_count": 74,
   "id": "9e0acd06-f897-4040-a8c4-bba0dec9d175",
   "metadata": {},
   "outputs": [],
   "source": [
    "def show_from_idx_list(folder_list, num, sex='male'):\n",
    "    fig, axes = plt.subplots(10, 10, figsize=(25, 25))\n",
    "    axes = axes.flatten()\n",
    "    \n",
    "    for i, folder_name in enumerate(folder_list):\n",
    "        gender = folder_name.split('_')[1]\n",
    "        age = folder_name.split('_')[-1]\n",
    "        images_dir = os.path.join('images', folder_name)\n",
    "        file_list = glob.glob(os.path.join(train_dir, images_dir + '/*'))\n",
    "        for file_name in file_list:\n",
    "            if 'normal' in file_name:\n",
    "                img = np.array(Image.open(file_name))\n",
    "                axes[i].imshow(img)\n",
    "                axes[i].set_title(f'{folder_name.split(\"_\")[0]}')\n",
    "                axes[i].axis('off')\n",
    "#     plt.savefig(f'./train_{sex}_normal_images/{num + 1}.png', dpi=300)\n",
    "    plt.show()"
   ]
  },
  {
   "cell_type": "markdown",
   "id": "de40fc7c-a031-45c8-96ec-4511c63625bf",
   "metadata": {
    "id": "2c33131b-baa1-452d-a380-0dda75e63c46"
   },
   "source": [
    "## female 로 label 된 사진 확인"
   ]
  },
  {
   "cell_type": "code",
   "execution_count": 55,
   "id": "49952f85-0acb-4c1e-abc1-cd33fcc12ad6",
   "metadata": {},
   "outputs": [
    {
     "data": {
      "text/plain": [
       "['000001_female_Asian_45',\n",
       " '000002_female_Asian_52',\n",
       " '000005_female_Asian_58',\n",
       " '000006_female_Asian_59',\n",
       " '000007_female_Asian_58']"
      ]
     },
     "execution_count": 55,
     "metadata": {},
     "output_type": "execute_result"
    }
   ],
   "source": [
    "female_folder_list = sorted(train_df[train_df.path.str.contains('female')].path.unique().tolist())\n",
    "female_folder_list[:5]"
   ]
  },
  {
   "cell_type": "code",
   "execution_count": 56,
   "id": "a27c088a-33df-40fe-add0-48a357545dfe",
   "metadata": {},
   "outputs": [
    {
     "data": {
      "text/plain": [
       "1649"
      ]
     },
     "execution_count": 56,
     "metadata": {},
     "output_type": "execute_result"
    }
   ],
   "source": [
    "len(female_index)"
   ]
  },
  {
   "cell_type": "code",
   "execution_count": null,
   "id": "6265190c-64db-4324-97c7-18c33deb6644",
   "metadata": {
    "scrolled": true,
    "tags": []
   },
   "outputs": [],
   "source": [
    "for i in tqdm(range(17)):\n",
    "    show_from_idx_list(female_index[100 * i:100 * (i + 1)], i, 'female')"
   ]
  },
  {
   "cell_type": "markdown",
   "id": "e8c1b303-6fd3-4f70-9002-3a60539a4d98",
   "metadata": {},
   "source": [
    "- 남자인데 여자로 lable 되어있다고 판단된 사람들\n",
    "    - 000725\n",
    "    - 000763\n",
    "    - 000767\n",
    "    - 000817\n",
    "    - 001720\n",
    "    - 003399\n",
    "    - 006359\n",
    "    - 006360\n",
    "    - 006361\n",
    "    - 006362\n",
    "    - 006363\n",
    "    - 006364"
   ]
  },
  {
   "cell_type": "markdown",
   "id": "26557f4f-7e35-4eae-b06b-23610ec8d10c",
   "metadata": {},
   "source": [
    "## male로 label 된 사진 확인"
   ]
  },
  {
   "cell_type": "code",
   "execution_count": 62,
   "id": "30c8eaee-27a9-4a46-807b-4c5a9f7e8415",
   "metadata": {},
   "outputs": [
    {
     "data": {
      "text/plain": [
       "['000004_male_Asian_54',\n",
       " '000012_male_Asian_57',\n",
       " '000015_male_Asian_55',\n",
       " '000033_male_Asian_57',\n",
       " '000043_male_Asian_56']"
      ]
     },
     "execution_count": 62,
     "metadata": {},
     "output_type": "execute_result"
    }
   ],
   "source": [
    "male_folder_list = sorted(train_df[train_df.path.str.contains('_male')].path.unique().tolist())\n",
    "male_folder_list[:5]"
   ]
  },
  {
   "cell_type": "code",
   "execution_count": 63,
   "id": "97adb99c-d2b7-4fbb-97fa-937be7f09e6f",
   "metadata": {},
   "outputs": [
    {
     "data": {
      "text/plain": [
       "1051"
      ]
     },
     "execution_count": 63,
     "metadata": {},
     "output_type": "execute_result"
    }
   ],
   "source": [
    "len(male_index)"
   ]
  },
  {
   "cell_type": "code",
   "execution_count": null,
   "id": "650d2a50-beeb-4ecd-8b64-df796427894d",
   "metadata": {
    "scrolled": true,
    "tags": []
   },
   "outputs": [],
   "source": [
    "for i in tqdm(range(11)):\n",
    "    show_from_idx_list(male_folder_list[100 * i:100 * (i + 1)], i, 'male')"
   ]
  },
  {
   "cell_type": "markdown",
   "id": "707cdb9a-aecb-44f7-9570-9937772d6b54",
   "metadata": {},
   "source": [
    "- 여자인데 남자로 lable 되어있다고 판단된 사람들\n",
    "    - 004432\n",
    "    - 001498-1\n",
    "    - 005223"
   ]
  },
  {
   "cell_type": "code",
   "execution_count": 75,
   "id": "383b3821-d308-4c6f-8bfc-ec886d7dde96",
   "metadata": {},
   "outputs": [],
   "source": [
    "def show_incorrect_from_idx_list(folder_list, num, sex='male'):\n",
    "    fig, axes = plt.subplots(10, 10, figsize=(25, 25))\n",
    "    axes = axes.flatten()\n",
    "    \n",
    "    for i, folder_name in enumerate(folder_list):\n",
    "        gender = folder_name.split('_')[1]\n",
    "        age = folder_name.split('_')[-1]\n",
    "        images_dir = os.path.join('images', folder_name)\n",
    "        file_list = glob.glob(os.path.join(train_dir, images_dir + '/*'))\n",
    "        for file_name in file_list:\n",
    "            if 'incorrect' in file_name:\n",
    "                img = np.array(Image.open(file_name))\n",
    "                axes[i].imshow(img)\n",
    "                axes[i].set_title(f'{folder_name.split(\"_\")[0]}')\n",
    "                axes[i].axis('off')\n",
    "#     plt.savefig(f'./train_{sex}_normal_images/{num + 1}.png', dpi=300)\n",
    "    plt.show()"
   ]
  },
  {
   "cell_type": "code",
   "execution_count": null,
   "id": "7bfb34e8-baa4-4924-9b40-d91f310e1fbb",
   "metadata": {
    "scrolled": true,
    "tags": []
   },
   "outputs": [],
   "source": [
    "for i in tqdm(range(17)):\n",
    "    show_incorrect_from_idx_list(female_folder_list[100 * i:100 * (i + 1)], i, 'female')"
   ]
  },
  {
   "cell_type": "markdown",
   "id": "4664ed2b-ae82-4fad-83d1-509d7058feca",
   "metadata": {},
   "source": [
    "- 여자 중에 마스크 안썼는데 incorrect_mask 라고 되어 있는 사람\n",
    "    - 000020"
   ]
  },
  {
   "cell_type": "code",
   "execution_count": null,
   "id": "41335c0a-1aa9-4f9a-8052-475404ec7200",
   "metadata": {
    "scrolled": true,
    "tags": []
   },
   "outputs": [],
   "source": [
    "for i in tqdm(range(11)):\n",
    "    show_incorrect_from_idx_list(male_folder_list[100 * i:100 * (i + 1)], i, 'male')"
   ]
  },
  {
   "cell_type": "markdown",
   "id": "ef4a4242-71e6-426d-8f01-507c2e29a23f",
   "metadata": {},
   "source": [
    "- 남자 중에 마스크 안썼는데 incorrect_mask 라고 되어 있는 사람\n",
    "    - 004418\n",
    "    - 005227"
   ]
  },
  {
   "cell_type": "code",
   "execution_count": 86,
   "id": "47019dbe-c348-4b80-9a2c-2df4052adbda",
   "metadata": {},
   "outputs": [
    {
     "name": "stderr",
     "output_type": "stream",
     "text": [
      "100%|██████████| 2700/2700 [00:04<00:00, 627.24it/s]\n"
     ]
    }
   ],
   "source": [
    "image_df_list = []\n",
    "for idx, folder_dir in enumerate(tqdm(image_folder_list)):\n",
    "    image_df = pd.DataFrame()\n",
    "    file_list = glob.glob(folder_dir + '/*')\n",
    "    if len(file_list) != 7:\n",
    "        print(folder_dir)\n",
    "    image_df['mask'] = ['Incorrect' if 'incorrect' in file.split('/')[-1].split('.')[0] else 'Not Wear' \n",
    "                        if 'normal' in file.split('/')[-1].split('.')[0] else 'Wear' \n",
    "                        for file in file_list]\n",
    "    image_df['path'] = folder_dir.split('/')[-1]\n",
    "    image_df['image_path'] = file_list\n",
    "    image_df_list.append(image_df)\n",
    "train_df = pd.concat(image_df_list, ignore_index=True)\n",
    "train_df['age'] = train_df['path'].apply(lambda x: int(x.split('_')[-1]))\n",
    "train_df['gender'] = train_df['path'].apply(lambda x: x.split('_')[1])\n",
    "train_df['age_band'] = train_df['age'].apply(get_age_band)"
   ]
  },
  {
   "cell_type": "code",
   "execution_count": 87,
   "id": "57b8be2e-3bd0-451c-beb3-899067426dd4",
   "metadata": {},
   "outputs": [
    {
     "data": {
      "text/html": [
       "<div>\n",
       "<style scoped>\n",
       "    .dataframe tbody tr th:only-of-type {\n",
       "        vertical-align: middle;\n",
       "    }\n",
       "\n",
       "    .dataframe tbody tr th {\n",
       "        vertical-align: top;\n",
       "    }\n",
       "\n",
       "    .dataframe thead th {\n",
       "        text-align: right;\n",
       "    }\n",
       "</style>\n",
       "<table border=\"1\" class=\"dataframe\">\n",
       "  <thead>\n",
       "    <tr style=\"text-align: right;\">\n",
       "      <th></th>\n",
       "      <th>mask</th>\n",
       "      <th>path</th>\n",
       "      <th>image_path</th>\n",
       "      <th>age</th>\n",
       "      <th>gender</th>\n",
       "      <th>age_band</th>\n",
       "    </tr>\n",
       "  </thead>\n",
       "  <tbody>\n",
       "    <tr>\n",
       "      <th>0</th>\n",
       "      <td>Incorrect</td>\n",
       "      <td>000001_female_Asian_45</td>\n",
       "      <td>/opt/ml/input/data/train/images/000001_female_...</td>\n",
       "      <td>45</td>\n",
       "      <td>female</td>\n",
       "      <td>&gt;= 30 and &lt; 60</td>\n",
       "    </tr>\n",
       "    <tr>\n",
       "      <th>1</th>\n",
       "      <td>Wear</td>\n",
       "      <td>000001_female_Asian_45</td>\n",
       "      <td>/opt/ml/input/data/train/images/000001_female_...</td>\n",
       "      <td>45</td>\n",
       "      <td>female</td>\n",
       "      <td>&gt;= 30 and &lt; 60</td>\n",
       "    </tr>\n",
       "    <tr>\n",
       "      <th>2</th>\n",
       "      <td>Wear</td>\n",
       "      <td>000001_female_Asian_45</td>\n",
       "      <td>/opt/ml/input/data/train/images/000001_female_...</td>\n",
       "      <td>45</td>\n",
       "      <td>female</td>\n",
       "      <td>&gt;= 30 and &lt; 60</td>\n",
       "    </tr>\n",
       "    <tr>\n",
       "      <th>3</th>\n",
       "      <td>Not Wear</td>\n",
       "      <td>000001_female_Asian_45</td>\n",
       "      <td>/opt/ml/input/data/train/images/000001_female_...</td>\n",
       "      <td>45</td>\n",
       "      <td>female</td>\n",
       "      <td>&gt;= 30 and &lt; 60</td>\n",
       "    </tr>\n",
       "    <tr>\n",
       "      <th>4</th>\n",
       "      <td>Wear</td>\n",
       "      <td>000001_female_Asian_45</td>\n",
       "      <td>/opt/ml/input/data/train/images/000001_female_...</td>\n",
       "      <td>45</td>\n",
       "      <td>female</td>\n",
       "      <td>&gt;= 30 and &lt; 60</td>\n",
       "    </tr>\n",
       "  </tbody>\n",
       "</table>\n",
       "</div>"
      ],
      "text/plain": [
       "        mask                    path  \\\n",
       "0  Incorrect  000001_female_Asian_45   \n",
       "1       Wear  000001_female_Asian_45   \n",
       "2       Wear  000001_female_Asian_45   \n",
       "3   Not Wear  000001_female_Asian_45   \n",
       "4       Wear  000001_female_Asian_45   \n",
       "\n",
       "                                          image_path  age  gender  \\\n",
       "0  /opt/ml/input/data/train/images/000001_female_...   45  female   \n",
       "1  /opt/ml/input/data/train/images/000001_female_...   45  female   \n",
       "2  /opt/ml/input/data/train/images/000001_female_...   45  female   \n",
       "3  /opt/ml/input/data/train/images/000001_female_...   45  female   \n",
       "4  /opt/ml/input/data/train/images/000001_female_...   45  female   \n",
       "\n",
       "         age_band  \n",
       "0  >= 30 and < 60  \n",
       "1  >= 30 and < 60  \n",
       "2  >= 30 and < 60  \n",
       "3  >= 30 and < 60  \n",
       "4  >= 30 and < 60  "
      ]
     },
     "execution_count": 87,
     "metadata": {},
     "output_type": "execute_result"
    }
   ],
   "source": [
    "train_df.head()"
   ]
  },
  {
   "cell_type": "markdown",
   "id": "2025eb7b",
   "metadata": {},
   "source": [
    "## Train Images"
   ]
  },
  {
   "cell_type": "code",
   "execution_count": null,
   "id": "7c14b4d3-b7fa-4609-83be-cfacf938dbb1",
   "metadata": {},
   "outputs": [],
   "source": [
    "%%time\n",
    "fig, axes = plt.subplots(5, 7, figsize=(15, 15))\n",
    "\n",
    "sample_path = np.random.choice(train_df.path.unique(), 5)\n",
    "for i, path in enumerate(sample_path):\n",
    "    folder_dir = os.path.join('images/' + path + '/*')\n",
    "    file_list = sorted(glob.glob(os.path.join(train_dir, folder_dir)))\n",
    "    for j, file_name in enumerate(file_list):\n",
    "        img = plt.imread(file_name)\n",
    "        axes[i][j].imshow(img)\n",
    "        axes[i][j].set_title(file_name.split('/')[-1].split('.')[0])\n",
    "        axes[i][j].axis('off')\n",
    "\n",
    "plt.show()"
   ]
  },
  {
   "cell_type": "markdown",
   "id": "8bebadf5",
   "metadata": {},
   "source": [
    "## Test Images"
   ]
  },
  {
   "cell_type": "code",
   "execution_count": null,
   "id": "44b96361-1825-4850-9cf4-46be15720024",
   "metadata": {},
   "outputs": [],
   "source": [
    "%%time\n",
    "fig, axes = plt.subplots(1, 5, figsize=(15, 15))\n",
    "axes.flatten()\n",
    "\n",
    "sample_idx = np.random.randint(0, test.shape[0], 5)\n",
    "for i, idx in enumerate(sample_idx):\n",
    "    images_path = os.path.join('images/' + test.iloc[idx].ImageID)\n",
    "    file_name = os.path.join(test_dir, images_path)\n",
    "    \n",
    "    img = plt.imread(file_name)\n",
    "    axes[i].imshow(img)\n",
    "    axes[i].axis('off')\n",
    "\n",
    "plt.show()"
   ]
  },
  {
   "cell_type": "markdown",
   "id": "f16931e3",
   "metadata": {},
   "source": [
    "## Image Size"
   ]
  },
  {
   "cell_type": "code",
   "execution_count": 91,
   "id": "f0fae6f2-2d6f-419f-a731-72e843eaf1cf",
   "metadata": {},
   "outputs": [
    {
     "data": {
      "text/html": [
       "<div>\n",
       "<style scoped>\n",
       "    .dataframe tbody tr th:only-of-type {\n",
       "        vertical-align: middle;\n",
       "    }\n",
       "\n",
       "    .dataframe tbody tr th {\n",
       "        vertical-align: top;\n",
       "    }\n",
       "\n",
       "    .dataframe thead th {\n",
       "        text-align: right;\n",
       "    }\n",
       "</style>\n",
       "<table border=\"1\" class=\"dataframe\">\n",
       "  <thead>\n",
       "    <tr style=\"text-align: right;\">\n",
       "      <th></th>\n",
       "      <th>mask</th>\n",
       "      <th>path</th>\n",
       "      <th>image_path</th>\n",
       "      <th>age</th>\n",
       "      <th>gender</th>\n",
       "      <th>age_band</th>\n",
       "    </tr>\n",
       "  </thead>\n",
       "  <tbody>\n",
       "    <tr>\n",
       "      <th>0</th>\n",
       "      <td>Incorrect</td>\n",
       "      <td>000001_female_Asian_45</td>\n",
       "      <td>/opt/ml/input/data/train/images/000001_female_...</td>\n",
       "      <td>45</td>\n",
       "      <td>female</td>\n",
       "      <td>&gt;= 30 and &lt; 60</td>\n",
       "    </tr>\n",
       "    <tr>\n",
       "      <th>1</th>\n",
       "      <td>Wear</td>\n",
       "      <td>000001_female_Asian_45</td>\n",
       "      <td>/opt/ml/input/data/train/images/000001_female_...</td>\n",
       "      <td>45</td>\n",
       "      <td>female</td>\n",
       "      <td>&gt;= 30 and &lt; 60</td>\n",
       "    </tr>\n",
       "    <tr>\n",
       "      <th>2</th>\n",
       "      <td>Wear</td>\n",
       "      <td>000001_female_Asian_45</td>\n",
       "      <td>/opt/ml/input/data/train/images/000001_female_...</td>\n",
       "      <td>45</td>\n",
       "      <td>female</td>\n",
       "      <td>&gt;= 30 and &lt; 60</td>\n",
       "    </tr>\n",
       "    <tr>\n",
       "      <th>3</th>\n",
       "      <td>Not Wear</td>\n",
       "      <td>000001_female_Asian_45</td>\n",
       "      <td>/opt/ml/input/data/train/images/000001_female_...</td>\n",
       "      <td>45</td>\n",
       "      <td>female</td>\n",
       "      <td>&gt;= 30 and &lt; 60</td>\n",
       "    </tr>\n",
       "    <tr>\n",
       "      <th>4</th>\n",
       "      <td>Wear</td>\n",
       "      <td>000001_female_Asian_45</td>\n",
       "      <td>/opt/ml/input/data/train/images/000001_female_...</td>\n",
       "      <td>45</td>\n",
       "      <td>female</td>\n",
       "      <td>&gt;= 30 and &lt; 60</td>\n",
       "    </tr>\n",
       "  </tbody>\n",
       "</table>\n",
       "</div>"
      ],
      "text/plain": [
       "        mask                    path  \\\n",
       "0  Incorrect  000001_female_Asian_45   \n",
       "1       Wear  000001_female_Asian_45   \n",
       "2       Wear  000001_female_Asian_45   \n",
       "3   Not Wear  000001_female_Asian_45   \n",
       "4       Wear  000001_female_Asian_45   \n",
       "\n",
       "                                          image_path  age  gender  \\\n",
       "0  /opt/ml/input/data/train/images/000001_female_...   45  female   \n",
       "1  /opt/ml/input/data/train/images/000001_female_...   45  female   \n",
       "2  /opt/ml/input/data/train/images/000001_female_...   45  female   \n",
       "3  /opt/ml/input/data/train/images/000001_female_...   45  female   \n",
       "4  /opt/ml/input/data/train/images/000001_female_...   45  female   \n",
       "\n",
       "         age_band  \n",
       "0  >= 30 and < 60  \n",
       "1  >= 30 and < 60  \n",
       "2  >= 30 and < 60  \n",
       "3  >= 30 and < 60  \n",
       "4  >= 30 and < 60  "
      ]
     },
     "execution_count": 91,
     "metadata": {},
     "output_type": "execute_result"
    }
   ],
   "source": [
    "train_df.head()"
   ]
  },
  {
   "cell_type": "code",
   "execution_count": 98,
   "id": "ffc839c7",
   "metadata": {},
   "outputs": [
    {
     "name": "stderr",
     "output_type": "stream",
     "text": [
      "100%|██████████| 98/98 [00:13<00:00,  7.14it/s]\n"
     ]
    }
   ],
   "source": [
    "images_info = {'height': [], 'width': [], 'means': [], 'stds': []}\n",
    "for i, path in enumerate(tqdm(train_df.sample(100).path.unique())):\n",
    "    folder_dir = os.path.join('images/' + path + '/*')\n",
    "    file_list = sorted(glob.glob(os.path.join(train_dir, folder_dir)))\n",
    "    for file_name in file_list:\n",
    "        img = np.array(Image.open(file_name))\n",
    "        h, w, _ = img.shape\n",
    "        images_info['height'].append(h)\n",
    "        images_info['width'].append(w)\n",
    "        images_info['means'].append(img.mean(axis=(0, 1)))\n",
    "        images_info['stds'].append(img.std(axis=(0, 1)))"
   ]
  },
  {
   "cell_type": "code",
   "execution_count": 99,
   "id": "89340136-2572-4ef1-9aa2-e17cc41fa5b9",
   "metadata": {},
   "outputs": [
    {
     "name": "stdout",
     "output_type": "stream",
     "text": [
      "Train Data\n",
      "Total number of people is 2700\n",
      "Total number of images is 18900\n",
      "Minimum height for dataset is 512\n",
      "Maximum height for dataset is 512\n",
      "Average height for dataset is 512\n",
      "Minimum width for dataset is 384\n",
      "Maximum width for dataset is 384\n",
      "Average width for dataset is 384\n",
      "RGB Mean: [0.56778676 0.52758572 0.50513912]\n",
      "RGB Standard Deviation: [0.23344479 0.24593298 0.2498421 ]\n"
     ]
    }
   ],
   "source": [
    "print('Train Data')\n",
    "print(f'Total number of people is {len(train_info)}')\n",
    "print(f'Total number of images is {len(train_info) * 7}')\n",
    "\n",
    "print(f'Minimum height for dataset is {np.min(images_info[\"height\"])}')\n",
    "print(f'Maximum height for dataset is {np.max(images_info[\"height\"])}')\n",
    "print(f'Average height for dataset is {int(np.mean(images_info[\"height\"]))}')\n",
    "print(f'Minimum width for dataset is {np.min(images_info[\"width\"])}')\n",
    "print(f'Maximum width for dataset is {np.max(images_info[\"width\"])}')\n",
    "print(f'Average width for dataset is {int(np.mean(images_info[\"width\"]))}')\n",
    "\n",
    "print(f'RGB Mean: {np.mean(images_info[\"means\"], axis=0) / 255.}')\n",
    "print(f'RGB Standard Deviation: {np.mean(images_info[\"stds\"], axis=0) / 255.}')"
   ]
  },
  {
   "cell_type": "code",
   "execution_count": 100,
   "id": "7c1b139b",
   "metadata": {},
   "outputs": [
    {
     "name": "stderr",
     "output_type": "stream",
     "text": [
      "100%|██████████| 100/100 [00:02<00:00, 49.96it/s]\n"
     ]
    }
   ],
   "source": [
    "test_images_info = {'height': [], 'width': [], 'means': [], 'stds': []}\n",
    "for path in tqdm(test.sample(100).ImageID):\n",
    "    images_path = os.path.join('images/' + path)\n",
    "    file_name = os.path.join(test_dir, images_path)\n",
    "    \n",
    "    img = np.array(Image.open(file_name))\n",
    "    h, w, _ = img.shape\n",
    "    test_images_info['height'].append(h)\n",
    "    test_images_info['width'].append(w)\n",
    "    test_images_info['means'].append(img.mean(axis=(0, 1)))\n",
    "    test_images_info['stds'].append(img.std(axis=(0, 1)))"
   ]
  },
  {
   "cell_type": "code",
   "execution_count": 101,
   "id": "1302feb4-f336-416c-a2a4-94f28ce8f233",
   "metadata": {},
   "outputs": [
    {
     "name": "stdout",
     "output_type": "stream",
     "text": [
      "Test Data\n",
      "Total number of images is 12600\n",
      "Minimum height for dataset is 512\n",
      "Maximum height for dataset is 512\n",
      "Average height for dataset is 512\n",
      "Minimum width for dataset is 384\n",
      "Maximum width for dataset is 384\n",
      "Average width for dataset is 384\n",
      "RGB Mean: [0.52008307 0.46465991 0.43471954]\n",
      "RGB Standard Deviation: [0.23713984 0.24678447 0.24142549]\n"
     ]
    }
   ],
   "source": [
    "print('Test Data')\n",
    "print(f'Total number of images is {len(test)}')\n",
    "\n",
    "print(f'Minimum height for dataset is {np.min(test_images_info[\"height\"])}')\n",
    "print(f'Maximum height for dataset is {np.max(test_images_info[\"height\"])}')\n",
    "print(f'Average height for dataset is {int(np.mean(test_images_info[\"height\"]))}')\n",
    "print(f'Minimum width for dataset is {np.min(test_images_info[\"width\"])}')\n",
    "print(f'Maximum width for dataset is {np.max(test_images_info[\"width\"])}')\n",
    "print(f'Average width for dataset is {int(np.mean(test_images_info[\"width\"]))}')\n",
    "\n",
    "print(f'RGB Mean: {np.mean(test_images_info[\"means\"], axis=0) / 255.}')\n",
    "print(f'RGB Standard Deviation: {np.mean(test_images_info[\"stds\"], axis=0) / 255.}')"
   ]
  },
  {
   "cell_type": "markdown",
   "id": "2ce07d79",
   "metadata": {},
   "source": [
    "Image size 는 모두 동일하다.\n",
    "\n",
    "RGB Mean 이 Test set 에서 낮음"
   ]
  },
  {
   "cell_type": "markdown",
   "id": "7174e723",
   "metadata": {},
   "source": [
    "## Labeling\n",
    "\n",
    "![image.png](target_info.png)"
   ]
  },
  {
   "cell_type": "code",
   "execution_count": 102,
   "id": "92362301",
   "metadata": {},
   "outputs": [
    {
     "data": {
      "text/html": [
       "<div>\n",
       "<style scoped>\n",
       "    .dataframe tbody tr th:only-of-type {\n",
       "        vertical-align: middle;\n",
       "    }\n",
       "\n",
       "    .dataframe tbody tr th {\n",
       "        vertical-align: top;\n",
       "    }\n",
       "\n",
       "    .dataframe thead th {\n",
       "        text-align: right;\n",
       "    }\n",
       "</style>\n",
       "<table border=\"1\" class=\"dataframe\">\n",
       "  <thead>\n",
       "    <tr style=\"text-align: right;\">\n",
       "      <th></th>\n",
       "      <th>mask</th>\n",
       "      <th>path</th>\n",
       "      <th>image_path</th>\n",
       "      <th>age</th>\n",
       "      <th>gender</th>\n",
       "      <th>age_band</th>\n",
       "    </tr>\n",
       "  </thead>\n",
       "  <tbody>\n",
       "    <tr>\n",
       "      <th>0</th>\n",
       "      <td>Incorrect</td>\n",
       "      <td>000001_female_Asian_45</td>\n",
       "      <td>/opt/ml/input/data/train/images/000001_female_...</td>\n",
       "      <td>45</td>\n",
       "      <td>female</td>\n",
       "      <td>&gt;= 30 and &lt; 60</td>\n",
       "    </tr>\n",
       "    <tr>\n",
       "      <th>1</th>\n",
       "      <td>Wear</td>\n",
       "      <td>000001_female_Asian_45</td>\n",
       "      <td>/opt/ml/input/data/train/images/000001_female_...</td>\n",
       "      <td>45</td>\n",
       "      <td>female</td>\n",
       "      <td>&gt;= 30 and &lt; 60</td>\n",
       "    </tr>\n",
       "    <tr>\n",
       "      <th>2</th>\n",
       "      <td>Wear</td>\n",
       "      <td>000001_female_Asian_45</td>\n",
       "      <td>/opt/ml/input/data/train/images/000001_female_...</td>\n",
       "      <td>45</td>\n",
       "      <td>female</td>\n",
       "      <td>&gt;= 30 and &lt; 60</td>\n",
       "    </tr>\n",
       "    <tr>\n",
       "      <th>3</th>\n",
       "      <td>Not Wear</td>\n",
       "      <td>000001_female_Asian_45</td>\n",
       "      <td>/opt/ml/input/data/train/images/000001_female_...</td>\n",
       "      <td>45</td>\n",
       "      <td>female</td>\n",
       "      <td>&gt;= 30 and &lt; 60</td>\n",
       "    </tr>\n",
       "    <tr>\n",
       "      <th>4</th>\n",
       "      <td>Wear</td>\n",
       "      <td>000001_female_Asian_45</td>\n",
       "      <td>/opt/ml/input/data/train/images/000001_female_...</td>\n",
       "      <td>45</td>\n",
       "      <td>female</td>\n",
       "      <td>&gt;= 30 and &lt; 60</td>\n",
       "    </tr>\n",
       "  </tbody>\n",
       "</table>\n",
       "</div>"
      ],
      "text/plain": [
       "        mask                    path  \\\n",
       "0  Incorrect  000001_female_Asian_45   \n",
       "1       Wear  000001_female_Asian_45   \n",
       "2       Wear  000001_female_Asian_45   \n",
       "3   Not Wear  000001_female_Asian_45   \n",
       "4       Wear  000001_female_Asian_45   \n",
       "\n",
       "                                          image_path  age  gender  \\\n",
       "0  /opt/ml/input/data/train/images/000001_female_...   45  female   \n",
       "1  /opt/ml/input/data/train/images/000001_female_...   45  female   \n",
       "2  /opt/ml/input/data/train/images/000001_female_...   45  female   \n",
       "3  /opt/ml/input/data/train/images/000001_female_...   45  female   \n",
       "4  /opt/ml/input/data/train/images/000001_female_...   45  female   \n",
       "\n",
       "         age_band  \n",
       "0  >= 30 and < 60  \n",
       "1  >= 30 and < 60  \n",
       "2  >= 30 and < 60  \n",
       "3  >= 30 and < 60  \n",
       "4  >= 30 and < 60  "
      ]
     },
     "execution_count": 102,
     "metadata": {},
     "output_type": "execute_result"
    }
   ],
   "source": [
    "train_df.head()"
   ]
  },
  {
   "cell_type": "code",
   "execution_count": 103,
   "id": "659595ce",
   "metadata": {},
   "outputs": [],
   "source": [
    "def get_label(row):\n",
    "    if row['mask'] == 'Wear':\n",
    "        if row['gender'] == 'male':\n",
    "            if row['age_band'] == '< 30':\n",
    "                return 0\n",
    "            elif row['age_band'] == '>= 30 and < 60':\n",
    "                return 1\n",
    "            else:\n",
    "                return 2\n",
    "        else:\n",
    "            if row['age_band'] == '< 30':\n",
    "                return 3\n",
    "            elif row['age_band'] == '>= 30 and < 60':\n",
    "                return 4\n",
    "            else:\n",
    "                return 5\n",
    "    elif row['mask'] == 'Incorrect':\n",
    "        if row['gender'] == 'male':\n",
    "            if row['age_band'] == '< 30':\n",
    "                return 6\n",
    "            elif row['age_band'] == '>= 30 and < 60':\n",
    "                return 7\n",
    "            else:\n",
    "                return 8\n",
    "        else:\n",
    "            if row['age_band'] == '< 30':\n",
    "                return 9\n",
    "            elif row['age_band'] == '>= 30 and < 60':\n",
    "                return 10\n",
    "            else:\n",
    "                return 11\n",
    "    else:\n",
    "        if row['gender'] == 'male':\n",
    "            if row['age_band'] == '< 30':\n",
    "                return 12\n",
    "            elif row['age_band'] == '>= 30 and < 60':\n",
    "                return 13\n",
    "            else:\n",
    "                return 14\n",
    "        else:\n",
    "            if row['age_band'] == '< 30':\n",
    "                return 15\n",
    "            elif row['age_band'] == '>= 30 and < 60':\n",
    "                return 16\n",
    "            else:\n",
    "                return 17"
   ]
  },
  {
   "cell_type": "code",
   "execution_count": 79,
   "id": "46fbd211",
   "metadata": {},
   "outputs": [],
   "source": [
    "train_df['target'] = train_df.apply(get_label, axis=1)"
   ]
  },
  {
   "cell_type": "code",
   "execution_count": 80,
   "id": "3ae711e6",
   "metadata": {},
   "outputs": [
    {
     "data": {
      "text/html": [
       "<div>\n",
       "<style scoped>\n",
       "    .dataframe tbody tr th:only-of-type {\n",
       "        vertical-align: middle;\n",
       "    }\n",
       "\n",
       "    .dataframe tbody tr th {\n",
       "        vertical-align: top;\n",
       "    }\n",
       "\n",
       "    .dataframe thead th {\n",
       "        text-align: right;\n",
       "    }\n",
       "</style>\n",
       "<table border=\"1\" class=\"dataframe\">\n",
       "  <thead>\n",
       "    <tr style=\"text-align: right;\">\n",
       "      <th></th>\n",
       "      <th>mask</th>\n",
       "      <th>path</th>\n",
       "      <th>image_path</th>\n",
       "      <th>id</th>\n",
       "      <th>gender</th>\n",
       "      <th>race</th>\n",
       "      <th>age</th>\n",
       "      <th>age_band</th>\n",
       "      <th>target</th>\n",
       "    </tr>\n",
       "  </thead>\n",
       "  <tbody>\n",
       "    <tr>\n",
       "      <th>0</th>\n",
       "      <td>Incorrect</td>\n",
       "      <td>000001_female_Asian_45</td>\n",
       "      <td>/opt/ml/input/data/train/images/000001_female_...</td>\n",
       "      <td>000001</td>\n",
       "      <td>female</td>\n",
       "      <td>Asian</td>\n",
       "      <td>45</td>\n",
       "      <td>&gt;= 30 and &lt; 60</td>\n",
       "      <td>10</td>\n",
       "    </tr>\n",
       "    <tr>\n",
       "      <th>1</th>\n",
       "      <td>Wear</td>\n",
       "      <td>000001_female_Asian_45</td>\n",
       "      <td>/opt/ml/input/data/train/images/000001_female_...</td>\n",
       "      <td>000001</td>\n",
       "      <td>female</td>\n",
       "      <td>Asian</td>\n",
       "      <td>45</td>\n",
       "      <td>&gt;= 30 and &lt; 60</td>\n",
       "      <td>4</td>\n",
       "    </tr>\n",
       "    <tr>\n",
       "      <th>2</th>\n",
       "      <td>Wear</td>\n",
       "      <td>000001_female_Asian_45</td>\n",
       "      <td>/opt/ml/input/data/train/images/000001_female_...</td>\n",
       "      <td>000001</td>\n",
       "      <td>female</td>\n",
       "      <td>Asian</td>\n",
       "      <td>45</td>\n",
       "      <td>&gt;= 30 and &lt; 60</td>\n",
       "      <td>4</td>\n",
       "    </tr>\n",
       "    <tr>\n",
       "      <th>3</th>\n",
       "      <td>Not Wear</td>\n",
       "      <td>000001_female_Asian_45</td>\n",
       "      <td>/opt/ml/input/data/train/images/000001_female_...</td>\n",
       "      <td>000001</td>\n",
       "      <td>female</td>\n",
       "      <td>Asian</td>\n",
       "      <td>45</td>\n",
       "      <td>&gt;= 30 and &lt; 60</td>\n",
       "      <td>16</td>\n",
       "    </tr>\n",
       "    <tr>\n",
       "      <th>4</th>\n",
       "      <td>Wear</td>\n",
       "      <td>000001_female_Asian_45</td>\n",
       "      <td>/opt/ml/input/data/train/images/000001_female_...</td>\n",
       "      <td>000001</td>\n",
       "      <td>female</td>\n",
       "      <td>Asian</td>\n",
       "      <td>45</td>\n",
       "      <td>&gt;= 30 and &lt; 60</td>\n",
       "      <td>4</td>\n",
       "    </tr>\n",
       "  </tbody>\n",
       "</table>\n",
       "</div>"
      ],
      "text/plain": [
       "        mask                    path  \\\n",
       "0  Incorrect  000001_female_Asian_45   \n",
       "1       Wear  000001_female_Asian_45   \n",
       "2       Wear  000001_female_Asian_45   \n",
       "3   Not Wear  000001_female_Asian_45   \n",
       "4       Wear  000001_female_Asian_45   \n",
       "\n",
       "                                          image_path      id  gender   race  \\\n",
       "0  /opt/ml/input/data/train/images/000001_female_...  000001  female  Asian   \n",
       "1  /opt/ml/input/data/train/images/000001_female_...  000001  female  Asian   \n",
       "2  /opt/ml/input/data/train/images/000001_female_...  000001  female  Asian   \n",
       "3  /opt/ml/input/data/train/images/000001_female_...  000001  female  Asian   \n",
       "4  /opt/ml/input/data/train/images/000001_female_...  000001  female  Asian   \n",
       "\n",
       "   age        age_band  target  \n",
       "0   45  >= 30 and < 60      10  \n",
       "1   45  >= 30 and < 60       4  \n",
       "2   45  >= 30 and < 60       4  \n",
       "3   45  >= 30 and < 60      16  \n",
       "4   45  >= 30 and < 60       4  "
      ]
     },
     "execution_count": 80,
     "metadata": {},
     "output_type": "execute_result"
    }
   ],
   "source": [
    "train_df.head()"
   ]
  },
  {
   "cell_type": "code",
   "execution_count": 81,
   "id": "f77beb3c",
   "metadata": {},
   "outputs": [
    {
     "data": {
      "image/png": "[encoded data removed]",
      "text/plain": [
       "<Figure size 432x288 with 1 Axes>"
      ]
     },
     "metadata": {
      "needs_background": "light"
     },
     "output_type": "display_data"
    }
   ],
   "source": [
    "sns.countplot(x='target', data=train_df)\n",
    "plt.show()"
   ]
  },
  {
   "cell_type": "markdown",
   "id": "44512677-a40b-4b73-a827-1486fd78ed01",
   "metadata": {},
   "source": [
    "클래스 불균형이 심하다.\n",
    "\n",
    "해결할 방법을 찾아야 한다."
   ]
  },
  {
   "cell_type": "code",
   "execution_count": 109,
   "id": "e0d356e2-f72c-4764-b067-c1c0c75c15ea",
   "metadata": {},
   "outputs": [
    {
     "data": {
      "text/plain": [
       "4       4\n",
       "3       5\n",
       "0       6\n",
       "1       9\n",
       "16     23\n",
       "10     23\n",
       "15     26\n",
       "9      26\n",
       "12     34\n",
       "6      34\n",
       "5      34\n",
       "2      45\n",
       "7      45\n",
       "13     45\n",
       "11    173\n",
       "17    173\n",
       "8     227\n",
       "14    227\n",
       "Name: target, dtype: int64"
      ]
     },
     "execution_count": 109,
     "metadata": {},
     "output_type": "execute_result"
    }
   ],
   "source": [
    "len(train_df) // train_df.target.value_counts()"
   ]
  },
  {
   "cell_type": "code",
   "execution_count": 80,
   "id": "1b87b373",
   "metadata": {},
   "outputs": [],
   "source": [
    "train.to_csv(os.path.join(train_dir, 'train_with_label.csv'), index=False)"
   ]
  },
  {
   "cell_type": "code",
   "execution_count": null,
   "id": "8ce82630",
   "metadata": {},
   "outputs": [],
   "source": []
  }
 ],
 "metadata": {
  "kernelspec": {
   "display_name": "Python 3 (ipykernel)",
   "language": "python",
   "name": "python3"
  },
  "language_info": {
   "codemirror_mode": {
    "name": "ipython",
    "version": 3
   },
   "file_extension": ".py",
   "mimetype": "text/x-python",
   "name": "python",
   "nbconvert_exporter": "python",
   "pygments_lexer": "ipython3",
   "version": "3.8.5"
  }
 },
 "nbformat": 4,
 "nbformat_minor": 5
}
