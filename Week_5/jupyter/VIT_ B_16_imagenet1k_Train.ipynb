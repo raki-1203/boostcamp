{
 "cells": [
  {
   "cell_type": "markdown",
   "id": "about-heavy",
   "metadata": {},
   "source": [
    "## 0. Libarary 불러오기 및 경로설정"
   ]
  },
  {
   "cell_type": "code",
   "execution_count": 2,
   "id": "cubic-scoop",
   "metadata": {},
   "outputs": [],
   "source": [
    "import os\n",
    "import glob\n",
    "import pandas as pd\n",
    "import numpy as np\n",
    "import time\n",
    "import datetime\n",
    "import albumentations\n",
    "\n",
    "import torch\n",
    "import torch.nn as nn\n",
    "import torch.optim as optim\n",
    "import torch.nn.functional as F\n",
    "import torchvision\n",
    "\n",
    "from PIL import Image\n",
    "from copy import deepcopy\n",
    "from tqdm import tqdm\n",
    "from sklearn.model_selection import train_test_split\n",
    "from sklearn.metrics import f1_score\n",
    "from pytz import timezone\n",
    "from albumentations.pytorch.transforms import ToTensorV2\n",
    "\n",
    "from torch.utils.data import Dataset, DataLoader\n",
    "from torchvision import transforms\n",
    "from torch.optim import lr_scheduler\n",
    "\n",
    "from pytorch_pretrained_vit import ViT"
   ]
  },
  {
   "cell_type": "code",
   "execution_count": 3,
   "id": "793b7cf4-fd7a-485d-ab96-1ee4ea92f2ce",
   "metadata": {},
   "outputs": [],
   "source": [
    "import warnings\n",
    "warnings.filterwarnings('ignore')"
   ]
  },
  {
   "cell_type": "code",
   "execution_count": 4,
   "id": "f8a8dffd-109b-4756-a4ca-679e6f91dda5",
   "metadata": {},
   "outputs": [
    {
     "name": "stdout",
     "output_type": "stream",
     "text": [
      "PyTorch version: 1.7.1\n"
     ]
    }
   ],
   "source": [
    "print('PyTorch version: {}'.format(torch.__version__))"
   ]
  },
  {
   "cell_type": "code",
   "execution_count": 5,
   "id": "ee4ee1fc-c5fd-4009-b590-d1bf3a92ad14",
   "metadata": {},
   "outputs": [],
   "source": [
    "# Set random seed\n",
    "SEED = 2021\n",
    "# random.seed(SEED)\n",
    "np.random.seed(SEED)\n",
    "os.environ[\"PYTHONHASHSEED\"] = str(SEED)\n",
    "torch.manual_seed(SEED)\n",
    "torch.cuda.manual_seed(SEED)  # type: ignore\n",
    "torch.backends.cudnn.deterministic = True  # type: ignore\n",
    "torch.backends.cudnn.benchmark = True  # type: ignore"
   ]
  },
  {
   "cell_type": "code",
   "execution_count": 49,
   "id": "built-elevation",
   "metadata": {},
   "outputs": [],
   "source": [
    "class cfg:\n",
    "    train_dir = '/opt/ml/input/data/train'\n",
    "    img_dir = f'{train_dir}/images'\n",
    "    df_path = f'{train_dir}/train_with_label.csv'\n",
    "    \n",
    "    model_save_path = '/opt/ml/code/model'\n",
    "    sumission_save_path = '/opt/ml/code/submission'\n",
    "    \n",
    "    test_dir = '/opt/ml/input/data/eval'\n",
    "    submission_dir = f'{sumission_save_path}/{datetime.datetime.today().astimezone(timezone(\"Asia/Seoul\")).strftime(\"%Y-%m-%d\")}'"
   ]
  },
  {
   "cell_type": "code",
   "execution_count": 50,
   "id": "98cf1878-b551-4827-9311-e46640ac66e0",
   "metadata": {},
   "outputs": [],
   "source": [
    "if not os.path.exists(cfg.submission_dir):\n",
    "    os.mkdir(cfg.submission_dir)"
   ]
  },
  {
   "cell_type": "code",
   "execution_count": 8,
   "id": "cdfb7e07-276d-44c6-9c52-90cc796117a6",
   "metadata": {},
   "outputs": [
    {
     "name": "stdout",
     "output_type": "stream",
     "text": [
      "cuda:0 is using!\n"
     ]
    }
   ],
   "source": [
    "## HYPER PARAMETER 정의\n",
    "EPOCHS = 50\n",
    "BATCH_SIZE = 100\n",
    "LEARNING_RATE = 0.001\n",
    "CLASS_NUM = 18\n",
    "IMAGE_SIZE = 384\n",
    "PATIENCE = 5\n",
    "device = torch.device('cuda:0' if torch.cuda.is_available() else 'cpu')\n",
    "print(f'{device} is using!')"
   ]
  },
  {
   "cell_type": "markdown",
   "id": "72120758-fa63-4603-9aa7-575558925147",
   "metadata": {
    "tags": []
   },
   "source": [
    "## 1. Pretrained Model 불러오기"
   ]
  },
  {
   "cell_type": "code",
   "execution_count": 9,
   "id": "04a43250-f95e-4f5e-b2da-613bee424c1c",
   "metadata": {
    "scrolled": true,
    "tags": []
   },
   "outputs": [
    {
     "name": "stdout",
     "output_type": "stream",
     "text": [
      "Loaded pretrained weights.\n",
      "네트워크 필요 입력 채널 개수 3\n",
      "네트워크 출력 채널 개수 (예측 class type 개수) 1000\n",
      "ViT(\n",
      "  (patch_embedding): Conv2d(3, 768, kernel_size=(16, 16), stride=(16, 16))\n",
      "  (positional_embedding): PositionalEmbedding1D()\n",
      "  (transformer): Transformer(\n",
      "    (blocks): ModuleList(\n",
      "      (0): Block(\n",
      "        (attn): MultiHeadedSelfAttention(\n",
      "          (proj_q): Linear(in_features=768, out_features=768, bias=True)\n",
      "          (proj_k): Linear(in_features=768, out_features=768, bias=True)\n",
      "          (proj_v): Linear(in_features=768, out_features=768, bias=True)\n",
      "          (drop): Dropout(p=0.1, inplace=False)\n",
      "        )\n",
      "        (proj): Linear(in_features=768, out_features=768, bias=True)\n",
      "        (norm1): LayerNorm((768,), eps=1e-06, elementwise_affine=True)\n",
      "        (pwff): PositionWiseFeedForward(\n",
      "          (fc1): Linear(in_features=768, out_features=3072, bias=True)\n",
      "          (fc2): Linear(in_features=3072, out_features=768, bias=True)\n",
      "        )\n",
      "        (norm2): LayerNorm((768,), eps=1e-06, elementwise_affine=True)\n",
      "        (drop): Dropout(p=0.1, inplace=False)\n",
      "      )\n",
      "      (1): Block(\n",
      "        (attn): MultiHeadedSelfAttention(\n",
      "          (proj_q): Linear(in_features=768, out_features=768, bias=True)\n",
      "          (proj_k): Linear(in_features=768, out_features=768, bias=True)\n",
      "          (proj_v): Linear(in_features=768, out_features=768, bias=True)\n",
      "          (drop): Dropout(p=0.1, inplace=False)\n",
      "        )\n",
      "        (proj): Linear(in_features=768, out_features=768, bias=True)\n",
      "        (norm1): LayerNorm((768,), eps=1e-06, elementwise_affine=True)\n",
      "        (pwff): PositionWiseFeedForward(\n",
      "          (fc1): Linear(in_features=768, out_features=3072, bias=True)\n",
      "          (fc2): Linear(in_features=3072, out_features=768, bias=True)\n",
      "        )\n",
      "        (norm2): LayerNorm((768,), eps=1e-06, elementwise_affine=True)\n",
      "        (drop): Dropout(p=0.1, inplace=False)\n",
      "      )\n",
      "      (2): Block(\n",
      "        (attn): MultiHeadedSelfAttention(\n",
      "          (proj_q): Linear(in_features=768, out_features=768, bias=True)\n",
      "          (proj_k): Linear(in_features=768, out_features=768, bias=True)\n",
      "          (proj_v): Linear(in_features=768, out_features=768, bias=True)\n",
      "          (drop): Dropout(p=0.1, inplace=False)\n",
      "        )\n",
      "        (proj): Linear(in_features=768, out_features=768, bias=True)\n",
      "        (norm1): LayerNorm((768,), eps=1e-06, elementwise_affine=True)\n",
      "        (pwff): PositionWiseFeedForward(\n",
      "          (fc1): Linear(in_features=768, out_features=3072, bias=True)\n",
      "          (fc2): Linear(in_features=3072, out_features=768, bias=True)\n",
      "        )\n",
      "        (norm2): LayerNorm((768,), eps=1e-06, elementwise_affine=True)\n",
      "        (drop): Dropout(p=0.1, inplace=False)\n",
      "      )\n",
      "      (3): Block(\n",
      "        (attn): MultiHeadedSelfAttention(\n",
      "          (proj_q): Linear(in_features=768, out_features=768, bias=True)\n",
      "          (proj_k): Linear(in_features=768, out_features=768, bias=True)\n",
      "          (proj_v): Linear(in_features=768, out_features=768, bias=True)\n",
      "          (drop): Dropout(p=0.1, inplace=False)\n",
      "        )\n",
      "        (proj): Linear(in_features=768, out_features=768, bias=True)\n",
      "        (norm1): LayerNorm((768,), eps=1e-06, elementwise_affine=True)\n",
      "        (pwff): PositionWiseFeedForward(\n",
      "          (fc1): Linear(in_features=768, out_features=3072, bias=True)\n",
      "          (fc2): Linear(in_features=3072, out_features=768, bias=True)\n",
      "        )\n",
      "        (norm2): LayerNorm((768,), eps=1e-06, elementwise_affine=True)\n",
      "        (drop): Dropout(p=0.1, inplace=False)\n",
      "      )\n",
      "      (4): Block(\n",
      "        (attn): MultiHeadedSelfAttention(\n",
      "          (proj_q): Linear(in_features=768, out_features=768, bias=True)\n",
      "          (proj_k): Linear(in_features=768, out_features=768, bias=True)\n",
      "          (proj_v): Linear(in_features=768, out_features=768, bias=True)\n",
      "          (drop): Dropout(p=0.1, inplace=False)\n",
      "        )\n",
      "        (proj): Linear(in_features=768, out_features=768, bias=True)\n",
      "        (norm1): LayerNorm((768,), eps=1e-06, elementwise_affine=True)\n",
      "        (pwff): PositionWiseFeedForward(\n",
      "          (fc1): Linear(in_features=768, out_features=3072, bias=True)\n",
      "          (fc2): Linear(in_features=3072, out_features=768, bias=True)\n",
      "        )\n",
      "        (norm2): LayerNorm((768,), eps=1e-06, elementwise_affine=True)\n",
      "        (drop): Dropout(p=0.1, inplace=False)\n",
      "      )\n",
      "      (5): Block(\n",
      "        (attn): MultiHeadedSelfAttention(\n",
      "          (proj_q): Linear(in_features=768, out_features=768, bias=True)\n",
      "          (proj_k): Linear(in_features=768, out_features=768, bias=True)\n",
      "          (proj_v): Linear(in_features=768, out_features=768, bias=True)\n",
      "          (drop): Dropout(p=0.1, inplace=False)\n",
      "        )\n",
      "        (proj): Linear(in_features=768, out_features=768, bias=True)\n",
      "        (norm1): LayerNorm((768,), eps=1e-06, elementwise_affine=True)\n",
      "        (pwff): PositionWiseFeedForward(\n",
      "          (fc1): Linear(in_features=768, out_features=3072, bias=True)\n",
      "          (fc2): Linear(in_features=3072, out_features=768, bias=True)\n",
      "        )\n",
      "        (norm2): LayerNorm((768,), eps=1e-06, elementwise_affine=True)\n",
      "        (drop): Dropout(p=0.1, inplace=False)\n",
      "      )\n",
      "      (6): Block(\n",
      "        (attn): MultiHeadedSelfAttention(\n",
      "          (proj_q): Linear(in_features=768, out_features=768, bias=True)\n",
      "          (proj_k): Linear(in_features=768, out_features=768, bias=True)\n",
      "          (proj_v): Linear(in_features=768, out_features=768, bias=True)\n",
      "          (drop): Dropout(p=0.1, inplace=False)\n",
      "        )\n",
      "        (proj): Linear(in_features=768, out_features=768, bias=True)\n",
      "        (norm1): LayerNorm((768,), eps=1e-06, elementwise_affine=True)\n",
      "        (pwff): PositionWiseFeedForward(\n",
      "          (fc1): Linear(in_features=768, out_features=3072, bias=True)\n",
      "          (fc2): Linear(in_features=3072, out_features=768, bias=True)\n",
      "        )\n",
      "        (norm2): LayerNorm((768,), eps=1e-06, elementwise_affine=True)\n",
      "        (drop): Dropout(p=0.1, inplace=False)\n",
      "      )\n",
      "      (7): Block(\n",
      "        (attn): MultiHeadedSelfAttention(\n",
      "          (proj_q): Linear(in_features=768, out_features=768, bias=True)\n",
      "          (proj_k): Linear(in_features=768, out_features=768, bias=True)\n",
      "          (proj_v): Linear(in_features=768, out_features=768, bias=True)\n",
      "          (drop): Dropout(p=0.1, inplace=False)\n",
      "        )\n",
      "        (proj): Linear(in_features=768, out_features=768, bias=True)\n",
      "        (norm1): LayerNorm((768,), eps=1e-06, elementwise_affine=True)\n",
      "        (pwff): PositionWiseFeedForward(\n",
      "          (fc1): Linear(in_features=768, out_features=3072, bias=True)\n",
      "          (fc2): Linear(in_features=3072, out_features=768, bias=True)\n",
      "        )\n",
      "        (norm2): LayerNorm((768,), eps=1e-06, elementwise_affine=True)\n",
      "        (drop): Dropout(p=0.1, inplace=False)\n",
      "      )\n",
      "      (8): Block(\n",
      "        (attn): MultiHeadedSelfAttention(\n",
      "          (proj_q): Linear(in_features=768, out_features=768, bias=True)\n",
      "          (proj_k): Linear(in_features=768, out_features=768, bias=True)\n",
      "          (proj_v): Linear(in_features=768, out_features=768, bias=True)\n",
      "          (drop): Dropout(p=0.1, inplace=False)\n",
      "        )\n",
      "        (proj): Linear(in_features=768, out_features=768, bias=True)\n",
      "        (norm1): LayerNorm((768,), eps=1e-06, elementwise_affine=True)\n",
      "        (pwff): PositionWiseFeedForward(\n",
      "          (fc1): Linear(in_features=768, out_features=3072, bias=True)\n",
      "          (fc2): Linear(in_features=3072, out_features=768, bias=True)\n",
      "        )\n",
      "        (norm2): LayerNorm((768,), eps=1e-06, elementwise_affine=True)\n",
      "        (drop): Dropout(p=0.1, inplace=False)\n",
      "      )\n",
      "      (9): Block(\n",
      "        (attn): MultiHeadedSelfAttention(\n",
      "          (proj_q): Linear(in_features=768, out_features=768, bias=True)\n",
      "          (proj_k): Linear(in_features=768, out_features=768, bias=True)\n",
      "          (proj_v): Linear(in_features=768, out_features=768, bias=True)\n",
      "          (drop): Dropout(p=0.1, inplace=False)\n",
      "        )\n",
      "        (proj): Linear(in_features=768, out_features=768, bias=True)\n",
      "        (norm1): LayerNorm((768,), eps=1e-06, elementwise_affine=True)\n",
      "        (pwff): PositionWiseFeedForward(\n",
      "          (fc1): Linear(in_features=768, out_features=3072, bias=True)\n",
      "          (fc2): Linear(in_features=3072, out_features=768, bias=True)\n",
      "        )\n",
      "        (norm2): LayerNorm((768,), eps=1e-06, elementwise_affine=True)\n",
      "        (drop): Dropout(p=0.1, inplace=False)\n",
      "      )\n",
      "      (10): Block(\n",
      "        (attn): MultiHeadedSelfAttention(\n",
      "          (proj_q): Linear(in_features=768, out_features=768, bias=True)\n",
      "          (proj_k): Linear(in_features=768, out_features=768, bias=True)\n",
      "          (proj_v): Linear(in_features=768, out_features=768, bias=True)\n",
      "          (drop): Dropout(p=0.1, inplace=False)\n",
      "        )\n",
      "        (proj): Linear(in_features=768, out_features=768, bias=True)\n",
      "        (norm1): LayerNorm((768,), eps=1e-06, elementwise_affine=True)\n",
      "        (pwff): PositionWiseFeedForward(\n",
      "          (fc1): Linear(in_features=768, out_features=3072, bias=True)\n",
      "          (fc2): Linear(in_features=3072, out_features=768, bias=True)\n",
      "        )\n",
      "        (norm2): LayerNorm((768,), eps=1e-06, elementwise_affine=True)\n",
      "        (drop): Dropout(p=0.1, inplace=False)\n",
      "      )\n",
      "      (11): Block(\n",
      "        (attn): MultiHeadedSelfAttention(\n",
      "          (proj_q): Linear(in_features=768, out_features=768, bias=True)\n",
      "          (proj_k): Linear(in_features=768, out_features=768, bias=True)\n",
      "          (proj_v): Linear(in_features=768, out_features=768, bias=True)\n",
      "          (drop): Dropout(p=0.1, inplace=False)\n",
      "        )\n",
      "        (proj): Linear(in_features=768, out_features=768, bias=True)\n",
      "        (norm1): LayerNorm((768,), eps=1e-06, elementwise_affine=True)\n",
      "        (pwff): PositionWiseFeedForward(\n",
      "          (fc1): Linear(in_features=768, out_features=3072, bias=True)\n",
      "          (fc2): Linear(in_features=3072, out_features=768, bias=True)\n",
      "        )\n",
      "        (norm2): LayerNorm((768,), eps=1e-06, elementwise_affine=True)\n",
      "        (drop): Dropout(p=0.1, inplace=False)\n",
      "      )\n",
      "    )\n",
      "  )\n",
      "  (norm): LayerNorm((768,), eps=1e-06, elementwise_affine=True)\n",
      "  (fc): Linear(in_features=768, out_features=1000, bias=True)\n",
      ")\n"
     ]
    }
   ],
   "source": [
    "vit = ViT('B_16_imagenet1k', pretrained=True)\n",
    "print('네트워크 필요 입력 채널 개수', vit.patch_embedding.weight.shape[1])\n",
    "print('네트워크 출력 채널 개수 (예측 class type 개수)', vit.fc.weight.shape[0])\n",
    "print(vit)"
   ]
  },
  {
   "cell_type": "code",
   "execution_count": 10,
   "id": "9df7e3ef-516f-4c21-9c12-1a8238a87832",
   "metadata": {},
   "outputs": [
    {
     "name": "stdout",
     "output_type": "stream",
     "text": [
      "네트워크 출력 채널 개수 (예측 class type 개수) 18\n"
     ]
    }
   ],
   "source": [
    "# target model의 출력 크기를 변경하여 줍니다.\n",
    "vit.fc = torch.nn.Linear(in_features=768, out_features=CLASS_NUM, bias=True)\n",
    "\n",
    "# 새롭게 넣은 네트워크 가중치를 xavier uniform으로 초기화\n",
    "torch.nn.init.xavier_uniform_(vit.fc.weight)\n",
    "stdv = 1.0/np.sqrt(768)\n",
    "vit.fc.bias.data.uniform_(-stdv, stdv)\n",
    "\n",
    "print('네트워크 출력 채널 개수 (예측 class type 개수)', vit.fc.weight.shape[0])"
   ]
  },
  {
   "cell_type": "code",
   "execution_count": 11,
   "id": "df5d21a3-d033-4ea4-825e-78be8291c8e8",
   "metadata": {},
   "outputs": [],
   "source": [
    "for param in vit.parameters():\n",
    "    param.requires_grad = False"
   ]
  },
  {
   "cell_type": "code",
   "execution_count": 12,
   "id": "b59c62cb-aebb-4ed8-bb73-aed9feae5b74",
   "metadata": {},
   "outputs": [],
   "source": [
    "for param in vit.fc.parameters():\n",
    "    param.requires_grad = True"
   ]
  },
  {
   "cell_type": "markdown",
   "id": "0be63323-9202-4f52-9ad2-4bee7abb8922",
   "metadata": {},
   "source": [
    "### requires_grad = False 적용 됐는지 확인"
   ]
  },
  {
   "cell_type": "code",
   "execution_count": 13,
   "id": "d4817ad0-8d89-42c6-8858-d2a7153b4240",
   "metadata": {
    "scrolled": true,
    "tags": []
   },
   "outputs": [
    {
     "data": {
      "text/plain": [
       "Parameter containing:\n",
       "tensor([[[[ 1.2565e-02,  5.0151e-02,  5.6412e-02,  ...,  9.1647e-02,\n",
       "            1.1258e-01,  1.2726e-01],\n",
       "          [ 1.2852e-02,  1.4875e-02,  2.2059e-02,  ...,  8.7276e-02,\n",
       "            4.2421e-02,  8.9284e-02],\n",
       "          [ 1.8606e-02,  1.3768e-02, -2.5441e-03,  ...,  7.8996e-02,\n",
       "            3.5360e-02,  3.8059e-02],\n",
       "          ...,\n",
       "          [-1.3499e-02, -3.9727e-03, -5.3725e-02,  ..., -5.8909e-02,\n",
       "           -6.8349e-02,  1.9621e-02],\n",
       "          [ 4.0168e-02, -4.4040e-02, -2.1628e-02,  ...,  1.2683e-02,\n",
       "           -3.8754e-02,  8.5574e-02],\n",
       "          [ 7.1434e-02,  8.2304e-02,  3.8617e-02,  ...,  1.0045e-01,\n",
       "            1.2122e-01,  1.6293e-01]],\n",
       "\n",
       "         [[-6.5743e-02, -4.0097e-02, -4.2712e-02,  ..., -6.1647e-02,\n",
       "           -2.6194e-02, -2.0021e-02],\n",
       "          [-6.5871e-03, -9.1357e-03, -5.8212e-03,  ..., -3.3783e-02,\n",
       "           -4.6455e-02, -2.4184e-03],\n",
       "          [ 4.9546e-02,  3.6097e-02,  1.6419e-02,  ..., -3.5878e-02,\n",
       "           -4.1035e-02, -3.4361e-02],\n",
       "          ...,\n",
       "          [ 3.7240e-02,  2.1497e-02, -5.8303e-02,  ..., -2.2255e-02,\n",
       "           -3.4222e-02,  4.2295e-02],\n",
       "          [ 5.9258e-02, -4.6368e-02, -5.7089e-02,  ...,  2.3233e-02,\n",
       "           -2.6052e-02,  8.5357e-02],\n",
       "          [ 3.1775e-02,  1.1274e-02, -5.4308e-02,  ...,  4.9525e-02,\n",
       "            7.4975e-02,  1.0780e-01]],\n",
       "\n",
       "         [[-1.2016e-01, -4.1527e-02,  1.5494e-03,  ..., -2.6646e-02,\n",
       "           -2.3138e-02, -4.8311e-02],\n",
       "          [-8.5549e-02, -1.9950e-02,  2.4795e-02,  ...,  2.8293e-02,\n",
       "           -9.7463e-03, -1.0840e-02],\n",
       "          [-5.5871e-02, -8.1742e-03,  1.6678e-03,  ...,  2.4132e-02,\n",
       "            4.0126e-05, -2.7243e-02],\n",
       "          ...,\n",
       "          [-3.1111e-02,  2.6241e-02,  6.8386e-03,  ..., -5.4414e-03,\n",
       "           -4.7069e-02, -2.5514e-02],\n",
       "          [-1.8338e-02, -7.0701e-02, -3.2805e-02,  ..., -1.3927e-02,\n",
       "           -9.2267e-02, -1.5203e-02],\n",
       "          [-6.3881e-02, -6.3226e-02, -1.1911e-01,  ..., -7.8771e-02,\n",
       "           -5.4966e-02, -3.2131e-02]]],\n",
       "\n",
       "\n",
       "        [[[-3.6794e-02,  2.1484e-02,  2.2694e-02,  ...,  9.6102e-03,\n",
       "           -3.5343e-02, -2.8779e-02],\n",
       "          [-4.3694e-02,  6.9707e-02,  8.6843e-02,  ...,  6.0555e-02,\n",
       "            7.2600e-02, -2.4046e-02],\n",
       "          [-7.1584e-02, -1.0286e-02,  2.3583e-02,  ...,  6.9430e-02,\n",
       "            6.5241e-02,  1.9255e-02],\n",
       "          ...,\n",
       "          [-1.0280e-01,  3.6752e-02,  1.4718e-01,  ...,  4.1795e-02,\n",
       "            2.5207e-02, -1.8981e-02],\n",
       "          [-1.1252e-01,  8.8516e-02,  6.0891e-02,  ...,  5.5676e-02,\n",
       "            6.3082e-02, -7.4723e-02],\n",
       "          [-9.2966e-02, -3.7557e-02,  9.0750e-05,  ...,  1.0870e-01,\n",
       "            1.0856e-02, -3.3545e-02]],\n",
       "\n",
       "         [[-1.4073e-02,  3.7215e-02,  2.2799e-02,  ...,  4.0167e-03,\n",
       "           -4.3878e-02, -2.9782e-02],\n",
       "          [-2.3619e-02,  7.6268e-02,  9.2468e-02,  ...,  7.0096e-03,\n",
       "            2.6469e-02, -5.8392e-02],\n",
       "          [-3.7431e-02,  1.5382e-02,  5.4178e-02,  ..., -2.1885e-03,\n",
       "           -8.6988e-03, -4.7930e-02],\n",
       "          ...,\n",
       "          [-1.1326e-01,  1.4799e-02,  1.1142e-01,  ...,  5.2114e-02,\n",
       "            4.2533e-02,  2.5318e-02],\n",
       "          [-9.9155e-02,  1.0201e-01,  7.4954e-02,  ...,  5.7208e-02,\n",
       "            7.5540e-02, -4.7929e-02],\n",
       "          [-5.7542e-02,  9.4806e-03,  5.5856e-02,  ...,  1.0918e-01,\n",
       "            1.6742e-02, -2.8114e-02]],\n",
       "\n",
       "         [[-1.5598e-02,  1.7224e-02, -1.8340e-02,  ...,  5.6132e-02,\n",
       "            3.5205e-02,  8.5018e-02],\n",
       "          [-4.0477e-02,  1.3300e-02, -4.3761e-03,  ...,  1.3904e-02,\n",
       "            3.9968e-02,  1.8654e-02],\n",
       "          [-6.7815e-02, -4.9325e-02, -3.3638e-02,  ...,  9.9312e-03,\n",
       "           -3.3900e-04,  1.0532e-02],\n",
       "          ...,\n",
       "          [-6.1373e-02,  1.3472e-02,  7.5450e-02,  ..., -3.8321e-02,\n",
       "           -6.2348e-04,  4.2782e-02],\n",
       "          [-5.4899e-02,  1.1967e-01,  6.1561e-02,  ..., -2.7963e-02,\n",
       "            3.3635e-02, -3.8119e-02],\n",
       "          [-4.3857e-02,  3.5235e-02,  8.0381e-02,  ...,  2.8755e-02,\n",
       "           -2.9105e-02, -4.1935e-02]]],\n",
       "\n",
       "\n",
       "        [[[-1.8654e-02, -2.7537e-03, -1.3501e-02,  ...,  1.8031e-03,\n",
       "            8.7084e-03,  2.6031e-03],\n",
       "          [ 1.1733e-02,  2.1421e-02,  3.1221e-03,  ..., -9.0747e-03,\n",
       "           -9.6422e-03, -1.8114e-02],\n",
       "          [ 9.8718e-03,  2.7302e-02,  9.7088e-03,  ..., -1.3766e-02,\n",
       "           -1.5553e-02, -2.6662e-02],\n",
       "          ...,\n",
       "          [ 1.9967e-02,  1.0951e-02,  5.4776e-03,  ..., -4.6278e-03,\n",
       "            1.2314e-03,  1.0615e-02],\n",
       "          [ 2.6403e-02,  7.7280e-03,  8.0880e-03,  ..., -4.0965e-03,\n",
       "            5.3065e-04,  2.3061e-02],\n",
       "          [ 7.5078e-03, -2.6551e-03, -1.6407e-02,  ..., -1.0824e-02,\n",
       "            8.4274e-03,  2.7700e-02]],\n",
       "\n",
       "         [[-1.5341e-02,  9.0329e-03,  4.9272e-03,  ...,  3.3444e-02,\n",
       "            4.4774e-02,  4.2661e-02],\n",
       "          [ 5.4720e-04,  2.1040e-02,  7.4403e-03,  ...,  1.2624e-02,\n",
       "            1.0271e-02,  6.8971e-03],\n",
       "          [-7.8813e-03,  2.3678e-02,  9.0275e-03,  ...,  4.0863e-04,\n",
       "            3.2395e-04, -1.0001e-02],\n",
       "          ...,\n",
       "          [ 2.7482e-03,  2.5414e-03,  2.7444e-03,  ..., -2.8938e-03,\n",
       "            1.0710e-03,  9.1542e-03],\n",
       "          [-1.3198e-03, -3.3861e-03, -3.8207e-04,  ..., -2.0378e-03,\n",
       "            1.1833e-03,  1.4114e-02],\n",
       "          [-2.8547e-02, -2.4505e-02, -2.6835e-02,  ..., -1.0802e-02,\n",
       "            3.7567e-03,  1.2127e-02]],\n",
       "\n",
       "         [[-4.2877e-02, -5.4672e-03, -1.1905e-02,  ..., -9.0198e-03,\n",
       "           -2.6898e-03, -9.6997e-03],\n",
       "          [-1.8597e-02,  1.5528e-02,  5.1666e-03,  ..., -3.5681e-03,\n",
       "           -8.8190e-03, -1.7987e-02],\n",
       "          [-2.2385e-02,  1.6882e-02,  9.4199e-03,  ...,  1.8204e-03,\n",
       "           -4.6610e-03, -2.2602e-02],\n",
       "          ...,\n",
       "          [ 9.8044e-03,  1.8803e-02,  1.8214e-02,  ...,  1.2698e-02,\n",
       "            8.0527e-03, -1.7251e-03],\n",
       "          [ 5.9487e-03,  1.5192e-02,  2.5436e-02,  ...,  1.1565e-02,\n",
       "            6.7154e-03,  4.1164e-03],\n",
       "          [-1.4226e-02,  3.5444e-03,  3.7645e-03,  ...,  5.8494e-03,\n",
       "            1.0576e-02,  3.9379e-03]]],\n",
       "\n",
       "\n",
       "        ...,\n",
       "\n",
       "\n",
       "        [[[-4.2030e-02,  1.9028e-02,  6.4333e-02,  ..., -3.2733e-02,\n",
       "           -4.5133e-02, -1.1409e-03],\n",
       "          [-4.3942e-02,  2.6485e-02,  7.6391e-02,  ..., -4.2077e-02,\n",
       "           -4.3641e-02, -1.9605e-02],\n",
       "          [-2.6738e-02,  7.1210e-03,  7.3397e-02,  ..., -3.7186e-02,\n",
       "           -4.7684e-02, -3.6264e-02],\n",
       "          ...,\n",
       "          [ 6.1151e-03, -1.1410e-02,  1.6043e-02,  ...,  1.2978e-01,\n",
       "            5.1439e-02, -4.0075e-02],\n",
       "          [ 9.4656e-03,  2.1373e-02,  7.2300e-03,  ...,  5.2265e-02,\n",
       "            3.2481e-02, -5.5113e-02],\n",
       "          [ 2.6959e-02, -1.4840e-02, -1.2569e-02,  ..., -4.9514e-02,\n",
       "           -5.8585e-02, -7.2413e-02]],\n",
       "\n",
       "         [[-1.1787e-01, -4.4363e-02,  8.3170e-03,  ..., -1.0518e-01,\n",
       "           -1.2108e-01, -7.8600e-02],\n",
       "          [-9.6480e-02, -7.3148e-03,  5.5144e-02,  ..., -6.9812e-02,\n",
       "           -8.2914e-02, -6.7842e-02],\n",
       "          [-7.1035e-02, -1.3392e-02,  7.7101e-02,  ..., -2.9866e-02,\n",
       "           -5.5953e-02, -5.6992e-02],\n",
       "          ...,\n",
       "          [ 2.4078e-02,  8.2006e-03,  3.1317e-02,  ...,  1.8394e-01,\n",
       "            9.2883e-02, -1.5517e-02],\n",
       "          [ 2.8409e-02,  4.7666e-02,  2.6024e-02,  ...,  9.1113e-02,\n",
       "            6.5683e-02, -3.3845e-02],\n",
       "          [ 3.3218e-02,  1.2979e-03,  1.4505e-03,  ..., -2.6671e-02,\n",
       "           -3.8411e-02, -5.3128e-02]],\n",
       "\n",
       "         [[-7.1489e-02, -2.5643e-02, -4.4978e-03,  ..., -6.8421e-02,\n",
       "           -6.2288e-02, -2.4977e-02],\n",
       "          [-5.0993e-02, -8.7357e-04,  2.5055e-02,  ..., -5.6044e-02,\n",
       "           -4.9015e-02, -2.5564e-02],\n",
       "          [-3.8224e-02, -1.1370e-02,  3.8156e-02,  ..., -3.4455e-02,\n",
       "           -4.3276e-02, -2.6160e-02],\n",
       "          ...,\n",
       "          [ 2.6710e-03, -1.2844e-02, -3.6508e-03,  ...,  7.1426e-02,\n",
       "            3.0519e-02, -2.6537e-02],\n",
       "          [ 7.1142e-03,  2.8557e-02, -4.2449e-03,  ...,  2.7005e-02,\n",
       "            3.2269e-02, -2.8571e-02],\n",
       "          [ 1.3217e-02, -2.4167e-03, -1.4716e-04,  ..., -2.3195e-02,\n",
       "           -3.2860e-02, -4.3434e-02]]],\n",
       "\n",
       "\n",
       "        [[[ 6.7506e-02,  8.4509e-02,  8.5287e-02,  ..., -3.2347e-03,\n",
       "            3.0445e-03, -4.5977e-02],\n",
       "          [-4.2884e-02, -4.4068e-02, -4.8058e-02,  ..., -7.2502e-02,\n",
       "           -7.5978e-02, -6.8845e-02],\n",
       "          [-6.9961e-02, -5.6970e-02, -6.3465e-02,  ..., -4.3159e-02,\n",
       "           -3.7520e-02, -6.8503e-02],\n",
       "          ...,\n",
       "          [ 1.9694e-02,  8.9486e-02,  3.5444e-02,  ...,  1.4467e-02,\n",
       "            5.0818e-02,  3.1521e-02],\n",
       "          [ 3.2380e-02,  2.7274e-02,  6.8423e-03,  ...,  7.1843e-02,\n",
       "            5.8751e-02,  6.9343e-02],\n",
       "          [-9.6560e-02, -7.2266e-02, -1.4903e-01,  ..., -3.4462e-03,\n",
       "            5.0017e-02,  2.6314e-02]],\n",
       "\n",
       "         [[ 8.6399e-02,  5.9598e-02,  3.7973e-02,  ..., -1.5695e-02,\n",
       "           -1.2110e-02, -7.2237e-02],\n",
       "          [-1.8027e-02, -6.6672e-02, -9.4532e-02,  ..., -1.0055e-01,\n",
       "           -9.7308e-02, -1.0100e-01],\n",
       "          [-3.2357e-02, -6.8884e-02, -1.0535e-01,  ..., -8.6404e-02,\n",
       "           -6.5733e-02, -1.0156e-01],\n",
       "          ...,\n",
       "          [ 6.2945e-02,  1.0931e-01,  5.0812e-02,  ...,  3.5208e-02,\n",
       "            5.4194e-02, -1.1297e-02],\n",
       "          [ 6.5731e-02,  2.7658e-02,  6.0188e-03,  ...,  9.3592e-02,\n",
       "            6.0386e-02,  2.7654e-02],\n",
       "          [-4.8257e-02, -6.1641e-02, -1.3993e-01,  ...,  2.1816e-02,\n",
       "            5.4900e-02,  4.6859e-03]],\n",
       "\n",
       "         [[ 6.4411e-02,  2.3024e-02,  1.3629e-02,  ..., -3.5099e-03,\n",
       "            2.7371e-03, -5.7100e-02],\n",
       "          [ 1.2269e-02, -3.6985e-02, -5.3953e-02,  ..., -3.1441e-02,\n",
       "           -2.9184e-02, -4.2272e-02],\n",
       "          [ 2.5164e-02, -2.2583e-02, -6.5218e-02,  ..., -1.8632e-02,\n",
       "            7.2691e-03, -3.3351e-02],\n",
       "          ...,\n",
       "          [ 5.8251e-02,  8.5817e-02,  4.3455e-02,  ..., -1.2170e-02,\n",
       "           -1.4801e-02, -9.3918e-02],\n",
       "          [ 8.8178e-02,  3.1812e-02,  3.9625e-02,  ...,  2.3183e-02,\n",
       "           -1.9345e-02, -5.2095e-02],\n",
       "          [ 5.5228e-02,  1.8218e-02, -4.2014e-02,  ..., -2.7958e-02,\n",
       "           -1.8038e-03, -4.5204e-02]]],\n",
       "\n",
       "\n",
       "        [[[-1.4138e-02, -1.6657e-03,  2.9560e-03,  ..., -5.5894e-03,\n",
       "           -4.7286e-03,  2.0084e-03],\n",
       "          [ 2.4601e-03, -5.4764e-03, -5.6577e-03,  ...,  3.7167e-03,\n",
       "           -5.0373e-03,  6.8264e-03],\n",
       "          [-5.6357e-03, -1.2495e-02, -5.8746e-03,  ...,  4.2828e-03,\n",
       "           -5.8635e-03,  2.2794e-03],\n",
       "          ...,\n",
       "          [-5.0720e-03, -4.4837e-03, -4.0962e-04,  ...,  5.5771e-04,\n",
       "           -6.6285e-03, -3.9882e-03],\n",
       "          [ 3.3248e-03, -1.7793e-03, -3.7289e-03,  ...,  1.6753e-03,\n",
       "            5.3423e-04,  4.7356e-05],\n",
       "          [-2.0546e-03, -9.9105e-03, -8.6719e-03,  ...,  8.2818e-03,\n",
       "            2.0287e-03, -2.6160e-03]],\n",
       "\n",
       "         [[ 9.1460e-03,  1.9795e-02,  2.1817e-02,  ...,  8.0892e-03,\n",
       "            1.0683e-02,  1.8909e-02],\n",
       "          [ 1.9685e-02,  8.6929e-03,  8.4845e-03,  ...,  1.1345e-02,\n",
       "            8.1196e-03,  1.8704e-02],\n",
       "          [ 7.6399e-03, -4.0746e-03,  1.7637e-03,  ...,  5.2651e-03,\n",
       "           -3.1755e-03,  5.3184e-03],\n",
       "          ...,\n",
       "          [ 3.2362e-03,  3.4557e-03,  2.0291e-03,  ..., -1.8053e-03,\n",
       "           -2.4599e-03,  4.9196e-03],\n",
       "          [ 1.6682e-02,  9.2470e-03,  6.9501e-03,  ...,  8.4090e-03,\n",
       "            9.3967e-03,  1.5295e-02],\n",
       "          [ 3.3823e-03,  3.9678e-04, -1.2765e-03,  ...,  1.0741e-02,\n",
       "            8.7188e-03,  7.7513e-03]],\n",
       "\n",
       "         [[-6.5223e-03, -2.2716e-04,  4.5419e-03,  ...,  4.3663e-03,\n",
       "           -4.4146e-03,  5.1815e-03],\n",
       "          [ 4.3692e-03, -9.4791e-03, -5.4873e-03,  ..., -6.1034e-04,\n",
       "           -1.0230e-02,  6.8884e-04],\n",
       "          [ 1.6400e-03, -8.0415e-03, -4.8580e-04,  ...,  5.6003e-04,\n",
       "           -9.9317e-03, -3.7330e-03],\n",
       "          ...,\n",
       "          [-5.6762e-03, -6.9360e-03,  1.1010e-03,  ...,  2.0443e-03,\n",
       "           -7.3749e-03, -4.5795e-04],\n",
       "          [-6.4955e-03, -1.3482e-02, -7.7439e-03,  ...,  6.1421e-04,\n",
       "           -7.8671e-03,  2.0326e-04],\n",
       "          [-1.6992e-02, -1.9719e-02, -1.4852e-02,  ...,  1.1237e-03,\n",
       "           -1.3371e-02, -7.2915e-03]]]])"
      ]
     },
     "execution_count": 13,
     "metadata": {},
     "output_type": "execute_result"
    }
   ],
   "source": [
    "list(vit.patch_embedding.parameters())[0]"
   ]
  },
  {
   "cell_type": "code",
   "execution_count": 14,
   "id": "b2973859-79e1-4499-a0fb-b3056d846c24",
   "metadata": {},
   "outputs": [
    {
     "data": {
      "text/plain": [
       "Parameter containing:\n",
       "tensor([[-0.0871,  0.0813,  0.0376,  ..., -0.0113,  0.0165, -0.0697],\n",
       "        [-0.0657,  0.0575,  0.0863,  ...,  0.0762,  0.0082,  0.0395],\n",
       "        [ 0.0582, -0.0868, -0.0620,  ..., -0.0386,  0.0801,  0.0522],\n",
       "        ...,\n",
       "        [-0.0777,  0.0180,  0.0338,  ..., -0.0216,  0.0589, -0.0549],\n",
       "        [-0.0488,  0.0436, -0.0851,  ...,  0.0524, -0.0657,  0.0541],\n",
       "        [-0.0510, -0.0265,  0.0577,  ..., -0.0110, -0.0380, -0.0638]],\n",
       "       requires_grad=True)"
      ]
     },
     "execution_count": 14,
     "metadata": {},
     "output_type": "execute_result"
    }
   ],
   "source": [
    "list(vit.fc.parameters())[0]"
   ]
  },
  {
   "cell_type": "markdown",
   "id": "domestic-channels",
   "metadata": {},
   "source": [
    "## 2. Train Dataset 정의"
   ]
  },
  {
   "cell_type": "code",
   "execution_count": 15,
   "id": "extensive-north",
   "metadata": {},
   "outputs": [],
   "source": [
    "class MyDataset(Dataset):\n",
    "    def __init__(self, df, transform):\n",
    "        self.img_paths = df['image_path']\n",
    "        self.transform = transform\n",
    "        self.y = df['target']\n",
    "\n",
    "    def __len__(self):\n",
    "        return len(self.img_paths)\n",
    "    \n",
    "    def __getitem__(self, idx):\n",
    "        image = np.array(Image.open(self.img_paths.iloc[idx]))\n",
    "        label = self.y.iloc[idx]\n",
    "\n",
    "        if self.transform:\n",
    "            image = self.transform(image=image)\n",
    "            image = image['image']\n",
    "        return image, torch.tensor(label)"
   ]
  },
  {
   "cell_type": "code",
   "execution_count": 16,
   "id": "ed8aff6b-4bf3-4be4-a0dd-03a101a5e6f3",
   "metadata": {},
   "outputs": [],
   "source": [
    "df = pd.read_csv(os.path.join(cfg.train_dir, 'train_with_label.csv'))"
   ]
  },
  {
   "cell_type": "code",
   "execution_count": 17,
   "id": "f935da08-8895-4262-aaa8-129aafa61fbd",
   "metadata": {},
   "outputs": [
    {
     "data": {
      "text/plain": [
       "((13230, 7), (5670, 7))"
      ]
     },
     "execution_count": 17,
     "metadata": {},
     "output_type": "execute_result"
    }
   ],
   "source": [
    "train_df, valid_df = train_test_split(df, test_size=0.3, stratify=df['target'], \n",
    "                                      shuffle=True, random_state=2021)\n",
    "train_df.shape, valid_df.shape"
   ]
  },
  {
   "cell_type": "markdown",
   "id": "050172f0-02a6-4c9d-bca4-ef04e64ee270",
   "metadata": {},
   "source": [
    "# train_df 이미지의 pixel 값의 mean & std"
   ]
  },
  {
   "cell_type": "markdown",
   "id": "88a44b53-d5f9-481d-a47c-7360b0a958b5",
   "metadata": {},
   "source": [
    "images_info = {'height': [], 'width': [], 'means': [], 'stds': []}\n",
    "for i, image_path in enumerate(tqdm(train_df.image_path)):\n",
    "    img = np.array(Image.open(image_path))\n",
    "    h, w, _ = img.shape\n",
    "    images_info['height'].append(h)\n",
    "    images_info['width'].append(w)\n",
    "    images_info['means'].append(img.mean(axis=(0, 1)))\n",
    "    images_info['stds'].append(img.std(axis=(0, 1)))"
   ]
  },
  {
   "cell_type": "markdown",
   "id": "9468e83a-97c2-413d-babd-00b37d13a44d",
   "metadata": {},
   "source": [
    "print('Train Data')\n",
    "\n",
    "print(f'Minimum height for dataset is {np.min(images_info[\"height\"])}')\n",
    "print(f'Maximum height for dataset is {np.max(images_info[\"height\"])}')\n",
    "print(f'Average height for dataset is {int(np.mean(images_info[\"height\"]))}')\n",
    "print(f'Minimum width for dataset is {np.min(images_info[\"width\"])}')\n",
    "print(f'Maximum width for dataset is {np.max(images_info[\"width\"])}')\n",
    "print(f'Average width for dataset is {int(np.mean(images_info[\"width\"]))}')\n",
    "\n",
    "print(f'RGB Mean: {np.mean(images_info[\"means\"], axis=0) / 255.}')\n",
    "print(f'RGB Standard Deviation: {np.mean(images_info[\"stds\"], axis=0) / 255.}')"
   ]
  },
  {
   "cell_type": "markdown",
   "id": "00319887-1434-4a2b-9817-1fc0b8da1d54",
   "metadata": {},
   "source": [
    "`!pip install -U albumentations==0.5.2`"
   ]
  },
  {
   "cell_type": "code",
   "execution_count": 18,
   "id": "6e7cd653-b5e1-4aa9-9fe1-e56f1ea7d503",
   "metadata": {},
   "outputs": [],
   "source": [
    "mean_list = [0.56074416, 0.52454219, 0.50188343]\n",
    "std_list = [0.23304677, 0.24291714, 0.24565602]"
   ]
  },
  {
   "cell_type": "code",
   "execution_count": 19,
   "id": "0928239c-354a-4412-9e89-a9efc08ae27f",
   "metadata": {},
   "outputs": [],
   "source": [
    "train_transform = albumentations.Compose([\n",
    "    albumentations.Resize(IMAGE_SIZE, IMAGE_SIZE, p=1.0),\n",
    "    albumentations.HorizontalFlip(p=0.5),\n",
    "    albumentations.ShiftScaleRotate(p=0.5),\n",
    "    albumentations.HueSaturationValue(hue_shift_limit=0.2, sat_shift_limit=0.2, val_shift_limit=0.2, p=0.5),\n",
    "    albumentations.RandomBrightnessContrast(brightness_limit=(-0.1, 0.1), contrast_limit=(-0.1, 0.1), p=0.5),\n",
    "    albumentations.GaussNoise(p=0.5),\n",
    "    albumentations.Normalize(mean=mean_list, std=std_list, max_pixel_value=255.0, p=1.0),\n",
    "    ToTensorV2(p=1.0),\n",
    "])\n",
    "valid_transform = albumentations.Compose([\n",
    "    albumentations.Resize(IMAGE_SIZE, IMAGE_SIZE),\n",
    "    albumentations.Normalize(mean=mean_list, std=std_list, max_pixel_value=255.0, p=1.0),\n",
    "    ToTensorV2(p=1.0),\n",
    "])"
   ]
  },
  {
   "cell_type": "code",
   "execution_count": 20,
   "id": "3e92a8f3-6d6d-418e-a295-c43adcc823bf",
   "metadata": {},
   "outputs": [
    {
     "data": {
      "text/plain": [
       "(13230, 5670)"
      ]
     },
     "execution_count": 20,
     "metadata": {},
     "output_type": "execute_result"
    }
   ],
   "source": [
    "train_dataset = MyDataset(train_df, train_transform)\n",
    "valid_dataset = MyDataset(valid_df, valid_transform)\n",
    "len(train_dataset), len(valid_dataset)"
   ]
  },
  {
   "cell_type": "markdown",
   "id": "8de510e9-e3b5-4131-963c-c720318c2fe6",
   "metadata": {},
   "source": [
    "## 3. Train DataLoader 정의"
   ]
  },
  {
   "cell_type": "code",
   "execution_count": 21,
   "id": "420c29dc-15aa-4aa5-95cb-a99926918517",
   "metadata": {},
   "outputs": [],
   "source": [
    "train_loader = torch.utils.data.DataLoader(train_dataset, \n",
    "                                           batch_size=BATCH_SIZE,\n",
    "                                           shuffle=True,\n",
    "                                           num_workers=2)\n",
    "valid_loader = torch.utils.data.DataLoader(valid_dataset, \n",
    "                                           batch_size=BATCH_SIZE,\n",
    "                                           shuffle=True,\n",
    "                                           num_workers=2)"
   ]
  },
  {
   "cell_type": "markdown",
   "id": "10cedd39-f97e-49c1-8279-5725d0bf8e0a",
   "metadata": {},
   "source": [
    "## 4. Criterion & Optimizer & lr_scheduler & EarlyStopping 정의"
   ]
  },
  {
   "cell_type": "code",
   "execution_count": 22,
   "id": "e91324d6-68eb-482e-90da-2b5f955dece7",
   "metadata": {},
   "outputs": [],
   "source": [
    "class EarlyStopping:\n",
    "    \"\"\"Early stops the training if validation loss doesn't improve after a given patience.\"\"\"\n",
    "    def __init__(self, patience=7, verbose=False):\n",
    "        \"\"\"\n",
    "        Args:\n",
    "            patience (int): How long to wait after last time validation loss improved.\n",
    "                            Default: 7\n",
    "            verbose (bool): If True, prints a message for each validation loss improvement. \n",
    "                            Default: False\n",
    "        \"\"\"\n",
    "        self.patience = patience\n",
    "        self.verbose = verbose\n",
    "        self.counter = 0\n",
    "        self.best_score = None\n",
    "        self.early_stop = False\n",
    "        self.val_f1_score_max = -np.Inf\n",
    "\n",
    "    def __call__(self, val_f1_score, model):\n",
    "\n",
    "        score = val_f1_score\n",
    "\n",
    "        if self.best_score is None:\n",
    "            self.best_score = score\n",
    "            self.save_checkpoint(val_f1_score, model)\n",
    "        elif score < self.best_score:\n",
    "            self.counter += 1\n",
    "            print(f'EarlyStopping counter: {self.counter} out of {self.patience}')\n",
    "            if self.counter >= self.patience:\n",
    "                self.early_stop = True\n",
    "        else:\n",
    "            self.best_score = score\n",
    "            self.save_checkpoint(val_f1_score, model)\n",
    "            self.counter = 0\n",
    "\n",
    "    def save_checkpoint(self, val_f1_score, model):\n",
    "        '''Saves model when validation f1_score increase.'''\n",
    "        if self.verbose:\n",
    "            print(f'Validation f1_score increased ({self.val_f1_score_max:.6f} --> {val_f1_score:.6f}).  Saving model ...')\n",
    "        torch.save(model.state_dict(), f'{os.path.join(cfg.model_save_path, \"VIT\")}/checkpoint.pt')\n",
    "        self.val_f1_score_max = val_f1_score"
   ]
  },
  {
   "cell_type": "code",
   "execution_count": 23,
   "id": "f1481076-e8eb-4641-b55d-221402e7a096",
   "metadata": {},
   "outputs": [],
   "source": [
    "model = vit.to(device)\n",
    "\n",
    "# weight = torch.tensor(len(train_df) // train_df.target.value_counts()).to(device)\n",
    "criterion = nn.CrossEntropyLoss()\n",
    "optimizer = optim.Adam(model.parameters(), lr=LEARNING_RATE)\n",
    "exp_lr_scheduler = lr_scheduler.StepLR(optimizer, step_size=7, gamma=0.1)\n",
    "earlystop = EarlyStopping(patience=PATIENCE, verbose = True)"
   ]
  },
  {
   "cell_type": "markdown",
   "id": "21ecfc5b-203c-4f84-8323-e93e1f62e01f",
   "metadata": {},
   "source": [
    "## 5. Train"
   ]
  },
  {
   "cell_type": "code",
   "execution_count": 24,
   "id": "bb416fb1-87f0-4545-8299-5cc9b36569a3",
   "metadata": {
    "scrolled": true,
    "tags": []
   },
   "outputs": [
    {
     "name": "stderr",
     "output_type": "stream",
     "text": [
      "Epoch 1/50 | loss : 1.7552 | F1_score : 52.1229: 100%|██████████| 133/133 [02:49<00:00,  1.27s/it]\n",
      "  0%|          | 0/57 [00:00<?, ?it/s]"
     ]
    },
    {
     "name": "stdout",
     "output_type": "stream",
     "text": [
      "Train Loss : 0.0134, Accuracy : 0.5647, F1_score : 0.3965\n"
     ]
    },
    {
     "name": "stderr",
     "output_type": "stream",
     "text": [
      "Epoch 1/50 | loss : 0.4646 | F1_score : 31.1935: 100%|██████████| 57/57 [01:08<00:00,  1.20s/it]\n"
     ]
    },
    {
     "name": "stdout",
     "output_type": "stream",
     "text": [
      "Validation f1_score increased (-inf --> 0.554410).  Saving model ...\n"
     ]
    },
    {
     "name": "stderr",
     "output_type": "stream",
     "text": [
      "  0%|          | 0/133 [00:00<?, ?it/s]"
     ]
    },
    {
     "name": "stdout",
     "output_type": "stream",
     "text": [
      "Validation Loss : 0.0084, Accuracy : 0.7219, F1_score : 0.5544\n"
     ]
    },
    {
     "name": "stderr",
     "output_type": "stream",
     "text": [
      "Epoch 2/50 | loss : 0.9944 | F1_score : 78.9918: 100%|██████████| 133/133 [02:48<00:00,  1.27s/it]\n",
      "  0%|          | 0/57 [00:00<?, ?it/s]"
     ]
    },
    {
     "name": "stdout",
     "output_type": "stream",
     "text": [
      "Train Loss : 0.0077, Accuracy : 0.7527, F1_score : 0.5976\n"
     ]
    },
    {
     "name": "stderr",
     "output_type": "stream",
     "text": [
      "Epoch 2/50 | loss : 0.3588 | F1_score : 34.9977: 100%|██████████| 57/57 [01:08<00:00,  1.20s/it]\n"
     ]
    },
    {
     "name": "stdout",
     "output_type": "stream",
     "text": [
      "Validation f1_score increased (0.554410 --> 0.625091).  Saving model ...\n"
     ]
    },
    {
     "name": "stderr",
     "output_type": "stream",
     "text": [
      "  0%|          | 0/133 [00:00<?, ?it/s]"
     ]
    },
    {
     "name": "stdout",
     "output_type": "stream",
     "text": [
      "Validation Loss : 0.0064, Accuracy : 0.7890, F1_score : 0.6251\n"
     ]
    },
    {
     "name": "stderr",
     "output_type": "stream",
     "text": [
      "Epoch 3/50 | loss : 0.8169 | F1_score : 87.9329: 100%|██████████| 133/133 [02:48<00:00,  1.27s/it]\n",
      "  0%|          | 0/57 [00:00<?, ?it/s]"
     ]
    },
    {
     "name": "stdout",
     "output_type": "stream",
     "text": [
      "Train Loss : 0.0063, Accuracy : 0.7987, F1_score : 0.6664\n"
     ]
    },
    {
     "name": "stderr",
     "output_type": "stream",
     "text": [
      "Epoch 3/50 | loss : 0.3266 | F1_score : 36.2787: 100%|██████████| 57/57 [01:07<00:00,  1.19s/it]\n"
     ]
    },
    {
     "name": "stdout",
     "output_type": "stream",
     "text": [
      "Validation f1_score increased (0.625091 --> 0.648840).  Saving model ...\n"
     ]
    },
    {
     "name": "stderr",
     "output_type": "stream",
     "text": [
      "  0%|          | 0/133 [00:00<?, ?it/s]"
     ]
    },
    {
     "name": "stdout",
     "output_type": "stream",
     "text": [
      "Validation Loss : 0.0059, Accuracy : 0.8088, F1_score : 0.6488\n"
     ]
    },
    {
     "name": "stderr",
     "output_type": "stream",
     "text": [
      "Epoch 4/50 | loss : 0.7411 | F1_score : 90.9676: 100%|██████████| 133/133 [02:48<00:00,  1.27s/it]\n",
      "  0%|          | 0/57 [00:00<?, ?it/s]"
     ]
    },
    {
     "name": "stdout",
     "output_type": "stream",
     "text": [
      "Train Loss : 0.0057, Accuracy : 0.8140, F1_score : 0.6912\n"
     ]
    },
    {
     "name": "stderr",
     "output_type": "stream",
     "text": [
      "Epoch 4/50 | loss : 0.2926 | F1_score : 38.8923: 100%|██████████| 57/57 [01:08<00:00,  1.20s/it]\n"
     ]
    },
    {
     "name": "stdout",
     "output_type": "stream",
     "text": [
      "Validation f1_score increased (0.648840 --> 0.694572).  Saving model ...\n"
     ]
    },
    {
     "name": "stderr",
     "output_type": "stream",
     "text": [
      "  0%|          | 0/133 [00:00<?, ?it/s]"
     ]
    },
    {
     "name": "stdout",
     "output_type": "stream",
     "text": [
      "Validation Loss : 0.0053, Accuracy : 0.8263, F1_score : 0.6946\n"
     ]
    },
    {
     "name": "stderr",
     "output_type": "stream",
     "text": [
      "Epoch 5/50 | loss : 0.6958 | F1_score : 93.5778: 100%|██████████| 133/133 [02:49<00:00,  1.27s/it]\n",
      "  0%|          | 0/57 [00:00<?, ?it/s]"
     ]
    },
    {
     "name": "stdout",
     "output_type": "stream",
     "text": [
      "Train Loss : 0.0054, Accuracy : 0.8203, F1_score : 0.7093\n"
     ]
    },
    {
     "name": "stderr",
     "output_type": "stream",
     "text": [
      "Epoch 5/50 | loss : 0.2852 | F1_score : 38.2954: 100%|██████████| 57/57 [01:08<00:00,  1.20s/it]\n",
      "  0%|          | 0/133 [00:00<?, ?it/s]"
     ]
    },
    {
     "name": "stdout",
     "output_type": "stream",
     "text": [
      "EarlyStopping counter: 1 out of 7\n",
      "Validation Loss : 0.0051, Accuracy : 0.8245, F1_score : 0.6842\n"
     ]
    },
    {
     "name": "stderr",
     "output_type": "stream",
     "text": [
      "Epoch 6/50 | loss : 0.6417 | F1_score : 94.7303: 100%|██████████| 133/133 [02:48<00:00,  1.27s/it]\n",
      "  0%|          | 0/57 [00:00<?, ?it/s]"
     ]
    },
    {
     "name": "stdout",
     "output_type": "stream",
     "text": [
      "Train Loss : 0.0050, Accuracy : 0.8350, F1_score : 0.7166\n"
     ]
    },
    {
     "name": "stderr",
     "output_type": "stream",
     "text": [
      "Epoch 6/50 | loss : 0.2692 | F1_score : 38.4003: 100%|██████████| 57/57 [01:08<00:00,  1.20s/it]\n",
      "  0%|          | 0/133 [00:00<?, ?it/s]"
     ]
    },
    {
     "name": "stdout",
     "output_type": "stream",
     "text": [
      "EarlyStopping counter: 2 out of 7\n",
      "Validation Loss : 0.0049, Accuracy : 0.8319, F1_score : 0.6822\n"
     ]
    },
    {
     "name": "stderr",
     "output_type": "stream",
     "text": [
      "Epoch 7/50 | loss : 0.6200 | F1_score : 96.9841: 100%|██████████| 133/133 [02:48<00:00,  1.26s/it]\n",
      "  0%|          | 0/57 [00:00<?, ?it/s]"
     ]
    },
    {
     "name": "stdout",
     "output_type": "stream",
     "text": [
      "Train Loss : 0.0049, Accuracy : 0.8412, F1_score : 0.7339\n"
     ]
    },
    {
     "name": "stderr",
     "output_type": "stream",
     "text": [
      "Epoch 7/50 | loss : 0.2604 | F1_score : 38.9921: 100%|██████████| 57/57 [01:08<00:00,  1.20s/it]\n"
     ]
    },
    {
     "name": "stdout",
     "output_type": "stream",
     "text": [
      "Validation f1_score increased (0.694572 --> 0.699812).  Saving model ...\n"
     ]
    },
    {
     "name": "stderr",
     "output_type": "stream",
     "text": [
      "  0%|          | 0/133 [00:00<?, ?it/s]"
     ]
    },
    {
     "name": "stdout",
     "output_type": "stream",
     "text": [
      "Validation Loss : 0.0046, Accuracy : 0.8345, F1_score : 0.6998\n"
     ]
    },
    {
     "name": "stderr",
     "output_type": "stream",
     "text": [
      "Epoch 8/50 | loss : 0.5811 | F1_score : 100.2067: 100%|██████████| 133/133 [02:48<00:00,  1.27s/it]\n",
      "  0%|          | 0/57 [00:00<?, ?it/s]"
     ]
    },
    {
     "name": "stdout",
     "output_type": "stream",
     "text": [
      "Train Loss : 0.0045, Accuracy : 0.8526, F1_score : 0.7593\n"
     ]
    },
    {
     "name": "stderr",
     "output_type": "stream",
     "text": [
      "Epoch 8/50 | loss : 0.2502 | F1_score : 39.1528: 100%|██████████| 57/57 [01:08<00:00,  1.19s/it]\n"
     ]
    },
    {
     "name": "stdout",
     "output_type": "stream",
     "text": [
      "Validation f1_score increased (0.699812 --> 0.700745).  Saving model ...\n"
     ]
    },
    {
     "name": "stderr",
     "output_type": "stream",
     "text": [
      "  0%|          | 0/133 [00:00<?, ?it/s]"
     ]
    },
    {
     "name": "stdout",
     "output_type": "stream",
     "text": [
      "Validation Loss : 0.0045, Accuracy : 0.8419, F1_score : 0.7007\n"
     ]
    },
    {
     "name": "stderr",
     "output_type": "stream",
     "text": [
      "Epoch 9/50 | loss : 0.5831 | F1_score : 99.1084: 100%|██████████| 133/133 [02:48<00:00,  1.27s/it]\n",
      "  0%|          | 0/57 [00:00<?, ?it/s]"
     ]
    },
    {
     "name": "stdout",
     "output_type": "stream",
     "text": [
      "Train Loss : 0.0045, Accuracy : 0.8538, F1_score : 0.7523\n"
     ]
    },
    {
     "name": "stderr",
     "output_type": "stream",
     "text": [
      "Epoch 9/50 | loss : 0.2505 | F1_score : 39.0250: 100%|██████████| 57/57 [01:08<00:00,  1.20s/it]\n",
      "  0%|          | 0/133 [00:00<?, ?it/s]"
     ]
    },
    {
     "name": "stdout",
     "output_type": "stream",
     "text": [
      "EarlyStopping counter: 1 out of 7\n",
      "Validation Loss : 0.0045, Accuracy : 0.8412, F1_score : 0.6961\n"
     ]
    },
    {
     "name": "stderr",
     "output_type": "stream",
     "text": [
      "Epoch 10/50 | loss : 0.5703 | F1_score : 99.4705: 100%|██████████| 133/133 [02:48<00:00,  1.26s/it]\n",
      "  0%|          | 0/57 [00:00<?, ?it/s]"
     ]
    },
    {
     "name": "stdout",
     "output_type": "stream",
     "text": [
      "Train Loss : 0.0044, Accuracy : 0.8554, F1_score : 0.7536\n"
     ]
    },
    {
     "name": "stderr",
     "output_type": "stream",
     "text": [
      "Epoch 10/50 | loss : 0.2484 | F1_score : 39.1079: 100%|██████████| 57/57 [01:08<00:00,  1.20s/it]\n",
      "  0%|          | 0/133 [00:00<?, ?it/s]"
     ]
    },
    {
     "name": "stdout",
     "output_type": "stream",
     "text": [
      "EarlyStopping counter: 2 out of 7\n",
      "Validation Loss : 0.0045, Accuracy : 0.8406, F1_score : 0.6964\n"
     ]
    },
    {
     "name": "stderr",
     "output_type": "stream",
     "text": [
      "Epoch 11/50 | loss : 0.5806 | F1_score : 99.0381: 100%|██████████| 133/133 [02:48<00:00,  1.27s/it]\n",
      "  0%|          | 0/57 [00:00<?, ?it/s]"
     ]
    },
    {
     "name": "stdout",
     "output_type": "stream",
     "text": [
      "Train Loss : 0.0045, Accuracy : 0.8531, F1_score : 0.7510\n"
     ]
    },
    {
     "name": "stderr",
     "output_type": "stream",
     "text": [
      "Epoch 11/50 | loss : 0.2452 | F1_score : 39.3474: 100%|██████████| 57/57 [01:08<00:00,  1.20s/it]\n"
     ]
    },
    {
     "name": "stdout",
     "output_type": "stream",
     "text": [
      "Validation f1_score increased (0.700745 --> 0.700801).  Saving model ...\n"
     ]
    },
    {
     "name": "stderr",
     "output_type": "stream",
     "text": [
      "  0%|          | 0/133 [00:00<?, ?it/s]"
     ]
    },
    {
     "name": "stdout",
     "output_type": "stream",
     "text": [
      "Validation Loss : 0.0045, Accuracy : 0.8435, F1_score : 0.7008\n"
     ]
    },
    {
     "name": "stderr",
     "output_type": "stream",
     "text": [
      "Epoch 12/50 | loss : 0.5689 | F1_score : 100.0183: 100%|██████████| 133/133 [02:48<00:00,  1.26s/it]\n",
      "  0%|          | 0/57 [00:00<?, ?it/s]"
     ]
    },
    {
     "name": "stdout",
     "output_type": "stream",
     "text": [
      "Train Loss : 0.0044, Accuracy : 0.8579, F1_score : 0.7592\n"
     ]
    },
    {
     "name": "stderr",
     "output_type": "stream",
     "text": [
      "Epoch 12/50 | loss : 0.2464 | F1_score : 38.5133: 100%|██████████| 57/57 [01:08<00:00,  1.20s/it]\n",
      "  0%|          | 0/133 [00:00<?, ?it/s]"
     ]
    },
    {
     "name": "stdout",
     "output_type": "stream",
     "text": [
      "EarlyStopping counter: 1 out of 7\n",
      "Validation Loss : 0.0044, Accuracy : 0.8431, F1_score : 0.6895\n"
     ]
    },
    {
     "name": "stderr",
     "output_type": "stream",
     "text": [
      "Epoch 13/50 | loss : 0.5602 | F1_score : 99.2823: 100%|██████████| 133/133 [02:48<00:00,  1.26s/it]\n",
      "  0%|          | 0/57 [00:00<?, ?it/s]"
     ]
    },
    {
     "name": "stdout",
     "output_type": "stream",
     "text": [
      "Train Loss : 0.0043, Accuracy : 0.8567, F1_score : 0.7524\n"
     ]
    },
    {
     "name": "stderr",
     "output_type": "stream",
     "text": [
      "Epoch 13/50 | loss : 0.2457 | F1_score : 38.9835: 100%|██████████| 57/57 [01:08<00:00,  1.20s/it]\n",
      "  0%|          | 0/133 [00:00<?, ?it/s]"
     ]
    },
    {
     "name": "stdout",
     "output_type": "stream",
     "text": [
      "EarlyStopping counter: 2 out of 7\n",
      "Validation Loss : 0.0044, Accuracy : 0.8427, F1_score : 0.6977\n"
     ]
    },
    {
     "name": "stderr",
     "output_type": "stream",
     "text": [
      "Epoch 14/50 | loss : 0.5654 | F1_score : 99.8861: 100%|██████████| 133/133 [02:47<00:00,  1.26s/it]\n",
      "  0%|          | 0/57 [00:00<?, ?it/s]"
     ]
    },
    {
     "name": "stdout",
     "output_type": "stream",
     "text": [
      "Train Loss : 0.0044, Accuracy : 0.8531, F1_score : 0.7573\n"
     ]
    },
    {
     "name": "stderr",
     "output_type": "stream",
     "text": [
      "Epoch 14/50 | loss : 0.2438 | F1_score : 39.3470: 100%|██████████| 57/57 [01:08<00:00,  1.20s/it]\n"
     ]
    },
    {
     "name": "stdout",
     "output_type": "stream",
     "text": [
      "Validation f1_score increased (0.700801 --> 0.705229).  Saving model ...\n"
     ]
    },
    {
     "name": "stderr",
     "output_type": "stream",
     "text": [
      "  0%|          | 0/133 [00:00<?, ?it/s]"
     ]
    },
    {
     "name": "stdout",
     "output_type": "stream",
     "text": [
      "Validation Loss : 0.0044, Accuracy : 0.8468, F1_score : 0.7052\n"
     ]
    },
    {
     "name": "stderr",
     "output_type": "stream",
     "text": [
      "Epoch 15/50 | loss : 0.5601 | F1_score : 99.9362: 100%|██████████| 133/133 [02:48<00:00,  1.27s/it]\n",
      "  0%|          | 0/57 [00:00<?, ?it/s]"
     ]
    },
    {
     "name": "stdout",
     "output_type": "stream",
     "text": [
      "Train Loss : 0.0043, Accuracy : 0.8577, F1_score : 0.7574\n"
     ]
    },
    {
     "name": "stderr",
     "output_type": "stream",
     "text": [
      "Epoch 15/50 | loss : 0.2434 | F1_score : 39.1012: 100%|██████████| 57/57 [01:08<00:00,  1.20s/it]\n",
      "  0%|          | 0/133 [00:00<?, ?it/s]"
     ]
    },
    {
     "name": "stdout",
     "output_type": "stream",
     "text": [
      "EarlyStopping counter: 1 out of 7\n",
      "Validation Loss : 0.0044, Accuracy : 0.8452, F1_score : 0.6992\n"
     ]
    },
    {
     "name": "stderr",
     "output_type": "stream",
     "text": [
      "Epoch 16/50 | loss : 0.5639 | F1_score : 100.1781: 100%|██████████| 133/133 [02:48<00:00,  1.27s/it]\n",
      "  0%|          | 0/57 [00:00<?, ?it/s]"
     ]
    },
    {
     "name": "stdout",
     "output_type": "stream",
     "text": [
      "Train Loss : 0.0043, Accuracy : 0.8557, F1_score : 0.7593\n"
     ]
    },
    {
     "name": "stderr",
     "output_type": "stream",
     "text": [
      "Epoch 16/50 | loss : 0.2448 | F1_score : 39.4777: 100%|██████████| 57/57 [01:08<00:00,  1.20s/it]\n"
     ]
    },
    {
     "name": "stdout",
     "output_type": "stream",
     "text": [
      "Validation f1_score increased (0.705229 --> 0.705884).  Saving model ...\n"
     ]
    },
    {
     "name": "stderr",
     "output_type": "stream",
     "text": [
      "  0%|          | 0/133 [00:00<?, ?it/s]"
     ]
    },
    {
     "name": "stdout",
     "output_type": "stream",
     "text": [
      "Validation Loss : 0.0044, Accuracy : 0.8451, F1_score : 0.7059\n"
     ]
    },
    {
     "name": "stderr",
     "output_type": "stream",
     "text": [
      "Epoch 17/50 | loss : 0.5617 | F1_score : 100.5865: 100%|██████████| 133/133 [02:48<00:00,  1.27s/it]\n",
      "  0%|          | 0/57 [00:00<?, ?it/s]"
     ]
    },
    {
     "name": "stdout",
     "output_type": "stream",
     "text": [
      "Train Loss : 0.0043, Accuracy : 0.8578, F1_score : 0.7617\n"
     ]
    },
    {
     "name": "stderr",
     "output_type": "stream",
     "text": [
      "Epoch 17/50 | loss : 0.2436 | F1_score : 38.8625: 100%|██████████| 57/57 [01:08<00:00,  1.20s/it]\n",
      "  0%|          | 0/133 [00:00<?, ?it/s]"
     ]
    },
    {
     "name": "stdout",
     "output_type": "stream",
     "text": [
      "EarlyStopping counter: 1 out of 7\n",
      "Validation Loss : 0.0044, Accuracy : 0.8452, F1_score : 0.6950\n"
     ]
    },
    {
     "name": "stderr",
     "output_type": "stream",
     "text": [
      "Epoch 18/50 | loss : 0.5609 | F1_score : 100.6124: 100%|██████████| 133/133 [02:48<00:00,  1.26s/it]\n",
      "  0%|          | 0/57 [00:00<?, ?it/s]"
     ]
    },
    {
     "name": "stdout",
     "output_type": "stream",
     "text": [
      "Train Loss : 0.0043, Accuracy : 0.8580, F1_score : 0.7634\n"
     ]
    },
    {
     "name": "stderr",
     "output_type": "stream",
     "text": [
      "Epoch 18/50 | loss : 0.2445 | F1_score : 39.0279: 100%|██████████| 57/57 [01:07<00:00,  1.19s/it]\n",
      "  0%|          | 0/133 [00:00<?, ?it/s]"
     ]
    },
    {
     "name": "stdout",
     "output_type": "stream",
     "text": [
      "EarlyStopping counter: 2 out of 7\n",
      "Validation Loss : 0.0044, Accuracy : 0.8453, F1_score : 0.6968\n"
     ]
    },
    {
     "name": "stderr",
     "output_type": "stream",
     "text": [
      "Epoch 19/50 | loss : 0.5567 | F1_score : 100.1400: 100%|██████████| 133/133 [02:48<00:00,  1.27s/it]\n",
      "  0%|          | 0/57 [00:00<?, ?it/s]"
     ]
    },
    {
     "name": "stdout",
     "output_type": "stream",
     "text": [
      "Train Loss : 0.0043, Accuracy : 0.8553, F1_score : 0.7582\n"
     ]
    },
    {
     "name": "stderr",
     "output_type": "stream",
     "text": [
      "Epoch 19/50 | loss : 0.2433 | F1_score : 39.8908: 100%|██████████| 57/57 [01:08<00:00,  1.20s/it]\n"
     ]
    },
    {
     "name": "stdout",
     "output_type": "stream",
     "text": [
      "Validation f1_score increased (0.705884 --> 0.709232).  Saving model ...\n"
     ]
    },
    {
     "name": "stderr",
     "output_type": "stream",
     "text": [
      "  0%|          | 0/133 [00:00<?, ?it/s]"
     ]
    },
    {
     "name": "stdout",
     "output_type": "stream",
     "text": [
      "Validation Loss : 0.0044, Accuracy : 0.8452, F1_score : 0.7092\n"
     ]
    },
    {
     "name": "stderr",
     "output_type": "stream",
     "text": [
      "Epoch 20/50 | loss : 0.5589 | F1_score : 100.6183: 100%|██████████| 133/133 [02:49<00:00,  1.27s/it]\n",
      "  0%|          | 0/57 [00:00<?, ?it/s]"
     ]
    },
    {
     "name": "stdout",
     "output_type": "stream",
     "text": [
      "Train Loss : 0.0043, Accuracy : 0.8585, F1_score : 0.7629\n"
     ]
    },
    {
     "name": "stderr",
     "output_type": "stream",
     "text": [
      "Epoch 20/50 | loss : 0.2434 | F1_score : 39.0522: 100%|██████████| 57/57 [01:08<00:00,  1.19s/it]\n",
      "  0%|          | 0/133 [00:00<?, ?it/s]"
     ]
    },
    {
     "name": "stdout",
     "output_type": "stream",
     "text": [
      "EarlyStopping counter: 1 out of 7\n",
      "Validation Loss : 0.0044, Accuracy : 0.8460, F1_score : 0.6980\n"
     ]
    },
    {
     "name": "stderr",
     "output_type": "stream",
     "text": [
      "Epoch 21/50 | loss : 0.5612 | F1_score : 99.7499: 100%|██████████| 133/133 [02:48<00:00,  1.27s/it]\n",
      "  0%|          | 0/57 [00:00<?, ?it/s]"
     ]
    },
    {
     "name": "stdout",
     "output_type": "stream",
     "text": [
      "Train Loss : 0.0043, Accuracy : 0.8558, F1_score : 0.7552\n"
     ]
    },
    {
     "name": "stderr",
     "output_type": "stream",
     "text": [
      "Epoch 21/50 | loss : 0.2429 | F1_score : 39.2694: 100%|██████████| 57/57 [01:07<00:00,  1.19s/it]\n",
      "  0%|          | 0/133 [00:00<?, ?it/s]"
     ]
    },
    {
     "name": "stdout",
     "output_type": "stream",
     "text": [
      "EarlyStopping counter: 2 out of 7\n",
      "Validation Loss : 0.0044, Accuracy : 0.8453, F1_score : 0.7007\n"
     ]
    },
    {
     "name": "stderr",
     "output_type": "stream",
     "text": [
      "Epoch 22/50 | loss : 0.5597 | F1_score : 99.9855: 100%|██████████| 133/133 [02:49<00:00,  1.27s/it]\n",
      "  0%|          | 0/57 [00:00<?, ?it/s]"
     ]
    },
    {
     "name": "stdout",
     "output_type": "stream",
     "text": [
      "Train Loss : 0.0043, Accuracy : 0.8551, F1_score : 0.7571\n"
     ]
    },
    {
     "name": "stderr",
     "output_type": "stream",
     "text": [
      "Epoch 22/50 | loss : 0.2434 | F1_score : 39.6484: 100%|██████████| 57/57 [01:08<00:00,  1.20s/it]\n"
     ]
    },
    {
     "name": "stdout",
     "output_type": "stream",
     "text": [
      "Validation f1_score increased (0.709232 --> 0.709820).  Saving model ...\n"
     ]
    },
    {
     "name": "stderr",
     "output_type": "stream",
     "text": [
      "  0%|          | 0/133 [00:00<?, ?it/s]"
     ]
    },
    {
     "name": "stdout",
     "output_type": "stream",
     "text": [
      "Validation Loss : 0.0044, Accuracy : 0.8455, F1_score : 0.7098\n"
     ]
    },
    {
     "name": "stderr",
     "output_type": "stream",
     "text": [
      "Epoch 23/50 | loss : 0.5564 | F1_score : 100.9978: 100%|██████████| 133/133 [02:48<00:00,  1.27s/it]\n",
      "  0%|          | 0/57 [00:00<?, ?it/s]"
     ]
    },
    {
     "name": "stdout",
     "output_type": "stream",
     "text": [
      "Train Loss : 0.0042, Accuracy : 0.8594, F1_score : 0.7666\n"
     ]
    },
    {
     "name": "stderr",
     "output_type": "stream",
     "text": [
      "Epoch 23/50 | loss : 0.2426 | F1_score : 39.8115: 100%|██████████| 57/57 [01:08<00:00,  1.20s/it]\n"
     ]
    },
    {
     "name": "stdout",
     "output_type": "stream",
     "text": [
      "Validation f1_score increased (0.709820 --> 0.710353).  Saving model ...\n"
     ]
    },
    {
     "name": "stderr",
     "output_type": "stream",
     "text": [
      "  0%|          | 0/133 [00:00<?, ?it/s]"
     ]
    },
    {
     "name": "stdout",
     "output_type": "stream",
     "text": [
      "Validation Loss : 0.0044, Accuracy : 0.8451, F1_score : 0.7104\n"
     ]
    },
    {
     "name": "stderr",
     "output_type": "stream",
     "text": [
      "Epoch 24/50 | loss : 0.5529 | F1_score : 102.1019: 100%|██████████| 133/133 [02:48<00:00,  1.27s/it]\n",
      "  0%|          | 0/57 [00:00<?, ?it/s]"
     ]
    },
    {
     "name": "stdout",
     "output_type": "stream",
     "text": [
      "Train Loss : 0.0043, Accuracy : 0.8607, F1_score : 0.7725\n"
     ]
    },
    {
     "name": "stderr",
     "output_type": "stream",
     "text": [
      "Epoch 24/50 | loss : 0.2436 | F1_score : 39.4731: 100%|██████████| 57/57 [01:08<00:00,  1.20s/it]\n",
      "  0%|          | 0/133 [00:00<?, ?it/s]"
     ]
    },
    {
     "name": "stdout",
     "output_type": "stream",
     "text": [
      "EarlyStopping counter: 1 out of 7\n",
      "Validation Loss : 0.0044, Accuracy : 0.8455, F1_score : 0.7040\n"
     ]
    },
    {
     "name": "stderr",
     "output_type": "stream",
     "text": [
      "Epoch 25/50 | loss : 0.5695 | F1_score : 100.0440: 100%|██████████| 133/133 [02:48<00:00,  1.26s/it]\n",
      "  0%|          | 0/57 [00:00<?, ?it/s]"
     ]
    },
    {
     "name": "stdout",
     "output_type": "stream",
     "text": [
      "Train Loss : 0.0044, Accuracy : 0.8534, F1_score : 0.7574\n"
     ]
    },
    {
     "name": "stderr",
     "output_type": "stream",
     "text": [
      "Epoch 25/50 | loss : 0.2442 | F1_score : 38.9466: 100%|██████████| 57/57 [01:08<00:00,  1.20s/it]\n",
      "  0%|          | 0/133 [00:00<?, ?it/s]"
     ]
    },
    {
     "name": "stdout",
     "output_type": "stream",
     "text": [
      "EarlyStopping counter: 2 out of 7\n",
      "Validation Loss : 0.0044, Accuracy : 0.8458, F1_score : 0.6988\n"
     ]
    },
    {
     "name": "stderr",
     "output_type": "stream",
     "text": [
      "Epoch 26/50 | loss : 0.5642 | F1_score : 99.6678: 100%|██████████| 133/133 [02:48<00:00,  1.27s/it]\n",
      "  0%|          | 0/57 [00:00<?, ?it/s]"
     ]
    },
    {
     "name": "stdout",
     "output_type": "stream",
     "text": [
      "Train Loss : 0.0043, Accuracy : 0.8517, F1_score : 0.7546\n"
     ]
    },
    {
     "name": "stderr",
     "output_type": "stream",
     "text": [
      "Epoch 26/50 | loss : 0.2423 | F1_score : 39.6726: 100%|██████████| 57/57 [01:08<00:00,  1.20s/it]\n",
      "  0%|          | 0/133 [00:00<?, ?it/s]"
     ]
    },
    {
     "name": "stdout",
     "output_type": "stream",
     "text": [
      "EarlyStopping counter: 3 out of 7\n",
      "Validation Loss : 0.0044, Accuracy : 0.8450, F1_score : 0.7064\n"
     ]
    },
    {
     "name": "stderr",
     "output_type": "stream",
     "text": [
      "Epoch 27/50 | loss : 0.4275 | F1_score : 74.2567:  74%|███████▎  | 98/133 [02:06<00:45,  1.29s/it]\n"
     ]
    },
    {
     "ename": "KeyboardInterrupt",
     "evalue": "",
     "output_type": "error",
     "traceback": [
      "\u001b[0;31m---------------------------------------------------------------------------\u001b[0m",
      "\u001b[0;31mKeyboardInterrupt\u001b[0m                         Traceback (most recent call last)",
      "\u001b[0;32m<ipython-input-24-08a9a50e2061>\u001b[0m in \u001b[0;36m<module>\u001b[0;34m\u001b[0m\n\u001b[1;32m     31\u001b[0m         \u001b[0moptimizer\u001b[0m\u001b[0;34m.\u001b[0m\u001b[0mstep\u001b[0m\u001b[0;34m(\u001b[0m\u001b[0;34m)\u001b[0m\u001b[0;34m\u001b[0m\u001b[0;34m\u001b[0m\u001b[0m\n\u001b[1;32m     32\u001b[0m \u001b[0;34m\u001b[0m\u001b[0m\n\u001b[0;32m---> 33\u001b[0;31m         \u001b[0mtrain_running_loss\u001b[0m \u001b[0;34m+=\u001b[0m \u001b[0mloss\u001b[0m\u001b[0;34m.\u001b[0m\u001b[0mitem\u001b[0m\u001b[0;34m(\u001b[0m\u001b[0;34m)\u001b[0m \u001b[0;34m/\u001b[0m \u001b[0mlen\u001b[0m\u001b[0;34m(\u001b[0m\u001b[0my_batch\u001b[0m\u001b[0;34m)\u001b[0m\u001b[0;34m\u001b[0m\u001b[0;34m\u001b[0m\u001b[0m\n\u001b[0m\u001b[1;32m     34\u001b[0m         \u001b[0mtrain_running_acc\u001b[0m \u001b[0;34m+=\u001b[0m \u001b[0mtorch\u001b[0m\u001b[0;34m.\u001b[0m\u001b[0msum\u001b[0m\u001b[0;34m(\u001b[0m\u001b[0mpreds\u001b[0m \u001b[0;34m==\u001b[0m \u001b[0my_batch\u001b[0m\u001b[0;34m.\u001b[0m\u001b[0mdata\u001b[0m\u001b[0;34m)\u001b[0m \u001b[0;34m/\u001b[0m \u001b[0mlen\u001b[0m\u001b[0;34m(\u001b[0m\u001b[0my_batch\u001b[0m\u001b[0;34m)\u001b[0m\u001b[0;34m\u001b[0m\u001b[0;34m\u001b[0m\u001b[0m\n\u001b[1;32m     35\u001b[0m         train_running_epoch_f1 += f1_score(preds.cpu().numpy(), \n",
      "\u001b[0;31mKeyboardInterrupt\u001b[0m: "
     ]
    }
   ],
   "source": [
    "start = time.time()\n",
    "\n",
    "train_acc_history = []\n",
    "train_loss_history = []\n",
    "val_acc_history = []\n",
    "val_loss_history = []\n",
    "\n",
    "best_f1 = 0.0\n",
    "\n",
    "for epoch in range(1, EPOCHS + 1):\n",
    "    # Train phase\n",
    "    model.train()\n",
    "    \n",
    "    train_running_loss = 0\n",
    "    train_running_acc = 0\n",
    "    train_running_epoch_f1 = 0\n",
    "    \n",
    "    pbar = tqdm(train_loader)\n",
    "    for X_batch, y_batch in pbar:\n",
    "        pbar.set_description(f'Epoch {epoch}/{EPOCHS} | loss : {train_running_loss:.4f} | F1_score : {train_running_epoch_f1:.4f}')\n",
    "        \n",
    "        X_batch, y_batch = X_batch.to(device), y_batch.to(device).type(torch.cuda.LongTensor)\n",
    "        \n",
    "        optimizer.zero_grad()\n",
    "        \n",
    "        y_pred = model.forward(X_batch)\n",
    "        _, preds = torch.max(y_pred, 1)\n",
    "        loss = criterion(y_pred, y_batch)\n",
    "        \n",
    "        loss.backward()\n",
    "        optimizer.step()\n",
    "        \n",
    "        train_running_loss += loss.item() / len(y_batch)\n",
    "        train_running_acc += torch.sum(preds == y_batch.data) / len(y_batch)\n",
    "        train_running_epoch_f1 += f1_score(preds.cpu().numpy(), \n",
    "                                           y_batch.cpu().numpy(), average='macro')\n",
    "        \n",
    "    exp_lr_scheduler.step()\n",
    "    \n",
    "    train_epoch_loss = train_running_loss / len(train_loader)\n",
    "    train_epoch_acc = train_running_acc / len(train_loader)\n",
    "    train_epoch_f1 = train_running_epoch_f1 / len(train_loader)\n",
    "    \n",
    "    train_acc_history.append(train_epoch_acc)\n",
    "    train_loss_history.append(train_epoch_loss)\n",
    "    \n",
    "    print(f'Train Loss : {train_epoch_loss:.4f}, Accuracy : {train_epoch_acc:.4f}, F1_score : {train_epoch_f1:.4f}')\n",
    "    \n",
    "    # Validation pahse\n",
    "    model.eval()\n",
    "    \n",
    "    valid_running_loss = 0\n",
    "    valid_running_acc = 0\n",
    "    valid_running_epoch_f1 = 0\n",
    "    with torch.no_grad():\n",
    "        pbar = tqdm(valid_loader)\n",
    "        for X_batch, y_batch in pbar:\n",
    "            pbar.set_description(f'Epoch {epoch}/{EPOCHS} | loss : {valid_running_loss:.4f} | F1_score : {valid_running_epoch_f1:.4f}')\n",
    "            X_batch, y_batch = X_batch.to(device), y_batch.to(device).type(torch.cuda.LongTensor)\n",
    "            \n",
    "            y_pred = model.forward(X_batch)\n",
    "            _, preds = torch.max(y_pred, 1)\n",
    "            loss = criterion(y_pred, y_batch)\n",
    "            \n",
    "            valid_running_loss += loss.item() / len(y_batch)\n",
    "            valid_running_acc += torch.sum(preds == y_batch.data) / len(y_batch)\n",
    "            valid_running_epoch_f1 += f1_score(preds.cpu().numpy(), \n",
    "                                           y_batch.cpu().numpy(), average='macro')\n",
    "            \n",
    "    valid_epoch_loss = valid_running_loss / len(valid_loader)\n",
    "    valid_epoch_acc = valid_running_acc / len(valid_loader)\n",
    "    valid_epoch_f1 = valid_running_epoch_f1 / len(valid_loader)\n",
    "    \n",
    "    earlystop(valid_epoch_f1, model)\n",
    "    \n",
    "    print(f'Validation Loss : {valid_epoch_loss:.4f}, Accuracy : {valid_epoch_acc:.4f}, F1_score : {valid_epoch_f1:.4f}')   \n",
    "    \n",
    "    if valid_epoch_f1 > best_f1:\n",
    "        best_f1 = valid_epoch_f1\n",
    "    \n",
    "    val_acc_history.append(valid_epoch_acc)\n",
    "    val_loss_history.append(valid_epoch_loss)\n",
    "    \n",
    "    if earlystop.early_stop:\n",
    "        print('Early stopping')\n",
    "        model.load_state_dict(torch.load(f'{os.path.join(cfg.model_save_path, \"VIT\")}/checkpoint.pt'))\n",
    "        break\n",
    "\n",
    "print('Best Validation F1_score: {:.4f}'.format(best_f1))\n",
    "torch.save(model.state_dict(),\n",
    "           f'{os.path.join(cfg.model_save_path, \"VIT\")}/best_model_{best_f1:.4f}.pt')\n",
    "print('학습 종료!')\n",
    "end = time.time()\n",
    "print(f'학습 총 걸린 시간 : {end - start:.2f}')"
   ]
  },
  {
   "cell_type": "code",
   "execution_count": 25,
   "id": "3f95aac6-3887-4371-a7d6-bbc095585e38",
   "metadata": {},
   "outputs": [
    {
     "data": {
      "image/png": "[encoded data removed]",
      "text/plain": [
       "<Figure size 720x360 with 2 Axes>"
      ]
     },
     "metadata": {
      "needs_background": "light"
     },
     "output_type": "display_data"
    }
   ],
   "source": [
    "import matplotlib.pyplot as plt\n",
    "fig, axes = plt.subplots(1, 2, figsize=(10, 5))\n",
    "axes[0].plot(train_acc_history, label='train_acc')\n",
    "axes[0].plot(val_acc_history, label='val_acc')\n",
    "axes[1].plot(train_loss_history, label='train_loss')\n",
    "axes[1].plot(val_loss_history, label='val_loss')\n",
    "\n",
    "for ax in axes:\n",
    "    ax.spines['top'].set_visible(False)\n",
    "    ax.spines['right'].set_visible(False)\n",
    "    ax.legend()\n",
    "    \n",
    "plt.show()"
   ]
  },
  {
   "cell_type": "markdown",
   "id": "continued-feelings",
   "metadata": {},
   "source": [
    "## 6. Inference"
   ]
  },
  {
   "cell_type": "markdown",
   "id": "183d4130-6e04-4654-88e0-1fde6ef38d29",
   "metadata": {},
   "source": [
    "## 6.1 Test Dataset 정의"
   ]
  },
  {
   "cell_type": "code",
   "execution_count": 43,
   "id": "acffdc4d-4bd5-4244-baa6-d4c56e66320e",
   "metadata": {},
   "outputs": [],
   "source": [
    "class TestDataset(Dataset):\n",
    "    def __init__(self, img_paths, transform):\n",
    "        self.img_paths = img_paths\n",
    "        self.transform = transform\n",
    "\n",
    "    def __getitem__(self, index):\n",
    "        image = np.array(Image.open(self.img_paths[index]))\n",
    "\n",
    "        if self.transform:\n",
    "            image = self.transform(image=image)\n",
    "            image = image['image']\n",
    "        return image\n",
    "\n",
    "    def __len__(self):\n",
    "        return len(self.img_paths)"
   ]
  },
  {
   "cell_type": "code",
   "execution_count": 44,
   "id": "coral-shade",
   "metadata": {},
   "outputs": [
    {
     "name": "stderr",
     "output_type": "stream",
     "text": [
      "100%|██████████| 126/126 [02:29<00:00,  1.18s/it]"
     ]
    },
    {
     "name": "stdout",
     "output_type": "stream",
     "text": [
      "test inference is done!\n"
     ]
    },
    {
     "name": "stderr",
     "output_type": "stream",
     "text": [
      "\n"
     ]
    }
   ],
   "source": [
    "# meta 데이터와 이미지 경로를 불러옵니다.\n",
    "submission = pd.read_csv(os.path.join(cfg.test_dir, 'info.csv'))\n",
    "image_dir = os.path.join(cfg.test_dir, 'images')\n",
    "\n",
    "# Test Dataset 클래스 객체를 생성하고 DataLoader를 만듭니다.\n",
    "image_paths = [os.path.join(image_dir, img_id) for img_id in submission.ImageID]\n",
    "\n",
    "dataset = TestDataset(image_paths, valid_transform)\n",
    "\n",
    "loader = DataLoader(\n",
    "    dataset,\n",
    "    batch_size=BATCH_SIZE,\n",
    "    shuffle=False,\n",
    "    num_workers=1,\n",
    ")\n",
    "\n",
    "# 모델을 정의합니다. (학습한 모델이 있다면 torch.load로 모델을 불러주세요!)\n",
    "best_model_path = [file for file in glob.glob(os.path.join(cfg.model_save_path, 'VIT/*')) \n",
    "                   if 'checkpoint' in file][0]\n",
    "model.load_state_dict(torch.load(best_model_path))\n",
    "model.eval()\n",
    "\n",
    "# 모델이 테스트 데이터셋을 예측하고 결과를 저장합니다.\n",
    "all_predictions = []\n",
    "for images in tqdm(loader):\n",
    "    with torch.no_grad():\n",
    "        images = images.to(device)\n",
    "        pred = model(images)\n",
    "        pred = pred.argmax(dim=-1)\n",
    "        all_predictions.extend(pred.cpu().numpy())\n",
    "submission['ans'] = all_predictions\n",
    "\n",
    "# 제출할 파일을 저장합니다.\n",
    "submission.to_csv(os.path.join(cfg.submission_dir, 'submission_{}.csv'.format(\n",
    "    datetime.datetime.today().astimezone(timezone(\"Asia/Seoul\")).strftime('%Y-%m-%d_%H:%M:%S'))), \n",
    "                  index=False)\n",
    "print('test inference is done!')"
   ]
  },
  {
   "cell_type": "code",
   "execution_count": 48,
   "id": "4aa526a0-6da3-4e81-bf3b-0d216a3e1ae5",
   "metadata": {},
   "outputs": [
    {
     "data": {
      "text/plain": [
       "'/opt/ml/code/submission'"
      ]
     },
     "execution_count": 48,
     "metadata": {},
     "output_type": "execute_result"
    }
   ],
   "source": [
    "cfg.sumission_save_path"
   ]
  },
  {
   "cell_type": "code",
   "execution_count": 46,
   "id": "8fbc4fe7-c5eb-4f13-81f0-97861e517437",
   "metadata": {},
   "outputs": [
    {
     "name": "stderr",
     "output_type": "stream",
     "text": [
      "Exception ignored in: <function _MultiProcessingDataLoaderIter.__del__ at 0x7f21725f5040>\n",
      "Traceback (most recent call last):\n",
      "  File \"/opt/conda/lib/python3.8/site-packages/torch/utils/data/dataloader.py\", line 1203, in __del__\n",
      "    self._shutdown_workers()\n",
      "  File \"/opt/conda/lib/python3.8/site-packages/torch/utils/data/dataloader.py\", line 1177, in _shutdown_workers\n",
      "    w.join(timeout=_utils.MP_STATUS_CHECK_INTERVAL)\n",
      "  File \"/opt/conda/lib/python3.8/multiprocessing/process.py\", line 149, in join\n",
      "    res = self._popen.wait(timeout)\n",
      "  File \"/opt/conda/lib/python3.8/multiprocessing/popen_fork.py\", line 44, in wait\n",
      "    if not wait([self.sentinel], timeout):\n",
      "  File \"/opt/conda/lib/python3.8/multiprocessing/connection.py\", line 931, in wait\n",
      "    ready = selector.select(timeout)\n",
      "  File \"/opt/conda/lib/python3.8/selectors.py\", line 415, in select\n",
      "    fd_event_list = self._selector.poll(timeout)\n",
      "KeyboardInterrupt: \n"
     ]
    }
   ],
   "source": [
    "cfg.sumission_save_pathtimm"
   ]
  },
  {
   "cell_type": "code",
   "execution_count": 47,
   "id": "verbal-sample",
   "metadata": {},
   "outputs": [
    {
     "data": {
      "text/plain": [
       "['convit_base',\n",
       " 'convit_small',\n",
       " 'convit_tiny',\n",
       " 'levit_128',\n",
       " 'levit_128s',\n",
       " 'levit_192',\n",
       " 'levit_256',\n",
       " 'levit_384',\n",
       " 'vit_base_patch16_224',\n",
       " 'vit_base_patch16_224_in21k',\n",
       " 'vit_base_patch16_224_miil',\n",
       " 'vit_base_patch16_224_miil_in21k',\n",
       " 'vit_base_patch16_384',\n",
       " 'vit_base_patch32_224',\n",
       " 'vit_base_patch32_224_in21k',\n",
       " 'vit_base_patch32_384',\n",
       " 'vit_base_r26_s32_224',\n",
       " 'vit_base_r50_s16_224',\n",
       " 'vit_base_r50_s16_224_in21k',\n",
       " 'vit_base_r50_s16_384',\n",
       " 'vit_base_resnet26d_224',\n",
       " 'vit_base_resnet50_224_in21k',\n",
       " 'vit_base_resnet50_384',\n",
       " 'vit_base_resnet50d_224',\n",
       " 'vit_huge_patch14_224_in21k',\n",
       " 'vit_large_patch16_224',\n",
       " 'vit_large_patch16_224_in21k',\n",
       " 'vit_large_patch16_384',\n",
       " 'vit_large_patch32_224',\n",
       " 'vit_large_patch32_224_in21k',\n",
       " 'vit_large_patch32_384',\n",
       " 'vit_large_r50_s32_224',\n",
       " 'vit_large_r50_s32_224_in21k',\n",
       " 'vit_large_r50_s32_384',\n",
       " 'vit_small_patch16_224',\n",
       " 'vit_small_patch16_224_in21k',\n",
       " 'vit_small_patch16_384',\n",
       " 'vit_small_patch32_224',\n",
       " 'vit_small_patch32_224_in21k',\n",
       " 'vit_small_patch32_384',\n",
       " 'vit_small_r26_s32_224',\n",
       " 'vit_small_r26_s32_224_in21k',\n",
       " 'vit_small_r26_s32_384',\n",
       " 'vit_small_resnet26d_224',\n",
       " 'vit_small_resnet50d_s16_224',\n",
       " 'vit_tiny_patch16_224',\n",
       " 'vit_tiny_patch16_224_in21k',\n",
       " 'vit_tiny_patch16_384',\n",
       " 'vit_tiny_r_s16_p8_224',\n",
       " 'vit_tiny_r_s16_p8_224_in21k',\n",
       " 'vit_tiny_r_s16_p8_384']"
      ]
     },
     "execution_count": 47,
     "metadata": {},
     "output_type": "execute_result"
    }
   ],
   "source": [
    "all_vit_models = timm.list_models('*vit*')\n",
    "all_vit_models"
   ]
  },
  {
   "cell_type": "code",
   "execution_count": null,
   "id": "1d433962-df60-4245-9ff5-ebebfe6abdda",
   "metadata": {},
   "outputs": [],
   "source": []
  }
 ],
 "metadata": {
  "kernelspec": {
   "display_name": "Python 3 (ipykernel)",
   "language": "python",
   "name": "python3"
  },
  "language_info": {
   "codemirror_mode": {
    "name": "ipython",
    "version": 3
   },
   "file_extension": ".py",
   "mimetype": "text/x-python",
   "name": "python",
   "nbconvert_exporter": "python",
   "pygments_lexer": "ipython3",
   "version": "3.8.5"
  }
 },
 "nbformat": 4,
 "nbformat_minor": 5
}
