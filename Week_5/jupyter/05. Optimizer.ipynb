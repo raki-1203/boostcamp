{
 "cells": [
  {
   "cell_type": "markdown",
   "id": "134aae58-0d34-4e1f-813a-c065b3533e2c",
   "metadata": {},
   "source": [
    "# Experiment 3: Optimizer\n",
    "\n",
    "- Adam\n",
    "- AdamW\n",
    "- MadGrad"
   ]
  },
  {
   "cell_type": "code",
   "execution_count": 1,
   "id": "6f9ee748-4750-4240-90fb-833ff0be029b",
   "metadata": {},
   "outputs": [
    {
     "name": "stdout",
     "output_type": "stream",
     "text": [
      "PyTorch version: 1.7.1\n",
      "This notebook use cuda:0\n"
     ]
    }
   ],
   "source": [
    "import os\n",
    "import sys\n",
    "import pickle\n",
    "import glob\n",
    "import time\n",
    "from tqdm import tqdm\n",
    "from collections import Counter\n",
    "\n",
    "# scikit-learn\n",
    "from sklearn.metrics import f1_score, accuracy_score\n",
    "from sklearn.model_selection import StratifiedKFold\n",
    "\n",
    "# Data preprocessing\n",
    "import cv2\n",
    "import numpy as np\n",
    "import pandas as pd\n",
    "\n",
    "# data visualization\n",
    "import matplotlib.pyplot as plt\n",
    "import seaborn as sns\n",
    "from PIL import Image\n",
    "%matplotlib inline\n",
    "\n",
    "# pytorch\n",
    "import torch\n",
    "import torch.nn as nn\n",
    "import torch.optim as optim\n",
    "from torch.utils.data import Dataset, DataLoader, random_split\n",
    "import torchvision\n",
    "from torchvision import datasets, transforms\n",
    "torch.manual_seed(0)\n",
    "print(f'PyTorch version: {torch.__version__}')\n",
    "\n",
    "# device setting\n",
    "device = torch.device('cuda:0' if torch.cuda.is_available() else 'cpu')\n",
    "print(f'This notebook use {device}')\n",
    "\n",
    "# ignore warnings\n",
    "import warnings\n",
    "warnings.filterwarnings('ignore')"
   ]
  },
  {
   "cell_type": "code",
   "execution_count": 2,
   "id": "0bd087d5-8a4b-4326-a09a-631051e990c8",
   "metadata": {},
   "outputs": [],
   "source": [
    "# 파일 경로 사용자 정의\n",
    "class path:\n",
    "    data = '/opt/ml/input/original_data'\n",
    "    train = f'{data}/train'\n",
    "    train_img = f'{train}/images'\n",
    "    train_df = f'{train}/train.csv'\n",
    "    test = f'{data}/eval'\n",
    "    test_img = f'{test}/images'\n",
    "    test_df = f'{test}/info.csv'"
   ]
  },
  {
   "cell_type": "code",
   "execution_count": 3,
   "id": "07b172f8-7a20-4c4d-b17c-2ec2df5bed50",
   "metadata": {},
   "outputs": [],
   "source": [
    "BATCH_SIZE = 16\n",
    "NUM_WORKERS = 2\n",
    "LEARNING_RATE = 1e-4\n",
    "EPOCHS = 3"
   ]
  },
  {
   "cell_type": "markdown",
   "id": "04c7f685-0af2-499a-af87-99c960ce402e",
   "metadata": {},
   "source": [
    "## 1. Dataset"
   ]
  },
  {
   "cell_type": "code",
   "execution_count": 4,
   "id": "1ffd9cc4-6ec5-42d5-a6cb-ef35233ec9db",
   "metadata": {},
   "outputs": [],
   "source": [
    "class MaskDataset(Dataset):\n",
    "    def __init__(self, df, transform=None):\n",
    "        self.df = df\n",
    "        self.transform = transform\n",
    "        \n",
    "    def set_transform(self, transform):\n",
    "        self.transform = transform\n",
    "        \n",
    "    def __getitem__(self, idx):\n",
    "        data = self.df.iloc[idx]\n",
    "        target = data.target\n",
    "        image = Image.open(data.path)\n",
    "        \n",
    "        if self.transform:\n",
    "            image = self.transform(image)\n",
    "            \n",
    "        return image, target\n",
    "    \n",
    "    def __len__(self):\n",
    "        return len(self.df)"
   ]
  },
  {
   "cell_type": "code",
   "execution_count": 5,
   "id": "f000a3a2-76ca-4b79-b44c-38830e817675",
   "metadata": {},
   "outputs": [],
   "source": [
    "class AddGaussianNoise(object):\n",
    "    def __init__(self, mean=0., std=1.):\n",
    "        self.std = std\n",
    "        self.mean = mean\n",
    "        \n",
    "    def __call__(self, tensor):\n",
    "        return tensor + torch.randn(tensor.size()) * self.std + self.mean\n",
    "    \n",
    "    def __repr__(self):\n",
    "        return self.__class__.__name__ + '(mean={0}, std={1})'.format(self.mean, self.std)"
   ]
  },
  {
   "cell_type": "code",
   "execution_count": 6,
   "id": "9455120b-0e61-45f4-9afd-515374873dea",
   "metadata": {},
   "outputs": [],
   "source": [
    "train_transforms = transforms.Compose([\n",
    "    transforms.CenterCrop(384),\n",
    "    transforms.Resize(224),\n",
    "    transforms.RandomHorizontalFlip(p=0.5),\n",
    "    transforms.ColorJitter(brightness=0.5, saturation=0.5, hue=0.5),\n",
    "    transforms.ToTensor(),\n",
    "    transforms.Normalize(mean=[0.548, 0.504, 0.479], std=[0.237, 0.247, 0.246]),\n",
    "    AddGaussianNoise(0., 1.),\n",
    "])"
   ]
  },
  {
   "cell_type": "code",
   "execution_count": 7,
   "id": "b7ebb0de-31f7-4d21-a54a-3ac7683693fe",
   "metadata": {},
   "outputs": [],
   "source": [
    "valid_transforms = transforms.Compose([\n",
    "    transforms.CenterCrop(384),\n",
    "    transforms.Resize(224),\n",
    "    transforms.ToTensor(),\n",
    "    transforms.Normalize(mean=[0.548, 0.504, 0.479], std=[0.237, 0.247, 0.246]),\n",
    "])"
   ]
  },
  {
   "cell_type": "markdown",
   "id": "b0bb26f7-17f8-49b6-9c77-89057ffdf352",
   "metadata": {},
   "source": [
    "## 2. Modeling"
   ]
  },
  {
   "cell_type": "markdown",
   "id": "097a0cae-88da-443a-aaee-5aa3fca03e35",
   "metadata": {},
   "source": [
    "### 2.1. Adam"
   ]
  },
  {
   "cell_type": "code",
   "execution_count": 8,
   "id": "a6f45263-6214-4873-9f9d-0381f28c995f",
   "metadata": {},
   "outputs": [],
   "source": [
    "# adam\n",
    "model1 = torchvision.models.resnet18(pretrained=False)\n",
    "n_features = model1.fc.in_features\n",
    "model1.fc = nn.Linear(n_features, 18)\n",
    "model1 = model1.cuda()\n",
    "\n",
    "optimizer1 = optim.Adam(model1.parameters(), lr=LEARNING_RATE)\n",
    "criterion1 = nn.CrossEntropyLoss().to(device)"
   ]
  },
  {
   "cell_type": "markdown",
   "id": "b2386afc-bc97-4c1b-a064-e2ea205a31b6",
   "metadata": {},
   "source": [
    "### 2.2. AdamW"
   ]
  },
  {
   "cell_type": "code",
   "execution_count": 10,
   "id": "98ede373-c583-4879-9cc2-9d354c315b03",
   "metadata": {},
   "outputs": [],
   "source": [
    "# adamw\n",
    "model2 = torchvision.models.resnet18(pretrained=False)\n",
    "n_features = model2.fc.in_features\n",
    "model2.fc = nn.Linear(n_features, 18)\n",
    "model2 = model2.cuda()\n",
    "\n",
    "optimizer2 = optim.AdamW(model2.parameters(), lr=LEARNING_RATE)\n",
    "criterion2 = nn.CrossEntropyLoss().to(device)"
   ]
  },
  {
   "cell_type": "markdown",
   "id": "8eb3081d-308d-4a16-af00-0fa73afa6b00",
   "metadata": {},
   "source": [
    "### 2.3. MadGrad"
   ]
  },
  {
   "cell_type": "code",
   "execution_count": 12,
   "id": "12d53f4a-084e-428a-9e77-6b29b476af89",
   "metadata": {},
   "outputs": [],
   "source": [
    "import math\n",
    "from typing import TYPE_CHECKING, Any, Callable, Optional\n",
    "\n",
    "import torch\n",
    "import torch.optim\n",
    "\n",
    "if TYPE_CHECKING:\n",
    "    from torch.optim.optimizer import _params_t\n",
    "else:\n",
    "    _params_t = Any\n",
    "    \n",
    "class MADGRAD(torch.optim.Optimizer):\n",
    "    \"\"\"\n",
    "    MADGRAD_: A Momentumized, Adaptive, Dual Averaged Gradient Method for Stochastic \n",
    "    Optimization.\n",
    "    .. _MADGRAD: https://arxiv.org/abs/2101.11075\n",
    "    MADGRAD is a general purpose optimizer that can be used in place of SGD or\n",
    "    Adam may converge faster and generalize better. Currently GPU-only.\n",
    "    Typically, the same learning rate schedule that is used for SGD or Adam may\n",
    "    be used. The overall learning rate is not comparable to either method and\n",
    "    should be determined by a hyper-parameter sweep.\n",
    "    MADGRAD requires less weight decay than other methods, often as little as\n",
    "    zero. Momentum values used for SGD or Adam's beta1 should work here also.\n",
    "    On sparse problems both weight_decay and momentum should be set to 0.\n",
    "    Arguments:\n",
    "        params (iterable): \n",
    "            Iterable of parameters to optimize or dicts defining parameter groups.\n",
    "        lr (float): \n",
    "            Learning rate (default: 1e-2).\n",
    "        momentum (float): \n",
    "            Momentum value in  the range [0,1) (default: 0.9).\n",
    "        weight_decay (float): \n",
    "            Weight decay, i.e. a L2 penalty (default: 0).\n",
    "        eps (float): \n",
    "            Term added to the denominator outside of the root operation to improve numerical stability. (default: 1e-6).\n",
    "    \"\"\"\n",
    "\n",
    "    def __init__(\n",
    "        self, params: _params_t, lr: float = 1e-2, momentum: float = 0.9, weight_decay: float = 0, eps: float = 1e-6,\n",
    "    ):\n",
    "        if momentum < 0 or momentum >= 1:\n",
    "            raise ValueError(f\"Momentum {momentum} must be in the range [0,1]\")\n",
    "        if lr <= 0:\n",
    "            raise ValueError(f\"Learning rate {lr} must be positive\")\n",
    "        if weight_decay < 0:\n",
    "            raise ValueError(f\"Weight decay {weight_decay} must be non-negative\")\n",
    "        if eps < 0:\n",
    "            raise ValueError(f\"Eps must be non-negative\")\n",
    "\n",
    "        defaults = dict(lr=lr, eps=eps, momentum=momentum, weight_decay=weight_decay)\n",
    "        super().__init__(params, defaults)\n",
    "\n",
    "    @property\n",
    "    def supports_memory_efficient_fp16(self) -> bool:\n",
    "        return False\n",
    "\n",
    "    @property\n",
    "    def supports_flat_params(self) -> bool:\n",
    "        return True\n",
    "\n",
    "    def step(self, closure: Optional[Callable[[], float]] = None) -> Optional[float]:\n",
    "        \"\"\"Performs a single optimization step.\n",
    "        Arguments:\n",
    "            closure (callable, optional): A closure that reevaluates the model\n",
    "                and returns the loss.\n",
    "        \"\"\"\n",
    "        loss = None\n",
    "        if closure is not None:\n",
    "            loss = closure()\n",
    "\n",
    "        # step counter must be stored in state to ensure correct behavior under\n",
    "        # optimizer sharding\n",
    "        if 'k' not in self.state:\n",
    "            self.state['k'] = torch.tensor([0], dtype=torch.long)\n",
    "        k = self.state['k'].item()\n",
    "\n",
    "        for group in self.param_groups:\n",
    "            eps = group[\"eps\"]\n",
    "            lr = group[\"lr\"] + eps\n",
    "            decay = group[\"weight_decay\"]\n",
    "            momentum = group[\"momentum\"]\n",
    "\n",
    "            ck = 1 - momentum\n",
    "            lamb = lr * math.pow(k + 1, 0.5)\n",
    "\n",
    "            for p in group[\"params\"]:\n",
    "                if p.grad is None:\n",
    "                    continue\n",
    "                grad = p.grad.data\n",
    "                state = self.state[p]\n",
    "\n",
    "                if \"grad_sum_sq\" not in state:\n",
    "                    state[\"grad_sum_sq\"] = torch.zeros_like(p.data).detach()\n",
    "                    state[\"s\"] = torch.zeros_like(p.data).detach()\n",
    "                    if momentum != 0:\n",
    "                        state[\"x0\"] = torch.clone(p.data).detach()\n",
    "\n",
    "                if momentum != 0.0 and grad.is_sparse:\n",
    "                    raise RuntimeError(\"momentum != 0 is not compatible with sparse gradients\")\n",
    "\n",
    "                grad_sum_sq = state[\"grad_sum_sq\"]\n",
    "                s = state[\"s\"]\n",
    "\n",
    "                # Apply weight decay\n",
    "                if decay != 0:\n",
    "                    if grad.is_sparse:\n",
    "                        raise RuntimeError(\"weight_decay option is not compatible with sparse gradients\")\n",
    "\n",
    "                    grad.add_(p.data, alpha=decay)\n",
    "\n",
    "                if grad.is_sparse:\n",
    "                    grad = grad.coalesce()\n",
    "                    grad_val = grad._values()\n",
    "\n",
    "                    p_masked = p.sparse_mask(grad)\n",
    "                    grad_sum_sq_masked = grad_sum_sq.sparse_mask(grad)\n",
    "                    s_masked = s.sparse_mask(grad)\n",
    "\n",
    "                    # Compute x_0 from other known quantities\n",
    "                    rms_masked_vals = grad_sum_sq_masked._values().pow(1 / 3).add_(eps)\n",
    "                    x0_masked_vals = p_masked._values().addcdiv(s_masked._values(), rms_masked_vals, value=1)\n",
    "\n",
    "                    # Dense + sparse op\n",
    "                    grad_sq = grad * grad\n",
    "                    grad_sum_sq.add_(grad_sq, alpha=lamb)\n",
    "                    grad_sum_sq_masked.add_(grad_sq, alpha=lamb)\n",
    "\n",
    "                    rms_masked_vals = grad_sum_sq_masked._values().pow_(1 / 3).add_(eps)\n",
    "\n",
    "                    s.add_(grad, alpha=lamb)\n",
    "                    s_masked._values().add_(grad_val, alpha=lamb)\n",
    "\n",
    "                    # update masked copy of p\n",
    "                    p_kp1_masked_vals = x0_masked_vals.addcdiv(s_masked._values(), rms_masked_vals, value=-1)\n",
    "                    # Copy updated masked p to dense p using an add operation\n",
    "                    p_masked._values().add_(p_kp1_masked_vals, alpha=-1)\n",
    "                    p.data.add_(p_masked, alpha=-1)\n",
    "                else:\n",
    "                    if momentum == 0:\n",
    "                        # Compute x_0 from other known quantities\n",
    "                        rms = grad_sum_sq.pow(1 / 3).add_(eps)\n",
    "                        x0 = p.data.addcdiv(s, rms, value=1)\n",
    "                    else:\n",
    "                        x0 = state[\"x0\"]\n",
    "\n",
    "                    # Accumulate second moments\n",
    "                    grad_sum_sq.addcmul_(grad, grad, value=lamb)\n",
    "                    rms = grad_sum_sq.pow(1 / 3).add_(eps)\n",
    "\n",
    "                    # Update s\n",
    "                    s.data.add_(grad, alpha=lamb)\n",
    "\n",
    "                    # Step\n",
    "                    if momentum == 0:\n",
    "                        p.data.copy_(x0.addcdiv(s, rms, value=-1))\n",
    "                    else:\n",
    "                        z = x0.addcdiv(s, rms, value=-1)\n",
    "\n",
    "                        # p is a moving average of z\n",
    "                        p.data.mul_(1 - ck).add_(z, alpha=ck)\n",
    "\n",
    "\n",
    "        self.state['k'] += 1\n",
    "        return loss"
   ]
  },
  {
   "cell_type": "code",
   "execution_count": 13,
   "id": "f59b3bbc-2774-455b-83da-54ce4fa969e6",
   "metadata": {},
   "outputs": [],
   "source": [
    "# madgrad\n",
    "model3 = torchvision.models.resnet18(pretrained=False)\n",
    "n_features = model3.fc.in_features\n",
    "model3.fc = nn.Linear(n_features, 18)\n",
    "model3 = model3.cuda()\n",
    "\n",
    "optimizer3 = MADGRAD(model3.parameters(), lr=LEARNING_RATE)\n",
    "criterion3 = nn.CrossEntropyLoss().to(device)"
   ]
  },
  {
   "cell_type": "markdown",
   "id": "cecf7074-de52-4fe8-9034-282cbbcb1555",
   "metadata": {},
   "source": [
    "## 3. Training"
   ]
  },
  {
   "cell_type": "code",
   "execution_count": 14,
   "id": "9068bfaa-5a2a-49a0-94a5-fe4b0b649bc4",
   "metadata": {},
   "outputs": [],
   "source": [
    "def test_eval(model, valid_dataset):\n",
    "    model.eval()\n",
    "    with torch.no_grad():\n",
    "        y_true, y_pred = [], []\n",
    "        for image, label in tqdm(valid_dataset):\n",
    "            X = image.float().to(device)\n",
    "            y = label.item()\n",
    "            _, pred = torch.max(model(X), 1)\n",
    "            pred = pred.item()\n",
    "            y_true.append(y)\n",
    "            y_pred.append(pred)\n",
    "        y_true, y_pred = np.array(y_true), np.array(y_pred)\n",
    "        f1 = f1_score(y_true, y_pred, average='macro')\n",
    "        accuracy = accuracy_score(y_true, y_pred)\n",
    "    model.train()\n",
    "    return f1, accuracy"
   ]
  },
  {
   "cell_type": "code",
   "execution_count": 15,
   "id": "3947d019-602e-419c-97cf-7591db290996",
   "metadata": {},
   "outputs": [],
   "source": [
    "def train_model(train, test, model, criterion, optimizer, print_every=1):\n",
    "    print(f\"============ Training Starts! ============\")\n",
    "    best_accuracy = 0\n",
    "    for epoch in range(EPOCHS):\n",
    "        loss_sum = 0\n",
    "        for images, label in tqdm(train):\n",
    "            X = images.float().to(device)\n",
    "            y = label.to(device)\n",
    "            \n",
    "            y_pred = model(X)\n",
    "            loss = criterion(y_pred, y)\n",
    "            \n",
    "            optimizer.zero_grad()\n",
    "            loss.backward()\n",
    "            optimizer.step()\n",
    "            \n",
    "            loss_sum += loss\n",
    "            \n",
    "        if ((epoch % print_every) == 0) or (epoch == (EPOCHS - 1)):\n",
    "            loss_avg = loss_sum / len(train)\n",
    "            f1, accuracy = test_eval(model, test)\n",
    "            print(f\">> epoch:[{epoch + 1}/{EPOCHS}] cost: {loss_avg:5.3f} test_accuracy: {accuracy:5.3f} test_f1_score: {f1:5.3f}\")\n",
    "            \n",
    "    print(f\"============ Training Done! ============\")"
   ]
  },
  {
   "cell_type": "code",
   "execution_count": 16,
   "id": "2682a067-f6a3-465a-97a7-5a0469787003",
   "metadata": {},
   "outputs": [],
   "source": [
    "def cross_validation(df, model, criterion, optimizer, k_folds=5):\n",
    "    skf = StratifiedKFold(n_splits=5)\n",
    "    for n_iter, (train_idx, valid_idx) in enumerate(skf.split(df, df.target), start=1):\n",
    "        print(f'>> Cross Validation {n_iter} Starts!')\n",
    "        train, valid = df.loc[train_idx], df.loc[valid_idx]\n",
    "        train_dataset, valid_dataset = MaskDataset(train), MaskDataset(valid)\n",
    "        \n",
    "        # augmentation 설정\n",
    "        train_dataset.set_transform(train_transforms)\n",
    "        valid_dataset.set_transform(valid_transforms)\n",
    "        \n",
    "        # DataLoader 생성\n",
    "        train_loader = DataLoader(train_dataset, batch_size=BATCH_SIZE, num_workers=NUM_WORKERS, shuffle=True)\n",
    "        valid_loader = DataLoader(valid_dataset, shuffle=False)\n",
    "        \n",
    "        train_model(train_loader, valid_loader, model, criterion, optimizer)\n",
    "        print()"
   ]
  },
  {
   "cell_type": "code",
   "execution_count": 17,
   "id": "5904b65a-72b8-4a56-aa6e-f3a42a785d42",
   "metadata": {},
   "outputs": [],
   "source": [
    "df = pd.read_csv(f'{path.train}/train_modified.csv')[['path', 'target']]"
   ]
  },
  {
   "cell_type": "markdown",
   "id": "7dc51488-b4de-4a61-9574-2f21b7880824",
   "metadata": {},
   "source": [
    "### 3.1 Adam"
   ]
  },
  {
   "cell_type": "code",
   "execution_count": 18,
   "id": "3c13cd57-b743-40c0-9b11-2a01040efe1a",
   "metadata": {},
   "outputs": [
    {
     "name": "stderr",
     "output_type": "stream",
     "text": [
      "  0%|          | 0/945 [00:00<?, ?it/s]"
     ]
    },
    {
     "name": "stdout",
     "output_type": "stream",
     "text": [
      ">> Cross Validation 1 Starts!\n",
      "============ Training Starts! ============\n"
     ]
    },
    {
     "name": "stderr",
     "output_type": "stream",
     "text": [
      "100%|██████████| 945/945 [02:10<00:00,  7.23it/s]\n",
      "100%|██████████| 3780/3780 [01:22<00:00, 45.62it/s]\n",
      "  0%|          | 0/945 [00:00<?, ?it/s]"
     ]
    },
    {
     "name": "stdout",
     "output_type": "stream",
     "text": [
      ">> epoch:[1/3] cost: 1.619 test_accuracy: 0.372 test_f1_score: 0.194\n"
     ]
    },
    {
     "name": "stderr",
     "output_type": "stream",
     "text": [
      "100%|██████████| 945/945 [02:13<00:00,  7.10it/s]\n",
      "100%|██████████| 3780/3780 [01:18<00:00, 48.13it/s]\n",
      "  0%|          | 0/945 [00:00<?, ?it/s]"
     ]
    },
    {
     "name": "stdout",
     "output_type": "stream",
     "text": [
      ">> epoch:[2/3] cost: 0.911 test_accuracy: 0.437 test_f1_score: 0.305\n"
     ]
    },
    {
     "name": "stderr",
     "output_type": "stream",
     "text": [
      "100%|██████████| 945/945 [02:11<00:00,  7.16it/s]\n",
      "100%|██████████| 3780/3780 [01:16<00:00, 49.36it/s]\n",
      "  0%|          | 0/945 [00:00<?, ?it/s]"
     ]
    },
    {
     "name": "stdout",
     "output_type": "stream",
     "text": [
      ">> epoch:[3/3] cost: 0.677 test_accuracy: 0.488 test_f1_score: 0.291\n",
      "============ Training Done! ============\n",
      "\n",
      ">> Cross Validation 2 Starts!\n",
      "============ Training Starts! ============\n"
     ]
    },
    {
     "name": "stderr",
     "output_type": "stream",
     "text": [
      "100%|██████████| 945/945 [02:13<00:00,  7.06it/s]\n",
      "100%|██████████| 3780/3780 [01:18<00:00, 47.93it/s]\n",
      "  0%|          | 0/945 [00:00<?, ?it/s]"
     ]
    },
    {
     "name": "stdout",
     "output_type": "stream",
     "text": [
      ">> epoch:[1/3] cost: 0.581 test_accuracy: 0.469 test_f1_score: 0.271\n"
     ]
    },
    {
     "name": "stderr",
     "output_type": "stream",
     "text": [
      "100%|██████████| 945/945 [02:13<00:00,  7.07it/s]\n",
      "100%|██████████| 3780/3780 [01:24<00:00, 44.58it/s]\n",
      "  0%|          | 0/945 [00:00<?, ?it/s]"
     ]
    },
    {
     "name": "stdout",
     "output_type": "stream",
     "text": [
      ">> epoch:[2/3] cost: 0.477 test_accuracy: 0.743 test_f1_score: 0.543\n"
     ]
    },
    {
     "name": "stderr",
     "output_type": "stream",
     "text": [
      "100%|██████████| 945/945 [02:18<00:00,  6.83it/s]\n",
      "100%|██████████| 3780/3780 [01:23<00:00, 45.21it/s]\n",
      "  0%|          | 0/945 [00:00<?, ?it/s]"
     ]
    },
    {
     "name": "stdout",
     "output_type": "stream",
     "text": [
      ">> epoch:[3/3] cost: 0.398 test_accuracy: 0.671 test_f1_score: 0.520\n",
      "============ Training Done! ============\n",
      "\n",
      ">> Cross Validation 3 Starts!\n",
      "============ Training Starts! ============\n"
     ]
    },
    {
     "name": "stderr",
     "output_type": "stream",
     "text": [
      "100%|██████████| 945/945 [02:18<00:00,  6.83it/s]\n",
      "100%|██████████| 3780/3780 [01:21<00:00, 46.31it/s]\n",
      "  0%|          | 0/945 [00:00<?, ?it/s]"
     ]
    },
    {
     "name": "stdout",
     "output_type": "stream",
     "text": [
      ">> epoch:[1/3] cost: 0.367 test_accuracy: 0.722 test_f1_score: 0.612\n"
     ]
    },
    {
     "name": "stderr",
     "output_type": "stream",
     "text": [
      "100%|██████████| 945/945 [02:14<00:00,  7.01it/s]\n",
      "100%|██████████| 3780/3780 [01:20<00:00, 47.18it/s]\n",
      "  0%|          | 0/945 [00:00<?, ?it/s]"
     ]
    },
    {
     "name": "stdout",
     "output_type": "stream",
     "text": [
      ">> epoch:[2/3] cost: 0.292 test_accuracy: 0.756 test_f1_score: 0.594\n"
     ]
    },
    {
     "name": "stderr",
     "output_type": "stream",
     "text": [
      "100%|██████████| 945/945 [02:15<00:00,  7.00it/s]\n",
      "100%|██████████| 3780/3780 [00:45<00:00, 83.30it/s]\n",
      "  0%|          | 0/945 [00:00<?, ?it/s]"
     ]
    },
    {
     "name": "stdout",
     "output_type": "stream",
     "text": [
      ">> epoch:[3/3] cost: 0.241 test_accuracy: 0.796 test_f1_score: 0.642\n",
      "============ Training Done! ============\n",
      "\n",
      ">> Cross Validation 4 Starts!\n",
      "============ Training Starts! ============\n"
     ]
    },
    {
     "name": "stderr",
     "output_type": "stream",
     "text": [
      "100%|██████████| 945/945 [01:48<00:00,  8.71it/s]\n",
      "100%|██████████| 3780/3780 [00:46<00:00, 81.74it/s]\n",
      "  0%|          | 0/945 [00:00<?, ?it/s]"
     ]
    },
    {
     "name": "stdout",
     "output_type": "stream",
     "text": [
      ">> epoch:[1/3] cost: 0.254 test_accuracy: 0.719 test_f1_score: 0.673\n"
     ]
    },
    {
     "name": "stderr",
     "output_type": "stream",
     "text": [
      "100%|██████████| 945/945 [01:46<00:00,  8.85it/s]\n",
      "100%|██████████| 3780/3780 [00:45<00:00, 82.26it/s]\n",
      "  0%|          | 0/945 [00:00<?, ?it/s]"
     ]
    },
    {
     "name": "stdout",
     "output_type": "stream",
     "text": [
      ">> epoch:[2/3] cost: 0.205 test_accuracy: 0.810 test_f1_score: 0.720\n"
     ]
    },
    {
     "name": "stderr",
     "output_type": "stream",
     "text": [
      "100%|██████████| 945/945 [01:48<00:00,  8.72it/s]\n",
      "100%|██████████| 3780/3780 [00:46<00:00, 81.00it/s]\n",
      "  0%|          | 0/945 [00:00<?, ?it/s]"
     ]
    },
    {
     "name": "stdout",
     "output_type": "stream",
     "text": [
      ">> epoch:[3/3] cost: 0.174 test_accuracy: 0.765 test_f1_score: 0.660\n",
      "============ Training Done! ============\n",
      "\n",
      ">> Cross Validation 5 Starts!\n",
      "============ Training Starts! ============\n"
     ]
    },
    {
     "name": "stderr",
     "output_type": "stream",
     "text": [
      "100%|██████████| 945/945 [01:47<00:00,  8.80it/s]\n",
      "100%|██████████| 3780/3780 [00:45<00:00, 82.49it/s]\n",
      "  0%|          | 0/945 [00:00<?, ?it/s]"
     ]
    },
    {
     "name": "stdout",
     "output_type": "stream",
     "text": [
      ">> epoch:[1/3] cost: 0.197 test_accuracy: 0.921 test_f1_score: 0.865\n"
     ]
    },
    {
     "name": "stderr",
     "output_type": "stream",
     "text": [
      "100%|██████████| 945/945 [01:45<00:00,  8.94it/s]\n",
      "100%|██████████| 3780/3780 [00:46<00:00, 81.57it/s]\n",
      "  0%|          | 0/945 [00:00<?, ?it/s]"
     ]
    },
    {
     "name": "stdout",
     "output_type": "stream",
     "text": [
      ">> epoch:[2/3] cost: 0.143 test_accuracy: 0.835 test_f1_score: 0.788\n"
     ]
    },
    {
     "name": "stderr",
     "output_type": "stream",
     "text": [
      "100%|██████████| 945/945 [01:46<00:00,  8.87it/s]\n",
      "100%|██████████| 3780/3780 [00:46<00:00, 81.16it/s]\n"
     ]
    },
    {
     "name": "stdout",
     "output_type": "stream",
     "text": [
      ">> epoch:[3/3] cost: 0.125 test_accuracy: 0.833 test_f1_score: 0.746\n",
      "============ Training Done! ============\n",
      "\n"
     ]
    }
   ],
   "source": [
    "cross_validation(df, model1, criterion1, optimizer1)"
   ]
  },
  {
   "cell_type": "markdown",
   "id": "4f79f964-507f-4b95-9207-26caf2b538b2",
   "metadata": {},
   "source": [
    "### 3.2 AdamW"
   ]
  },
  {
   "cell_type": "code",
   "execution_count": 19,
   "id": "590fd995-9b0f-415e-a8ff-4dbe32a47e21",
   "metadata": {},
   "outputs": [
    {
     "name": "stderr",
     "output_type": "stream",
     "text": [
      "  0%|          | 0/945 [00:00<?, ?it/s]"
     ]
    },
    {
     "name": "stdout",
     "output_type": "stream",
     "text": [
      ">> Cross Validation 1 Starts!\n",
      "============ Training Starts! ============\n"
     ]
    },
    {
     "name": "stderr",
     "output_type": "stream",
     "text": [
      "100%|██████████| 945/945 [01:47<00:00,  8.81it/s]\n",
      "100%|██████████| 3780/3780 [00:43<00:00, 86.17it/s]\n",
      "  0%|          | 0/945 [00:00<?, ?it/s]"
     ]
    },
    {
     "name": "stdout",
     "output_type": "stream",
     "text": [
      ">> epoch:[1/3] cost: 1.640 test_accuracy: 0.202 test_f1_score: 0.125\n"
     ]
    },
    {
     "name": "stderr",
     "output_type": "stream",
     "text": [
      "100%|██████████| 945/945 [01:46<00:00,  8.84it/s]\n",
      "100%|██████████| 3780/3780 [00:45<00:00, 82.97it/s]\n",
      "  0%|          | 0/945 [00:00<?, ?it/s]"
     ]
    },
    {
     "name": "stdout",
     "output_type": "stream",
     "text": [
      ">> epoch:[2/3] cost: 0.926 test_accuracy: 0.090 test_f1_score: 0.033\n"
     ]
    },
    {
     "name": "stderr",
     "output_type": "stream",
     "text": [
      "100%|██████████| 945/945 [01:48<00:00,  8.69it/s]\n",
      "100%|██████████| 3780/3780 [00:46<00:00, 82.16it/s]\n",
      "  0%|          | 0/945 [00:00<?, ?it/s]"
     ]
    },
    {
     "name": "stdout",
     "output_type": "stream",
     "text": [
      ">> epoch:[3/3] cost: 0.684 test_accuracy: 0.273 test_f1_score: 0.162\n",
      "============ Training Done! ============\n",
      "\n",
      ">> Cross Validation 2 Starts!\n",
      "============ Training Starts! ============\n"
     ]
    },
    {
     "name": "stderr",
     "output_type": "stream",
     "text": [
      "100%|██████████| 945/945 [01:48<00:00,  8.70it/s]\n",
      "100%|██████████| 3780/3780 [00:46<00:00, 81.49it/s]\n",
      "  0%|          | 0/945 [00:00<?, ?it/s]"
     ]
    },
    {
     "name": "stdout",
     "output_type": "stream",
     "text": [
      ">> epoch:[1/3] cost: 0.589 test_accuracy: 0.542 test_f1_score: 0.311\n"
     ]
    },
    {
     "name": "stderr",
     "output_type": "stream",
     "text": [
      "100%|██████████| 945/945 [01:47<00:00,  8.76it/s]\n",
      "100%|██████████| 3780/3780 [00:47<00:00, 79.07it/s]\n",
      "  0%|          | 0/945 [00:00<?, ?it/s]"
     ]
    },
    {
     "name": "stdout",
     "output_type": "stream",
     "text": [
      ">> epoch:[2/3] cost: 0.483 test_accuracy: 0.591 test_f1_score: 0.420\n"
     ]
    },
    {
     "name": "stderr",
     "output_type": "stream",
     "text": [
      "100%|██████████| 945/945 [01:51<00:00,  8.46it/s]\n",
      "100%|██████████| 3780/3780 [00:47<00:00, 79.45it/s]\n",
      "  0%|          | 0/945 [00:00<?, ?it/s]"
     ]
    },
    {
     "name": "stdout",
     "output_type": "stream",
     "text": [
      ">> epoch:[3/3] cost: 0.390 test_accuracy: 0.516 test_f1_score: 0.412\n",
      "============ Training Done! ============\n",
      "\n",
      ">> Cross Validation 3 Starts!\n",
      "============ Training Starts! ============\n"
     ]
    },
    {
     "name": "stderr",
     "output_type": "stream",
     "text": [
      "100%|██████████| 945/945 [01:51<00:00,  8.51it/s]\n",
      "100%|██████████| 3780/3780 [00:48<00:00, 77.70it/s]\n",
      "  0%|          | 0/945 [00:00<?, ?it/s]"
     ]
    },
    {
     "name": "stdout",
     "output_type": "stream",
     "text": [
      ">> epoch:[1/3] cost: 0.365 test_accuracy: 0.531 test_f1_score: 0.424\n"
     ]
    },
    {
     "name": "stderr",
     "output_type": "stream",
     "text": [
      "100%|██████████| 945/945 [01:48<00:00,  8.74it/s]\n",
      "100%|██████████| 3780/3780 [00:47<00:00, 78.80it/s]\n",
      "  0%|          | 0/945 [00:00<?, ?it/s]"
     ]
    },
    {
     "name": "stdout",
     "output_type": "stream",
     "text": [
      ">> epoch:[2/3] cost: 0.295 test_accuracy: 0.712 test_f1_score: 0.551\n"
     ]
    },
    {
     "name": "stderr",
     "output_type": "stream",
     "text": [
      "100%|██████████| 945/945 [01:51<00:00,  8.51it/s]\n",
      "100%|██████████| 3780/3780 [00:48<00:00, 77.68it/s]\n",
      "  0%|          | 0/945 [00:00<?, ?it/s]"
     ]
    },
    {
     "name": "stdout",
     "output_type": "stream",
     "text": [
      ">> epoch:[3/3] cost: 0.238 test_accuracy: 0.706 test_f1_score: 0.565\n",
      "============ Training Done! ============\n",
      "\n",
      ">> Cross Validation 4 Starts!\n",
      "============ Training Starts! ============\n"
     ]
    },
    {
     "name": "stderr",
     "output_type": "stream",
     "text": [
      "100%|██████████| 945/945 [01:48<00:00,  8.67it/s]\n",
      "100%|██████████| 3780/3780 [00:47<00:00, 80.37it/s]\n",
      "  0%|          | 0/945 [00:00<?, ?it/s]"
     ]
    },
    {
     "name": "stdout",
     "output_type": "stream",
     "text": [
      ">> epoch:[1/3] cost: 0.260 test_accuracy: 0.829 test_f1_score: 0.720\n"
     ]
    },
    {
     "name": "stderr",
     "output_type": "stream",
     "text": [
      "100%|██████████| 945/945 [01:48<00:00,  8.68it/s]\n",
      "100%|██████████| 3780/3780 [00:47<00:00, 79.95it/s]\n",
      "  0%|          | 0/945 [00:00<?, ?it/s]"
     ]
    },
    {
     "name": "stdout",
     "output_type": "stream",
     "text": [
      ">> epoch:[2/3] cost: 0.204 test_accuracy: 0.832 test_f1_score: 0.715\n"
     ]
    },
    {
     "name": "stderr",
     "output_type": "stream",
     "text": [
      "100%|██████████| 945/945 [01:50<00:00,  8.59it/s]\n",
      "100%|██████████| 3780/3780 [00:46<00:00, 81.40it/s]\n",
      "  0%|          | 0/945 [00:00<?, ?it/s]"
     ]
    },
    {
     "name": "stdout",
     "output_type": "stream",
     "text": [
      ">> epoch:[3/3] cost: 0.173 test_accuracy: 0.825 test_f1_score: 0.710\n",
      "============ Training Done! ============\n",
      "\n",
      ">> Cross Validation 5 Starts!\n",
      "============ Training Starts! ============\n"
     ]
    },
    {
     "name": "stderr",
     "output_type": "stream",
     "text": [
      "100%|██████████| 945/945 [01:47<00:00,  8.76it/s]\n",
      "100%|██████████| 3780/3780 [00:46<00:00, 81.06it/s]\n",
      "  0%|          | 0/945 [00:00<?, ?it/s]"
     ]
    },
    {
     "name": "stdout",
     "output_type": "stream",
     "text": [
      ">> epoch:[1/3] cost: 0.189 test_accuracy: 0.863 test_f1_score: 0.783\n"
     ]
    },
    {
     "name": "stderr",
     "output_type": "stream",
     "text": [
      "100%|██████████| 945/945 [01:47<00:00,  8.80it/s]\n",
      "100%|██████████| 3780/3780 [00:46<00:00, 81.08it/s]\n",
      "  0%|          | 0/945 [00:00<?, ?it/s]"
     ]
    },
    {
     "name": "stdout",
     "output_type": "stream",
     "text": [
      ">> epoch:[2/3] cost: 0.144 test_accuracy: 0.812 test_f1_score: 0.706\n"
     ]
    },
    {
     "name": "stderr",
     "output_type": "stream",
     "text": [
      "100%|██████████| 945/945 [01:50<00:00,  8.54it/s]\n",
      "100%|██████████| 3780/3780 [00:48<00:00, 78.29it/s]\n"
     ]
    },
    {
     "name": "stdout",
     "output_type": "stream",
     "text": [
      ">> epoch:[3/3] cost: 0.124 test_accuracy: 0.837 test_f1_score: 0.721\n",
      "============ Training Done! ============\n",
      "\n"
     ]
    }
   ],
   "source": [
    "cross_validation(df, model2, criterion3, optimizer2)"
   ]
  },
  {
   "cell_type": "markdown",
   "id": "03822a94-9f71-4295-babb-eb0fb84f5754",
   "metadata": {},
   "source": [
    "### 3.3 MadGrad"
   ]
  },
  {
   "cell_type": "code",
   "execution_count": 20,
   "id": "51b5d806-d711-4820-a6c5-20332c3057e7",
   "metadata": {},
   "outputs": [
    {
     "name": "stderr",
     "output_type": "stream",
     "text": [
      "  0%|          | 0/945 [00:00<?, ?it/s]"
     ]
    },
    {
     "name": "stdout",
     "output_type": "stream",
     "text": [
      ">> Cross Validation 1 Starts!\n",
      "============ Training Starts! ============\n"
     ]
    },
    {
     "name": "stderr",
     "output_type": "stream",
     "text": [
      "100%|██████████| 945/945 [01:49<00:00,  8.65it/s]\n",
      "100%|██████████| 3780/3780 [00:45<00:00, 82.97it/s]\n",
      "  0%|          | 0/945 [00:00<?, ?it/s]"
     ]
    },
    {
     "name": "stdout",
     "output_type": "stream",
     "text": [
      ">> epoch:[1/3] cost: 1.548 test_accuracy: 0.569 test_f1_score: 0.434\n"
     ]
    },
    {
     "name": "stderr",
     "output_type": "stream",
     "text": [
      "100%|██████████| 945/945 [01:47<00:00,  8.79it/s]\n",
      "100%|██████████| 3780/3780 [00:47<00:00, 79.73it/s]\n",
      "  0%|          | 0/945 [00:00<?, ?it/s]"
     ]
    },
    {
     "name": "stdout",
     "output_type": "stream",
     "text": [
      ">> epoch:[2/3] cost: 0.891 test_accuracy: 0.723 test_f1_score: 0.491\n"
     ]
    },
    {
     "name": "stderr",
     "output_type": "stream",
     "text": [
      "100%|██████████| 945/945 [01:49<00:00,  8.59it/s]\n",
      "100%|██████████| 3780/3780 [00:46<00:00, 80.71it/s]\n",
      "  0%|          | 0/945 [00:00<?, ?it/s]"
     ]
    },
    {
     "name": "stdout",
     "output_type": "stream",
     "text": [
      ">> epoch:[3/3] cost: 0.685 test_accuracy: 0.733 test_f1_score: 0.538\n",
      "============ Training Done! ============\n",
      "\n",
      ">> Cross Validation 2 Starts!\n",
      "============ Training Starts! ============\n"
     ]
    },
    {
     "name": "stderr",
     "output_type": "stream",
     "text": [
      "100%|██████████| 945/945 [01:48<00:00,  8.68it/s]\n",
      "100%|██████████| 3780/3780 [00:46<00:00, 80.81it/s]\n",
      "  0%|          | 0/945 [00:00<?, ?it/s]"
     ]
    },
    {
     "name": "stdout",
     "output_type": "stream",
     "text": [
      ">> epoch:[1/3] cost: 0.598 test_accuracy: 0.788 test_f1_score: 0.633\n"
     ]
    },
    {
     "name": "stderr",
     "output_type": "stream",
     "text": [
      "100%|██████████| 945/945 [01:48<00:00,  8.70it/s]\n",
      "100%|██████████| 3780/3780 [00:48<00:00, 77.61it/s]\n",
      "  0%|          | 0/945 [00:00<?, ?it/s]"
     ]
    },
    {
     "name": "stdout",
     "output_type": "stream",
     "text": [
      ">> epoch:[2/3] cost: 0.503 test_accuracy: 0.845 test_f1_score: 0.697\n"
     ]
    },
    {
     "name": "stderr",
     "output_type": "stream",
     "text": [
      "100%|██████████| 945/945 [01:50<00:00,  8.58it/s]\n",
      "100%|██████████| 3780/3780 [00:47<00:00, 79.30it/s]\n",
      "  0%|          | 0/945 [00:00<?, ?it/s]"
     ]
    },
    {
     "name": "stdout",
     "output_type": "stream",
     "text": [
      ">> epoch:[3/3] cost: 0.438 test_accuracy: 0.812 test_f1_score: 0.706\n",
      "============ Training Done! ============\n",
      "\n",
      ">> Cross Validation 3 Starts!\n",
      "============ Training Starts! ============\n"
     ]
    },
    {
     "name": "stderr",
     "output_type": "stream",
     "text": [
      "100%|██████████| 945/945 [01:48<00:00,  8.68it/s]\n",
      "100%|██████████| 3780/3780 [00:48<00:00, 78.16it/s]\n",
      "  0%|          | 0/945 [00:00<?, ?it/s]"
     ]
    },
    {
     "name": "stdout",
     "output_type": "stream",
     "text": [
      ">> epoch:[1/3] cost: 0.388 test_accuracy: 0.824 test_f1_score: 0.635\n"
     ]
    },
    {
     "name": "stderr",
     "output_type": "stream",
     "text": [
      "100%|██████████| 945/945 [01:49<00:00,  8.65it/s]\n",
      "100%|██████████| 3780/3780 [00:47<00:00, 79.89it/s]\n",
      "  0%|          | 0/945 [00:00<?, ?it/s]"
     ]
    },
    {
     "name": "stdout",
     "output_type": "stream",
     "text": [
      ">> epoch:[2/3] cost: 0.341 test_accuracy: 0.829 test_f1_score: 0.707\n"
     ]
    },
    {
     "name": "stderr",
     "output_type": "stream",
     "text": [
      "100%|██████████| 945/945 [01:50<00:00,  8.53it/s]\n",
      "100%|██████████| 3780/3780 [00:45<00:00, 82.49it/s]\n",
      "  0%|          | 0/945 [00:00<?, ?it/s]"
     ]
    },
    {
     "name": "stdout",
     "output_type": "stream",
     "text": [
      ">> epoch:[3/3] cost: 0.288 test_accuracy: 0.828 test_f1_score: 0.649\n",
      "============ Training Done! ============\n",
      "\n",
      ">> Cross Validation 4 Starts!\n",
      "============ Training Starts! ============\n"
     ]
    },
    {
     "name": "stderr",
     "output_type": "stream",
     "text": [
      "100%|██████████| 945/945 [01:47<00:00,  8.76it/s]\n",
      "100%|██████████| 3780/3780 [00:46<00:00, 80.66it/s]\n",
      "  0%|          | 0/945 [00:00<?, ?it/s]"
     ]
    },
    {
     "name": "stdout",
     "output_type": "stream",
     "text": [
      ">> epoch:[1/3] cost: 0.314 test_accuracy: 0.815 test_f1_score: 0.621\n"
     ]
    },
    {
     "name": "stderr",
     "output_type": "stream",
     "text": [
      "100%|██████████| 945/945 [01:47<00:00,  8.81it/s]\n",
      "100%|██████████| 3780/3780 [00:46<00:00, 80.50it/s]\n",
      "  0%|          | 0/945 [00:00<?, ?it/s]"
     ]
    },
    {
     "name": "stdout",
     "output_type": "stream",
     "text": [
      ">> epoch:[2/3] cost: 0.253 test_accuracy: 0.858 test_f1_score: 0.763\n"
     ]
    },
    {
     "name": "stderr",
     "output_type": "stream",
     "text": [
      "100%|██████████| 945/945 [01:48<00:00,  8.69it/s]\n",
      "100%|██████████| 3780/3780 [00:47<00:00, 80.42it/s]\n",
      "  0%|          | 0/945 [00:00<?, ?it/s]"
     ]
    },
    {
     "name": "stdout",
     "output_type": "stream",
     "text": [
      ">> epoch:[3/3] cost: 0.202 test_accuracy: 0.876 test_f1_score: 0.789\n",
      "============ Training Done! ============\n",
      "\n",
      ">> Cross Validation 5 Starts!\n",
      "============ Training Starts! ============\n"
     ]
    },
    {
     "name": "stderr",
     "output_type": "stream",
     "text": [
      "100%|██████████| 945/945 [01:48<00:00,  8.71it/s]\n",
      "100%|██████████| 3780/3780 [00:45<00:00, 82.81it/s]\n",
      "  0%|          | 0/945 [00:00<?, ?it/s]"
     ]
    },
    {
     "name": "stdout",
     "output_type": "stream",
     "text": [
      ">> epoch:[1/3] cost: 0.247 test_accuracy: 0.907 test_f1_score: 0.854\n"
     ]
    },
    {
     "name": "stderr",
     "output_type": "stream",
     "text": [
      "100%|██████████| 945/945 [01:47<00:00,  8.80it/s]\n",
      "100%|██████████| 3780/3780 [00:46<00:00, 81.35it/s]\n",
      "  0%|          | 0/945 [00:00<?, ?it/s]"
     ]
    },
    {
     "name": "stdout",
     "output_type": "stream",
     "text": [
      ">> epoch:[2/3] cost: 0.178 test_accuracy: 0.878 test_f1_score: 0.817\n"
     ]
    },
    {
     "name": "stderr",
     "output_type": "stream",
     "text": [
      "100%|██████████| 945/945 [01:47<00:00,  8.81it/s]\n",
      "100%|██████████| 3780/3780 [00:46<00:00, 82.11it/s]\n"
     ]
    },
    {
     "name": "stdout",
     "output_type": "stream",
     "text": [
      ">> epoch:[3/3] cost: 0.170 test_accuracy: 0.890 test_f1_score: 0.818\n",
      "============ Training Done! ============\n",
      "\n"
     ]
    }
   ],
   "source": [
    "cross_validation(df, model3, criterion3, optimizer3)"
   ]
  },
  {
   "cell_type": "markdown",
   "id": "46da76e4-b273-4960-815a-841ab4a6db4e",
   "metadata": {},
   "source": []
  }
 ],
 "metadata": {
  "kernelspec": {
   "display_name": "Python 3 (ipykernel)",
   "language": "python",
   "name": "python3"
  },
  "language_info": {
   "codemirror_mode": {
    "name": "ipython",
    "version": 3
   },
   "file_extension": ".py",
   "mimetype": "text/x-python",
   "name": "python",
   "nbconvert_exporter": "python",
   "pygments_lexer": "ipython3",
   "version": "3.8.5"
  }
 },
 "nbformat": 4,
 "nbformat_minor": 5
}
