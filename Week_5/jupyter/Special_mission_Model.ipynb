{
 "cells": [
  {
   "cell_type": "code",
   "execution_count": 1,
   "id": "906cd62a-72d5-4e38-9ff5-0259b5d7e79a",
   "metadata": {},
   "outputs": [],
   "source": [
    "import torch\n",
    "import torch.nn as nn"
   ]
  },
  {
   "cell_type": "code",
   "execution_count": 2,
   "id": "6c511a95-2181-4b9e-a677-b8335d697cdc",
   "metadata": {},
   "outputs": [],
   "source": [
    "def conv_batch(in_num, out_num, kernel_size=3, padding=1, stride=1):\n",
    "    return nn.Sequential(\n",
    "        nn.Conv2d(in_num, out_num, kernel_size=kernel_size, stride=stride, padding=padding, bias=False),\n",
    "        nn.BatchNorm2d(out_num),\n",
    "        nn.LeakyReLU(),\n",
    "    )"
   ]
  },
  {
   "cell_type": "code",
   "execution_count": 3,
   "id": "81131bf2-b021-4b86-8010-97fccd548936",
   "metadata": {},
   "outputs": [],
   "source": [
    "# Residual Block\n",
    "class DarkResidualBlock(nn.Module):\n",
    "    def __init__(self, in_channels):\n",
    "        super(DarkResidualBlock, self).__init__()\n",
    "        \n",
    "        reduced_channels = int(in_channels / 2)\n",
    "        \n",
    "        self.layer1 = conv_batch(in_channels, reduced_channels, kernel_size=1, padding=1)\n",
    "        self.layer2 = conv_batch(reduced_channels, in_channels)\n",
    "        \n",
    "    def forward(self, x):\n",
    "        residual = x\n",
    "        \n",
    "        out = self.layer1(x)\n",
    "        out = self.layer2(out)\n",
    "        out += residual\n",
    "        return out"
   ]
  },
  {
   "cell_type": "code",
   "execution_count": 4,
   "id": "76283e5e-ee79-402b-9c1b-cff4e52e6b45",
   "metadata": {},
   "outputs": [],
   "source": [
    "# darknet 53\n",
    "class Darknet53(nn.Module):\n",
    "    def __init__(self, block, num_classes):\n",
    "        super(Darknet53, self).__init__()\n",
    "        \n",
    "        self.num_classes = num_classes\n",
    "        \n",
    "        self.conv1 = conv_batch(3, 32)\n",
    "        self.conv2 = conv_batch(32, 64, stride=2)\n",
    "        self.residual_block1 = self.make_layer(block, in_channels=64, num_blocks=1)\n",
    "        self.conv3 = conv_batch(64, 128, stride=2)\n",
    "        self.residual_block2 = self.make_layer(block, in_channels=128, num_blocks=2)\n",
    "        self.conv4 = conv_batch(128, 256, stride=2)\n",
    "        self.residual_block3 = self.make_layer(block, in_channels=256, num_blocks=8)\n",
    "        self.conv5 = conv_batch(256, 512, stride=2)\n",
    "        self.residual_block4 = self.make_layer(block, in_channels=512, num_blocks=8)\n",
    "        self.conv6 = conv_batch(512, 1024, stride=2)\n",
    "        self.residual_block5 = self.make_layer(block, in_channels=1024, num_blocks=4)\n",
    "        self.global_avg_pool = nn.AdaptiveAvgPool2d((1, 1))\n",
    "        self.fc = nn.Linaer(1024, self.num_classes)\n",
    "        \n",
    "    def forward(self, x):\n",
    "        out = self.conv1(x)\n",
    "        out = self.conv2(out)\n",
    "        out = self.residual_block1(out)\n",
    "        out = self.conv3(out)\n",
    "        out = self.residual_block2(out)\n",
    "        out = self.conv4(out)\n",
    "        out = self.residual_block3(out)\n",
    "        out = self.conv5(out)\n",
    "        out = self.residual_block4(out)\n",
    "        out = self.conv6(out)\n",
    "        out = self.residual_block5(out)\n",
    "        out = self.global_avg_pool(out)\n",
    "        out = out.view(-1, 1024)\n",
    "        out = self.fc(out)\n",
    "        return out\n",
    "        \n",
    "    def make_layer(self, block, in_channels, num_blocks):\n",
    "        layers = []\n",
    "        for i in range(0, num_blocks):\n",
    "            layers.append(block(in_channels))\n",
    "        return nn.Sequential(*layers)"
   ]
  },
  {
   "cell_type": "code",
   "execution_count": null,
   "id": "470f1552-8a86-49d9-a3e4-9c49bb3d6323",
   "metadata": {},
   "outputs": [],
   "source": []
  }
 ],
 "metadata": {
  "kernelspec": {
   "display_name": "Python 3 (ipykernel)",
   "language": "python",
   "name": "python3"
  },
  "language_info": {
   "codemirror_mode": {
    "name": "ipython",
    "version": 3
   },
   "file_extension": ".py",
   "mimetype": "text/x-python",
   "name": "python",
   "nbconvert_exporter": "python",
   "pygments_lexer": "ipython3",
   "version": "3.8.5"
  }
 },
 "nbformat": 4,
 "nbformat_minor": 5
}
