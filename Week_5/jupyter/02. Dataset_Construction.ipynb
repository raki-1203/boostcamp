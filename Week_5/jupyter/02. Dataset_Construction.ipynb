{
 "cells": [
  {
   "cell_type": "markdown",
   "id": "063b103b-df72-4fa2-9d9f-3a1f8dc16981",
   "metadata": {},
   "source": [
    "# Dataset Construction"
   ]
  },
  {
   "cell_type": "code",
   "execution_count": 1,
   "id": "c6d94317-070a-4c7c-a123-978cc474f5cb",
   "metadata": {},
   "outputs": [
    {
     "name": "stdout",
     "output_type": "stream",
     "text": [
      "Pytorch version: 1.7.1\n",
      "This notebook use cuda:0\n"
     ]
    }
   ],
   "source": [
    "import os\n",
    "import sys\n",
    "import pickle\n",
    "import glob\n",
    "import time\n",
    "from tqdm import tqdm\n",
    "from collections import Counter\n",
    "\n",
    "# data preprocessing\n",
    "import cv2\n",
    "import numpy as np\n",
    "import pandas as pd\n",
    "\n",
    "# data visualization\n",
    "import matplotlib.pyplot as plt\n",
    "import seaborn as sns\n",
    "from PIL import Image\n",
    "%matplotlib inline\n",
    "\n",
    "# pytorch\n",
    "import torch\n",
    "import torch.nn as nn\n",
    "import torch.optim as optim\n",
    "import torch.nn.functional as F\n",
    "from torchvision import datasets, transforms, models, utils\n",
    "from torch.utils.data import Dataset, DataLoader, random_split\n",
    "print(f'Pytorch version: {torch.__version__}')\n",
    "\n",
    "# Device setting\n",
    "device = torch.device('cuda:0' if torch.cuda.is_available() else 'cpu')\n",
    "print(f'This notebook use {device}')\n",
    "\n",
    "# ignore warnings\n",
    "import warnings\n",
    "warnings.filterwarnings('ignore')"
   ]
  },
  {
   "cell_type": "code",
   "execution_count": 2,
   "id": "4c1bd8d0-d71d-4875-bf5e-46c0a78b1bed",
   "metadata": {},
   "outputs": [
    {
     "name": "stdout",
     "output_type": "stream",
     "text": [
      "/opt/ml/code/jupyter\n"
     ]
    }
   ],
   "source": [
    "!pwd"
   ]
  },
  {
   "cell_type": "code",
   "execution_count": 8,
   "id": "7bd58b6d-8bc2-4ebc-8d34-eae5520f297d",
   "metadata": {},
   "outputs": [],
   "source": [
    "# 파일 경로 사용자 정의\n",
    "class path:\n",
    "    data = '/opt/ml/input/original_data'\n",
    "    train = f'{data}/train'\n",
    "    train_img = f'{train}/images'\n",
    "    train_df = f'{train}/train.csv'\n",
    "    test = f'{data}/eval'\n",
    "    test_img = f'{test}/images'\n",
    "    test_df = f'{test}/info.csv'"
   ]
  },
  {
   "cell_type": "markdown",
   "id": "1be6609c-3be1-4b93-b2c1-f816aefc1b89",
   "metadata": {},
   "source": [
    "## 1. Check file extensions\n",
    "\n",
    "- 이미지 폴더에 있는 모든 확장자명 뽑아보기"
   ]
  },
  {
   "cell_type": "code",
   "execution_count": 10,
   "id": "506cccc5-7f26-4b47-b5c7-fa8dad0afaca",
   "metadata": {},
   "outputs": [],
   "source": [
    "folders = glob.glob(f'{path.train_img}/*')\n",
    "file_exts = []\n",
    "for folder_name in folders:\n",
    "    files = glob.glob(f'{folder_name}/*')\n",
    "    for file_name in files:\n",
    "        ext = file_name.split('.')[-1].lower()\n",
    "        file_exts.append(ext)"
   ]
  },
  {
   "cell_type": "code",
   "execution_count": 11,
   "id": "b777f27c-4ee4-42f8-9699-96b4c1bd20db",
   "metadata": {},
   "outputs": [
    {
     "name": "stdout",
     "output_type": "stream",
     "text": [
      ".jpg 의 개수: 18035\n",
      ".jpeg의 개수: 354\n",
      ".png 의 개수: 511\n"
     ]
    }
   ],
   "source": [
    "for ext, count in Counter(file_exts).items():\n",
    "    print(f'.{ext:4}의 개수: {count}')"
   ]
  },
  {
   "cell_type": "markdown",
   "id": "a15ed5f4-693f-473c-9052-1b958c8af211",
   "metadata": {},
   "source": [
    "대부분의 파일이 .jpg인 것을 볼 수 있음\n",
    "\n",
    "약 900개 정도가 다른 확장자명인 것을 볼 수 있음\n",
    "\n",
    "하지만 파일을 불러올 때 큰 이상은 없으므로 변경하지 안히골 결정!"
   ]
  },
  {
   "cell_type": "markdown",
   "id": "4cdb9f1d-c303-49c0-a01d-554a205375d2",
   "metadata": {},
   "source": [
    "## 2. Create trai_modified.csv\n",
    "\n",
    "- 피처의 조합별 클래스 정의"
   ]
  },
  {
   "cell_type": "code",
   "execution_count": 15,
   "id": "5a5d4f6b-91ac-4392-975b-618bd37cc2aa",
   "metadata": {},
   "outputs": [
    {
     "data": {
      "text/plain": [
       "{('wear', 'male', 0): 0,\n",
       " ('wear', 'male', 1): 1,\n",
       " ('wear', 'male', 2): 2,\n",
       " ('wear', 'female', 0): 3,\n",
       " ('wear', 'female', 1): 4,\n",
       " ('wear', 'female', 2): 5,\n",
       " ('incorrect', 'male', 0): 6,\n",
       " ('incorrect', 'male', 1): 7,\n",
       " ('incorrect', 'male', 2): 8,\n",
       " ('incorrect', 'female', 0): 9,\n",
       " ('incorrect', 'female', 1): 10,\n",
       " ('incorrect', 'female', 2): 11,\n",
       " ('not wear', 'male', 0): 12,\n",
       " ('not wear', 'male', 1): 13,\n",
       " ('not wear', 'male', 2): 14,\n",
       " ('not wear', 'female', 0): 15,\n",
       " ('not wear', 'female', 1): 16,\n",
       " ('not wear', 'female', 2): 17}"
      ]
     },
     "execution_count": 15,
     "metadata": {},
     "output_type": "execute_result"
    }
   ],
   "source": [
    "from itertools import product\n",
    "\n",
    "mask = ['wear', 'incorrect', 'not wear']\n",
    "gender = ['male', 'female']\n",
    "age_bin = [0, 1, 2]\n",
    "\n",
    "combs = list(product(mask, gender, age_bin))\n",
    "num2class = {idx: value for idx, value in enumerate(combs)}\n",
    "class2num = {value: idx for idx, value in enumerate(combs)}\n",
    "class2num"
   ]
  },
  {
   "cell_type": "markdown",
   "id": "f2c406bf-f7b9-43fa-ab36-055c1619fbe9",
   "metadata": {},
   "source": [
    "- 파일명을 가지고 새로운 데이터프레임 생성"
   ]
  },
  {
   "cell_type": "code",
   "execution_count": 16,
   "id": "3330daf7-3dd0-4d52-9534-fccd453f570c",
   "metadata": {},
   "outputs": [],
   "source": [
    "def get_mask_value(x):\n",
    "    if x == 'incorrect_mask':\n",
    "        return 'incorrect'\n",
    "    elif x == 'normal':\n",
    "        return 'not wear'\n",
    "    else:\n",
    "        return 'wear'"
   ]
  },
  {
   "cell_type": "code",
   "execution_count": 18,
   "id": "aaf31716-da69-4296-9188-401de64fda88",
   "metadata": {},
   "outputs": [],
   "source": [
    "info_dict = {'age': [], 'gender': [], 'mask': [], 'path': []}\n",
    "\n",
    "for folder_name in folders:\n",
    "    elem = folder_name.split('/')[-1].split('_')\n",
    "    gender, age = elem[1], int(elem[-1])\n",
    "    files = glob.glob(f'{folder_name}/*')\n",
    "    for file_path in files:\n",
    "        file_name = file_path.split('/')[-1].split('.')[0]\n",
    "        info_dict['age'].append(age)\n",
    "        info_dict['gender'].append(gender)\n",
    "        info_dict['mask'].append(get_mask_value(file_name))\n",
    "        info_dict['path'].append(file_path)"
   ]
  },
  {
   "cell_type": "code",
   "execution_count": 19,
   "id": "9a5b8514-6912-44bc-ad8e-dfef6a683464",
   "metadata": {},
   "outputs": [
    {
     "data": {
      "text/html": [
       "<div>\n",
       "<style scoped>\n",
       "    .dataframe tbody tr th:only-of-type {\n",
       "        vertical-align: middle;\n",
       "    }\n",
       "\n",
       "    .dataframe tbody tr th {\n",
       "        vertical-align: top;\n",
       "    }\n",
       "\n",
       "    .dataframe thead th {\n",
       "        text-align: right;\n",
       "    }\n",
       "</style>\n",
       "<table border=\"1\" class=\"dataframe\">\n",
       "  <thead>\n",
       "    <tr style=\"text-align: right;\">\n",
       "      <th></th>\n",
       "      <th>age</th>\n",
       "      <th>gender</th>\n",
       "      <th>mask</th>\n",
       "      <th>path</th>\n",
       "    </tr>\n",
       "  </thead>\n",
       "  <tbody>\n",
       "    <tr>\n",
       "      <th>0</th>\n",
       "      <td>21</td>\n",
       "      <td>male</td>\n",
       "      <td>incorrect</td>\n",
       "      <td>/opt/ml/input/original_data/train/images/00127...</td>\n",
       "    </tr>\n",
       "    <tr>\n",
       "      <th>1</th>\n",
       "      <td>21</td>\n",
       "      <td>male</td>\n",
       "      <td>wear</td>\n",
       "      <td>/opt/ml/input/original_data/train/images/00127...</td>\n",
       "    </tr>\n",
       "    <tr>\n",
       "      <th>2</th>\n",
       "      <td>21</td>\n",
       "      <td>male</td>\n",
       "      <td>wear</td>\n",
       "      <td>/opt/ml/input/original_data/train/images/00127...</td>\n",
       "    </tr>\n",
       "    <tr>\n",
       "      <th>3</th>\n",
       "      <td>21</td>\n",
       "      <td>male</td>\n",
       "      <td>not wear</td>\n",
       "      <td>/opt/ml/input/original_data/train/images/00127...</td>\n",
       "    </tr>\n",
       "    <tr>\n",
       "      <th>4</th>\n",
       "      <td>21</td>\n",
       "      <td>male</td>\n",
       "      <td>wear</td>\n",
       "      <td>/opt/ml/input/original_data/train/images/00127...</td>\n",
       "    </tr>\n",
       "  </tbody>\n",
       "</table>\n",
       "</div>"
      ],
      "text/plain": [
       "   age gender       mask                                               path\n",
       "0   21   male  incorrect  /opt/ml/input/original_data/train/images/00127...\n",
       "1   21   male       wear  /opt/ml/input/original_data/train/images/00127...\n",
       "2   21   male       wear  /opt/ml/input/original_data/train/images/00127...\n",
       "3   21   male   not wear  /opt/ml/input/original_data/train/images/00127...\n",
       "4   21   male       wear  /opt/ml/input/original_data/train/images/00127..."
      ]
     },
     "execution_count": 19,
     "metadata": {},
     "output_type": "execute_result"
    }
   ],
   "source": [
    "df = pd.DataFrame(info_dict)\n",
    "df.head()"
   ]
  },
  {
   "cell_type": "markdown",
   "id": "96fe8864-eb65-4fc1-b664-cf10bf5a2b80",
   "metadata": {},
   "source": [
    "- age_bin 피처 생성: \"30대 미만\" = 0, \"30대 이상, 60대 미만\" = 1, \"60대 이상\" = 2 로 설정"
   ]
  },
  {
   "cell_type": "code",
   "execution_count": 22,
   "id": "5914b871-8469-4752-aaf0-bb37bb08132e",
   "metadata": {},
   "outputs": [
    {
     "data": {
      "text/html": [
       "<div>\n",
       "<style scoped>\n",
       "    .dataframe tbody tr th:only-of-type {\n",
       "        vertical-align: middle;\n",
       "    }\n",
       "\n",
       "    .dataframe tbody tr th {\n",
       "        vertical-align: top;\n",
       "    }\n",
       "\n",
       "    .dataframe thead th {\n",
       "        text-align: right;\n",
       "    }\n",
       "</style>\n",
       "<table border=\"1\" class=\"dataframe\">\n",
       "  <thead>\n",
       "    <tr style=\"text-align: right;\">\n",
       "      <th></th>\n",
       "      <th>age</th>\n",
       "      <th>gender</th>\n",
       "      <th>mask</th>\n",
       "      <th>path</th>\n",
       "      <th>age_bin</th>\n",
       "    </tr>\n",
       "  </thead>\n",
       "  <tbody>\n",
       "    <tr>\n",
       "      <th>0</th>\n",
       "      <td>21</td>\n",
       "      <td>male</td>\n",
       "      <td>incorrect</td>\n",
       "      <td>/opt/ml/input/original_data/train/images/00127...</td>\n",
       "      <td>0</td>\n",
       "    </tr>\n",
       "    <tr>\n",
       "      <th>1</th>\n",
       "      <td>21</td>\n",
       "      <td>male</td>\n",
       "      <td>wear</td>\n",
       "      <td>/opt/ml/input/original_data/train/images/00127...</td>\n",
       "      <td>0</td>\n",
       "    </tr>\n",
       "    <tr>\n",
       "      <th>2</th>\n",
       "      <td>21</td>\n",
       "      <td>male</td>\n",
       "      <td>wear</td>\n",
       "      <td>/opt/ml/input/original_data/train/images/00127...</td>\n",
       "      <td>0</td>\n",
       "    </tr>\n",
       "    <tr>\n",
       "      <th>3</th>\n",
       "      <td>21</td>\n",
       "      <td>male</td>\n",
       "      <td>not wear</td>\n",
       "      <td>/opt/ml/input/original_data/train/images/00127...</td>\n",
       "      <td>0</td>\n",
       "    </tr>\n",
       "    <tr>\n",
       "      <th>4</th>\n",
       "      <td>21</td>\n",
       "      <td>male</td>\n",
       "      <td>wear</td>\n",
       "      <td>/opt/ml/input/original_data/train/images/00127...</td>\n",
       "      <td>0</td>\n",
       "    </tr>\n",
       "  </tbody>\n",
       "</table>\n",
       "</div>"
      ],
      "text/plain": [
       "   age gender       mask                                               path  \\\n",
       "0   21   male  incorrect  /opt/ml/input/original_data/train/images/00127...   \n",
       "1   21   male       wear  /opt/ml/input/original_data/train/images/00127...   \n",
       "2   21   male       wear  /opt/ml/input/original_data/train/images/00127...   \n",
       "3   21   male   not wear  /opt/ml/input/original_data/train/images/00127...   \n",
       "4   21   male       wear  /opt/ml/input/original_data/train/images/00127...   \n",
       "\n",
       "   age_bin  \n",
       "0        0  \n",
       "1        0  \n",
       "2        0  \n",
       "3        0  \n",
       "4        0  "
      ]
     },
     "execution_count": 22,
     "metadata": {},
     "output_type": "execute_result"
    }
   ],
   "source": [
    "def get_age_bin(x):\n",
    "    if x < 30:\n",
    "        return 0\n",
    "    elif x >= 30 and x < 60:\n",
    "        return 1\n",
    "    else:\n",
    "        return 2\n",
    "    \n",
    "df['age_bin'] = df.age.map(get_age_bin)\n",
    "df.head()"
   ]
  },
  {
   "cell_type": "markdown",
   "id": "74762eca-5969-447c-bc29-09706e940c42",
   "metadata": {},
   "source": [
    "- gender, mask, age_bin 을 가지고 각 데이터별 라벨 계산"
   ]
  },
  {
   "cell_type": "code",
   "execution_count": 23,
   "id": "eebf9e77-2aa1-4da7-a0d4-d4b3f598c062",
   "metadata": {},
   "outputs": [
    {
     "data": {
      "text/html": [
       "<div>\n",
       "<style scoped>\n",
       "    .dataframe tbody tr th:only-of-type {\n",
       "        vertical-align: middle;\n",
       "    }\n",
       "\n",
       "    .dataframe tbody tr th {\n",
       "        vertical-align: top;\n",
       "    }\n",
       "\n",
       "    .dataframe thead th {\n",
       "        text-align: right;\n",
       "    }\n",
       "</style>\n",
       "<table border=\"1\" class=\"dataframe\">\n",
       "  <thead>\n",
       "    <tr style=\"text-align: right;\">\n",
       "      <th></th>\n",
       "      <th>age</th>\n",
       "      <th>gender</th>\n",
       "      <th>mask</th>\n",
       "      <th>path</th>\n",
       "      <th>age_bin</th>\n",
       "      <th>target</th>\n",
       "    </tr>\n",
       "  </thead>\n",
       "  <tbody>\n",
       "    <tr>\n",
       "      <th>0</th>\n",
       "      <td>21</td>\n",
       "      <td>male</td>\n",
       "      <td>incorrect</td>\n",
       "      <td>/opt/ml/input/original_data/train/images/00127...</td>\n",
       "      <td>0</td>\n",
       "      <td>6</td>\n",
       "    </tr>\n",
       "    <tr>\n",
       "      <th>1</th>\n",
       "      <td>21</td>\n",
       "      <td>male</td>\n",
       "      <td>wear</td>\n",
       "      <td>/opt/ml/input/original_data/train/images/00127...</td>\n",
       "      <td>0</td>\n",
       "      <td>0</td>\n",
       "    </tr>\n",
       "    <tr>\n",
       "      <th>2</th>\n",
       "      <td>21</td>\n",
       "      <td>male</td>\n",
       "      <td>wear</td>\n",
       "      <td>/opt/ml/input/original_data/train/images/00127...</td>\n",
       "      <td>0</td>\n",
       "      <td>0</td>\n",
       "    </tr>\n",
       "    <tr>\n",
       "      <th>3</th>\n",
       "      <td>21</td>\n",
       "      <td>male</td>\n",
       "      <td>not wear</td>\n",
       "      <td>/opt/ml/input/original_data/train/images/00127...</td>\n",
       "      <td>0</td>\n",
       "      <td>12</td>\n",
       "    </tr>\n",
       "    <tr>\n",
       "      <th>4</th>\n",
       "      <td>21</td>\n",
       "      <td>male</td>\n",
       "      <td>wear</td>\n",
       "      <td>/opt/ml/input/original_data/train/images/00127...</td>\n",
       "      <td>0</td>\n",
       "      <td>0</td>\n",
       "    </tr>\n",
       "  </tbody>\n",
       "</table>\n",
       "</div>"
      ],
      "text/plain": [
       "   age gender       mask                                               path  \\\n",
       "0   21   male  incorrect  /opt/ml/input/original_data/train/images/00127...   \n",
       "1   21   male       wear  /opt/ml/input/original_data/train/images/00127...   \n",
       "2   21   male       wear  /opt/ml/input/original_data/train/images/00127...   \n",
       "3   21   male   not wear  /opt/ml/input/original_data/train/images/00127...   \n",
       "4   21   male       wear  /opt/ml/input/original_data/train/images/00127...   \n",
       "\n",
       "   age_bin  target  \n",
       "0        0       6  \n",
       "1        0       0  \n",
       "2        0       0  \n",
       "3        0      12  \n",
       "4        0       0  "
      ]
     },
     "execution_count": 23,
     "metadata": {},
     "output_type": "execute_result"
    }
   ],
   "source": [
    "df['target'] = df.apply(lambda x: class2num[(x['mask'], x['gender'], x['age_bin'])], axis=1)\n",
    "df.head()"
   ]
  },
  {
   "cell_type": "code",
   "execution_count": 24,
   "id": "a79aa56f-6150-44c3-8994-55ead4e4fab5",
   "metadata": {},
   "outputs": [
    {
     "data": {
      "text/plain": [
       "4     4085\n",
       "3     3660\n",
       "0     2745\n",
       "1     2050\n",
       "16     817\n",
       "10     817\n",
       "15     732\n",
       "9      732\n",
       "12     549\n",
       "6      549\n",
       "5      545\n",
       "2      415\n",
       "7      410\n",
       "13     410\n",
       "11     109\n",
       "17     109\n",
       "8       83\n",
       "14      83\n",
       "Name: target, dtype: int64"
      ]
     },
     "execution_count": 24,
     "metadata": {},
     "output_type": "execute_result"
    }
   ],
   "source": [
    "df['target'].value_counts()"
   ]
  },
  {
   "cell_type": "markdown",
   "id": "d29daf81-195f-4439-85ca-baa379077ae5",
   "metadata": {},
   "source": [
    "- train_modified.csv 로 저장"
   ]
  },
  {
   "cell_type": "code",
   "execution_count": 25,
   "id": "f27ee1e4-7f4e-4a14-83ab-d2c4f374cddb",
   "metadata": {},
   "outputs": [],
   "source": [
    "df.to_csv(f'{path.train}/train_modified.csv', mode='w', index=False)"
   ]
  },
  {
   "cell_type": "markdown",
   "id": "ac657b8e-76cc-4030-86dd-c5dadf28911d",
   "metadata": {},
   "source": [
    "## 3. Create dataset for model"
   ]
  },
  {
   "cell_type": "code",
   "execution_count": 26,
   "id": "a780a4de-d46b-4ba6-9bf4-aecd07118028",
   "metadata": {},
   "outputs": [],
   "source": [
    "class MaskDataset(Dataset):\n",
    "    def __init__(self, csv_file, transform=None):\n",
    "        self.data = pd.read_csv(csv_file)\n",
    "        self.transform = transform\n",
    "        \n",
    "    def __getitem__(self, idx):\n",
    "        current_data = self.data.iloc[idx]\n",
    "        target = current_data.target\n",
    "        img = np.array(Image.open(current_data.path))\n",
    "        \n",
    "        if self.transform:\n",
    "            img = self.transform(img)\n",
    "            \n",
    "        return img, target\n",
    "    \n",
    "    def __len__(self):\n",
    "        return len(self.data)"
   ]
  },
  {
   "cell_type": "code",
   "execution_count": 27,
   "id": "37247a6e-51be-4004-ba8b-7998871c2536",
   "metadata": {},
   "outputs": [
    {
     "name": "stdout",
     "output_type": "stream",
     "text": [
      "Size of dataset : 18900\n",
      "Shape of image : (512, 384, 3)\n"
     ]
    }
   ],
   "source": [
    "dataset = MaskDataset(f'{path.train}/train_modified.csv')\n",
    "print('Size of dataset :', len(dataset))\n",
    "print('Shape of image :', dataset[0][0].shape)"
   ]
  },
  {
   "cell_type": "code",
   "execution_count": null,
   "id": "9546682a-0f2a-43fb-a59e-7c9b019e39c1",
   "metadata": {},
   "outputs": [],
   "source": [
    "# 이미지 확인하기\n",
    "img = Image.fromarray(dataset[0][0])\n",
    "img"
   ]
  },
  {
   "cell_type": "code",
   "execution_count": null,
   "id": "70afb329-a773-4ae4-a240-9bc6ee1bd39b",
   "metadata": {},
   "outputs": [],
   "source": []
  }
 ],
 "metadata": {
  "kernelspec": {
   "display_name": "Python 3 (ipykernel)",
   "language": "python",
   "name": "python3"
  },
  "language_info": {
   "codemirror_mode": {
    "name": "ipython",
    "version": 3
   },
   "file_extension": ".py",
   "mimetype": "text/x-python",
   "name": "python",
   "nbconvert_exporter": "python",
   "pygments_lexer": "ipython3",
   "version": "3.8.5"
  }
 },
 "nbformat": 4,
 "nbformat_minor": 5
}
