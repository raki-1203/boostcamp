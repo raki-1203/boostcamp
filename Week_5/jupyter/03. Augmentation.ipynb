{
 "cells": [
  {
   "cell_type": "markdown",
   "id": "b2f73041-694f-49eb-9b4d-de4fe1814b4c",
   "metadata": {},
   "source": [
    "# Experiment 1: Augmentation"
   ]
  },
  {
   "cell_type": "code",
   "execution_count": 56,
   "id": "021d2235-4987-4143-ae79-98cb81584072",
   "metadata": {},
   "outputs": [
    {
     "name": "stdout",
     "output_type": "stream",
     "text": [
      "PyTorch version: 1.7.1\n",
      "This notebook use cuda:0\n"
     ]
    }
   ],
   "source": [
    "import os\n",
    "import sys\n",
    "import pickle\n",
    "import glob\n",
    "import time\n",
    "from tqdm.notebook import tqdm\n",
    "from collections import Counter\n",
    "from sklearn.metrics import f1_score, accuracy_score\n",
    "\n",
    "# Data preprocessing\n",
    "import cv2\n",
    "import numpy as np\n",
    "import pandas as pd\n",
    "\n",
    "# data visualization\n",
    "import matplotlib.pyplot as plt\n",
    "import seaborn as sns\n",
    "from PIL import Image\n",
    "%matplotlib inline\n",
    "\n",
    "# pytorch\n",
    "import torch\n",
    "import torch.nn as nn\n",
    "import torch.optim as optim\n",
    "from torch.utils.data import Dataset, DataLoader, random_split\n",
    "import torchvision\n",
    "from torchvision import datasets, transforms\n",
    "torch.manual_seed(0)\n",
    "print(f'PyTorch version: {torch.__version__}')\n",
    "\n",
    "# device setting\n",
    "device = torch.device('cuda:0' if torch.cuda.is_available() else 'cpu')\n",
    "print(f'This notebook use {device}')\n",
    "\n",
    "# ignore warnings\n",
    "import warnings\n",
    "warnings.filterwarnings('ignore')"
   ]
  },
  {
   "cell_type": "code",
   "execution_count": 6,
   "id": "20986cbf-4497-4817-8a95-645fd26b50f3",
   "metadata": {},
   "outputs": [],
   "source": [
    "# 파일 경로 사용자 정의\n",
    "class path:\n",
    "    data = '/opt/ml/input/original_data'\n",
    "    train = f'{data}/train'\n",
    "    train_img = f'{train}/images'\n",
    "    train_df = f'{train}/train.csv'\n",
    "    test = f'{data}/eval'\n",
    "    test_img = f'{test}/images'\n",
    "    test_df = f'{test}/info.csv'"
   ]
  },
  {
   "cell_type": "code",
   "execution_count": 7,
   "id": "c981dbf8-3810-48f9-a847-f794ab374743",
   "metadata": {},
   "outputs": [],
   "source": [
    "BATCH_SIZE = 16\n",
    "NUM_WORKERS = 2\n",
    "LEARNING_RATE = 1e-4\n",
    "EPOCHS = 3"
   ]
  },
  {
   "cell_type": "markdown",
   "id": "fbbf7664-a916-493a-9952-2ec0775f15d4",
   "metadata": {},
   "source": [
    "## 1. Dataset Construction"
   ]
  },
  {
   "cell_type": "code",
   "execution_count": 8,
   "id": "f3b5628e-98ea-4fda-bb16-24bfa059ecb3",
   "metadata": {},
   "outputs": [],
   "source": [
    "class MaskDataset(Dataset):\n",
    "    def __init__(self, csv_file, transform=None):\n",
    "        self.data = pd.read_csv(csv_file)\n",
    "        self.transform = transform\n",
    "        \n",
    "    def set_transform(self, transform):\n",
    "        self.transform = transform\n",
    "        \n",
    "    def __getitem__(self, idx):\n",
    "        current_data = self.data.iloc[idx]\n",
    "        target = current_data.target\n",
    "        image = Image.open(current_data.path)\n",
    "        \n",
    "        if self.transform:\n",
    "            image = self.transform(image)\n",
    "            \n",
    "        return image, target\n",
    "    def __len__(self):\n",
    "        return len(self.data)"
   ]
  },
  {
   "cell_type": "markdown",
   "id": "5ad11054-3371-46a0-bd42-028fed5f674e",
   "metadata": {},
   "source": [
    "## 2. Augmentation Methods\n",
    "\n",
    "- RandomHorizontalFlip\n",
    "- CenterCrop\n",
    "- RandomCrop\n",
    "- Resize\n",
    "- Normalize: ToTensor() 이후에 사용\n",
    "- Color Jitter - Brightness\n",
    "- Color Jitter - Contrast\n",
    "- Color Jitter - Saturation\n",
    "- To Tensor\n",
    "- GrayScale\n",
    "- FiveCrop, TenCrop\n",
    "- GaussianBlur"
   ]
  },
  {
   "cell_type": "code",
   "execution_count": 9,
   "id": "59af2f07-fb78-419d-946f-9e66fbba6a12",
   "metadata": {},
   "outputs": [
    {
     "data": {
      "text/plain": [
       "['CenterCrop',\n",
       " 'ColorJitter',\n",
       " 'Compose',\n",
       " 'ConvertImageDtype',\n",
       " 'FiveCrop',\n",
       " 'GaussianBlur',\n",
       " 'Grayscale',\n",
       " 'Lambda',\n",
       " 'LinearTransformation',\n",
       " 'Normalize',\n",
       " 'PILToTensor',\n",
       " 'Pad',\n",
       " 'RandomAffine',\n",
       " 'RandomApply',\n",
       " 'RandomChoice',\n",
       " 'RandomCrop',\n",
       " 'RandomErasing',\n",
       " 'RandomGrayscale',\n",
       " 'RandomHorizontalFlip',\n",
       " 'RandomOrder',\n",
       " 'RandomPerspective',\n",
       " 'RandomResizedCrop',\n",
       " 'RandomRotation',\n",
       " 'RandomSizedCrop',\n",
       " 'RandomVerticalFlip',\n",
       " 'Resize',\n",
       " 'Scale',\n",
       " 'TenCrop',\n",
       " 'ToPILImage',\n",
       " 'ToTensor']"
      ]
     },
     "execution_count": 9,
     "metadata": {},
     "output_type": "execute_result"
    }
   ],
   "source": [
    "# transforms 의 종류\n",
    "dir(transforms)[:-13]"
   ]
  },
  {
   "cell_type": "markdown",
   "id": "1a29abd9-22aa-421d-8f8c-d33742ff0ce1",
   "metadata": {},
   "source": [
    "### 2.0. No Augmentaton"
   ]
  },
  {
   "cell_type": "code",
   "execution_count": 79,
   "id": "434a8757-5106-417f-a597-1b89c5fd6bee",
   "metadata": {},
   "outputs": [],
   "source": [
    "train_transforms = transforms.Compose([\n",
    "    transforms.ToTensor(),\n",
    "    transforms.Normalize(mean=[0.548, 0.504, 0.479], std=[0.237, 0.247, 0.246]),\n",
    "])"
   ]
  },
  {
   "cell_type": "code",
   "execution_count": 80,
   "id": "bb979c3c-22b4-4318-885e-d984e35f374b",
   "metadata": {},
   "outputs": [],
   "source": [
    "valid_transforms = transforms.Compose([\n",
    "    transforms.ToTensor(),\n",
    "    transforms.Normalize(mean=[0.548, 0.504, 0.479], std=[0.237, 0.247, 0.246]),\n",
    "])"
   ]
  },
  {
   "cell_type": "code",
   "execution_count": 81,
   "id": "b3ee3b36-29b2-4565-8b00-0fbe20102989",
   "metadata": {},
   "outputs": [],
   "source": [
    "# 데이터셋 생성\n",
    "dataset = MaskDataset(f'{path.train}/train_modified.csv')\n",
    "\n",
    "# 학습/검정 데이터셋으로 분리\n",
    "n_train = int(len(dataset) * 0.8)\n",
    "n_valid = len(dataset) - n_train\n",
    "train_dataset, valid_dataset = random_split(dataset, [n_train, n_valid])\n",
    "\n",
    "# Augmentation 설정\n",
    "train_dataset.dataset.set_transform(train_transforms)\n",
    "valid_dataset.dataset.set_transform(valid_transforms)\n",
    "\n",
    "# 데이터로더 생성\n",
    "train_loader = DataLoader(train_dataset, \n",
    "                          batch_size=BATCH_SIZE, \n",
    "                          num_workers=NUM_WORKERS, \n",
    "                          shuffle=True)\n",
    "valid_loader = DataLoader(valid_dataset,\n",
    "                          shuffle=False)                          "
   ]
  },
  {
   "cell_type": "markdown",
   "id": "b9ba77fd-1374-4233-8c28-18c6475d3d4b",
   "metadata": {
    "tags": []
   },
   "source": [
    "### 2.1. Augmentation 1\n",
    "\n",
    "- CenterCrop (224, 224)\n",
    "- RandomHorizontalFlip\n",
    "- RandomRotation\n",
    "- Color Jitter\n",
    "- ToTensor\n",
    "- Normalize"
   ]
  },
  {
   "cell_type": "code",
   "execution_count": 82,
   "id": "403c430f-ad02-494f-a3db-2d3ece83f4f8",
   "metadata": {},
   "outputs": [],
   "source": [
    "train_transforms1 = transforms.Compose([\n",
    "    transforms.CenterCrop(224),\n",
    "    transforms.RandomHorizontalFlip(p=0.5),\n",
    "    transforms.RandomRotation([-5, +5]),\n",
    "    transforms.ColorJitter(brightness=0.5, saturation=0.5, hue=0.5),\n",
    "    transforms.ToTensor(),\n",
    "    transforms.Normalize(mean=[0.548, 0.504, 0.479], std=[0.237, 0.247, 0.246]),\n",
    "])"
   ]
  },
  {
   "cell_type": "code",
   "execution_count": 83,
   "id": "8679da09-c7e3-42ad-9e23-6a7f3fd58fce",
   "metadata": {},
   "outputs": [],
   "source": [
    "valid_transforms1 = transforms.Compose([\n",
    "    transforms.CenterCrop(224),\n",
    "    transforms.ToTensor(),\n",
    "    transforms.Normalize(mean=[0.548, 0.504, 0.479], std=[0.237, 0.247, 0.246]),\n",
    "])"
   ]
  },
  {
   "cell_type": "code",
   "execution_count": 85,
   "id": "3cc9a3a0-762b-4378-a4f9-5a7df4cd6779",
   "metadata": {},
   "outputs": [],
   "source": [
    "# 데이터셋 생성\n",
    "dataset = MaskDataset(f'{path.train}/train_modified.csv')\n",
    "\n",
    "# 학습/검정 데이터셋으로 분리\n",
    "n_train = int(len(dataset) * 0.8)\n",
    "n_valid = len(dataset) - n_train\n",
    "train_dataset, valid_dataset = random_split(dataset, [n_train, n_valid])\n",
    "\n",
    "# Augmentation 설정\n",
    "train_dataset.dataset.set_transform(train_transforms1)\n",
    "valid_dataset.dataset.set_transform(valid_transforms1)\n",
    "\n",
    "# 데이터로더 생성\n",
    "train_loader1 = DataLoader(train_dataset,\n",
    "                           batch_size=BATCH_SIZE, \n",
    "                           num_workers=NUM_WORKERS, \n",
    "                           shuffle=True)\n",
    "valid_loader1 = DataLoader(valid_dataset,\n",
    "                           shuffle=False)                          "
   ]
  },
  {
   "cell_type": "markdown",
   "id": "99919bcb-7935-4252-9d04-fe762d9d997d",
   "metadata": {
    "tags": []
   },
   "source": [
    "### 2.2. Augmentation 2\n",
    "\n",
    "- CenterCrop (384, 384)\n",
    "- Resize (224, 224)\n",
    "- RandomHorizontalFlip\n",
    "- RandomRotation\n",
    "- Color Jitter\n",
    "- ToTensor\n",
    "- Normalize"
   ]
  },
  {
   "cell_type": "code",
   "execution_count": 86,
   "id": "d7b310aa-f13d-4ecf-a252-0caa67b0f9ec",
   "metadata": {},
   "outputs": [],
   "source": [
    "train_transforms2 = transforms.Compose([\n",
    "    transforms.CenterCrop(384),\n",
    "    transforms.Resize(224),\n",
    "    transforms.RandomHorizontalFlip(p=0.5),\n",
    "    transforms.RandomRotation([-5, +5]),\n",
    "    transforms.ColorJitter(brightness=0.5, saturation=0.5, hue=0.5),\n",
    "    transforms.ToTensor(),\n",
    "    transforms.Normalize(mean=[0.548, 0.504, 0.479], std=[0.237, 0.247, 0.246]),\n",
    "])"
   ]
  },
  {
   "cell_type": "code",
   "execution_count": 87,
   "id": "4d88be95-7dcf-41cd-876f-b6932343d504",
   "metadata": {},
   "outputs": [],
   "source": [
    "valid_transforms2 = transforms.Compose([\n",
    "    transforms.CenterCrop(384),\n",
    "    transforms.Resize(224),\n",
    "    transforms.ToTensor(),\n",
    "    transforms.Normalize(mean=[0.548, 0.504, 0.479], std=[0.237, 0.247, 0.246]),\n",
    "])"
   ]
  },
  {
   "cell_type": "code",
   "execution_count": 88,
   "id": "26a5b06f-a4b7-458c-abcb-3cdae46e81b6",
   "metadata": {},
   "outputs": [],
   "source": [
    "# 데이터셋 생성\n",
    "dataset = MaskDataset(f'{path.train}/train_modified.csv')\n",
    "\n",
    "# 학습/검정 데이터셋으로 분리\n",
    "n_train = int(len(dataset) * 0.8)\n",
    "n_valid = len(dataset) - n_train\n",
    "train_dataset, valid_dataset = random_split(dataset, [n_train, n_valid])\n",
    "\n",
    "# Augmentation 설정\n",
    "train_dataset.dataset.set_transform(train_transforms2)\n",
    "valid_dataset.dataset.set_transform(valid_transforms2)\n",
    "\n",
    "# 데이터로더 생성\n",
    "train_loader2 = DataLoader(train_dataset, \n",
    "                           batch_size=BATCH_SIZE, \n",
    "                           num_workers=NUM_WORKERS, \n",
    "                           shuffle=True)\n",
    "valid_loader2 = DataLoader(valid_dataset,\n",
    "                           shuffle=False)                          "
   ]
  },
  {
   "cell_type": "markdown",
   "id": "7b7dac64-61fc-499a-974d-e9e52f27a847",
   "metadata": {
    "tags": []
   },
   "source": [
    "### 2.3. Augmentation 3\n",
    "\n",
    "- CenterCrop (384, 384)\n",
    "- Resize(224, 224)\n",
    "- GrayScale\n",
    "- RandomHorizontalFlip\n",
    "- RandomRotation\n",
    "- Color Jitter\n",
    "- ToTensor\n",
    "- Normalize"
   ]
  },
  {
   "cell_type": "code",
   "execution_count": 89,
   "id": "14a46fcf-4c06-49b4-91f2-f6fa93f2c0f5",
   "metadata": {},
   "outputs": [],
   "source": [
    "train_transforms3 = transforms.Compose([\n",
    "    transforms.CenterCrop(384),\n",
    "    transforms.Resize(224),\n",
    "    transforms.Grayscale(num_output_channels=1),\n",
    "    transforms.RandomHorizontalFlip(p=0.5),\n",
    "    transforms.RandomRotation([-5, +5]),\n",
    "    transforms.ColorJitter(brightness=0.5, saturation=0.5, hue=0.5),\n",
    "    transforms.ToTensor(),\n",
    "    transforms.Normalize(mean=[0.5], std=[0.24]),\n",
    "])"
   ]
  },
  {
   "cell_type": "code",
   "execution_count": 90,
   "id": "3fc63585-a9dc-47e2-a29f-e622f2219206",
   "metadata": {},
   "outputs": [],
   "source": [
    "valid_transforms3 = transforms.Compose([\n",
    "    transforms.CenterCrop(384),\n",
    "    transforms.Resize(224),\n",
    "    transforms.Grayscale(num_output_channels=1),\n",
    "    transforms.ToTensor(),\n",
    "    transforms.Normalize(mean=[0.5], std=[0.24]),\n",
    "])"
   ]
  },
  {
   "cell_type": "code",
   "execution_count": 91,
   "id": "7f79b200-175c-44db-a659-2e946bd5f5b4",
   "metadata": {},
   "outputs": [],
   "source": [
    "# 데이터셋 생성\n",
    "dataset = MaskDataset(f'{path.train}/train_modified.csv')\n",
    "\n",
    "# 학습/검정 데이터셋으로 분리\n",
    "n_train = int(len(dataset) * 0.8)\n",
    "n_valid = len(dataset) - n_train\n",
    "train_dataset, valid_dataset = random_split(dataset, [n_train, n_valid])\n",
    "\n",
    "# Augmentation 설정\n",
    "train_dataset.dataset.set_transform(train_transforms3)\n",
    "valid_dataset.dataset.set_transform(valid_transforms3)\n",
    "\n",
    "# 데이터로더 생성\n",
    "train_loader3 = DataLoader(train_dataset, \n",
    "                           batch_size=BATCH_SIZE, \n",
    "                           num_workers=NUM_WORKERS, \n",
    "                           shuffle=True)\n",
    "valid_loader3 = DataLoader(valid_dataset,\n",
    "                           shuffle=False)                          "
   ]
  },
  {
   "cell_type": "markdown",
   "id": "932ce45e-6319-4e62-9d49-5c308edf3569",
   "metadata": {
    "tags": []
   },
   "source": [
    "### 2.4. Augmentation 4\n",
    "\n",
    "- CenterCrop (384, 384)\n",
    "- Resize(224, 224)\n",
    "- RandomHorizontalFlip\n",
    "- Color Jitter\n",
    "- ToTensor\n",
    "- Normalize"
   ]
  },
  {
   "cell_type": "code",
   "execution_count": 92,
   "id": "cc14ad73-e1ad-476e-915d-602d6e75169c",
   "metadata": {},
   "outputs": [],
   "source": [
    "train_transforms4 = transforms.Compose([\n",
    "    transforms.CenterCrop(384),\n",
    "    transforms.Resize(224),\n",
    "    transforms.RandomHorizontalFlip(p=0.5),\n",
    "    transforms.ColorJitter(brightness=0.5, saturation=0.5, hue=0.5),\n",
    "    transforms.ToTensor(),\n",
    "    transforms.Normalize(mean=[0.548, 0.504, 0.479], std=[0.237, 0.247, 0.246]),\n",
    "])"
   ]
  },
  {
   "cell_type": "code",
   "execution_count": 93,
   "id": "de55698d-23a7-48b4-826b-3e51dd3f9d56",
   "metadata": {},
   "outputs": [],
   "source": [
    "valid_transforms4 = transforms.Compose([\n",
    "    transforms.CenterCrop(384),\n",
    "    transforms.Resize(224),\n",
    "    transforms.ToTensor(),\n",
    "    transforms.Normalize(mean=[0.548, 0.504, 0.479], std=[0.237, 0.247, 0.246]),\n",
    "])"
   ]
  },
  {
   "cell_type": "code",
   "execution_count": 94,
   "id": "cbef2789-8df3-48ef-92a2-f42727112562",
   "metadata": {},
   "outputs": [],
   "source": [
    "# 데이터셋 생성\n",
    "dataset = MaskDataset(f'{path.train}/train_modified.csv')\n",
    "\n",
    "# 학습/검정 데이터셋으로 분리\n",
    "n_train = int(len(dataset) * 0.8)\n",
    "n_valid = len(dataset) - n_train\n",
    "train_dataset, valid_dataset = random_split(dataset, [n_train, n_valid])\n",
    "\n",
    "# Augmentation 설정\n",
    "train_dataset.dataset.set_transform(train_transforms4)\n",
    "valid_dataset.dataset.set_transform(valid_transforms4)\n",
    "\n",
    "# 데이터로더 생성\n",
    "train_loader4 = DataLoader(train_dataset, \n",
    "                           batch_size=BATCH_SIZE, \n",
    "                           num_workers=NUM_WORKERS, \n",
    "                           shuffle=True)\n",
    "valid_loader4 = DataLoader(valid_dataset,\n",
    "                           shuffle=False)                          "
   ]
  },
  {
   "cell_type": "markdown",
   "id": "b1606cf2-55d6-445a-a5de-711af4cb85c3",
   "metadata": {
    "tags": []
   },
   "source": [
    "### 2.5. Augmentation 5\n",
    "\n",
    "- RandomResizedCenterCrop (224)\n",
    "- RandomHorizontalFlip\n",
    "- Color Jitter\n",
    "- ToTensor\n",
    "- Normalize"
   ]
  },
  {
   "cell_type": "code",
   "execution_count": 95,
   "id": "bc20dcba-3301-4e76-b93e-812a6943bfa7",
   "metadata": {},
   "outputs": [],
   "source": [
    "train_transforms5 = transforms.Compose([\n",
    "    transforms.RandomResizedCrop(224),\n",
    "    transforms.RandomHorizontalFlip(p=0.5),\n",
    "    transforms.ColorJitter(brightness=0.5, saturation=0.5, hue=0.5),\n",
    "    transforms.ToTensor(),\n",
    "    transforms.Normalize(mean=[0.548, 0.504, 0.479], std=[0.237, 0.247, 0.246]),\n",
    "])"
   ]
  },
  {
   "cell_type": "code",
   "execution_count": 96,
   "id": "8160c789-f945-4f56-a6e0-cfd941d73797",
   "metadata": {},
   "outputs": [],
   "source": [
    "valid_transforms5 = transforms.Compose([\n",
    "    transforms.Resize(224),\n",
    "    transforms.CenterCrop(224),\n",
    "    transforms.ToTensor(),\n",
    "    transforms.Normalize(mean=[0.548, 0.504, 0.479], std=[0.237, 0.247, 0.246]),\n",
    "])"
   ]
  },
  {
   "cell_type": "code",
   "execution_count": 97,
   "id": "cad627a6-f21e-4257-805f-e7074e03f54f",
   "metadata": {},
   "outputs": [],
   "source": [
    "# 데이터셋 생성\n",
    "dataset = MaskDataset(f'{path.train}/train_modified.csv')\n",
    "\n",
    "# 학습/검정 데이터셋으로 분리\n",
    "n_train = int(len(dataset) * 0.8)\n",
    "n_valid = len(dataset) - n_train\n",
    "train_dataset, valid_dataset = random_split(dataset, [n_train, n_valid])\n",
    "\n",
    "# Augmentation 설정\n",
    "train_dataset.dataset.set_transform(train_transforms5)\n",
    "valid_dataset.dataset.set_transform(valid_transforms5)\n",
    "\n",
    "# 데이터로더 생성\n",
    "train_loader5 = DataLoader(train_dataset, \n",
    "                           batch_size=BATCH_SIZE, \n",
    "                           num_workers=NUM_WORKERS, \n",
    "                           shuffle=True)\n",
    "valid_loader5 = DataLoader(valid_dataset,\n",
    "                           shuffle=False)                "
   ]
  },
  {
   "cell_type": "markdown",
   "id": "40d05e19-1151-4649-8b1d-1b087e91446e",
   "metadata": {
    "tags": []
   },
   "source": [
    "### 2.6. Augmentation 6\n",
    "\n",
    "- CenterCrop (384, 384)\n",
    "- Resize(224, 224)\n",
    "- RandomHorizontalFlip\n",
    "- Color Jitter\n",
    "- ToTensor\n",
    "- Normalize\n",
    "- AddGuanssianNoise"
   ]
  },
  {
   "cell_type": "code",
   "execution_count": 98,
   "id": "7ce820c7-e8cb-4b06-8210-416a1c937a52",
   "metadata": {},
   "outputs": [],
   "source": [
    "class AddGaussianNoise(object):\n",
    "    def __init__(self, mean=0., std=1.):\n",
    "        self.std = std\n",
    "        self.mean = mean\n",
    "        \n",
    "    def __call__(self, tensor):\n",
    "        return tensor + torch.randn(tensor.size()) * self.std + self.mean\n",
    "    \n",
    "    def __repr__(self):\n",
    "        return self.__class__.__name__ + '(mean={0}, std={1})'.format(self.mean, self.std)"
   ]
  },
  {
   "cell_type": "code",
   "execution_count": 99,
   "id": "2fc6f449-7205-4310-b923-421b7e9f7ab1",
   "metadata": {},
   "outputs": [],
   "source": [
    "train_transforms6 = transforms.Compose([\n",
    "    transforms.CenterCrop(384),\n",
    "    transforms.Resize(224),\n",
    "    transforms.RandomHorizontalFlip(p=0.5),\n",
    "    transforms.ColorJitter(brightness=0.5, saturation=0.5, hue=0.5),\n",
    "    transforms.ToTensor(),\n",
    "    transforms.Normalize(mean=[0.548, 0.504, 0.479], std=[0.237, 0.247, 0.246]),\n",
    "    AddGaussianNoise(0., 1.),\n",
    "])"
   ]
  },
  {
   "cell_type": "code",
   "execution_count": 100,
   "id": "56d8fb99-dd1d-4572-afa9-1b316316d8e9",
   "metadata": {},
   "outputs": [],
   "source": [
    "valid_transforms6 = transforms.Compose([\n",
    "    transforms.CenterCrop(384),\n",
    "    transforms.Resize(224),\n",
    "    transforms.ToTensor(),\n",
    "    transforms.Normalize(mean=[0.548, 0.504, 0.479], std=[0.237, 0.247, 0.246]),\n",
    "])"
   ]
  },
  {
   "cell_type": "code",
   "execution_count": 101,
   "id": "60b9deec-9b88-4120-bb5c-e440554eacc2",
   "metadata": {},
   "outputs": [],
   "source": [
    "# 데이터셋 생성\n",
    "dataset = MaskDataset(f'{path.train}/train_modified.csv')\n",
    "\n",
    "# 학습/검정 데이터셋으로 분리\n",
    "n_train = int(len(dataset) * 0.8)\n",
    "n_valid = len(dataset) - n_train\n",
    "train_dataset, valid_dataset = random_split(dataset, [n_train, n_valid])\n",
    "\n",
    "# Augmentation 설정\n",
    "train_dataset.dataset.set_transform(train_transforms6)\n",
    "valid_dataset.dataset.set_transform(valid_transforms6)\n",
    "\n",
    "# 데이터로더 생성\n",
    "train_loader6 = DataLoader(train_dataset, \n",
    "                           batch_size=BATCH_SIZE, \n",
    "                           num_workers=NUM_WORKERS, \n",
    "                           shuffle=True)\n",
    "valid_loader6 = DataLoader(valid_dataset,\n",
    "                           shuffle=False)                          "
   ]
  },
  {
   "cell_type": "markdown",
   "id": "4a8cf8b2-2073-4a7e-aa2a-d699cfc40366",
   "metadata": {
    "tags": []
   },
   "source": [
    "### 2.7. Augmentation 7\n",
    "\n",
    "- CenterCrop (384, 384)\n",
    "- Resize(224, 224)\n",
    "- Color Jitter\n",
    "- ToTensor\n",
    "- Normalize\n",
    "- AddGaussianNoise"
   ]
  },
  {
   "cell_type": "code",
   "execution_count": 102,
   "id": "ba5ca1f9-4585-434e-9ca1-1da2f30cab30",
   "metadata": {},
   "outputs": [],
   "source": [
    "class AddGaussianNoise(object):\n",
    "    def __init__(self, mean=0., std=1.):\n",
    "        self.std = std\n",
    "        self.mean = mean\n",
    "        \n",
    "    def __call__(self, tensor):\n",
    "        return tensor + torch.randn(tensor.size()) * self.std + self.mean\n",
    "    \n",
    "    def __repr__(self):\n",
    "        return self.__class__.__name__ + '(mean={0}, std={1})'.format(self.mean, self.std)"
   ]
  },
  {
   "cell_type": "code",
   "execution_count": 103,
   "id": "790feb02-68f5-4c89-bcf0-efbc8f5fc9c8",
   "metadata": {},
   "outputs": [],
   "source": [
    "train_transforms7 = transforms.Compose([\n",
    "    transforms.CenterCrop(384),\n",
    "    transforms.Resize(224),\n",
    "    transforms.ColorJitter(brightness=0.5, saturation=0.5, hue=0.5),\n",
    "    transforms.ToTensor(),\n",
    "    transforms.Normalize(mean=[0.548, 0.504, 0.479], std=[0.237, 0.247, 0.246]),\n",
    "    AddGaussianNoise(0., 1.),\n",
    "])"
   ]
  },
  {
   "cell_type": "code",
   "execution_count": 104,
   "id": "f81ebcda-aba4-4a5c-9615-83f590639a75",
   "metadata": {},
   "outputs": [],
   "source": [
    "valid_transforms7 = transforms.Compose([\n",
    "    transforms.CenterCrop(384),\n",
    "    transforms.Resize(224),\n",
    "    transforms.ToTensor(),\n",
    "    transforms.Normalize(mean=[0.548, 0.504, 0.479], std=[0.237, 0.247, 0.246]),\n",
    "])"
   ]
  },
  {
   "cell_type": "code",
   "execution_count": 105,
   "id": "2f7c5083-6684-4dd9-9603-6ebfb6e0d844",
   "metadata": {},
   "outputs": [],
   "source": [
    "# 데이터셋 생성\n",
    "dataset = MaskDataset(f'{path.train}/train_modified.csv')\n",
    "\n",
    "# 학습/검정 데이터셋으로 분리\n",
    "n_train = int(len(dataset) * 0.8)\n",
    "n_valid = len(dataset) - n_train\n",
    "train_dataset, valid_dataset = random_split(dataset, [n_train, n_valid])\n",
    "\n",
    "# Augmentation 설정\n",
    "train_dataset.dataset.set_transform(train_transforms7)\n",
    "valid_dataset.dataset.set_transform(valid_transforms7)\n",
    "\n",
    "# 데이터로더 생성\n",
    "train_loader7 = DataLoader(train_dataset, \n",
    "                           batch_size=BATCH_SIZE, \n",
    "                           num_workers=NUM_WORKERS, \n",
    "                           shuffle=True)\n",
    "valid_loader7 = DataLoader(valid_dataset,\n",
    "                           shuffle=False)                          "
   ]
  },
  {
   "cell_type": "markdown",
   "id": "a7927cd0-4694-46ee-bbf7-f71aa196b2bf",
   "metadata": {},
   "source": [
    "## 3. Compare Performance"
   ]
  },
  {
   "cell_type": "code",
   "execution_count": 106,
   "id": "b1709212-9bd0-4e12-bae2-c43fc8f41e36",
   "metadata": {},
   "outputs": [],
   "source": [
    "def test_eval(model, valid_dataset, channel):\n",
    "    model.eval()\n",
    "    with torch.no_grad():\n",
    "        y_true, y_pred = [], []\n",
    "        for image, label in tqdm(valid_dataset):\n",
    "            X = image.float().to(device)\n",
    "            y = label.item()\n",
    "            _, pred = torch.max(model(X), 1)\n",
    "            pred = pred.item()\n",
    "            y_true.append(y)\n",
    "            y_pred.append(pred)\n",
    "        y_true, y_pred = np.array(y_true), np.array(y_pred)\n",
    "        f1 = f1_score(y_true, y_pred, average='macro')\n",
    "        accuracy = accuracy_score(y_true, y_pred)\n",
    "    model.train()\n",
    "    return f1, accuracy"
   ]
  },
  {
   "cell_type": "code",
   "execution_count": 107,
   "id": "9d2cb3a3-e68c-43e1-bb32-43e4e45a7b19",
   "metadata": {},
   "outputs": [],
   "source": [
    "def train_model(train, test, channel, model, criterion, optimizer, print_every=1):\n",
    "    print(f\"============ Training Starts! ============\")\n",
    "    best_accuracy = 0\n",
    "    for epoch in range(EPOCHS):\n",
    "        loss_sum = 0\n",
    "        for images, label in tqdm(train):\n",
    "            X = images.float().to(device)\n",
    "            y = label.to(device)\n",
    "            \n",
    "            y_pred = model(X)\n",
    "            loss = criterion(y_pred, y)\n",
    "            \n",
    "            optimizer.zero_grad()\n",
    "            loss.backward()\n",
    "            optimizer.step()\n",
    "            \n",
    "            loss_sum += loss\n",
    "            \n",
    "        if ((epoch % print_every) == 0) or (epoch == (EPOCHS - 1)):\n",
    "            loss_avg = loss_sum / len(train)\n",
    "            f1, accuracy = test_eval(model, test, channel)\n",
    "            print(f\">> epoch:[{epoch + 1}/{EPOCHS}] cost: {loss_avg:5.3f} test_accuracy: {accuracy:5.3f} test_f1_score: {f1:5.3f}\")\n",
    "            \n",
    "    print(f\"============ Training Done! ============\")"
   ]
  },
  {
   "cell_type": "markdown",
   "id": "d85d070d-c3a9-442e-a4da-ea4ebd44db6b",
   "metadata": {},
   "source": [
    "### 3.0. No Augmentation"
   ]
  },
  {
   "cell_type": "code",
   "execution_count": 108,
   "id": "233e64c0-fd08-4755-bb5c-bbfe7da91fef",
   "metadata": {},
   "outputs": [],
   "source": [
    "model = torchvision.models.resnet18(pretrained=False)\n",
    "n_features = model.fc.in_features\n",
    "model.fc = nn.Linear(n_features, 18)\n",
    "model = model.cuda()"
   ]
  },
  {
   "cell_type": "code",
   "execution_count": 109,
   "id": "e8ed262b-25ef-4ca6-9d40-e7ca1ccf41a2",
   "metadata": {},
   "outputs": [],
   "source": [
    "optimizer = optim.Adam(model.parameters(), lr=LEARNING_RATE)\n",
    "criterion = nn.CrossEntropyLoss().to(device)"
   ]
  },
  {
   "cell_type": "code",
   "execution_count": 110,
   "id": "cb9dc060-8253-4700-93e2-9f79cb104efc",
   "metadata": {},
   "outputs": [
    {
     "name": "stdout",
     "output_type": "stream",
     "text": [
      "============ Training Starts! ============\n"
     ]
    },
    {
     "data": {
      "application/vnd.jupyter.widget-view+json": {
       "model_id": "48ead2df48804da98ac36bb007ef6af9",
       "version_major": 2,
       "version_minor": 0
      },
      "text/plain": [
       "HBox(children=(HTML(value=''), FloatProgress(value=0.0, max=945.0), HTML(value='')))"
      ]
     },
     "metadata": {},
     "output_type": "display_data"
    },
    {
     "name": "stdout",
     "output_type": "stream",
     "text": [
      "\n"
     ]
    },
    {
     "data": {
      "application/vnd.jupyter.widget-view+json": {
       "model_id": "f3530b30a3884cc981d28149feceec73",
       "version_major": 2,
       "version_minor": 0
      },
      "text/plain": [
       "HBox(children=(HTML(value=''), FloatProgress(value=0.0, max=3780.0), HTML(value='')))"
      ]
     },
     "metadata": {},
     "output_type": "display_data"
    },
    {
     "name": "stdout",
     "output_type": "stream",
     "text": [
      "\n",
      ">> epoch:[1/3] cost: 1.289 test_accuracy: 0.676 test_f1_score: 0.475\n"
     ]
    },
    {
     "data": {
      "application/vnd.jupyter.widget-view+json": {
       "model_id": "651a4ade6d354bb68afb6361cf945445",
       "version_major": 2,
       "version_minor": 0
      },
      "text/plain": [
       "HBox(children=(HTML(value=''), FloatProgress(value=0.0, max=945.0), HTML(value='')))"
      ]
     },
     "metadata": {},
     "output_type": "display_data"
    },
    {
     "name": "stdout",
     "output_type": "stream",
     "text": [
      "\n"
     ]
    },
    {
     "data": {
      "application/vnd.jupyter.widget-view+json": {
       "model_id": "5dc13c7711b14c4dbf4676478bb548af",
       "version_major": 2,
       "version_minor": 0
      },
      "text/plain": [
       "HBox(children=(HTML(value=''), FloatProgress(value=0.0, max=3780.0), HTML(value='')))"
      ]
     },
     "metadata": {},
     "output_type": "display_data"
    },
    {
     "name": "stdout",
     "output_type": "stream",
     "text": [
      "\n",
      ">> epoch:[2/3] cost: 0.630 test_accuracy: 0.758 test_f1_score: 0.573\n"
     ]
    },
    {
     "data": {
      "application/vnd.jupyter.widget-view+json": {
       "model_id": "159932d0d5944db6ae4a50e2a333b60c",
       "version_major": 2,
       "version_minor": 0
      },
      "text/plain": [
       "HBox(children=(HTML(value=''), FloatProgress(value=0.0, max=945.0), HTML(value='')))"
      ]
     },
     "metadata": {},
     "output_type": "display_data"
    },
    {
     "name": "stdout",
     "output_type": "stream",
     "text": [
      "\n"
     ]
    },
    {
     "data": {
      "application/vnd.jupyter.widget-view+json": {
       "model_id": "5808332b98fd46e796f52da07098cd2c",
       "version_major": 2,
       "version_minor": 0
      },
      "text/plain": [
       "HBox(children=(HTML(value=''), FloatProgress(value=0.0, max=3780.0), HTML(value='')))"
      ]
     },
     "metadata": {},
     "output_type": "display_data"
    },
    {
     "name": "stdout",
     "output_type": "stream",
     "text": [
      "\n",
      ">> epoch:[3/3] cost: 0.453 test_accuracy: 0.734 test_f1_score: 0.516\n",
      "============ Training Done! ============\n"
     ]
    }
   ],
   "source": [
    "train_model(train_loader, valid_loader, 3, model, criterion, optimizer)"
   ]
  },
  {
   "cell_type": "markdown",
   "id": "84351948-bb77-4b8a-a1ca-2e40c083075b",
   "metadata": {},
   "source": [
    "### 3.1. Augmentation 1"
   ]
  },
  {
   "cell_type": "code",
   "execution_count": 111,
   "id": "544e679e-cc6c-4de1-9059-d5961a220009",
   "metadata": {},
   "outputs": [],
   "source": [
    "model1 = torchvision.models.resnet18(pretrained=False)\n",
    "n_features = model1.fc.in_features\n",
    "model1.fc = nn.Linear(n_features, 18)\n",
    "model1 = model1.cuda()"
   ]
  },
  {
   "cell_type": "code",
   "execution_count": 112,
   "id": "506e76ff-678d-489b-b0f5-449ddc7dee27",
   "metadata": {},
   "outputs": [],
   "source": [
    "optimizer1 = optim.Adam(model1.parameters(), lr=LEARNING_RATE)\n",
    "criterion1 = nn.CrossEntropyLoss().to(device)"
   ]
  },
  {
   "cell_type": "code",
   "execution_count": 113,
   "id": "3449686b-9a80-4d4a-adee-d1b27f9bbffa",
   "metadata": {},
   "outputs": [
    {
     "name": "stdout",
     "output_type": "stream",
     "text": [
      "============ Training Starts! ============\n"
     ]
    },
    {
     "data": {
      "application/vnd.jupyter.widget-view+json": {
       "model_id": "d5bf8240d8c8462a89e1ce5e245cfb4d",
       "version_major": 2,
       "version_minor": 0
      },
      "text/plain": [
       "HBox(children=(HTML(value=''), FloatProgress(value=0.0, max=945.0), HTML(value='')))"
      ]
     },
     "metadata": {},
     "output_type": "display_data"
    },
    {
     "name": "stdout",
     "output_type": "stream",
     "text": [
      "\n"
     ]
    },
    {
     "data": {
      "application/vnd.jupyter.widget-view+json": {
       "model_id": "411385d3d57b42918f7245ad7ea06e52",
       "version_major": 2,
       "version_minor": 0
      },
      "text/plain": [
       "HBox(children=(HTML(value=''), FloatProgress(value=0.0, max=3780.0), HTML(value='')))"
      ]
     },
     "metadata": {},
     "output_type": "display_data"
    },
    {
     "name": "stdout",
     "output_type": "stream",
     "text": [
      "\n",
      ">> epoch:[1/3] cost: 1.092 test_accuracy: 0.745 test_f1_score: 0.550\n"
     ]
    },
    {
     "data": {
      "application/vnd.jupyter.widget-view+json": {
       "model_id": "4caab973e2d3425da614d7f67acc0cd6",
       "version_major": 2,
       "version_minor": 0
      },
      "text/plain": [
       "HBox(children=(HTML(value=''), FloatProgress(value=0.0, max=945.0), HTML(value='')))"
      ]
     },
     "metadata": {},
     "output_type": "display_data"
    },
    {
     "name": "stdout",
     "output_type": "stream",
     "text": [
      "\n"
     ]
    },
    {
     "data": {
      "application/vnd.jupyter.widget-view+json": {
       "model_id": "1c669a99d18742a6a19f24ec9f9d073e",
       "version_major": 2,
       "version_minor": 0
      },
      "text/plain": [
       "HBox(children=(HTML(value=''), FloatProgress(value=0.0, max=3780.0), HTML(value='')))"
      ]
     },
     "metadata": {},
     "output_type": "display_data"
    },
    {
     "name": "stdout",
     "output_type": "stream",
     "text": [
      "\n",
      ">> epoch:[2/3] cost: 0.591 test_accuracy: 0.788 test_f1_score: 0.600\n"
     ]
    },
    {
     "data": {
      "application/vnd.jupyter.widget-view+json": {
       "model_id": "868a906ae3b74134a2fcc02bddd2c06f",
       "version_major": 2,
       "version_minor": 0
      },
      "text/plain": [
       "HBox(children=(HTML(value=''), FloatProgress(value=0.0, max=945.0), HTML(value='')))"
      ]
     },
     "metadata": {},
     "output_type": "display_data"
    },
    {
     "name": "stdout",
     "output_type": "stream",
     "text": [
      "\n"
     ]
    },
    {
     "data": {
      "application/vnd.jupyter.widget-view+json": {
       "model_id": "90ec258ea9324619933767295581b48e",
       "version_major": 2,
       "version_minor": 0
      },
      "text/plain": [
       "HBox(children=(HTML(value=''), FloatProgress(value=0.0, max=3780.0), HTML(value='')))"
      ]
     },
     "metadata": {},
     "output_type": "display_data"
    },
    {
     "name": "stdout",
     "output_type": "stream",
     "text": [
      "\n",
      ">> epoch:[3/3] cost: 0.438 test_accuracy: 0.788 test_f1_score: 0.681\n",
      "============ Training Done! ============\n"
     ]
    }
   ],
   "source": [
    "train_model(train_loader1, valid_loader1, 3, model1, criterion1, optimizer1)"
   ]
  },
  {
   "cell_type": "markdown",
   "id": "a14b5e85-3719-4e54-bf3d-e259fa3a67b8",
   "metadata": {},
   "source": [
    "### 3.2. Augmentation 2"
   ]
  },
  {
   "cell_type": "code",
   "execution_count": 114,
   "id": "8f3d9eda-9987-49d5-85fb-8d45a0cc0ca6",
   "metadata": {},
   "outputs": [],
   "source": [
    "model2 = torchvision.models.resnet18(pretrained=False)\n",
    "n_features = model2.fc.in_features\n",
    "model2.fc = nn.Linear(n_features, 18)\n",
    "model2 = model2.cuda()"
   ]
  },
  {
   "cell_type": "code",
   "execution_count": 115,
   "id": "a120bc4a-7e70-4bfa-bdac-15a3ec777b96",
   "metadata": {},
   "outputs": [],
   "source": [
    "optimizer2 = optim.Adam(model2.parameters(), lr=LEARNING_RATE)\n",
    "criterion2 = nn.CrossEntropyLoss().to(device)"
   ]
  },
  {
   "cell_type": "code",
   "execution_count": 116,
   "id": "494f4505-20ce-43ae-9594-c1bc3a2541ce",
   "metadata": {},
   "outputs": [
    {
     "name": "stdout",
     "output_type": "stream",
     "text": [
      "============ Training Starts! ============\n"
     ]
    },
    {
     "data": {
      "application/vnd.jupyter.widget-view+json": {
       "model_id": "66ffd985cbfa4e54b2c881d5d1e4aa39",
       "version_major": 2,
       "version_minor": 0
      },
      "text/plain": [
       "HBox(children=(HTML(value=''), FloatProgress(value=0.0, max=945.0), HTML(value='')))"
      ]
     },
     "metadata": {},
     "output_type": "display_data"
    },
    {
     "name": "stdout",
     "output_type": "stream",
     "text": [
      "\n"
     ]
    },
    {
     "data": {
      "application/vnd.jupyter.widget-view+json": {
       "model_id": "37c07e9edc3b469c922ef68d9bae6ef5",
       "version_major": 2,
       "version_minor": 0
      },
      "text/plain": [
       "HBox(children=(HTML(value=''), FloatProgress(value=0.0, max=3780.0), HTML(value='')))"
      ]
     },
     "metadata": {},
     "output_type": "display_data"
    },
    {
     "name": "stdout",
     "output_type": "stream",
     "text": [
      "\n",
      ">> epoch:[1/3] cost: 1.048 test_accuracy: 0.755 test_f1_score: 0.546\n"
     ]
    },
    {
     "data": {
      "application/vnd.jupyter.widget-view+json": {
       "model_id": "61d26f58c17244f9b5f5df3092b256cc",
       "version_major": 2,
       "version_minor": 0
      },
      "text/plain": [
       "HBox(children=(HTML(value=''), FloatProgress(value=0.0, max=945.0), HTML(value='')))"
      ]
     },
     "metadata": {},
     "output_type": "display_data"
    },
    {
     "name": "stdout",
     "output_type": "stream",
     "text": [
      "\n"
     ]
    },
    {
     "data": {
      "application/vnd.jupyter.widget-view+json": {
       "model_id": "fe519bbbcd774c6cbf2a35b87fea77dd",
       "version_major": 2,
       "version_minor": 0
      },
      "text/plain": [
       "HBox(children=(HTML(value=''), FloatProgress(value=0.0, max=3780.0), HTML(value='')))"
      ]
     },
     "metadata": {},
     "output_type": "display_data"
    },
    {
     "name": "stdout",
     "output_type": "stream",
     "text": [
      "\n",
      ">> epoch:[2/3] cost: 0.551 test_accuracy: 0.783 test_f1_score: 0.653\n"
     ]
    },
    {
     "data": {
      "application/vnd.jupyter.widget-view+json": {
       "model_id": "dbb9315e30ae40f9b31f1e280f58150a",
       "version_major": 2,
       "version_minor": 0
      },
      "text/plain": [
       "HBox(children=(HTML(value=''), FloatProgress(value=0.0, max=945.0), HTML(value='')))"
      ]
     },
     "metadata": {},
     "output_type": "display_data"
    },
    {
     "name": "stdout",
     "output_type": "stream",
     "text": [
      "\n"
     ]
    },
    {
     "data": {
      "application/vnd.jupyter.widget-view+json": {
       "model_id": "51b9bc4db5e7439387f1e73b8750fc78",
       "version_major": 2,
       "version_minor": 0
      },
      "text/plain": [
       "HBox(children=(HTML(value=''), FloatProgress(value=0.0, max=3780.0), HTML(value='')))"
      ]
     },
     "metadata": {},
     "output_type": "display_data"
    },
    {
     "name": "stdout",
     "output_type": "stream",
     "text": [
      "\n",
      ">> epoch:[3/3] cost: 0.370 test_accuracy: 0.842 test_f1_score: 0.763\n",
      "============ Training Done! ============\n"
     ]
    }
   ],
   "source": [
    "train_model(train_loader2, valid_loader2, 3, model2, criterion2, optimizer2)"
   ]
  },
  {
   "cell_type": "markdown",
   "id": "2bd57e6f-0596-4284-8d72-6c4ca3c5fde4",
   "metadata": {},
   "source": [
    "### 3.3. Augmentation 3"
   ]
  },
  {
   "cell_type": "code",
   "execution_count": 120,
   "id": "360a24df-d1eb-4e54-ba55-05de4a199103",
   "metadata": {},
   "outputs": [],
   "source": [
    "model3 = torchvision.models.resnet18(pretrained=False)\n",
    "n_features = model3.fc.in_features\n",
    "model3.conv1 = nn.Conv2d(1, 64, kernel_size=(7, 7), stride=(2, 2), padding=(3, 3), bias=False)\n",
    "model3.fc = nn.Linear(n_features, 18)\n",
    "model3 = model3.cuda()"
   ]
  },
  {
   "cell_type": "code",
   "execution_count": 121,
   "id": "2cb81e33-0d1b-406c-84e2-789499cca548",
   "metadata": {},
   "outputs": [],
   "source": [
    "optimizer3 = optim.Adam(model3.parameters(), lr=LEARNING_RATE)\n",
    "criterion3 = nn.CrossEntropyLoss().to(device)"
   ]
  },
  {
   "cell_type": "code",
   "execution_count": 122,
   "id": "1cbb09e8-1461-4d24-95bb-05ce4504bc43",
   "metadata": {},
   "outputs": [
    {
     "name": "stdout",
     "output_type": "stream",
     "text": [
      "============ Training Starts! ============\n"
     ]
    },
    {
     "data": {
      "application/vnd.jupyter.widget-view+json": {
       "model_id": "8f184440d3f540d0b164989b8adf2b15",
       "version_major": 2,
       "version_minor": 0
      },
      "text/plain": [
       "HBox(children=(HTML(value=''), FloatProgress(value=0.0, max=945.0), HTML(value='')))"
      ]
     },
     "metadata": {},
     "output_type": "display_data"
    },
    {
     "name": "stdout",
     "output_type": "stream",
     "text": [
      "\n"
     ]
    },
    {
     "data": {
      "application/vnd.jupyter.widget-view+json": {
       "model_id": "cad4214deadf44da8e643e4ffa988889",
       "version_major": 2,
       "version_minor": 0
      },
      "text/plain": [
       "HBox(children=(HTML(value=''), FloatProgress(value=0.0, max=3780.0), HTML(value='')))"
      ]
     },
     "metadata": {},
     "output_type": "display_data"
    },
    {
     "name": "stdout",
     "output_type": "stream",
     "text": [
      "\n",
      ">> epoch:[1/3] cost: 1.135 test_accuracy: 0.623 test_f1_score: 0.415\n"
     ]
    },
    {
     "data": {
      "application/vnd.jupyter.widget-view+json": {
       "model_id": "a9f388476f74475a9905e7a3baf6f614",
       "version_major": 2,
       "version_minor": 0
      },
      "text/plain": [
       "HBox(children=(HTML(value=''), FloatProgress(value=0.0, max=945.0), HTML(value='')))"
      ]
     },
     "metadata": {},
     "output_type": "display_data"
    },
    {
     "name": "stdout",
     "output_type": "stream",
     "text": [
      "\n"
     ]
    },
    {
     "data": {
      "application/vnd.jupyter.widget-view+json": {
       "model_id": "d253249d166a4e6f876ec9a367e53eda",
       "version_major": 2,
       "version_minor": 0
      },
      "text/plain": [
       "HBox(children=(HTML(value=''), FloatProgress(value=0.0, max=3780.0), HTML(value='')))"
      ]
     },
     "metadata": {},
     "output_type": "display_data"
    },
    {
     "name": "stdout",
     "output_type": "stream",
     "text": [
      "\n",
      ">> epoch:[2/3] cost: 0.543 test_accuracy: 0.791 test_f1_score: 0.676\n"
     ]
    },
    {
     "data": {
      "application/vnd.jupyter.widget-view+json": {
       "model_id": "973e0236e18c41339f319f83410191b5",
       "version_major": 2,
       "version_minor": 0
      },
      "text/plain": [
       "HBox(children=(HTML(value=''), FloatProgress(value=0.0, max=945.0), HTML(value='')))"
      ]
     },
     "metadata": {},
     "output_type": "display_data"
    },
    {
     "name": "stdout",
     "output_type": "stream",
     "text": [
      "\n"
     ]
    },
    {
     "data": {
      "application/vnd.jupyter.widget-view+json": {
       "model_id": "91b68e72548a4001ab4b544c6c063372",
       "version_major": 2,
       "version_minor": 0
      },
      "text/plain": [
       "HBox(children=(HTML(value=''), FloatProgress(value=0.0, max=3780.0), HTML(value='')))"
      ]
     },
     "metadata": {},
     "output_type": "display_data"
    },
    {
     "name": "stdout",
     "output_type": "stream",
     "text": [
      "\n",
      ">> epoch:[3/3] cost: 0.338 test_accuracy: 0.862 test_f1_score: 0.772\n",
      "============ Training Done! ============\n"
     ]
    }
   ],
   "source": [
    "train_model(train_loader3, valid_loader3, 1, model3, criterion3, optimizer3)"
   ]
  },
  {
   "cell_type": "markdown",
   "id": "80b5875f-63af-4e28-b45c-0434560b9bb6",
   "metadata": {},
   "source": [
    "### 3.4. Augmentation 4"
   ]
  },
  {
   "cell_type": "code",
   "execution_count": 123,
   "id": "637517c6-ec17-46d4-bc9b-2f65d180e59d",
   "metadata": {},
   "outputs": [],
   "source": [
    "model4 = torchvision.models.resnet18(pretrained=False)\n",
    "n_features = model4.fc.in_features\n",
    "model4.fc = nn.Linear(n_features, 18)\n",
    "model4 = model4.cuda()"
   ]
  },
  {
   "cell_type": "code",
   "execution_count": 124,
   "id": "505e816f-cf02-4b3d-a6b8-5c8a900bd344",
   "metadata": {},
   "outputs": [],
   "source": [
    "optimizer4 = optim.Adam(model4.parameters(), lr=LEARNING_RATE)\n",
    "criterion4 = nn.CrossEntropyLoss().to(device)"
   ]
  },
  {
   "cell_type": "code",
   "execution_count": 125,
   "id": "3159e120-a196-48e6-a6e7-54ef8383ba55",
   "metadata": {},
   "outputs": [
    {
     "name": "stdout",
     "output_type": "stream",
     "text": [
      "============ Training Starts! ============\n"
     ]
    },
    {
     "data": {
      "application/vnd.jupyter.widget-view+json": {
       "model_id": "c965c5a04c94473fb0d0a8a8c5ae0d9a",
       "version_major": 2,
       "version_minor": 0
      },
      "text/plain": [
       "HBox(children=(HTML(value=''), FloatProgress(value=0.0, max=945.0), HTML(value='')))"
      ]
     },
     "metadata": {},
     "output_type": "display_data"
    },
    {
     "name": "stdout",
     "output_type": "stream",
     "text": [
      "\n"
     ]
    },
    {
     "data": {
      "application/vnd.jupyter.widget-view+json": {
       "model_id": "1a911029369f4216915f4e4f33a711c0",
       "version_major": 2,
       "version_minor": 0
      },
      "text/plain": [
       "HBox(children=(HTML(value=''), FloatProgress(value=0.0, max=3780.0), HTML(value='')))"
      ]
     },
     "metadata": {},
     "output_type": "display_data"
    },
    {
     "name": "stdout",
     "output_type": "stream",
     "text": [
      "\n",
      ">> epoch:[1/3] cost: 1.113 test_accuracy: 0.742 test_f1_score: 0.575\n"
     ]
    },
    {
     "data": {
      "application/vnd.jupyter.widget-view+json": {
       "model_id": "73f5fb825f3e4b0caf1626898bc54520",
       "version_major": 2,
       "version_minor": 0
      },
      "text/plain": [
       "HBox(children=(HTML(value=''), FloatProgress(value=0.0, max=945.0), HTML(value='')))"
      ]
     },
     "metadata": {},
     "output_type": "display_data"
    },
    {
     "name": "stdout",
     "output_type": "stream",
     "text": [
      "\n"
     ]
    },
    {
     "data": {
      "application/vnd.jupyter.widget-view+json": {
       "model_id": "8e0b4bdfc4784a9386ef4321fc125f1f",
       "version_major": 2,
       "version_minor": 0
      },
      "text/plain": [
       "HBox(children=(HTML(value=''), FloatProgress(value=0.0, max=3780.0), HTML(value='')))"
      ]
     },
     "metadata": {},
     "output_type": "display_data"
    },
    {
     "name": "stdout",
     "output_type": "stream",
     "text": [
      "\n",
      ">> epoch:[2/3] cost: 0.547 test_accuracy: 0.752 test_f1_score: 0.605\n"
     ]
    },
    {
     "data": {
      "application/vnd.jupyter.widget-view+json": {
       "model_id": "7d12cc46e74a4dcf8665eee751fd3284",
       "version_major": 2,
       "version_minor": 0
      },
      "text/plain": [
       "HBox(children=(HTML(value=''), FloatProgress(value=0.0, max=945.0), HTML(value='')))"
      ]
     },
     "metadata": {},
     "output_type": "display_data"
    },
    {
     "name": "stdout",
     "output_type": "stream",
     "text": [
      "\n"
     ]
    },
    {
     "data": {
      "application/vnd.jupyter.widget-view+json": {
       "model_id": "7c68d7bec87e4402b4077a4faaf37a8b",
       "version_major": 2,
       "version_minor": 0
      },
      "text/plain": [
       "HBox(children=(HTML(value=''), FloatProgress(value=0.0, max=3780.0), HTML(value='')))"
      ]
     },
     "metadata": {},
     "output_type": "display_data"
    },
    {
     "name": "stdout",
     "output_type": "stream",
     "text": [
      "\n",
      ">> epoch:[3/3] cost: 0.363 test_accuracy: 0.826 test_f1_score: 0.701\n",
      "============ Training Done! ============\n"
     ]
    }
   ],
   "source": [
    "train_model(train_loader4, valid_loader4, 3, model4, criterion4, optimizer4)"
   ]
  },
  {
   "cell_type": "markdown",
   "id": "88095e1d-baa9-4c91-b895-a130e025c6e4",
   "metadata": {},
   "source": [
    "### 3.5. Augmentation 5"
   ]
  },
  {
   "cell_type": "code",
   "execution_count": 126,
   "id": "be3afaab-23ee-480e-aa0a-04853c278d2c",
   "metadata": {},
   "outputs": [],
   "source": [
    "model5 = torchvision.models.resnet18(pretrained=False)\n",
    "n_features = model5.fc.in_features\n",
    "model5.fc = nn.Linear(n_features, 18)\n",
    "model5 = model5.cuda()"
   ]
  },
  {
   "cell_type": "code",
   "execution_count": 127,
   "id": "0f988886-bf33-465d-84f2-152576da5252",
   "metadata": {},
   "outputs": [],
   "source": [
    "optimizer5 = optim.Adam(model5.parameters(), lr=LEARNING_RATE)\n",
    "criterion5 = nn.CrossEntropyLoss().to(device)"
   ]
  },
  {
   "cell_type": "code",
   "execution_count": 128,
   "id": "010f35ef-3825-4897-9b79-b8ca0a81f0ce",
   "metadata": {},
   "outputs": [
    {
     "name": "stdout",
     "output_type": "stream",
     "text": [
      "============ Training Starts! ============\n"
     ]
    },
    {
     "data": {
      "application/vnd.jupyter.widget-view+json": {
       "model_id": "91a624357350413aaf2e07463cbd9c35",
       "version_major": 2,
       "version_minor": 0
      },
      "text/plain": [
       "HBox(children=(HTML(value=''), FloatProgress(value=0.0, max=945.0), HTML(value='')))"
      ]
     },
     "metadata": {},
     "output_type": "display_data"
    },
    {
     "name": "stdout",
     "output_type": "stream",
     "text": [
      "\n"
     ]
    },
    {
     "data": {
      "application/vnd.jupyter.widget-view+json": {
       "model_id": "937adb26533d424e8c03c0143bb72116",
       "version_major": 2,
       "version_minor": 0
      },
      "text/plain": [
       "HBox(children=(HTML(value=''), FloatProgress(value=0.0, max=3780.0), HTML(value='')))"
      ]
     },
     "metadata": {},
     "output_type": "display_data"
    },
    {
     "name": "stdout",
     "output_type": "stream",
     "text": [
      "\n",
      ">> epoch:[1/3] cost: 1.068 test_accuracy: 0.731 test_f1_score: 0.527\n"
     ]
    },
    {
     "data": {
      "application/vnd.jupyter.widget-view+json": {
       "model_id": "881e47b16c384a32a517679f1fccebb2",
       "version_major": 2,
       "version_minor": 0
      },
      "text/plain": [
       "HBox(children=(HTML(value=''), FloatProgress(value=0.0, max=945.0), HTML(value='')))"
      ]
     },
     "metadata": {},
     "output_type": "display_data"
    },
    {
     "name": "stdout",
     "output_type": "stream",
     "text": [
      "\n"
     ]
    },
    {
     "data": {
      "application/vnd.jupyter.widget-view+json": {
       "model_id": "693aec5e3ced44588b3a34c01522c0ee",
       "version_major": 2,
       "version_minor": 0
      },
      "text/plain": [
       "HBox(children=(HTML(value=''), FloatProgress(value=0.0, max=3780.0), HTML(value='')))"
      ]
     },
     "metadata": {},
     "output_type": "display_data"
    },
    {
     "name": "stdout",
     "output_type": "stream",
     "text": [
      "\n",
      ">> epoch:[2/3] cost: 0.536 test_accuracy: 0.648 test_f1_score: 0.567\n"
     ]
    },
    {
     "data": {
      "application/vnd.jupyter.widget-view+json": {
       "model_id": "be47cb90794340cb8800c886361882ae",
       "version_major": 2,
       "version_minor": 0
      },
      "text/plain": [
       "HBox(children=(HTML(value=''), FloatProgress(value=0.0, max=945.0), HTML(value='')))"
      ]
     },
     "metadata": {},
     "output_type": "display_data"
    },
    {
     "name": "stdout",
     "output_type": "stream",
     "text": [
      "\n"
     ]
    },
    {
     "data": {
      "application/vnd.jupyter.widget-view+json": {
       "model_id": "112d9f9146494731810180aea5448527",
       "version_major": 2,
       "version_minor": 0
      },
      "text/plain": [
       "HBox(children=(HTML(value=''), FloatProgress(value=0.0, max=3780.0), HTML(value='')))"
      ]
     },
     "metadata": {},
     "output_type": "display_data"
    },
    {
     "name": "stdout",
     "output_type": "stream",
     "text": [
      "\n",
      ">> epoch:[3/3] cost: 0.370 test_accuracy: 0.762 test_f1_score: 0.645\n",
      "============ Training Done! ============\n"
     ]
    }
   ],
   "source": [
    "train_model(train_loader5, valid_loader5, 3, model5, criterion5, optimizer5)"
   ]
  },
  {
   "cell_type": "markdown",
   "id": "f3e006d2-0b25-4999-a93e-32b96421ec5d",
   "metadata": {},
   "source": [
    "### 3.6. Augmentation 6"
   ]
  },
  {
   "cell_type": "code",
   "execution_count": 129,
   "id": "fa18cebd-7113-4f7e-bdc1-32e53a469f8f",
   "metadata": {},
   "outputs": [],
   "source": [
    "model6 = torchvision.models.resnet18(pretrained=False)\n",
    "n_features = model6.fc.in_features\n",
    "model6.fc = nn.Linear(n_features, 18)\n",
    "model6 = model6.cuda()"
   ]
  },
  {
   "cell_type": "code",
   "execution_count": 130,
   "id": "c6878ab7-7e76-404e-8edd-6c285a8aa1b8",
   "metadata": {},
   "outputs": [],
   "source": [
    "optimizer6 = optim.Adam(model6.parameters(), lr=LEARNING_RATE)\n",
    "criterion6 = nn.CrossEntropyLoss().to(device)"
   ]
  },
  {
   "cell_type": "code",
   "execution_count": 131,
   "id": "3f21c2cf-55b8-43ce-afb5-8d340ecafdf1",
   "metadata": {},
   "outputs": [
    {
     "name": "stdout",
     "output_type": "stream",
     "text": [
      "============ Training Starts! ============\n"
     ]
    },
    {
     "data": {
      "application/vnd.jupyter.widget-view+json": {
       "model_id": "804219525eda408d8871ca6fb512380b",
       "version_major": 2,
       "version_minor": 0
      },
      "text/plain": [
       "HBox(children=(HTML(value=''), FloatProgress(value=0.0, max=945.0), HTML(value='')))"
      ]
     },
     "metadata": {},
     "output_type": "display_data"
    },
    {
     "name": "stdout",
     "output_type": "stream",
     "text": [
      "\n"
     ]
    },
    {
     "data": {
      "application/vnd.jupyter.widget-view+json": {
       "model_id": "f6062e60919f4770a10a21ab8a43a2dd",
       "version_major": 2,
       "version_minor": 0
      },
      "text/plain": [
       "HBox(children=(HTML(value=''), FloatProgress(value=0.0, max=3780.0), HTML(value='')))"
      ]
     },
     "metadata": {},
     "output_type": "display_data"
    },
    {
     "name": "stdout",
     "output_type": "stream",
     "text": [
      "\n",
      ">> epoch:[1/3] cost: 1.099 test_accuracy: 0.647 test_f1_score: 0.459\n"
     ]
    },
    {
     "data": {
      "application/vnd.jupyter.widget-view+json": {
       "model_id": "7a79bc8fc9ac4be68a40878deb0ff862",
       "version_major": 2,
       "version_minor": 0
      },
      "text/plain": [
       "HBox(children=(HTML(value=''), FloatProgress(value=0.0, max=945.0), HTML(value='')))"
      ]
     },
     "metadata": {},
     "output_type": "display_data"
    },
    {
     "name": "stdout",
     "output_type": "stream",
     "text": [
      "\n"
     ]
    },
    {
     "data": {
      "application/vnd.jupyter.widget-view+json": {
       "model_id": "aeaa87c7ccad4b3babbdb502658f77b1",
       "version_major": 2,
       "version_minor": 0
      },
      "text/plain": [
       "HBox(children=(HTML(value=''), FloatProgress(value=0.0, max=3780.0), HTML(value='')))"
      ]
     },
     "metadata": {},
     "output_type": "display_data"
    },
    {
     "name": "stdout",
     "output_type": "stream",
     "text": [
      "\n",
      ">> epoch:[2/3] cost: 0.548 test_accuracy: 0.537 test_f1_score: 0.481\n"
     ]
    },
    {
     "data": {
      "application/vnd.jupyter.widget-view+json": {
       "model_id": "a59f0a5747a44211a5c3af33a0401404",
       "version_major": 2,
       "version_minor": 0
      },
      "text/plain": [
       "HBox(children=(HTML(value=''), FloatProgress(value=0.0, max=945.0), HTML(value='')))"
      ]
     },
     "metadata": {},
     "output_type": "display_data"
    },
    {
     "name": "stdout",
     "output_type": "stream",
     "text": [
      "\n"
     ]
    },
    {
     "data": {
      "application/vnd.jupyter.widget-view+json": {
       "model_id": "7cd440151ac24586bf562c0cd02c1bd5",
       "version_major": 2,
       "version_minor": 0
      },
      "text/plain": [
       "HBox(children=(HTML(value=''), FloatProgress(value=0.0, max=3780.0), HTML(value='')))"
      ]
     },
     "metadata": {},
     "output_type": "display_data"
    },
    {
     "name": "stdout",
     "output_type": "stream",
     "text": [
      "\n",
      ">> epoch:[3/3] cost: 0.378 test_accuracy: 0.857 test_f1_score: 0.744\n",
      "============ Training Done! ============\n"
     ]
    }
   ],
   "source": [
    "train_model(train_loader6, valid_loader6, 3, model6, criterion6, optimizer6)"
   ]
  },
  {
   "cell_type": "markdown",
   "id": "8f437ef5-dfa6-407c-87d5-607a24d86904",
   "metadata": {},
   "source": [
    "### 3.7. Augmentation 7"
   ]
  },
  {
   "cell_type": "code",
   "execution_count": 132,
   "id": "5bbe4b95-1def-49e8-9e89-4411b1931db4",
   "metadata": {},
   "outputs": [],
   "source": [
    "model7 = torchvision.models.resnet18(pretrained=False)\n",
    "n_features = model7.fc.in_features\n",
    "model7.fc = nn.Linear(n_features, 18)\n",
    "model7 = model7.cuda()"
   ]
  },
  {
   "cell_type": "code",
   "execution_count": 133,
   "id": "46f28082-0260-4c60-bad7-8fb67c056020",
   "metadata": {},
   "outputs": [],
   "source": [
    "optimizer7 = optim.Adam(model7.parameters(), lr=LEARNING_RATE)\n",
    "criterion7 = nn.CrossEntropyLoss().to(device)"
   ]
  },
  {
   "cell_type": "code",
   "execution_count": 134,
   "id": "2dcbe8a3-f935-4b9b-b6cb-859646c2a885",
   "metadata": {},
   "outputs": [
    {
     "name": "stdout",
     "output_type": "stream",
     "text": [
      "============ Training Starts! ============\n"
     ]
    },
    {
     "data": {
      "application/vnd.jupyter.widget-view+json": {
       "model_id": "fe2637ac80624280944a32fa0add4362",
       "version_major": 2,
       "version_minor": 0
      },
      "text/plain": [
       "HBox(children=(HTML(value=''), FloatProgress(value=0.0, max=945.0), HTML(value='')))"
      ]
     },
     "metadata": {},
     "output_type": "display_data"
    },
    {
     "name": "stdout",
     "output_type": "stream",
     "text": [
      "\n"
     ]
    },
    {
     "data": {
      "application/vnd.jupyter.widget-view+json": {
       "model_id": "03eab0ddf78c42f5bd8a655978da5d64",
       "version_major": 2,
       "version_minor": 0
      },
      "text/plain": [
       "HBox(children=(HTML(value=''), FloatProgress(value=0.0, max=3780.0), HTML(value='')))"
      ]
     },
     "metadata": {},
     "output_type": "display_data"
    },
    {
     "name": "stdout",
     "output_type": "stream",
     "text": [
      "\n",
      ">> epoch:[1/3] cost: 1.105 test_accuracy: 0.748 test_f1_score: 0.540\n"
     ]
    },
    {
     "data": {
      "application/vnd.jupyter.widget-view+json": {
       "model_id": "50f609b1128a441eaa81431973b86cfc",
       "version_major": 2,
       "version_minor": 0
      },
      "text/plain": [
       "HBox(children=(HTML(value=''), FloatProgress(value=0.0, max=945.0), HTML(value='')))"
      ]
     },
     "metadata": {},
     "output_type": "display_data"
    },
    {
     "name": "stdout",
     "output_type": "stream",
     "text": [
      "\n"
     ]
    },
    {
     "data": {
      "application/vnd.jupyter.widget-view+json": {
       "model_id": "3a80d22eeacf46209d4ea3ba4e4641ee",
       "version_major": 2,
       "version_minor": 0
      },
      "text/plain": [
       "HBox(children=(HTML(value=''), FloatProgress(value=0.0, max=3780.0), HTML(value='')))"
      ]
     },
     "metadata": {},
     "output_type": "display_data"
    },
    {
     "name": "stdout",
     "output_type": "stream",
     "text": [
      "\n",
      ">> epoch:[2/3] cost: 0.551 test_accuracy: 0.804 test_f1_score: 0.697\n"
     ]
    },
    {
     "data": {
      "application/vnd.jupyter.widget-view+json": {
       "model_id": "3a1b4ff28b144468b9c7708419586a13",
       "version_major": 2,
       "version_minor": 0
      },
      "text/plain": [
       "HBox(children=(HTML(value=''), FloatProgress(value=0.0, max=945.0), HTML(value='')))"
      ]
     },
     "metadata": {},
     "output_type": "display_data"
    },
    {
     "name": "stdout",
     "output_type": "stream",
     "text": [
      "\n"
     ]
    },
    {
     "data": {
      "application/vnd.jupyter.widget-view+json": {
       "model_id": "6bf6dcaabb1e46c49a93f5802ad43575",
       "version_major": 2,
       "version_minor": 0
      },
      "text/plain": [
       "HBox(children=(HTML(value=''), FloatProgress(value=0.0, max=3780.0), HTML(value='')))"
      ]
     },
     "metadata": {},
     "output_type": "display_data"
    },
    {
     "name": "stdout",
     "output_type": "stream",
     "text": [
      "\n",
      ">> epoch:[3/3] cost: 0.369 test_accuracy: 0.823 test_f1_score: 0.687\n",
      "============ Training Done! ============\n"
     ]
    }
   ],
   "source": [
    "train_model(train_loader7, valid_loader7, 3, model7, criterion7, optimizer7)"
   ]
  },
  {
   "cell_type": "code",
   "execution_count": null,
   "id": "1a7a7364-46a0-4c1a-b5dc-a0ddc6bf4165",
   "metadata": {},
   "outputs": [],
   "source": []
  }
 ],
 "metadata": {
  "kernelspec": {
   "display_name": "Python 3 (ipykernel)",
   "language": "python",
   "name": "python3"
  },
  "language_info": {
   "codemirror_mode": {
    "name": "ipython",
    "version": 3
   },
   "file_extension": ".py",
   "mimetype": "text/x-python",
   "name": "python",
   "nbconvert_exporter": "python",
   "pygments_lexer": "ipython3",
   "version": "3.8.5"
  }
 },
 "nbformat": 4,
 "nbformat_minor": 5
}
