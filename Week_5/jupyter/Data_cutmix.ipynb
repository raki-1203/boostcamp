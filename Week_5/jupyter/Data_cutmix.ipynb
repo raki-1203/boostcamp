{
 "cells": [
  {
   "cell_type": "code",
   "execution_count": 86,
   "id": "d1a2e1f5-349c-4d1b-890c-9f8464aba40f",
   "metadata": {},
   "outputs": [],
   "source": [
    "import glob\n",
    "import numpy as np\n",
    "import matplotlib.pyplot as plt\n",
    "import cv2\n",
    "from PIL import Image"
   ]
  },
  {
   "cell_type": "code",
   "execution_count": null,
   "id": "e3a51d68-330a-4639-9e3c-366838c7d54a",
   "metadata": {},
   "outputs": [],
   "source": [
    "data_folder = '/opt/ml/input/data/train/new_imgs/'\n",
    "filenames = glob.glob(f'{data_folder}/*/*.jpg')\n",
    "image_paths = filenames[:10]\n",
    "plt.imshow(np.array(Image.open(image_paths[0])))\n",
    "plt.show()"
   ]
  },
  {
   "cell_type": "code",
   "execution_count": null,
   "id": "066b1bab-c431-4bb1-9735-1ce417e1282a",
   "metadata": {},
   "outputs": [],
   "source": [
    "image_batch = []\n",
    "image_batch_labels = []\n",
    "\n",
    "n_images = 4\n",
    "\n",
    "for i in range(n_images):\n",
    "    image = np.array(Image.open(image_paths[i]))\n",
    "    image_batch.append(image)\n",
    "    \n",
    "    print(image_paths[i])\n",
    "    # male: 0, female: 1\n",
    "    male_label = 0 if image_paths[i].split('/')[-2].split('_')[1] == 'male' else 1\n",
    "    # young(~30): 0, middle(30~59), old(60~)\n",
    "    age_label = 0 if int(image_paths[i].split('/')[-2].split('_')[-1]) < 30 else 1 if int(image_paths[i].split('/')[-2].split('_')[-1]) < 60 else 2\n",
    "    # wear: 0, incorrect: 1, not wear: 2\n",
    "    mask_label = 1 if 'incorrect' in image_paths[i].split('/')[-1] else 2 if 'normal' in image_paths[i].split('/')[-1] else 0\n",
    "    multi_class_label = mask_label * 6 + male_label * 3 + age_label\n",
    "    \n",
    "    label = [0] * 18\n",
    "    label[multi_class_label] = 1\n",
    "    \n",
    "    image_batch_labels.append(label)\n",
    "    \n",
    "# Convert image_batch to numpy array\n",
    "image_batch = np.array(image_batch)\n",
    "# Convert image_batch_labels to numpy array\n",
    "image_batch_labels = np.array(image_batch_labels)\n",
    "\n",
    "# Print labels\n",
    "print()\n",
    "print(f\"Image labels: {image_batch_labels}\\n\")\n",
    "\n",
    "for i in range(2):\n",
    "    for j in range(2):\n",
    "        plt.subplot(2, 2, 2 * i + j + 1)\n",
    "        plt.imshow(image_batch[2 * i + j])\n",
    "plt.show()"
   ]
  },
  {
   "cell_type": "code",
   "execution_count": 89,
   "id": "2a2e5904-3042-4318-82dd-c9cfcedd20ff",
   "metadata": {},
   "outputs": [],
   "source": [
    "def vertical_bbox(size):\n",
    "    \"\"\" Generate random bounding box \n",
    "    Args:\n",
    "        - size: [width, breadth] of the bounding box\n",
    "    Returns:\n",
    "        - Bounding box\n",
    "    \"\"\"\n",
    "    W = size[1]\n",
    "    H = size[0]\n",
    "    \n",
    "    bbx1 = 0\n",
    "    bby1 = 0\n",
    "    bbx2 = W // 2\n",
    "    bby2 = H\n",
    "    \n",
    "    return bbx1, bby1, bbx2, bby2"
   ]
  },
  {
   "cell_type": "code",
   "execution_count": null,
   "id": "03661b77-9ecd-4e80-ab02-2485d3e7f196",
   "metadata": {},
   "outputs": [],
   "source": [
    "# Read an image\n",
    "image = np.array(Image.open(image_paths[i]))\n",
    "\n",
    "# Crop a vertical bounding box\n",
    "size = image.shape\n",
    "bbox = vertical_bbox(size)\n",
    "\n",
    "# Draw bounding box on the image\n",
    "im = image.copy()\n",
    "x1 = bbox[0]\n",
    "y1 = bbox[1]\n",
    "x2 = bbox[2]\n",
    "y2 = bbox[3]\n",
    "cv2.rectangle(im, (x1, y1), (x2, y2), (255, 0, 0), 3)\n",
    "plt.imshow(im)\n",
    "plt.title('Original image with random bounding box')\n",
    "plt.show()\n",
    "\n",
    "# Show cropped image\n",
    "plt.imshow(image[y1:y2, x1:x2])\n",
    "plt.title('Cropped image')\n",
    "plt.show()"
   ]
  },
  {
   "cell_type": "code",
   "execution_count": 98,
   "id": "4ea4c433-4f1d-4f80-a6ff-d3cc3809c0b1",
   "metadata": {},
   "outputs": [],
   "source": [
    "def generate_cutmix_image(image_batch, image_batch_labels):\n",
    "    \"\"\" Generate a CutMix augmented image from a batch \n",
    "    Args:\n",
    "        - image_batch: a batch of input images\n",
    "        - image_batch_labels: labels corresponding to the image batch\n",
    "    Returns:\n",
    "        - CutMix image batch, updated labels\n",
    "    \"\"\"\n",
    "    # generate mixed sample\n",
    "    rand_index = np.random.permutation(len(image_batch))\n",
    "    target_a = image_batch_labels\n",
    "    target_b = image_batch_labels[rand_index]\n",
    "    bbx1, bby1, bbx2, bby2 = vertical_bbox(image_batch[0].shape)\n",
    "    image_batch_updated = image_batch.copy()\n",
    "    image_batch_updated[:, bby1:bby2, bbx1:bbx2, :] = image_batch[rand_index, bby1:bby2, bbx1:bbx2, :]\n",
    "    \n",
    "    label = target_a * 0.5 + target_b * 0.5\n",
    "    \n",
    "    return image_batch_updated, label"
   ]
  },
  {
   "cell_type": "code",
   "execution_count": 99,
   "id": "fd126169-9012-4aa5-913c-12ee747dd722",
   "metadata": {},
   "outputs": [],
   "source": [
    "input_image = image_batch[0]\n",
    "image_batch_updated, image_batch_labels_updated = generate_cutmix_image(image_batch, image_batch_labels)"
   ]
  },
  {
   "cell_type": "code",
   "execution_count": null,
   "id": "3d353271-5b34-40f4-bdb2-0f3a5afce1c1",
   "metadata": {},
   "outputs": [],
   "source": [
    "# Show original images\n",
    "print(\"Original Images\")\n",
    "for i in range(2):\n",
    "    for j in range(2):\n",
    "        plt.subplot(2, 2, 2 * i + j + 1)\n",
    "        plt.imshow(image_batch[2 * i + j])\n",
    "        \n",
    "plt.show()\n",
    "\n",
    "# Show CutMix images\n",
    "print(\"CutMix Images\")\n",
    "for i in range(2):\n",
    "    for j in range(2):\n",
    "        plt.subplot(2, 2, 2 * i + j + 1)\n",
    "        plt.imshow(image_batch_updated[2 * i + j])\n",
    "        \n",
    "plt.show()\n",
    "\n",
    "# Print labels\n",
    "print('Original labels:')\n",
    "print(image_batch_labels)\n",
    "print('Updated labels:')\n",
    "print(image_batch_labels_updated)"
   ]
  },
  {
   "cell_type": "code",
   "execution_count": null,
   "id": "49652476-72cb-4ceb-a19d-09448bfd8cdc",
   "metadata": {},
   "outputs": [],
   "source": []
  }
 ],
 "metadata": {
  "kernelspec": {
   "display_name": "Python 3 (ipykernel)",
   "language": "python",
   "name": "python3"
  },
  "language_info": {
   "codemirror_mode": {
    "name": "ipython",
    "version": 3
   },
   "file_extension": ".py",
   "mimetype": "text/x-python",
   "name": "python",
   "nbconvert_exporter": "python",
   "pygments_lexer": "ipython3",
   "version": "3.8.5"
  }
 },
 "nbformat": 4,
 "nbformat_minor": 5
}
