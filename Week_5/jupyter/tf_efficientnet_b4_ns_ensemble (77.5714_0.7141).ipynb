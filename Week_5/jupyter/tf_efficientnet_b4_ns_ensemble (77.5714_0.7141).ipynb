{
 "cells": [
  {
   "cell_type": "markdown",
   "id": "about-heavy",
   "metadata": {},
   "source": [
    "## 0. Libarary 불러오기 및 경로설정"
   ]
  },
  {
   "cell_type": "markdown",
   "id": "2b1c67ad-a3b7-494a-bfa6-d46587a43bba",
   "metadata": {},
   "source": [
    "`!pip install -U albumentations==0.5.2`\n",
    "\n",
    "`!pip install timm`"
   ]
  },
  {
   "cell_type": "code",
   "execution_count": 1,
   "id": "cubic-scoop",
   "metadata": {},
   "outputs": [],
   "source": [
    "import os\n",
    "import glob\n",
    "import pandas as pd\n",
    "import numpy as np\n",
    "import time\n",
    "import datetime\n",
    "import albumentations\n",
    "import timm\n",
    "import matplotlib.pyplot as plt\n",
    "\n",
    "import torch\n",
    "import torch.nn as nn\n",
    "import torch.optim as optim\n",
    "import torch.nn.functional as F\n",
    "import torchvision\n",
    "\n",
    "from PIL import Image\n",
    "from copy import deepcopy\n",
    "from tqdm.notebook import tqdm\n",
    "from sklearn.model_selection import train_test_split, StratifiedKFold\n",
    "from sklearn.metrics import f1_score\n",
    "from pytz import timezone\n",
    "from albumentations.pytorch.transforms import ToTensorV2\n",
    "\n",
    "from torch.utils.data import Dataset, DataLoader\n",
    "from torchvision import transforms\n",
    "from torch.optim import lr_scheduler\n",
    "from torch.nn.modules.loss import _WeightedLoss"
   ]
  },
  {
   "cell_type": "code",
   "execution_count": 2,
   "id": "793b7cf4-fd7a-485d-ab96-1ee4ea92f2ce",
   "metadata": {},
   "outputs": [],
   "source": [
    "import warnings\n",
    "warnings.filterwarnings('ignore')"
   ]
  },
  {
   "cell_type": "code",
   "execution_count": 3,
   "id": "f8a8dffd-109b-4756-a4ca-679e6f91dda5",
   "metadata": {},
   "outputs": [
    {
     "name": "stdout",
     "output_type": "stream",
     "text": [
      "PyTorch version: 1.7.1\n"
     ]
    }
   ],
   "source": [
    "print('PyTorch version: {}'.format(torch.__version__))"
   ]
  },
  {
   "cell_type": "code",
   "execution_count": 4,
   "id": "c2cf8731-af8a-4e67-a4d0-502ed3697a3c",
   "metadata": {
    "scrolled": true,
    "tags": []
   },
   "outputs": [
    {
     "data": {
      "text/plain": [
       "['eca_efficientnet_b0',\n",
       " 'efficientnet_b0',\n",
       " 'efficientnet_b1',\n",
       " 'efficientnet_b1_pruned',\n",
       " 'efficientnet_b2',\n",
       " 'efficientnet_b2_pruned',\n",
       " 'efficientnet_b2a',\n",
       " 'efficientnet_b3',\n",
       " 'efficientnet_b3_pruned',\n",
       " 'efficientnet_b3a',\n",
       " 'efficientnet_b4',\n",
       " 'efficientnet_b5',\n",
       " 'efficientnet_b6',\n",
       " 'efficientnet_b7',\n",
       " 'efficientnet_b8',\n",
       " 'efficientnet_cc_b0_4e',\n",
       " 'efficientnet_cc_b0_8e',\n",
       " 'efficientnet_cc_b1_8e',\n",
       " 'efficientnet_el',\n",
       " 'efficientnet_el_pruned',\n",
       " 'efficientnet_em',\n",
       " 'efficientnet_es',\n",
       " 'efficientnet_es_pruned',\n",
       " 'efficientnet_l2',\n",
       " 'efficientnet_lite0',\n",
       " 'efficientnet_lite1',\n",
       " 'efficientnet_lite2',\n",
       " 'efficientnet_lite3',\n",
       " 'efficientnet_lite4',\n",
       " 'efficientnetv2_l',\n",
       " 'efficientnetv2_m',\n",
       " 'efficientnetv2_rw_m',\n",
       " 'efficientnetv2_rw_s',\n",
       " 'efficientnetv2_s',\n",
       " 'gc_efficientnet_b0',\n",
       " 'tf_efficientnet_b0',\n",
       " 'tf_efficientnet_b0_ap',\n",
       " 'tf_efficientnet_b0_ns',\n",
       " 'tf_efficientnet_b1',\n",
       " 'tf_efficientnet_b1_ap',\n",
       " 'tf_efficientnet_b1_ns',\n",
       " 'tf_efficientnet_b2',\n",
       " 'tf_efficientnet_b2_ap',\n",
       " 'tf_efficientnet_b2_ns',\n",
       " 'tf_efficientnet_b3',\n",
       " 'tf_efficientnet_b3_ap',\n",
       " 'tf_efficientnet_b3_ns',\n",
       " 'tf_efficientnet_b4',\n",
       " 'tf_efficientnet_b4_ap',\n",
       " 'tf_efficientnet_b4_ns',\n",
       " 'tf_efficientnet_b5',\n",
       " 'tf_efficientnet_b5_ap',\n",
       " 'tf_efficientnet_b5_ns',\n",
       " 'tf_efficientnet_b6',\n",
       " 'tf_efficientnet_b6_ap',\n",
       " 'tf_efficientnet_b6_ns',\n",
       " 'tf_efficientnet_b7',\n",
       " 'tf_efficientnet_b7_ap',\n",
       " 'tf_efficientnet_b7_ns',\n",
       " 'tf_efficientnet_b8',\n",
       " 'tf_efficientnet_b8_ap',\n",
       " 'tf_efficientnet_cc_b0_4e',\n",
       " 'tf_efficientnet_cc_b0_8e',\n",
       " 'tf_efficientnet_cc_b1_8e',\n",
       " 'tf_efficientnet_el',\n",
       " 'tf_efficientnet_em',\n",
       " 'tf_efficientnet_es',\n",
       " 'tf_efficientnet_l2_ns',\n",
       " 'tf_efficientnet_l2_ns_475',\n",
       " 'tf_efficientnet_lite0',\n",
       " 'tf_efficientnet_lite1',\n",
       " 'tf_efficientnet_lite2',\n",
       " 'tf_efficientnet_lite3',\n",
       " 'tf_efficientnet_lite4',\n",
       " 'tf_efficientnetv2_b0',\n",
       " 'tf_efficientnetv2_b1',\n",
       " 'tf_efficientnetv2_b2',\n",
       " 'tf_efficientnetv2_b3',\n",
       " 'tf_efficientnetv2_l',\n",
       " 'tf_efficientnetv2_l_in21ft1k',\n",
       " 'tf_efficientnetv2_l_in21k',\n",
       " 'tf_efficientnetv2_m',\n",
       " 'tf_efficientnetv2_m_in21ft1k',\n",
       " 'tf_efficientnetv2_m_in21k',\n",
       " 'tf_efficientnetv2_s',\n",
       " 'tf_efficientnetv2_s_in21ft1k',\n",
       " 'tf_efficientnetv2_s_in21k']"
      ]
     },
     "execution_count": 4,
     "metadata": {},
     "output_type": "execute_result"
    }
   ],
   "source": [
    "# 부를 수 있는 모델 확인\n",
    "all_vit_models = timm.list_models('*efficient*')\n",
    "all_vit_models"
   ]
  },
  {
   "cell_type": "markdown",
   "id": "332d31d4-fd56-44bd-80b5-c47ab2be3fb9",
   "metadata": {},
   "source": [
    "## RANDOM SEED 고정"
   ]
  },
  {
   "cell_type": "code",
   "execution_count": 5,
   "id": "2f222122-342e-425e-9afd-cb68906499fb",
   "metadata": {},
   "outputs": [],
   "source": [
    "def set_seed(SEED):\n",
    "    # Set random seed\n",
    "    # random.seed(SEED)\n",
    "    np.random.seed(SEED)\n",
    "    os.environ[\"PYTHONHASHSEED\"] = str(SEED)\n",
    "    torch.manual_seed(SEED)\n",
    "    torch.cuda.manual_seed(SEED)  # type: ignore\n",
    "    torch.backends.cudnn.deterministic = True  # type: ignore\n",
    "    torch.backends.cudnn.benchmark = True  # type: ignore"
   ]
  },
  {
   "cell_type": "markdown",
   "id": "72120758-fa63-4603-9aa7-575558925147",
   "metadata": {
    "tags": []
   },
   "source": [
    "## Pretrained Model Class 정의"
   ]
  },
  {
   "cell_type": "code",
   "execution_count": 6,
   "id": "9c40c7eb-191f-49b3-9b91-428dfaedfa6b",
   "metadata": {},
   "outputs": [],
   "source": [
    "class ImgClassifier(nn.Module):\n",
    "    def __init__(self, model_name, n_class, pretrained=False):\n",
    "        super().__init__()\n",
    "        self.model = timm.create_model(model_name, pretrained=pretrained)\n",
    "        n_features = self.model.classifier.in_features\n",
    "        self.model.classifier = nn.Linear(n_features, n_class)\n",
    "        '''\n",
    "        self.model.classifier = nn.Sequential(\n",
    "            nn.Dropout(0.3),\n",
    "            #nn.Linear(n_features, hidden_size,bias=True), nn.ELU(),\n",
    "            nn.Linear(n_features, n_class, bias=True)\n",
    "        )\n",
    "        '''\n",
    "    def forward(self, x):\n",
    "        x = self.model(x)\n",
    "        return x"
   ]
  },
  {
   "cell_type": "markdown",
   "id": "8a647712-d88b-4c4f-863d-296b621acbeb",
   "metadata": {},
   "source": [
    "## Fine Tuning & Feature extractor 설정 함수 정의"
   ]
  },
  {
   "cell_type": "code",
   "execution_count": 7,
   "id": "db3c7c7a-8923-47f1-9c73-5a040006e0d8",
   "metadata": {},
   "outputs": [],
   "source": [
    "def set_model_train_mode(model, mode=0):\n",
    "    # Fine Tuning\n",
    "    if mode == 0:\n",
    "        for param in model.parameters():\n",
    "            param.requires_grad = True\n",
    "    # Feature extractor\n",
    "    elif mode == 1:\n",
    "        for param in model.parameters():\n",
    "            param.requires_grad = False\n",
    "        for param in model.fc.parameters():\n",
    "            param.requires_grad = True\n",
    "    else:\n",
    "        raise Exception('mode를 0: Fine Tuning 1: Feature extractor 를 위한 parameter를 넣으세요!')"
   ]
  },
  {
   "cell_type": "markdown",
   "id": "domestic-channels",
   "metadata": {},
   "source": [
    "## Dataset Class 정의"
   ]
  },
  {
   "cell_type": "code",
   "execution_count": 8,
   "id": "extensive-north",
   "metadata": {},
   "outputs": [],
   "source": [
    "class MyDataset(Dataset):\n",
    "    def __init__(self, df, transform):\n",
    "        self.img_paths = df['image_path']\n",
    "        self.transform = transform\n",
    "        self.y = df['target']\n",
    "\n",
    "    def __len__(self):\n",
    "        return len(self.img_paths)\n",
    "    \n",
    "    def __getitem__(self, idx):\n",
    "        image = np.array(Image.open(self.img_paths.iloc[idx]))\n",
    "        label = self.y.iloc[idx]\n",
    "\n",
    "        if self.transform:\n",
    "            image = self.transform(image=image)\n",
    "            image = image['image']\n",
    "        return image, torch.tensor(label)"
   ]
  },
  {
   "cell_type": "markdown",
   "id": "f9b8c599-24e3-4107-a368-3757010c193a",
   "metadata": {},
   "source": [
    "## 데이터 Augmentation 을 위한 transform 정의 (albumentations 사용)"
   ]
  },
  {
   "cell_type": "code",
   "execution_count": 9,
   "id": "6a93567c-1369-4b33-9a5a-0d4910096b66",
   "metadata": {},
   "outputs": [],
   "source": [
    "def get_transform(mean, std):\n",
    "    train_transform = albumentations.Compose([\n",
    "        albumentations.CenterCrop(cfg.IMAGE_SIZE, cfg.IMAGE_SIZE, p=1.0),\n",
    "        albumentations.HorizontalFlip(p=0.5),\n",
    "        albumentations.ShiftScaleRotate(rotate_limit=30, p=0.5),\n",
    "        albumentations.HueSaturationValue(hue_shift_limit=0.2, sat_shift_limit=0.2, val_shift_limit=0.2, p=0.5),\n",
    "        albumentations.RandomBrightnessContrast(brightness_limit=(-0.1, 0.1), contrast_limit=(-0.1, 0.1), p=0.5),\n",
    "        albumentations.GaussNoise(p=0.5),\n",
    "        albumentations.Normalize(mean, std, max_pixel_value=255.0, p=1.0),\n",
    "        ToTensorV2(p=1.0),\n",
    "    ])\n",
    "    valid_transform = albumentations.Compose([\n",
    "        albumentations.CenterCrop(cfg.IMAGE_SIZE, cfg.IMAGE_SIZE, p=1.0),\n",
    "        albumentations.Normalize(mean, std, max_pixel_value=255.0, p=1.0),\n",
    "        ToTensorV2(p=1.0),\n",
    "    ])\n",
    "    return train_transform, valid_transform"
   ]
  },
  {
   "cell_type": "markdown",
   "id": "8de510e9-e3b5-4131-963c-c720318c2fe6",
   "metadata": {},
   "source": [
    "## 3. Train DataLoader 정의"
   ]
  },
  {
   "cell_type": "code",
   "execution_count": 10,
   "id": "d7f4e58c-d918-4cc6-9b09-2000ceb3a6c3",
   "metadata": {},
   "outputs": [],
   "source": [
    "class MyDataset(Dataset):\n",
    "    def __init__(self, df, transform):\n",
    "        self.img_paths = df['image_path']\n",
    "        self.transform = transform\n",
    "        self.y = df['target']\n",
    "\n",
    "    def __len__(self):\n",
    "        return len(self.img_paths)\n",
    "    \n",
    "    def __getitem__(self, idx):\n",
    "        image = np.array(Image.open(self.img_paths.iloc[idx]))\n",
    "        label = self.y.iloc[idx]\n",
    "\n",
    "        if self.transform:\n",
    "            image = self.transform(image=image)\n",
    "            image = image['image']\n",
    "        return image, torch.tensor(label)"
   ]
  },
  {
   "cell_type": "code",
   "execution_count": 11,
   "id": "4f11e7b0-2b9b-49f3-a12d-00c650584cc5",
   "metadata": {},
   "outputs": [],
   "source": [
    "def get_dataloader(df, train_idx, valid_idx, mean, std):\n",
    "    \n",
    "    train_ = df.iloc[train_idx].reset_index(drop=True)\n",
    "    valid_ = df.iloc[valid_idx].reset_index(drop=True)\n",
    "    \n",
    "    train_transform, valid_transform = get_transform(mean, std)\n",
    "    \n",
    "    train_dataset = MyDataset(train_, train_transform)\n",
    "    valid_dataset = MyDataset(valid_, valid_transform)\n",
    "    \n",
    "    train_loader = torch.utils.data.DataLoader(train_dataset, \n",
    "                                               batch_size=cfg.BATCH_SIZE,\n",
    "                                               shuffle=True,\n",
    "                                               num_workers=cfg.NUM_WORKERS)\n",
    "    valid_loader = torch.utils.data.DataLoader(valid_dataset, \n",
    "                                               batch_size=cfg.BATCH_SIZE,\n",
    "                                               shuffle=True,\n",
    "                                               num_workers=cfg.NUM_WORKERS)\n",
    "    \n",
    "    return train_loader, valid_loader"
   ]
  },
  {
   "cell_type": "markdown",
   "id": "73e14480-d003-4fdd-b399-f0fa6c3a947b",
   "metadata": {},
   "source": [
    "## EarlyStopping Class 정의"
   ]
  },
  {
   "cell_type": "code",
   "execution_count": 12,
   "id": "e91324d6-68eb-482e-90da-2b5f955dece7",
   "metadata": {},
   "outputs": [],
   "source": [
    "class EarlyStopping:\n",
    "    \"\"\"Early stops the training if validation loss doesn't improve after a given patience.\"\"\"\n",
    "    def __init__(self, fold, patience=7, verbose=False):\n",
    "        \"\"\"\n",
    "        Args:\n",
    "            patience (int): How long to wait after last time validation loss improved.\n",
    "                            Default: 7\n",
    "            verbose (bool): If True, prints a message for each validation loss improvement. \n",
    "                            Default: False\n",
    "        \"\"\"\n",
    "        self.fold = fold\n",
    "        self.patience = patience\n",
    "        self.verbose = verbose\n",
    "        self.counter = 0\n",
    "        self.best_score = None\n",
    "        self.early_stop = False\n",
    "        self.val_loss_min = np.Inf\n",
    "\n",
    "    def __call__(self, val_loss, model):\n",
    "\n",
    "        score = -val_loss\n",
    "\n",
    "        if self.best_score is None:\n",
    "            self.best_score = score\n",
    "            self.save_checkpoint(val_loss, model)\n",
    "        elif score < self.best_score:\n",
    "            self.counter += 1\n",
    "            print(f'EarlyStopping counter: {self.counter} out of {self.patience}')\n",
    "            if self.counter >= self.patience:\n",
    "                self.early_stop = True\n",
    "        else:\n",
    "            self.best_score = score\n",
    "            self.save_checkpoint(val_loss, model)\n",
    "            self.counter = 0\n",
    "\n",
    "    def save_checkpoint(self, val_loss, model):\n",
    "        '''Saves model when validation loss decrease.'''\n",
    "        if self.verbose:\n",
    "            print(f'Validation loss decreased ({self.val_loss_min:.6f} --> {val_loss:.6f}).  Saving model ...')\n",
    "        path = f'{os.path.join(cfg.model_save_path, cfg.model_name)}_{self.fold + 1}'\n",
    "        my_make_dir(path)\n",
    "        torch.save(model.state_dict(), '{}/checkpoint.pt'.format(path))\n",
    "        self.val_loss_min = val_loss"
   ]
  },
  {
   "cell_type": "markdown",
   "id": "21ecfc5b-203c-4f84-8323-e93e1f62e01f",
   "metadata": {},
   "source": [
    "## Train_one_epoch 함수 정의"
   ]
  },
  {
   "cell_type": "code",
   "execution_count": 13,
   "id": "0871e110-05ca-4cc3-a67b-3f031d17823c",
   "metadata": {},
   "outputs": [],
   "source": [
    "def train_one_epoch(epoch, model, criterion, optimizer, train_loader, device):\n",
    "    model.train()\n",
    "    \n",
    "    running_loss = 0\n",
    "    running_acc = 0\n",
    "    running_f1 = 0\n",
    "    \n",
    "    pbar = tqdm(train_loader, total=len(train_loader))\n",
    "    for X_batch, y_batch in pbar:\n",
    "        pbar.set_description(f'Epoch {epoch} | loss : {running_loss:.4f} | acc : {running_acc:.4f} | F1_score : {running_f1:.4f}')\n",
    "\n",
    "        X_batch = X_batch.to(device).float()\n",
    "        y_batch = y_batch.to(device).long()\n",
    "        \n",
    "        optimizer.zero_grad()\n",
    "        \n",
    "        y_pred = model.forward(X_batch)\n",
    "        _, preds = torch.max(y_pred, 1)\n",
    "        loss = criterion(y_pred, y_batch)\n",
    "        \n",
    "        loss.backward()\n",
    "        optimizer.step()\n",
    "        \n",
    "        running_loss += loss.item()\n",
    "        running_acc += torch.sum(preds == y_batch.data) / len(y_batch)\n",
    "        running_f1 += f1_score(preds.cpu().numpy(), \n",
    "                                     y_batch.cpu().numpy(), average='macro')\n",
    "        \n",
    "    epoch_loss = running_loss / len(train_loader)\n",
    "    epoch_acc = running_acc / len(train_loader)\n",
    "    epoch_f1 = running_f1 / len(train_loader)\n",
    "    \n",
    "    return epoch_loss, epoch_acc, epoch_f1"
   ]
  },
  {
   "cell_type": "markdown",
   "id": "1a23115e-92d6-4090-b50a-85dea078b19d",
   "metadata": {},
   "source": [
    "## Valid_one_epoch 함수 정의"
   ]
  },
  {
   "cell_type": "code",
   "execution_count": 14,
   "id": "ac3fce7d-a3d6-4a1a-8e84-1d0e9d8aa488",
   "metadata": {},
   "outputs": [],
   "source": [
    "def valid_one_epoch(epoch, model, criterion, valid_loader, device):\n",
    "    model.eval()\n",
    "    \n",
    "    running_loss = 0\n",
    "    running_acc = 0\n",
    "    running_f1 = 0\n",
    "    \n",
    "    pbar = tqdm(valid_loader, total=len(valid_loader))\n",
    "    with torch.no_grad():\n",
    "        for X_batch, y_batch in pbar:\n",
    "            pbar.set_description(f'Epoch {epoch} | loss : {running_loss:.4f} | acc : {running_acc:.4f} | F1_score : {running_f1:.4f}')\n",
    "            \n",
    "            X_batch = X_batch.to(device).float()\n",
    "            y_batch = y_batch.to(device).long()\n",
    "            \n",
    "            y_pred = model.forward(X_batch)\n",
    "            _, preds = torch.max(y_pred, 1)\n",
    "            loss = criterion(y_pred, y_batch)\n",
    "            \n",
    "            running_loss += loss.item()\n",
    "            running_acc += torch.sum(preds == y_batch.data) / len(y_batch)\n",
    "            running_f1 += f1_score(preds.cpu().numpy(), \n",
    "                                     y_batch.cpu().numpy(), average='macro')\n",
    "            \n",
    "    epoch_loss = running_loss / len(valid_loader)\n",
    "    epoch_acc = running_acc / len(valid_loader)\n",
    "    epoch_f1 = running_f1 / len(valid_loader)\n",
    "    \n",
    "    return epoch_loss, epoch_acc, epoch_f1"
   ]
  },
  {
   "cell_type": "markdown",
   "id": "f9188cd4-74e3-4d6e-9f00-5cebfed2f33f",
   "metadata": {},
   "source": [
    "## 폴더 자동 생성 함수 정의"
   ]
  },
  {
   "cell_type": "code",
   "execution_count": 15,
   "id": "8f1c91a3-74a9-49be-9844-b9befcd96b39",
   "metadata": {},
   "outputs": [],
   "source": [
    "def my_make_dir(path):\n",
    "    if not os.path.exists(path):\n",
    "        os.makedirs(path, exist_ok=True)"
   ]
  },
  {
   "cell_type": "markdown",
   "id": "10838f8b-831f-4270-9f3f-28f9a19cf152",
   "metadata": {
    "tags": []
   },
   "source": [
    "## Config 정의"
   ]
  },
  {
   "cell_type": "code",
   "execution_count": 16,
   "id": "bdb7b665-2a8c-4b91-8edb-d9739a3e8a80",
   "metadata": {},
   "outputs": [],
   "source": [
    "class cfg:\n",
    "    train_dir = '/opt/ml/input/data/train'\n",
    "    img_dir = f'{train_dir}/images'\n",
    "    df_path = f'{train_dir}/train_with_label.csv'\n",
    "    \n",
    "    model_save_path = '/opt/ml/code/model'\n",
    "    sumission_save_path = '/opt/ml/code/submission'\n",
    "    \n",
    "    test_dir = '/opt/ml/input/data/eval'\n",
    "    submission_dir = '{}/{}'.format(\n",
    "        sumission_save_path,\n",
    "        datetime.datetime.today().astimezone(timezone(\"Asia/Seoul\")).strftime(\"%Y-%m-%d\")\n",
    "    )\n",
    "    SEED = 2021\n",
    "    EPOCHS = 10\n",
    "    BATCH_SIZE = 32\n",
    "    LEARNING_RATE = 0.001\n",
    "    CLASS_NUM = 18\n",
    "    IMAGE_SIZE = 380\n",
    "    PATIENCE = 5\n",
    "    FOLD_NUM = 5\n",
    "    weight_decay = 1e-6\n",
    "    NUM_WORKERS = 4\n",
    "    \n",
    "    mean_list = [0.5, 0.5, 0.5]\n",
    "    std_list = [0.2, 0.2, 0.2]\n",
    "    \n",
    "    device = torch.device('cuda:0' if torch.cuda.is_available() else 'cpu')\n",
    "    \n",
    "    model_name = 'tf_efficientnet_b4_ns'"
   ]
  },
  {
   "cell_type": "markdown",
   "id": "aa691e4d-4c80-403f-898d-45d6a0ac318f",
   "metadata": {
    "tags": []
   },
   "source": [
    "## StratifiedKFold 사용해 하이퍼파라미터 튜닝"
   ]
  },
  {
   "cell_type": "code",
   "execution_count": 20,
   "id": "c0b1a7b2-56b1-43fc-9545-6853d9a0dd8d",
   "metadata": {
    "jp-MarkdownHeadingCollapsed": true,
    "tags": []
   },
   "outputs": [
    {
     "name": "stdout",
     "output_type": "stream",
     "text": [
      "Training with 1 started\n",
      "15120 3780\n"
     ]
    },
    {
     "data": {
      "application/vnd.jupyter.widget-view+json": {
       "model_id": "4c9daa19353e456e90d454d0ac583f0b",
       "version_major": 2,
       "version_minor": 0
      },
      "text/plain": [
       "HBox(children=(HTML(value=''), FloatProgress(value=0.0, max=473.0), HTML(value='')))"
      ]
     },
     "metadata": {},
     "output_type": "display_data"
    },
    {
     "name": "stdout",
     "output_type": "stream",
     "text": [
      "\n",
      "Train Loss : 0.4514, Accuracy : 0.8539, F1_score : 0.7368\n"
     ]
    },
    {
     "data": {
      "application/vnd.jupyter.widget-view+json": {
       "model_id": "8112859d6288428c9ab08134856394e4",
       "version_major": 2,
       "version_minor": 0
      },
      "text/plain": [
       "HBox(children=(HTML(value=''), FloatProgress(value=0.0, max=119.0), HTML(value='')))"
      ]
     },
     "metadata": {},
     "output_type": "display_data"
    },
    {
     "name": "stdout",
     "output_type": "stream",
     "text": [
      "\n",
      "Validation Loss : 0.3845, Accuracy : 0.8590, F1_score : 0.7842\n",
      "Validation loss decreased (inf --> 0.384477).  Saving model ...\n"
     ]
    },
    {
     "data": {
      "application/vnd.jupyter.widget-view+json": {
       "model_id": "85ad7e060e56421b99fbebeffadfc9e9",
       "version_major": 2,
       "version_minor": 0
      },
      "text/plain": [
       "HBox(children=(HTML(value=''), FloatProgress(value=0.0, max=473.0), HTML(value='')))"
      ]
     },
     "metadata": {},
     "output_type": "display_data"
    },
    {
     "name": "stdout",
     "output_type": "stream",
     "text": [
      "\n",
      "Train Loss : 0.2124, Accuracy : 0.9290, F1_score : 0.8656\n"
     ]
    },
    {
     "data": {
      "application/vnd.jupyter.widget-view+json": {
       "model_id": "be2fb2bfab8d4c6ba83abf312aa76867",
       "version_major": 2,
       "version_minor": 0
      },
      "text/plain": [
       "HBox(children=(HTML(value=''), FloatProgress(value=0.0, max=119.0), HTML(value='')))"
      ]
     },
     "metadata": {},
     "output_type": "display_data"
    },
    {
     "name": "stdout",
     "output_type": "stream",
     "text": [
      "\n",
      "Validation Loss : 0.2814, Accuracy : 0.9162, F1_score : 0.8619\n",
      "Validation loss decreased (0.384477 --> 0.281409).  Saving model ...\n"
     ]
    },
    {
     "data": {
      "application/vnd.jupyter.widget-view+json": {
       "model_id": "ed45bdfba2ad428a8553e1a75c2ee912",
       "version_major": 2,
       "version_minor": 0
      },
      "text/plain": [
       "HBox(children=(HTML(value=''), FloatProgress(value=0.0, max=473.0), HTML(value='')))"
      ]
     },
     "metadata": {},
     "output_type": "display_data"
    },
    {
     "name": "stdout",
     "output_type": "stream",
     "text": [
      "\n",
      "Train Loss : 0.1598, Accuracy : 0.9456, F1_score : 0.8955\n"
     ]
    },
    {
     "data": {
      "application/vnd.jupyter.widget-view+json": {
       "model_id": "fbc7e3578111424d9ab0da0784ef3f65",
       "version_major": 2,
       "version_minor": 0
      },
      "text/plain": [
       "HBox(children=(HTML(value=''), FloatProgress(value=0.0, max=119.0), HTML(value='')))"
      ]
     },
     "metadata": {},
     "output_type": "display_data"
    },
    {
     "name": "stdout",
     "output_type": "stream",
     "text": [
      "\n",
      "Validation Loss : 0.1034, Accuracy : 0.9666, F1_score : 0.9321\n",
      "Validation loss decreased (0.281409 --> 0.103360).  Saving model ...\n"
     ]
    },
    {
     "data": {
      "application/vnd.jupyter.widget-view+json": {
       "model_id": "0940565e54a3439ea4fab73993267fa2",
       "version_major": 2,
       "version_minor": 0
      },
      "text/plain": [
       "HBox(children=(HTML(value=''), FloatProgress(value=0.0, max=473.0), HTML(value='')))"
      ]
     },
     "metadata": {},
     "output_type": "display_data"
    },
    {
     "name": "stdout",
     "output_type": "stream",
     "text": [
      "\n",
      "Train Loss : 0.1242, Accuracy : 0.9588, F1_score : 0.9210\n"
     ]
    },
    {
     "data": {
      "application/vnd.jupyter.widget-view+json": {
       "model_id": "50a70f8136334cbab390d3d702ae71d9",
       "version_major": 2,
       "version_minor": 0
      },
      "text/plain": [
       "HBox(children=(HTML(value=''), FloatProgress(value=0.0, max=119.0), HTML(value='')))"
      ]
     },
     "metadata": {},
     "output_type": "display_data"
    },
    {
     "name": "stdout",
     "output_type": "stream",
     "text": [
      "\n",
      "Validation Loss : 0.1111, Accuracy : 0.9593, F1_score : 0.9241\n",
      "EarlyStopping counter: 1 out of 5\n"
     ]
    },
    {
     "data": {
      "application/vnd.jupyter.widget-view+json": {
       "model_id": "d5f31557682f439a86edc88d9f350108",
       "version_major": 2,
       "version_minor": 0
      },
      "text/plain": [
       "HBox(children=(HTML(value=''), FloatProgress(value=0.0, max=473.0), HTML(value='')))"
      ]
     },
     "metadata": {},
     "output_type": "display_data"
    },
    {
     "name": "stdout",
     "output_type": "stream",
     "text": [
      "\n",
      "Train Loss : 0.0964, Accuracy : 0.9689, F1_score : 0.9414\n"
     ]
    },
    {
     "data": {
      "application/vnd.jupyter.widget-view+json": {
       "model_id": "7715e4ca7b9d44798cd726c98a5d0991",
       "version_major": 2,
       "version_minor": 0
      },
      "text/plain": [
       "HBox(children=(HTML(value=''), FloatProgress(value=0.0, max=119.0), HTML(value='')))"
      ]
     },
     "metadata": {},
     "output_type": "display_data"
    },
    {
     "name": "stdout",
     "output_type": "stream",
     "text": [
      "\n",
      "Validation Loss : 0.0682, Accuracy : 0.9787, F1_score : 0.9511\n",
      "Validation loss decreased (0.103360 --> 0.068192).  Saving model ...\n"
     ]
    },
    {
     "data": {
      "application/vnd.jupyter.widget-view+json": {
       "model_id": "3f9700450abb4b37af907847776c763b",
       "version_major": 2,
       "version_minor": 0
      },
      "text/plain": [
       "HBox(children=(HTML(value=''), FloatProgress(value=0.0, max=473.0), HTML(value='')))"
      ]
     },
     "metadata": {},
     "output_type": "display_data"
    },
    {
     "name": "stdout",
     "output_type": "stream",
     "text": [
      "\n",
      "Train Loss : 0.0856, Accuracy : 0.9723, F1_score : 0.9428\n"
     ]
    },
    {
     "data": {
      "application/vnd.jupyter.widget-view+json": {
       "model_id": "e316574093b44d5fa48e8b5ac29417e3",
       "version_major": 2,
       "version_minor": 0
      },
      "text/plain": [
       "HBox(children=(HTML(value=''), FloatProgress(value=0.0, max=119.0), HTML(value='')))"
      ]
     },
     "metadata": {},
     "output_type": "display_data"
    },
    {
     "name": "stdout",
     "output_type": "stream",
     "text": [
      "\n",
      "Validation Loss : 0.0648, Accuracy : 0.9798, F1_score : 0.9470\n",
      "Validation loss decreased (0.068192 --> 0.064781).  Saving model ...\n"
     ]
    },
    {
     "data": {
      "application/vnd.jupyter.widget-view+json": {
       "model_id": "718fbe2f81694a319e2956de15790e4b",
       "version_major": 2,
       "version_minor": 0
      },
      "text/plain": [
       "HBox(children=(HTML(value=''), FloatProgress(value=0.0, max=473.0), HTML(value='')))"
      ]
     },
     "metadata": {},
     "output_type": "display_data"
    },
    {
     "name": "stdout",
     "output_type": "stream",
     "text": [
      "\n",
      "Train Loss : 0.0768, Accuracy : 0.9744, F1_score : 0.9508\n"
     ]
    },
    {
     "data": {
      "application/vnd.jupyter.widget-view+json": {
       "model_id": "6f4f9c50889446259e948d6b00dfb675",
       "version_major": 2,
       "version_minor": 0
      },
      "text/plain": [
       "HBox(children=(HTML(value=''), FloatProgress(value=0.0, max=119.0), HTML(value='')))"
      ]
     },
     "metadata": {},
     "output_type": "display_data"
    },
    {
     "name": "stdout",
     "output_type": "stream",
     "text": [
      "\n",
      "Validation Loss : 0.1069, Accuracy : 0.9651, F1_score : 0.9271\n",
      "EarlyStopping counter: 1 out of 5\n"
     ]
    },
    {
     "data": {
      "application/vnd.jupyter.widget-view+json": {
       "model_id": "52f8ac3fafbf451889d017da5c48b68f",
       "version_major": 2,
       "version_minor": 0
      },
      "text/plain": [
       "HBox(children=(HTML(value=''), FloatProgress(value=0.0, max=473.0), HTML(value='')))"
      ]
     },
     "metadata": {},
     "output_type": "display_data"
    },
    {
     "name": "stdout",
     "output_type": "stream",
     "text": [
      "\n",
      "Train Loss : 0.0251, Accuracy : 0.9923, F1_score : 0.9845\n"
     ]
    },
    {
     "data": {
      "application/vnd.jupyter.widget-view+json": {
       "model_id": "4e8b050172314571b2118944cb8a2956",
       "version_major": 2,
       "version_minor": 0
      },
      "text/plain": [
       "HBox(children=(HTML(value=''), FloatProgress(value=0.0, max=119.0), HTML(value='')))"
      ]
     },
     "metadata": {},
     "output_type": "display_data"
    },
    {
     "name": "stdout",
     "output_type": "stream",
     "text": [
      "\n",
      "Validation Loss : 0.0125, Accuracy : 0.9974, F1_score : 0.9940\n",
      "Validation loss decreased (0.064781 --> 0.012548).  Saving model ...\n"
     ]
    },
    {
     "data": {
      "application/vnd.jupyter.widget-view+json": {
       "model_id": "c666161fa17641528ab6aadd55b3180b",
       "version_major": 2,
       "version_minor": 0
      },
      "text/plain": [
       "HBox(children=(HTML(value=''), FloatProgress(value=0.0, max=473.0), HTML(value='')))"
      ]
     },
     "metadata": {},
     "output_type": "display_data"
    },
    {
     "name": "stdout",
     "output_type": "stream",
     "text": [
      "\n",
      "Train Loss : 0.0114, Accuracy : 0.9967, F1_score : 0.9942\n"
     ]
    },
    {
     "data": {
      "application/vnd.jupyter.widget-view+json": {
       "model_id": "6441e3c7d9f44137ac20269d09184ce2",
       "version_major": 2,
       "version_minor": 0
      },
      "text/plain": [
       "HBox(children=(HTML(value=''), FloatProgress(value=0.0, max=119.0), HTML(value='')))"
      ]
     },
     "metadata": {},
     "output_type": "display_data"
    },
    {
     "name": "stdout",
     "output_type": "stream",
     "text": [
      "\n",
      "Validation Loss : 0.0079, Accuracy : 0.9984, F1_score : 0.9961\n",
      "Validation loss decreased (0.012548 --> 0.007874).  Saving model ...\n"
     ]
    },
    {
     "data": {
      "application/vnd.jupyter.widget-view+json": {
       "model_id": "a94c23747daa4ebea2e07273966ada86",
       "version_major": 2,
       "version_minor": 0
      },
      "text/plain": [
       "HBox(children=(HTML(value=''), FloatProgress(value=0.0, max=473.0), HTML(value='')))"
      ]
     },
     "metadata": {},
     "output_type": "display_data"
    },
    {
     "name": "stdout",
     "output_type": "stream",
     "text": [
      "\n",
      "Train Loss : 0.0072, Accuracy : 0.9982, F1_score : 0.9957\n"
     ]
    },
    {
     "data": {
      "application/vnd.jupyter.widget-view+json": {
       "model_id": "f0e692a19af5447fa1cf0da685309bee",
       "version_major": 2,
       "version_minor": 0
      },
      "text/plain": [
       "HBox(children=(HTML(value=''), FloatProgress(value=0.0, max=119.0), HTML(value='')))"
      ]
     },
     "metadata": {},
     "output_type": "display_data"
    },
    {
     "name": "stdout",
     "output_type": "stream",
     "text": [
      "\n",
      "Validation Loss : 0.0061, Accuracy : 0.9987, F1_score : 0.9971\n",
      "Validation loss decreased (0.007874 --> 0.006124).  Saving model ...\n",
      "Best Validation loss: inf\n",
      "Best Validation acc: 0.0000\n",
      "Best Validation f1: 0.0000\n",
      "1번째 학습 종료!\n",
      "Training with 2 started\n",
      "15120 3780\n"
     ]
    },
    {
     "data": {
      "application/vnd.jupyter.widget-view+json": {
       "model_id": "888c5974962d40d8b7e0caf35662beb4",
       "version_major": 2,
       "version_minor": 0
      },
      "text/plain": [
       "HBox(children=(HTML(value=''), FloatProgress(value=0.0, max=473.0), HTML(value='')))"
      ]
     },
     "metadata": {},
     "output_type": "display_data"
    },
    {
     "name": "stdout",
     "output_type": "stream",
     "text": [
      "\n",
      "Train Loss : 0.4398, Accuracy : 0.8583, F1_score : 0.7425\n"
     ]
    },
    {
     "data": {
      "application/vnd.jupyter.widget-view+json": {
       "model_id": "d5b409aa2edc453d80aec0b3d776362c",
       "version_major": 2,
       "version_minor": 0
      },
      "text/plain": [
       "HBox(children=(HTML(value=''), FloatProgress(value=0.0, max=119.0), HTML(value='')))"
      ]
     },
     "metadata": {},
     "output_type": "display_data"
    },
    {
     "name": "stdout",
     "output_type": "stream",
     "text": [
      "\n",
      "Validation Loss : 0.4740, Accuracy : 0.8461, F1_score : 0.7643\n",
      "Validation loss decreased (inf --> 0.473983).  Saving model ...\n"
     ]
    },
    {
     "data": {
      "application/vnd.jupyter.widget-view+json": {
       "model_id": "f892d9a1ae674466941fd33d2dde4bd0",
       "version_major": 2,
       "version_minor": 0
      },
      "text/plain": [
       "HBox(children=(HTML(value=''), FloatProgress(value=0.0, max=473.0), HTML(value='')))"
      ]
     },
     "metadata": {},
     "output_type": "display_data"
    },
    {
     "name": "stdout",
     "output_type": "stream",
     "text": [
      "\n",
      "Train Loss : 0.2149, Accuracy : 0.9288, F1_score : 0.8571\n"
     ]
    },
    {
     "data": {
      "application/vnd.jupyter.widget-view+json": {
       "model_id": "85e56c56ec3a4a9e994ca4b84db5e93b",
       "version_major": 2,
       "version_minor": 0
      },
      "text/plain": [
       "HBox(children=(HTML(value=''), FloatProgress(value=0.0, max=119.0), HTML(value='')))"
      ]
     },
     "metadata": {},
     "output_type": "display_data"
    },
    {
     "name": "stdout",
     "output_type": "stream",
     "text": [
      "\n",
      "Validation Loss : 0.1334, Accuracy : 0.9598, F1_score : 0.9103\n",
      "Validation loss decreased (0.473983 --> 0.133421).  Saving model ...\n"
     ]
    },
    {
     "data": {
      "application/vnd.jupyter.widget-view+json": {
       "model_id": "49ba61b5056f41eb8a345c4fdf3d79fd",
       "version_major": 2,
       "version_minor": 0
      },
      "text/plain": [
       "HBox(children=(HTML(value=''), FloatProgress(value=0.0, max=473.0), HTML(value='')))"
      ]
     },
     "metadata": {},
     "output_type": "display_data"
    },
    {
     "name": "stdout",
     "output_type": "stream",
     "text": [
      "\n",
      "Train Loss : 0.1560, Accuracy : 0.9485, F1_score : 0.8987\n"
     ]
    },
    {
     "data": {
      "application/vnd.jupyter.widget-view+json": {
       "model_id": "c9f7b05da6b449babaccd9628f0d519a",
       "version_major": 2,
       "version_minor": 0
      },
      "text/plain": [
       "HBox(children=(HTML(value=''), FloatProgress(value=0.0, max=119.0), HTML(value='')))"
      ]
     },
     "metadata": {},
     "output_type": "display_data"
    },
    {
     "name": "stdout",
     "output_type": "stream",
     "text": [
      "\n",
      "Validation Loss : 0.1487, Accuracy : 0.9517, F1_score : 0.9020\n",
      "EarlyStopping counter: 1 out of 5\n"
     ]
    },
    {
     "data": {
      "application/vnd.jupyter.widget-view+json": {
       "model_id": "c6db411f2afc48278f3bf4ee02eccfd1",
       "version_major": 2,
       "version_minor": 0
      },
      "text/plain": [
       "HBox(children=(HTML(value=''), FloatProgress(value=0.0, max=473.0), HTML(value='')))"
      ]
     },
     "metadata": {},
     "output_type": "display_data"
    },
    {
     "name": "stdout",
     "output_type": "stream",
     "text": [
      "\n",
      "Train Loss : 0.1063, Accuracy : 0.9632, F1_score : 0.9297\n"
     ]
    },
    {
     "data": {
      "application/vnd.jupyter.widget-view+json": {
       "model_id": "e242c984c0b346fa9aad3506bdbbe3c1",
       "version_major": 2,
       "version_minor": 0
      },
      "text/plain": [
       "HBox(children=(HTML(value=''), FloatProgress(value=0.0, max=119.0), HTML(value='')))"
      ]
     },
     "metadata": {},
     "output_type": "display_data"
    },
    {
     "name": "stdout",
     "output_type": "stream",
     "text": [
      "\n",
      "Validation Loss : 0.1082, Accuracy : 0.9632, F1_score : 0.9359\n",
      "Validation loss decreased (0.133421 --> 0.108225).  Saving model ...\n"
     ]
    },
    {
     "data": {
      "application/vnd.jupyter.widget-view+json": {
       "model_id": "b073aef97b444f5a9588b2590dfd4cb8",
       "version_major": 2,
       "version_minor": 0
      },
      "text/plain": [
       "HBox(children=(HTML(value=''), FloatProgress(value=0.0, max=473.0), HTML(value='')))"
      ]
     },
     "metadata": {},
     "output_type": "display_data"
    },
    {
     "name": "stdout",
     "output_type": "stream",
     "text": [
      "\n",
      "Train Loss : 0.1018, Accuracy : 0.9647, F1_score : 0.9299\n"
     ]
    },
    {
     "data": {
      "application/vnd.jupyter.widget-view+json": {
       "model_id": "9c5cf38a751b40efb6e47bffd81f88b6",
       "version_major": 2,
       "version_minor": 0
      },
      "text/plain": [
       "HBox(children=(HTML(value=''), FloatProgress(value=0.0, max=119.0), HTML(value='')))"
      ]
     },
     "metadata": {},
     "output_type": "display_data"
    },
    {
     "name": "stdout",
     "output_type": "stream",
     "text": [
      "\n",
      "Validation Loss : 0.0521, Accuracy : 0.9835, F1_score : 0.9598\n",
      "Validation loss decreased (0.108225 --> 0.052061).  Saving model ...\n"
     ]
    },
    {
     "data": {
      "application/vnd.jupyter.widget-view+json": {
       "model_id": "e27e6f4c3a4a4a589e7cc4cd572c52de",
       "version_major": 2,
       "version_minor": 0
      },
      "text/plain": [
       "HBox(children=(HTML(value=''), FloatProgress(value=0.0, max=473.0), HTML(value='')))"
      ]
     },
     "metadata": {},
     "output_type": "display_data"
    },
    {
     "name": "stdout",
     "output_type": "stream",
     "text": [
      "\n",
      "Train Loss : 0.0899, Accuracy : 0.9693, F1_score : 0.9463\n"
     ]
    },
    {
     "data": {
      "application/vnd.jupyter.widget-view+json": {
       "model_id": "a15598a6460f41ffaf04437e06c24ae1",
       "version_major": 2,
       "version_minor": 0
      },
      "text/plain": [
       "HBox(children=(HTML(value=''), FloatProgress(value=0.0, max=119.0), HTML(value='')))"
      ]
     },
     "metadata": {},
     "output_type": "display_data"
    },
    {
     "name": "stdout",
     "output_type": "stream",
     "text": [
      "\n",
      "Validation Loss : 0.0700, Accuracy : 0.9753, F1_score : 0.9513\n",
      "EarlyStopping counter: 1 out of 5\n"
     ]
    },
    {
     "data": {
      "application/vnd.jupyter.widget-view+json": {
       "model_id": "8dc42c99605d4612b3a5722a259594ec",
       "version_major": 2,
       "version_minor": 0
      },
      "text/plain": [
       "HBox(children=(HTML(value=''), FloatProgress(value=0.0, max=473.0), HTML(value='')))"
      ]
     },
     "metadata": {},
     "output_type": "display_data"
    },
    {
     "name": "stdout",
     "output_type": "stream",
     "text": [
      "\n",
      "Train Loss : 0.0714, Accuracy : 0.9782, F1_score : 0.9562\n"
     ]
    },
    {
     "data": {
      "application/vnd.jupyter.widget-view+json": {
       "model_id": "d795b881d34844c0953c0474d72c9f27",
       "version_major": 2,
       "version_minor": 0
      },
      "text/plain": [
       "HBox(children=(HTML(value=''), FloatProgress(value=0.0, max=119.0), HTML(value='')))"
      ]
     },
     "metadata": {},
     "output_type": "display_data"
    },
    {
     "name": "stdout",
     "output_type": "stream",
     "text": [
      "\n",
      "Validation Loss : 0.0707, Accuracy : 0.9740, F1_score : 0.9435\n",
      "EarlyStopping counter: 2 out of 5\n"
     ]
    },
    {
     "data": {
      "application/vnd.jupyter.widget-view+json": {
       "model_id": "589d195d01d04b59b18cc26d94b94f2a",
       "version_major": 2,
       "version_minor": 0
      },
      "text/plain": [
       "HBox(children=(HTML(value=''), FloatProgress(value=0.0, max=473.0), HTML(value='')))"
      ]
     },
     "metadata": {},
     "output_type": "display_data"
    },
    {
     "name": "stdout",
     "output_type": "stream",
     "text": [
      "\n",
      "Train Loss : 0.0265, Accuracy : 0.9920, F1_score : 0.9840\n"
     ]
    },
    {
     "data": {
      "application/vnd.jupyter.widget-view+json": {
       "model_id": "e272fe3e875042d28c9027e5e2cbddff",
       "version_major": 2,
       "version_minor": 0
      },
      "text/plain": [
       "HBox(children=(HTML(value=''), FloatProgress(value=0.0, max=119.0), HTML(value='')))"
      ]
     },
     "metadata": {},
     "output_type": "display_data"
    },
    {
     "name": "stdout",
     "output_type": "stream",
     "text": [
      "\n",
      "Validation Loss : 0.0197, Accuracy : 0.9940, F1_score : 0.9892\n",
      "Validation loss decreased (0.052061 --> 0.019668).  Saving model ...\n"
     ]
    },
    {
     "data": {
      "application/vnd.jupyter.widget-view+json": {
       "model_id": "516f87e0266b4515816ba1f7f4676688",
       "version_major": 2,
       "version_minor": 0
      },
      "text/plain": [
       "HBox(children=(HTML(value=''), FloatProgress(value=0.0, max=473.0), HTML(value='')))"
      ]
     },
     "metadata": {},
     "output_type": "display_data"
    },
    {
     "name": "stdout",
     "output_type": "stream",
     "text": [
      "\n",
      "Train Loss : 0.0109, Accuracy : 0.9964, F1_score : 0.9938\n"
     ]
    },
    {
     "data": {
      "application/vnd.jupyter.widget-view+json": {
       "model_id": "46cf6e92a9ae42b3abf85c65216fa674",
       "version_major": 2,
       "version_minor": 0
      },
      "text/plain": [
       "HBox(children=(HTML(value=''), FloatProgress(value=0.0, max=119.0), HTML(value='')))"
      ]
     },
     "metadata": {},
     "output_type": "display_data"
    },
    {
     "name": "stdout",
     "output_type": "stream",
     "text": [
      "\n",
      "Validation Loss : 0.0148, Accuracy : 0.9955, F1_score : 0.9924\n",
      "Validation loss decreased (0.019668 --> 0.014835).  Saving model ...\n"
     ]
    },
    {
     "data": {
      "application/vnd.jupyter.widget-view+json": {
       "model_id": "b4b1791e851841579576aa82b63c1350",
       "version_major": 2,
       "version_minor": 0
      },
      "text/plain": [
       "HBox(children=(HTML(value=''), FloatProgress(value=0.0, max=473.0), HTML(value='')))"
      ]
     },
     "metadata": {},
     "output_type": "display_data"
    },
    {
     "name": "stdout",
     "output_type": "stream",
     "text": [
      "\n",
      "Train Loss : 0.0075, Accuracy : 0.9980, F1_score : 0.9966\n"
     ]
    },
    {
     "data": {
      "application/vnd.jupyter.widget-view+json": {
       "model_id": "0f51d875b6864827a6e267c7277ad57a",
       "version_major": 2,
       "version_minor": 0
      },
      "text/plain": [
       "HBox(children=(HTML(value=''), FloatProgress(value=0.0, max=119.0), HTML(value='')))"
      ]
     },
     "metadata": {},
     "output_type": "display_data"
    },
    {
     "name": "stdout",
     "output_type": "stream",
     "text": [
      "\n",
      "Validation Loss : 0.0267, Accuracy : 0.9947, F1_score : 0.9894\n",
      "EarlyStopping counter: 1 out of 5\n",
      "Best Validation loss: inf\n",
      "Best Validation acc: 0.0000\n",
      "Best Validation f1: 0.0000\n",
      "2번째 학습 종료!\n",
      "Training with 3 started\n",
      "15120 3780\n"
     ]
    },
    {
     "data": {
      "application/vnd.jupyter.widget-view+json": {
       "model_id": "237a5b66eded43168f2588a78941bf85",
       "version_major": 2,
       "version_minor": 0
      },
      "text/plain": [
       "HBox(children=(HTML(value=''), FloatProgress(value=0.0, max=473.0), HTML(value='')))"
      ]
     },
     "metadata": {},
     "output_type": "display_data"
    },
    {
     "name": "stdout",
     "output_type": "stream",
     "text": [
      "\n",
      "Train Loss : 0.4405, Accuracy : 0.8576, F1_score : 0.7381\n"
     ]
    },
    {
     "data": {
      "application/vnd.jupyter.widget-view+json": {
       "model_id": "2f40ec3d8cb34520a37a391aac119589",
       "version_major": 2,
       "version_minor": 0
      },
      "text/plain": [
       "HBox(children=(HTML(value=''), FloatProgress(value=0.0, max=119.0), HTML(value='')))"
      ]
     },
     "metadata": {},
     "output_type": "display_data"
    },
    {
     "name": "stdout",
     "output_type": "stream",
     "text": [
      "\n",
      "Validation Loss : 0.2575, Accuracy : 0.9165, F1_score : 0.8360\n",
      "Validation loss decreased (inf --> 0.257543).  Saving model ...\n"
     ]
    },
    {
     "data": {
      "application/vnd.jupyter.widget-view+json": {
       "model_id": "a83d3a56d8f24839ba21f082fc206988",
       "version_major": 2,
       "version_minor": 0
      },
      "text/plain": [
       "HBox(children=(HTML(value=''), FloatProgress(value=0.0, max=473.0), HTML(value='')))"
      ]
     },
     "metadata": {},
     "output_type": "display_data"
    },
    {
     "name": "stdout",
     "output_type": "stream",
     "text": [
      "\n",
      "Train Loss : 0.2101, Accuracy : 0.9273, F1_score : 0.8576\n"
     ]
    },
    {
     "data": {
      "application/vnd.jupyter.widget-view+json": {
       "model_id": "cd960fcc8e784d88a92205b7a2a13864",
       "version_major": 2,
       "version_minor": 0
      },
      "text/plain": [
       "HBox(children=(HTML(value=''), FloatProgress(value=0.0, max=119.0), HTML(value='')))"
      ]
     },
     "metadata": {},
     "output_type": "display_data"
    },
    {
     "name": "stdout",
     "output_type": "stream",
     "text": [
      "\n",
      "Validation Loss : 0.1423, Accuracy : 0.9527, F1_score : 0.9074\n",
      "Validation loss decreased (0.257543 --> 0.142259).  Saving model ...\n"
     ]
    },
    {
     "data": {
      "application/vnd.jupyter.widget-view+json": {
       "model_id": "349d49755dcc44bcbfc6d613d85005ed",
       "version_major": 2,
       "version_minor": 0
      },
      "text/plain": [
       "HBox(children=(HTML(value=''), FloatProgress(value=0.0, max=473.0), HTML(value='')))"
      ]
     },
     "metadata": {},
     "output_type": "display_data"
    },
    {
     "name": "stdout",
     "output_type": "stream",
     "text": [
      "\n",
      "Train Loss : 0.1428, Accuracy : 0.9513, F1_score : 0.9036\n"
     ]
    },
    {
     "data": {
      "application/vnd.jupyter.widget-view+json": {
       "model_id": "25a04986adf848a794f67350f5efc0d4",
       "version_major": 2,
       "version_minor": 0
      },
      "text/plain": [
       "HBox(children=(HTML(value=''), FloatProgress(value=0.0, max=119.0), HTML(value='')))"
      ]
     },
     "metadata": {},
     "output_type": "display_data"
    },
    {
     "name": "stdout",
     "output_type": "stream",
     "text": [
      "\n",
      "Validation Loss : 0.1863, Accuracy : 0.9375, F1_score : 0.8830\n",
      "EarlyStopping counter: 1 out of 5\n"
     ]
    },
    {
     "data": {
      "application/vnd.jupyter.widget-view+json": {
       "model_id": "5498fb4810bc4c1d9303beb1784ecf6a",
       "version_major": 2,
       "version_minor": 0
      },
      "text/plain": [
       "HBox(children=(HTML(value=''), FloatProgress(value=0.0, max=473.0), HTML(value='')))"
      ]
     },
     "metadata": {},
     "output_type": "display_data"
    },
    {
     "name": "stdout",
     "output_type": "stream",
     "text": [
      "\n",
      "Train Loss : 0.1086, Accuracy : 0.9637, F1_score : 0.9254\n"
     ]
    },
    {
     "data": {
      "application/vnd.jupyter.widget-view+json": {
       "model_id": "a076b8cfaec4404189e0bd1ce1f4c58f",
       "version_major": 2,
       "version_minor": 0
      },
      "text/plain": [
       "HBox(children=(HTML(value=''), FloatProgress(value=0.0, max=119.0), HTML(value='')))"
      ]
     },
     "metadata": {},
     "output_type": "display_data"
    },
    {
     "name": "stdout",
     "output_type": "stream",
     "text": [
      "\n",
      "Validation Loss : 0.0785, Accuracy : 0.9748, F1_score : 0.9549\n",
      "Validation loss decreased (0.142259 --> 0.078521).  Saving model ...\n"
     ]
    },
    {
     "data": {
      "application/vnd.jupyter.widget-view+json": {
       "model_id": "361f9e6b8b7748888d2629a29cb5aa04",
       "version_major": 2,
       "version_minor": 0
      },
      "text/plain": [
       "HBox(children=(HTML(value=''), FloatProgress(value=0.0, max=473.0), HTML(value='')))"
      ]
     },
     "metadata": {},
     "output_type": "display_data"
    },
    {
     "name": "stdout",
     "output_type": "stream",
     "text": [
      "\n",
      "Train Loss : 0.0946, Accuracy : 0.9682, F1_score : 0.9410\n"
     ]
    },
    {
     "data": {
      "application/vnd.jupyter.widget-view+json": {
       "model_id": "37639f1340d546118b0a09afbaf64132",
       "version_major": 2,
       "version_minor": 0
      },
      "text/plain": [
       "HBox(children=(HTML(value=''), FloatProgress(value=0.0, max=119.0), HTML(value='')))"
      ]
     },
     "metadata": {},
     "output_type": "display_data"
    },
    {
     "name": "stdout",
     "output_type": "stream",
     "text": [
      "\n",
      "Validation Loss : 0.1261, Accuracy : 0.9643, F1_score : 0.9173\n",
      "EarlyStopping counter: 1 out of 5\n"
     ]
    },
    {
     "data": {
      "application/vnd.jupyter.widget-view+json": {
       "model_id": "3d51d3d3bf784bf5a00fc34c247f0bbc",
       "version_major": 2,
       "version_minor": 0
      },
      "text/plain": [
       "HBox(children=(HTML(value=''), FloatProgress(value=0.0, max=473.0), HTML(value='')))"
      ]
     },
     "metadata": {},
     "output_type": "display_data"
    },
    {
     "name": "stdout",
     "output_type": "stream",
     "text": [
      "\n",
      "Train Loss : 0.0857, Accuracy : 0.9721, F1_score : 0.9463\n"
     ]
    },
    {
     "data": {
      "application/vnd.jupyter.widget-view+json": {
       "model_id": "9ac4c5eeaa144e83b0ffdeba950fa5b7",
       "version_major": 2,
       "version_minor": 0
      },
      "text/plain": [
       "HBox(children=(HTML(value=''), FloatProgress(value=0.0, max=119.0), HTML(value='')))"
      ]
     },
     "metadata": {},
     "output_type": "display_data"
    },
    {
     "name": "stdout",
     "output_type": "stream",
     "text": [
      "\n",
      "Validation Loss : 0.0969, Accuracy : 0.9735, F1_score : 0.9453\n",
      "EarlyStopping counter: 2 out of 5\n"
     ]
    },
    {
     "data": {
      "application/vnd.jupyter.widget-view+json": {
       "model_id": "0a36cea2627e4411902482d46c93c86f",
       "version_major": 2,
       "version_minor": 0
      },
      "text/plain": [
       "HBox(children=(HTML(value=''), FloatProgress(value=0.0, max=473.0), HTML(value='')))"
      ]
     },
     "metadata": {},
     "output_type": "display_data"
    },
    {
     "name": "stdout",
     "output_type": "stream",
     "text": [
      "\n",
      "Train Loss : 0.0646, Accuracy : 0.9790, F1_score : 0.9572\n"
     ]
    },
    {
     "data": {
      "application/vnd.jupyter.widget-view+json": {
       "model_id": "8d89b3bfe0c9404dae2582ccc5159eb4",
       "version_major": 2,
       "version_minor": 0
      },
      "text/plain": [
       "HBox(children=(HTML(value=''), FloatProgress(value=0.0, max=119.0), HTML(value='')))"
      ]
     },
     "metadata": {},
     "output_type": "display_data"
    },
    {
     "name": "stdout",
     "output_type": "stream",
     "text": [
      "\n",
      "Validation Loss : 0.0698, Accuracy : 0.9772, F1_score : 0.9489\n",
      "Validation loss decreased (0.078521 --> 0.069753).  Saving model ...\n"
     ]
    },
    {
     "data": {
      "application/vnd.jupyter.widget-view+json": {
       "model_id": "3736ef92df0b44e99d7e4948ab89f2aa",
       "version_major": 2,
       "version_minor": 0
      },
      "text/plain": [
       "HBox(children=(HTML(value=''), FloatProgress(value=0.0, max=473.0), HTML(value='')))"
      ]
     },
     "metadata": {},
     "output_type": "display_data"
    },
    {
     "name": "stdout",
     "output_type": "stream",
     "text": [
      "\n",
      "Train Loss : 0.0256, Accuracy : 0.9916, F1_score : 0.9852\n"
     ]
    },
    {
     "data": {
      "application/vnd.jupyter.widget-view+json": {
       "model_id": "5db984f6d5ef491ab4c41442eea019d1",
       "version_major": 2,
       "version_minor": 0
      },
      "text/plain": [
       "HBox(children=(HTML(value=''), FloatProgress(value=0.0, max=119.0), HTML(value='')))"
      ]
     },
     "metadata": {},
     "output_type": "display_data"
    },
    {
     "name": "stdout",
     "output_type": "stream",
     "text": [
      "\n",
      "Validation Loss : 0.0162, Accuracy : 0.9955, F1_score : 0.9860\n",
      "Validation loss decreased (0.069753 --> 0.016231).  Saving model ...\n"
     ]
    },
    {
     "data": {
      "application/vnd.jupyter.widget-view+json": {
       "model_id": "4137c6a5a75143b39808cd44c9c3e4b4",
       "version_major": 2,
       "version_minor": 0
      },
      "text/plain": [
       "HBox(children=(HTML(value=''), FloatProgress(value=0.0, max=473.0), HTML(value='')))"
      ]
     },
     "metadata": {},
     "output_type": "display_data"
    },
    {
     "name": "stdout",
     "output_type": "stream",
     "text": [
      "\n",
      "Train Loss : 0.0101, Accuracy : 0.9972, F1_score : 0.9935\n"
     ]
    },
    {
     "data": {
      "application/vnd.jupyter.widget-view+json": {
       "model_id": "bbf36fcd2c214bc28c62fef58c9a5922",
       "version_major": 2,
       "version_minor": 0
      },
      "text/plain": [
       "HBox(children=(HTML(value=''), FloatProgress(value=0.0, max=119.0), HTML(value='')))"
      ]
     },
     "metadata": {},
     "output_type": "display_data"
    },
    {
     "name": "stdout",
     "output_type": "stream",
     "text": [
      "\n",
      "Validation Loss : 0.0104, Accuracy : 0.9982, F1_score : 0.9964\n",
      "Validation loss decreased (0.016231 --> 0.010415).  Saving model ...\n"
     ]
    },
    {
     "data": {
      "application/vnd.jupyter.widget-view+json": {
       "model_id": "f378b8416dea43f9a118b62f074f3153",
       "version_major": 2,
       "version_minor": 0
      },
      "text/plain": [
       "HBox(children=(HTML(value=''), FloatProgress(value=0.0, max=473.0), HTML(value='')))"
      ]
     },
     "metadata": {},
     "output_type": "display_data"
    },
    {
     "name": "stdout",
     "output_type": "stream",
     "text": [
      "\n",
      "Train Loss : 0.0067, Accuracy : 0.9982, F1_score : 0.9964\n"
     ]
    },
    {
     "data": {
      "application/vnd.jupyter.widget-view+json": {
       "model_id": "cfe4c76302ef4763a402390886234e49",
       "version_major": 2,
       "version_minor": 0
      },
      "text/plain": [
       "HBox(children=(HTML(value=''), FloatProgress(value=0.0, max=119.0), HTML(value='')))"
      ]
     },
     "metadata": {},
     "output_type": "display_data"
    },
    {
     "name": "stdout",
     "output_type": "stream",
     "text": [
      "\n",
      "Validation Loss : 0.0092, Accuracy : 0.9982, F1_score : 0.9968\n",
      "Validation loss decreased (0.010415 --> 0.009194).  Saving model ...\n",
      "Best Validation loss: inf\n",
      "Best Validation acc: 0.0000\n",
      "Best Validation f1: 0.0000\n",
      "3번째 학습 종료!\n",
      "Training with 4 started\n",
      "15120 3780\n"
     ]
    },
    {
     "data": {
      "application/vnd.jupyter.widget-view+json": {
       "model_id": "4dce1a5453594d29b4faa3148ad26ac4",
       "version_major": 2,
       "version_minor": 0
      },
      "text/plain": [
       "HBox(children=(HTML(value=''), FloatProgress(value=0.0, max=473.0), HTML(value='')))"
      ]
     },
     "metadata": {},
     "output_type": "display_data"
    },
    {
     "name": "stdout",
     "output_type": "stream",
     "text": [
      "\n",
      "Train Loss : 0.4353, Accuracy : 0.8569, F1_score : 0.7403\n"
     ]
    },
    {
     "data": {
      "application/vnd.jupyter.widget-view+json": {
       "model_id": "fd11a7dd84664f24b82d0b451259426f",
       "version_major": 2,
       "version_minor": 0
      },
      "text/plain": [
       "HBox(children=(HTML(value=''), FloatProgress(value=0.0, max=119.0), HTML(value='')))"
      ]
     },
     "metadata": {},
     "output_type": "display_data"
    },
    {
     "name": "stdout",
     "output_type": "stream",
     "text": [
      "\n",
      "Validation Loss : 0.2393, Accuracy : 0.9191, F1_score : 0.8527\n",
      "Validation loss decreased (inf --> 0.239259).  Saving model ...\n"
     ]
    },
    {
     "data": {
      "application/vnd.jupyter.widget-view+json": {
       "model_id": "fb6d1e48c9e0497b9f373df0f96e0ada",
       "version_major": 2,
       "version_minor": 0
      },
      "text/plain": [
       "HBox(children=(HTML(value=''), FloatProgress(value=0.0, max=473.0), HTML(value='')))"
      ]
     },
     "metadata": {},
     "output_type": "display_data"
    },
    {
     "name": "stdout",
     "output_type": "stream",
     "text": [
      "\n",
      "Train Loss : 0.2154, Accuracy : 0.9251, F1_score : 0.8565\n"
     ]
    },
    {
     "data": {
      "application/vnd.jupyter.widget-view+json": {
       "model_id": "1d3a038313eb4e77b98b66f5f61e1855",
       "version_major": 2,
       "version_minor": 0
      },
      "text/plain": [
       "HBox(children=(HTML(value=''), FloatProgress(value=0.0, max=119.0), HTML(value='')))"
      ]
     },
     "metadata": {},
     "output_type": "display_data"
    },
    {
     "name": "stdout",
     "output_type": "stream",
     "text": [
      "\n",
      "Validation Loss : 0.1144, Accuracy : 0.9643, F1_score : 0.9225\n",
      "Validation loss decreased (0.239259 --> 0.114444).  Saving model ...\n"
     ]
    },
    {
     "data": {
      "application/vnd.jupyter.widget-view+json": {
       "model_id": "9c22fc79a9cc41ec8d57a0aa75700878",
       "version_major": 2,
       "version_minor": 0
      },
      "text/plain": [
       "HBox(children=(HTML(value=''), FloatProgress(value=0.0, max=473.0), HTML(value='')))"
      ]
     },
     "metadata": {},
     "output_type": "display_data"
    },
    {
     "name": "stdout",
     "output_type": "stream",
     "text": [
      "\n",
      "Train Loss : 0.1563, Accuracy : 0.9479, F1_score : 0.8967\n"
     ]
    },
    {
     "data": {
      "application/vnd.jupyter.widget-view+json": {
       "model_id": "888d9e21da834cdc8cad75575e870a63",
       "version_major": 2,
       "version_minor": 0
      },
      "text/plain": [
       "HBox(children=(HTML(value=''), FloatProgress(value=0.0, max=119.0), HTML(value='')))"
      ]
     },
     "metadata": {},
     "output_type": "display_data"
    },
    {
     "name": "stdout",
     "output_type": "stream",
     "text": [
      "\n",
      "Validation Loss : 0.1570, Accuracy : 0.9488, F1_score : 0.8991\n",
      "EarlyStopping counter: 1 out of 5\n"
     ]
    },
    {
     "data": {
      "application/vnd.jupyter.widget-view+json": {
       "model_id": "d3bcb0e3ddbe4e7095fa92d3189183c9",
       "version_major": 2,
       "version_minor": 0
      },
      "text/plain": [
       "HBox(children=(HTML(value=''), FloatProgress(value=0.0, max=473.0), HTML(value='')))"
      ]
     },
     "metadata": {},
     "output_type": "display_data"
    },
    {
     "name": "stdout",
     "output_type": "stream",
     "text": [
      "\n",
      "Train Loss : 0.1141, Accuracy : 0.9612, F1_score : 0.9248\n"
     ]
    },
    {
     "data": {
      "application/vnd.jupyter.widget-view+json": {
       "model_id": "7986ba66fc314f71bb8d09fd76c8e013",
       "version_major": 2,
       "version_minor": 0
      },
      "text/plain": [
       "HBox(children=(HTML(value=''), FloatProgress(value=0.0, max=119.0), HTML(value='')))"
      ]
     },
     "metadata": {},
     "output_type": "display_data"
    },
    {
     "name": "stdout",
     "output_type": "stream",
     "text": [
      "\n",
      "Validation Loss : 0.1240, Accuracy : 0.9601, F1_score : 0.9335\n",
      "EarlyStopping counter: 2 out of 5\n"
     ]
    },
    {
     "data": {
      "application/vnd.jupyter.widget-view+json": {
       "model_id": "42161aea48c340ee870b71ee18a32a4b",
       "version_major": 2,
       "version_minor": 0
      },
      "text/plain": [
       "HBox(children=(HTML(value=''), FloatProgress(value=0.0, max=473.0), HTML(value='')))"
      ]
     },
     "metadata": {},
     "output_type": "display_data"
    },
    {
     "name": "stdout",
     "output_type": "stream",
     "text": [
      "\n",
      "Train Loss : 0.0926, Accuracy : 0.9691, F1_score : 0.9367\n"
     ]
    },
    {
     "data": {
      "application/vnd.jupyter.widget-view+json": {
       "model_id": "6b619dbfe7d341b2a2fd5fceeb237760",
       "version_major": 2,
       "version_minor": 0
      },
      "text/plain": [
       "HBox(children=(HTML(value=''), FloatProgress(value=0.0, max=119.0), HTML(value='')))"
      ]
     },
     "metadata": {},
     "output_type": "display_data"
    },
    {
     "name": "stdout",
     "output_type": "stream",
     "text": [
      "\n",
      "Validation Loss : 0.0979, Accuracy : 0.9693, F1_score : 0.9537\n",
      "Validation loss decreased (0.114444 --> 0.097902).  Saving model ...\n"
     ]
    },
    {
     "data": {
      "application/vnd.jupyter.widget-view+json": {
       "model_id": "df8714ce46d94c67ab16093ebb6f0f15",
       "version_major": 2,
       "version_minor": 0
      },
      "text/plain": [
       "HBox(children=(HTML(value=''), FloatProgress(value=0.0, max=473.0), HTML(value='')))"
      ]
     },
     "metadata": {},
     "output_type": "display_data"
    },
    {
     "name": "stdout",
     "output_type": "stream",
     "text": [
      "\n",
      "Train Loss : 0.0815, Accuracy : 0.9726, F1_score : 0.9446\n"
     ]
    },
    {
     "data": {
      "application/vnd.jupyter.widget-view+json": {
       "model_id": "cdb14466a1404f39b99997470e8af284",
       "version_major": 2,
       "version_minor": 0
      },
      "text/plain": [
       "HBox(children=(HTML(value=''), FloatProgress(value=0.0, max=119.0), HTML(value='')))"
      ]
     },
     "metadata": {},
     "output_type": "display_data"
    },
    {
     "name": "stdout",
     "output_type": "stream",
     "text": [
      "\n",
      "Validation Loss : 0.2382, Accuracy : 0.9383, F1_score : 0.9112\n",
      "EarlyStopping counter: 1 out of 5\n"
     ]
    },
    {
     "data": {
      "application/vnd.jupyter.widget-view+json": {
       "model_id": "1f90e5b637cb45e3a4755fbb9c0c6aec",
       "version_major": 2,
       "version_minor": 0
      },
      "text/plain": [
       "HBox(children=(HTML(value=''), FloatProgress(value=0.0, max=473.0), HTML(value='')))"
      ]
     },
     "metadata": {},
     "output_type": "display_data"
    },
    {
     "name": "stdout",
     "output_type": "stream",
     "text": [
      "\n",
      "Train Loss : 0.0746, Accuracy : 0.9746, F1_score : 0.9513\n"
     ]
    },
    {
     "data": {
      "application/vnd.jupyter.widget-view+json": {
       "model_id": "2e5242c3fb8f4ce7811d8ead5ae035e9",
       "version_major": 2,
       "version_minor": 0
      },
      "text/plain": [
       "HBox(children=(HTML(value=''), FloatProgress(value=0.0, max=119.0), HTML(value='')))"
      ]
     },
     "metadata": {},
     "output_type": "display_data"
    },
    {
     "name": "stdout",
     "output_type": "stream",
     "text": [
      "\n",
      "Validation Loss : 0.0471, Accuracy : 0.9856, F1_score : 0.9733\n",
      "Validation loss decreased (0.097902 --> 0.047064).  Saving model ...\n"
     ]
    },
    {
     "data": {
      "application/vnd.jupyter.widget-view+json": {
       "model_id": "b6b21edb752c461abc00226da597f961",
       "version_major": 2,
       "version_minor": 0
      },
      "text/plain": [
       "HBox(children=(HTML(value=''), FloatProgress(value=0.0, max=473.0), HTML(value='')))"
      ]
     },
     "metadata": {},
     "output_type": "display_data"
    },
    {
     "name": "stdout",
     "output_type": "stream",
     "text": [
      "\n",
      "Train Loss : 0.0254, Accuracy : 0.9919, F1_score : 0.9858\n"
     ]
    },
    {
     "data": {
      "application/vnd.jupyter.widget-view+json": {
       "model_id": "237ec1263dde4c6eb923966f84e00069",
       "version_major": 2,
       "version_minor": 0
      },
      "text/plain": [
       "HBox(children=(HTML(value=''), FloatProgress(value=0.0, max=119.0), HTML(value='')))"
      ]
     },
     "metadata": {},
     "output_type": "display_data"
    },
    {
     "name": "stdout",
     "output_type": "stream",
     "text": [
      "\n",
      "Validation Loss : 0.0187, Accuracy : 0.9955, F1_score : 0.9937\n",
      "Validation loss decreased (0.047064 --> 0.018655).  Saving model ...\n"
     ]
    },
    {
     "data": {
      "application/vnd.jupyter.widget-view+json": {
       "model_id": "849c5c85e4af4c6ca209187247d0fee8",
       "version_major": 2,
       "version_minor": 0
      },
      "text/plain": [
       "HBox(children=(HTML(value=''), FloatProgress(value=0.0, max=473.0), HTML(value='')))"
      ]
     },
     "metadata": {},
     "output_type": "display_data"
    },
    {
     "name": "stdout",
     "output_type": "stream",
     "text": [
      "\n",
      "Train Loss : 0.0095, Accuracy : 0.9975, F1_score : 0.9952\n"
     ]
    },
    {
     "data": {
      "application/vnd.jupyter.widget-view+json": {
       "model_id": "1992767af9ee41f88474d1f9f94b6526",
       "version_major": 2,
       "version_minor": 0
      },
      "text/plain": [
       "HBox(children=(HTML(value=''), FloatProgress(value=0.0, max=119.0), HTML(value='')))"
      ]
     },
     "metadata": {},
     "output_type": "display_data"
    },
    {
     "name": "stdout",
     "output_type": "stream",
     "text": [
      "\n",
      "Validation Loss : 0.0150, Accuracy : 0.9971, F1_score : 0.9962\n",
      "Validation loss decreased (0.018655 --> 0.014958).  Saving model ...\n"
     ]
    },
    {
     "data": {
      "application/vnd.jupyter.widget-view+json": {
       "model_id": "37fc19c540594f8d8048d7bb04c3291d",
       "version_major": 2,
       "version_minor": 0
      },
      "text/plain": [
       "HBox(children=(HTML(value=''), FloatProgress(value=0.0, max=473.0), HTML(value='')))"
      ]
     },
     "metadata": {},
     "output_type": "display_data"
    },
    {
     "name": "stdout",
     "output_type": "stream",
     "text": [
      "\n",
      "Train Loss : 0.0077, Accuracy : 0.9978, F1_score : 0.9960\n"
     ]
    },
    {
     "data": {
      "application/vnd.jupyter.widget-view+json": {
       "model_id": "45adc0ff5af14d7fa30dc45fe897d191",
       "version_major": 2,
       "version_minor": 0
      },
      "text/plain": [
       "HBox(children=(HTML(value=''), FloatProgress(value=0.0, max=119.0), HTML(value='')))"
      ]
     },
     "metadata": {},
     "output_type": "display_data"
    },
    {
     "name": "stdout",
     "output_type": "stream",
     "text": [
      "\n",
      "Validation Loss : 0.0126, Accuracy : 0.9974, F1_score : 0.9976\n",
      "Validation loss decreased (0.014958 --> 0.012563).  Saving model ...\n",
      "Best Validation loss: inf\n",
      "Best Validation acc: 0.0000\n",
      "Best Validation f1: 0.0000\n",
      "4번째 학습 종료!\n",
      "Training with 5 started\n",
      "15120 3780\n"
     ]
    },
    {
     "data": {
      "application/vnd.jupyter.widget-view+json": {
       "model_id": "b96abb6abc5542bd9d81b42e397a25c7",
       "version_major": 2,
       "version_minor": 0
      },
      "text/plain": [
       "HBox(children=(HTML(value=''), FloatProgress(value=0.0, max=473.0), HTML(value='')))"
      ]
     },
     "metadata": {},
     "output_type": "display_data"
    },
    {
     "name": "stdout",
     "output_type": "stream",
     "text": [
      "\n",
      "Train Loss : 0.4461, Accuracy : 0.8566, F1_score : 0.7401\n"
     ]
    },
    {
     "data": {
      "application/vnd.jupyter.widget-view+json": {
       "model_id": "3f11afb1b9d64801a168e2edceb8f1f5",
       "version_major": 2,
       "version_minor": 0
      },
      "text/plain": [
       "HBox(children=(HTML(value=''), FloatProgress(value=0.0, max=119.0), HTML(value='')))"
      ]
     },
     "metadata": {},
     "output_type": "display_data"
    },
    {
     "name": "stdout",
     "output_type": "stream",
     "text": [
      "\n",
      "Validation Loss : 0.2308, Accuracy : 0.9175, F1_score : 0.8442\n",
      "Validation loss decreased (inf --> 0.230830).  Saving model ...\n"
     ]
    },
    {
     "data": {
      "application/vnd.jupyter.widget-view+json": {
       "model_id": "f349de1fdc7a40cf96fe6d153ef511b0",
       "version_major": 2,
       "version_minor": 0
      },
      "text/plain": [
       "HBox(children=(HTML(value=''), FloatProgress(value=0.0, max=473.0), HTML(value='')))"
      ]
     },
     "metadata": {},
     "output_type": "display_data"
    },
    {
     "name": "stdout",
     "output_type": "stream",
     "text": [
      "\n",
      "Train Loss : 0.2085, Accuracy : 0.9271, F1_score : 0.8573\n"
     ]
    },
    {
     "data": {
      "application/vnd.jupyter.widget-view+json": {
       "model_id": "5af3442783a44afeb7091341d5b61152",
       "version_major": 2,
       "version_minor": 0
      },
      "text/plain": [
       "HBox(children=(HTML(value=''), FloatProgress(value=0.0, max=119.0), HTML(value='')))"
      ]
     },
     "metadata": {},
     "output_type": "display_data"
    },
    {
     "name": "stdout",
     "output_type": "stream",
     "text": [
      "\n",
      "Validation Loss : 0.1108, Accuracy : 0.9603, F1_score : 0.9191\n",
      "Validation loss decreased (0.230830 --> 0.110808).  Saving model ...\n"
     ]
    },
    {
     "data": {
      "application/vnd.jupyter.widget-view+json": {
       "model_id": "2833ce7edfb14ead88dae78ab285a23a",
       "version_major": 2,
       "version_minor": 0
      },
      "text/plain": [
       "HBox(children=(HTML(value=''), FloatProgress(value=0.0, max=473.0), HTML(value='')))"
      ]
     },
     "metadata": {},
     "output_type": "display_data"
    },
    {
     "name": "stdout",
     "output_type": "stream",
     "text": [
      "\n",
      "Train Loss : 0.1474, Accuracy : 0.9500, F1_score : 0.9007\n"
     ]
    },
    {
     "data": {
      "application/vnd.jupyter.widget-view+json": {
       "model_id": "3c3d58ceb2f84efeab460cb879d4118a",
       "version_major": 2,
       "version_minor": 0
      },
      "text/plain": [
       "HBox(children=(HTML(value=''), FloatProgress(value=0.0, max=119.0), HTML(value='')))"
      ]
     },
     "metadata": {},
     "output_type": "display_data"
    },
    {
     "name": "stdout",
     "output_type": "stream",
     "text": [
      "\n",
      "Validation Loss : 0.1645, Accuracy : 0.9449, F1_score : 0.8996\n",
      "EarlyStopping counter: 1 out of 5\n"
     ]
    },
    {
     "data": {
      "application/vnd.jupyter.widget-view+json": {
       "model_id": "5fe3936f5ea54380b41df91b9fee9852",
       "version_major": 2,
       "version_minor": 0
      },
      "text/plain": [
       "HBox(children=(HTML(value=''), FloatProgress(value=0.0, max=473.0), HTML(value='')))"
      ]
     },
     "metadata": {},
     "output_type": "display_data"
    },
    {
     "name": "stdout",
     "output_type": "stream",
     "text": [
      "\n",
      "Train Loss : 0.1353, Accuracy : 0.9545, F1_score : 0.9103\n"
     ]
    },
    {
     "data": {
      "application/vnd.jupyter.widget-view+json": {
       "model_id": "f4ab53c21d574588a02c2dfba78e2640",
       "version_major": 2,
       "version_minor": 0
      },
      "text/plain": [
       "HBox(children=(HTML(value=''), FloatProgress(value=0.0, max=119.0), HTML(value='')))"
      ]
     },
     "metadata": {},
     "output_type": "display_data"
    },
    {
     "name": "stdout",
     "output_type": "stream",
     "text": [
      "\n",
      "Validation Loss : 0.0731, Accuracy : 0.9787, F1_score : 0.9472\n",
      "Validation loss decreased (0.110808 --> 0.073148).  Saving model ...\n"
     ]
    },
    {
     "data": {
      "application/vnd.jupyter.widget-view+json": {
       "model_id": "2a98c065a5b848f483f6c5a3921ea928",
       "version_major": 2,
       "version_minor": 0
      },
      "text/plain": [
       "HBox(children=(HTML(value=''), FloatProgress(value=0.0, max=473.0), HTML(value='')))"
      ]
     },
     "metadata": {},
     "output_type": "display_data"
    },
    {
     "name": "stdout",
     "output_type": "stream",
     "text": [
      "\n",
      "Train Loss : 0.0930, Accuracy : 0.9684, F1_score : 0.9381\n"
     ]
    },
    {
     "data": {
      "application/vnd.jupyter.widget-view+json": {
       "model_id": "426d9bb1fc4247d4b294a428e8546637",
       "version_major": 2,
       "version_minor": 0
      },
      "text/plain": [
       "HBox(children=(HTML(value=''), FloatProgress(value=0.0, max=119.0), HTML(value='')))"
      ]
     },
     "metadata": {},
     "output_type": "display_data"
    },
    {
     "name": "stdout",
     "output_type": "stream",
     "text": [
      "\n",
      "Validation Loss : 0.0550, Accuracy : 0.9853, F1_score : 0.9726\n",
      "Validation loss decreased (0.073148 --> 0.055048).  Saving model ...\n"
     ]
    },
    {
     "data": {
      "application/vnd.jupyter.widget-view+json": {
       "model_id": "ace2ca3c0d72416b8fbb5153134b9adf",
       "version_major": 2,
       "version_minor": 0
      },
      "text/plain": [
       "HBox(children=(HTML(value=''), FloatProgress(value=0.0, max=473.0), HTML(value='')))"
      ]
     },
     "metadata": {},
     "output_type": "display_data"
    },
    {
     "name": "stdout",
     "output_type": "stream",
     "text": [
      "\n",
      "Train Loss : 0.0737, Accuracy : 0.9748, F1_score : 0.9477\n"
     ]
    },
    {
     "data": {
      "application/vnd.jupyter.widget-view+json": {
       "model_id": "39eddb0b7c30413d9e6bf030dbe3ed68",
       "version_major": 2,
       "version_minor": 0
      },
      "text/plain": [
       "HBox(children=(HTML(value=''), FloatProgress(value=0.0, max=119.0), HTML(value='')))"
      ]
     },
     "metadata": {},
     "output_type": "display_data"
    },
    {
     "name": "stdout",
     "output_type": "stream",
     "text": [
      "\n",
      "Validation Loss : 0.0458, Accuracy : 0.9837, F1_score : 0.9631\n",
      "Validation loss decreased (0.055048 --> 0.045794).  Saving model ...\n"
     ]
    },
    {
     "data": {
      "application/vnd.jupyter.widget-view+json": {
       "model_id": "a91c7b2bcf044f4fabe5eb19a07d16f8",
       "version_major": 2,
       "version_minor": 0
      },
      "text/plain": [
       "HBox(children=(HTML(value=''), FloatProgress(value=0.0, max=473.0), HTML(value='')))"
      ]
     },
     "metadata": {},
     "output_type": "display_data"
    },
    {
     "name": "stdout",
     "output_type": "stream",
     "text": [
      "\n",
      "Train Loss : 0.0769, Accuracy : 0.9750, F1_score : 0.9510\n"
     ]
    },
    {
     "data": {
      "application/vnd.jupyter.widget-view+json": {
       "model_id": "d6f7c67e9a1b4c9ab12270e7f411cdaf",
       "version_major": 2,
       "version_minor": 0
      },
      "text/plain": [
       "HBox(children=(HTML(value=''), FloatProgress(value=0.0, max=119.0), HTML(value='')))"
      ]
     },
     "metadata": {},
     "output_type": "display_data"
    },
    {
     "name": "stdout",
     "output_type": "stream",
     "text": [
      "\n",
      "Validation Loss : 0.0842, Accuracy : 0.9732, F1_score : 0.9423\n",
      "EarlyStopping counter: 1 out of 5\n"
     ]
    },
    {
     "data": {
      "application/vnd.jupyter.widget-view+json": {
       "model_id": "8dab1870e7964ff5a0306931fb304684",
       "version_major": 2,
       "version_minor": 0
      },
      "text/plain": [
       "HBox(children=(HTML(value=''), FloatProgress(value=0.0, max=473.0), HTML(value='')))"
      ]
     },
     "metadata": {},
     "output_type": "display_data"
    },
    {
     "name": "stdout",
     "output_type": "stream",
     "text": [
      "\n",
      "Train Loss : 0.0260, Accuracy : 0.9926, F1_score : 0.9856\n"
     ]
    },
    {
     "data": {
      "application/vnd.jupyter.widget-view+json": {
       "model_id": "59a757072aa0416192768c1e162a85be",
       "version_major": 2,
       "version_minor": 0
      },
      "text/plain": [
       "HBox(children=(HTML(value=''), FloatProgress(value=0.0, max=119.0), HTML(value='')))"
      ]
     },
     "metadata": {},
     "output_type": "display_data"
    },
    {
     "name": "stdout",
     "output_type": "stream",
     "text": [
      "\n",
      "Validation Loss : 0.0135, Accuracy : 0.9961, F1_score : 0.9900\n",
      "Validation loss decreased (0.045794 --> 0.013502).  Saving model ...\n"
     ]
    },
    {
     "data": {
      "application/vnd.jupyter.widget-view+json": {
       "model_id": "1f62d462ddd5410ca609ed1e2a1be43a",
       "version_major": 2,
       "version_minor": 0
      },
      "text/plain": [
       "HBox(children=(HTML(value=''), FloatProgress(value=0.0, max=473.0), HTML(value='')))"
      ]
     },
     "metadata": {},
     "output_type": "display_data"
    },
    {
     "name": "stdout",
     "output_type": "stream",
     "text": [
      "\n",
      "Train Loss : 0.0124, Accuracy : 0.9970, F1_score : 0.9941\n"
     ]
    },
    {
     "data": {
      "application/vnd.jupyter.widget-view+json": {
       "model_id": "905d6259a6c44431bd149345ff80f76c",
       "version_major": 2,
       "version_minor": 0
      },
      "text/plain": [
       "HBox(children=(HTML(value=''), FloatProgress(value=0.0, max=119.0), HTML(value='')))"
      ]
     },
     "metadata": {},
     "output_type": "display_data"
    },
    {
     "name": "stdout",
     "output_type": "stream",
     "text": [
      "\n",
      "Validation Loss : 0.0097, Accuracy : 0.9966, F1_score : 0.9943\n",
      "Validation loss decreased (0.013502 --> 0.009656).  Saving model ...\n"
     ]
    },
    {
     "data": {
      "application/vnd.jupyter.widget-view+json": {
       "model_id": "05fd0407b03749d286b693593b789d2e",
       "version_major": 2,
       "version_minor": 0
      },
      "text/plain": [
       "HBox(children=(HTML(value=''), FloatProgress(value=0.0, max=473.0), HTML(value='')))"
      ]
     },
     "metadata": {},
     "output_type": "display_data"
    },
    {
     "name": "stdout",
     "output_type": "stream",
     "text": [
      "\n",
      "Train Loss : 0.0091, Accuracy : 0.9978, F1_score : 0.9957\n"
     ]
    },
    {
     "data": {
      "application/vnd.jupyter.widget-view+json": {
       "model_id": "fc32044c881a4e6a97862450ceec5f67",
       "version_major": 2,
       "version_minor": 0
      },
      "text/plain": [
       "HBox(children=(HTML(value=''), FloatProgress(value=0.0, max=119.0), HTML(value='')))"
      ]
     },
     "metadata": {},
     "output_type": "display_data"
    },
    {
     "name": "stdout",
     "output_type": "stream",
     "text": [
      "\n",
      "Validation Loss : 0.0077, Accuracy : 0.9974, F1_score : 0.9938\n",
      "Validation loss decreased (0.009656 --> 0.007712).  Saving model ...\n",
      "Best Validation loss: inf\n",
      "Best Validation acc: 0.0000\n",
      "Best Validation f1: 0.0000\n",
      "5번째 학습 종료!\n",
      "5폴드 평균 loss : inf\n",
      "5폴드 평균 acc : 0.0\n",
      "5폴드 평균 f1 : 0.0\n",
      "총 걸린 시간 : 12124.62623333931\n"
     ]
    }
   ],
   "source": [
    "# 메인 학습 코드\n",
    "start = time.time()\n",
    "\n",
    "df = pd.read_csv(os.path.join(cfg.train_dir, 'train_with_label.csv'))\n",
    "\n",
    "# 5개의 KFold\n",
    "folds = StratifiedKFold(n_splits=cfg.FOLD_NUM, \n",
    "                        shuffle=True, \n",
    "                        random_state=cfg.SEED)\n",
    "folds = folds.split(np.arange(len(df)), df['target'].values)\n",
    "\n",
    "fold_best_loss = []\n",
    "fold_best_acc = []\n",
    "fold_best_f1 = []\n",
    "\n",
    "for fold, (train_idx, valid_idx) in enumerate(folds):\n",
    "    # 한 폴드만 사용할 때 주석 풀기\n",
    "#     if fold > 0:\n",
    "#         break\n",
    "        \n",
    "    print(f'Training with {fold + 1} started')\n",
    "    \n",
    "    print(len(train_idx), len(valid_idx))\n",
    "    \n",
    "    # train_df 이미지의 pixel 값의 mean & std\n",
    "    train_loader, valid_loader = get_dataloader(df, train_idx, valid_idx, \n",
    "                                                cfg.mean_list, cfg.std_list)\n",
    "    \n",
    "    device = cfg.device\n",
    "    model = ImgClassifier(model_name=cfg.model_name, \n",
    "                          n_class=cfg.CLASS_NUM, \n",
    "                          pretrained=True).to(device)\n",
    "    set_model_train_mode(model, 0)\n",
    "    criterion = nn.CrossEntropyLoss()\n",
    "    optimizer = optim.Adam(model.parameters(), lr=cfg.LEARNING_RATE, weight_decay=cfg.weight_decay)\n",
    "    scheduler = lr_scheduler.StepLR(optimizer, step_size=7, gamma=0.1)\n",
    "    earlystop = EarlyStopping(fold=fold, patience=cfg.PATIENCE, verbose=True)    \n",
    "\n",
    "    \n",
    "    train_loss_history = []\n",
    "    train_acc_history = []\n",
    "    train_f1_history = []\n",
    "    val_loss_history = []\n",
    "    val_acc_history = []\n",
    "    val_f1_history = []\n",
    "\n",
    "    best_loss = np.inf\n",
    "    best_acc = 0.0\n",
    "    best_f1 = 0.0\n",
    "    \n",
    "    for epoch in range(1, cfg.EPOCHS + 1):\n",
    "        train_epoch_loss, train_epoch_acc, train_epoch_f1 = \\\n",
    "        train_one_epoch(epoch, model, criterion, optimizer, train_loader, device)\n",
    "        scheduler.step()\n",
    "        \n",
    "        train_loss_history.append(train_epoch_loss)\n",
    "        train_acc_history.append(train_epoch_acc)\n",
    "        train_f1_history.append(train_epoch_f1)\n",
    "        print(f'Train Loss : {train_epoch_loss:.4f}, Accuracy : {train_epoch_acc:.4f}, F1_score : {train_epoch_f1:.4f}')\n",
    "        with torch.no_grad():\n",
    "            valid_epoch_loss, valid_epoch_acc, valid_epoch_f1 = \\\n",
    "            valid_one_epoch(epoch, model, criterion, valid_loader, device)\n",
    "            \n",
    "            val_loss_history.append(valid_epoch_loss)\n",
    "            val_acc_history.append(valid_epoch_acc)\n",
    "            val_f1_history.append(valid_epoch_f1)\n",
    "            \n",
    "        print(f'Validation Loss : {valid_epoch_loss:.4f}, Accuracy : {valid_epoch_acc:.4f}, F1_score : {valid_epoch_f1:.4f}')\n",
    "        \n",
    "        if valid_epoch_loss < best_loss:\n",
    "            best_loss = valid_epoch_loss\n",
    "            best_acc = valid_epoch_acc\n",
    "            best_f1 = valid_epoch_f1\n",
    "            \n",
    "        earlystop(valid_epoch_loss, model)\n",
    "    \n",
    "        if earlystop.early_stop:\n",
    "            print('Early stopping')\n",
    "            model.load_state_dict(torch.load(f'{os.path.join(cfg.model_save_path, cfg.model_name)}_{fold + 1}/checkpoint.pt'))\n",
    "            break\n",
    "            \n",
    "    fold_best_loss.append(best_loss)\n",
    "    fold_best_acc.append(best_acc)\n",
    "    fold_best_f1.append(best_f1)\n",
    "            \n",
    "    print('Best Validation loss: {:.4f}'.format(best_loss))\n",
    "    print('Best Validation acc: {:.4f}'.format(best_acc))\n",
    "    print('Best Validation f1: {:.4f}'.format(best_f1))\n",
    "    print('{}번째 학습 종료!'.format(fold + 1))\n",
    "    \n",
    "    del model, optimizer, train_loader, valid_loader, scheduler\n",
    "    torch.cuda.empty_cache()\n",
    "    \n",
    "print(f'5폴드 평균 loss : {np.mean(fold_best_loss)}')\n",
    "print(f'5폴드 평균 acc : {np.mean(fold_best_acc)}')\n",
    "print(f'5폴드 평균 f1 : {np.mean(fold_best_f1)}')\n",
    "    \n",
    "end = time.time()\n",
    "print('총 걸린 시간 : {}'.format(end - start))"
   ]
  },
  {
   "cell_type": "code",
   "execution_count": 21,
   "id": "c61fd432-dbac-441e-beab-1b68039029ef",
   "metadata": {},
   "outputs": [
    {
     "name": "stdout",
     "output_type": "stream",
     "text": [
      "[inf, inf, inf, inf, inf]\n",
      "[0.0, 0.0, 0.0, 0.0, 0.0]\n",
      "[0.0, 0.0, 0.0, 0.0, 0.0]\n"
     ]
    }
   ],
   "source": [
    "print(fold_best_loss)\n",
    "print(fold_best_acc)\n",
    "print(fold_best_f1)"
   ]
  },
  {
   "cell_type": "code",
   "execution_count": 22,
   "id": "57abd9b4-1253-4511-9c70-3c662e9573f3",
   "metadata": {},
   "outputs": [
    {
     "name": "stdout",
     "output_type": "stream",
     "text": [
      "cv_loss : 0.01008\n",
      "cv_acc : 0.9974399999999999\n",
      "cv_f1 : 0.9955400000000001\n"
     ]
    }
   ],
   "source": [
    "fold_best_loss = [0.0061, 0.0148, 0.0092,0.0126, 0.0077]\n",
    "fold_best_acc = [0.9987, 0.9955, 0.9982, 0.9974, 0.9974]\n",
    "fold_best_f1 = [0.9971, 0.9924, 0.9968, 0.9976, 0.9938]\n",
    "print(f'cv_loss : {np.mean(fold_best_loss)}')\n",
    "print(f'cv_acc : {np.mean(fold_best_acc)}')\n",
    "print(f'cv_f1 : {np.mean(fold_best_f1)}')"
   ]
  },
  {
   "cell_type": "markdown",
   "id": "6c5dd07c-6707-4e2b-9a75-17c2c412198b",
   "metadata": {},
   "source": [
    "## 학습 그래프 표출 함수 정의"
   ]
  },
  {
   "cell_type": "code",
   "execution_count": 23,
   "id": "caec1550-cc97-49da-af11-1150e82a85f2",
   "metadata": {},
   "outputs": [],
   "source": [
    "def show_graph(train_loss_history, train_acc_history, train_f1_history,\n",
    "               val_loss_history, val_acc_history, val_f1_history):\n",
    "    \n",
    "    fig, axes = plt.subplots(1, 3, figsize=(10, 5))\n",
    "    \n",
    "    axes[0].plot(train_loss_history, label='train_loss')\n",
    "    axes[0].plot(val_loss_history, label='val_loss')\n",
    "    axes[1].plot(train_acc_history, label='train_acc')\n",
    "    axes[1].plot(val_acc_history, label='val_acc')\n",
    "    axes[2].plot(train_f1_history, label='train_f1')\n",
    "    axes[2].plot(val_f1_history, label='val_f1')\n",
    "\n",
    "    for ax in axes:\n",
    "        ax.spines['top'].set_visible(False)\n",
    "        ax.spines['right'].set_visible(False)\n",
    "        ax.legend()\n",
    "\n",
    "    plt.show()"
   ]
  },
  {
   "cell_type": "code",
   "execution_count": 24,
   "id": "9e96f826-c153-4a98-bb2e-8bca9c10c937",
   "metadata": {},
   "outputs": [
    {
     "data": {
      "image/png": "[encoded data removed]",
      "text/plain": [
       "<Figure size 720x360 with 3 Axes>"
      ]
     },
     "metadata": {
      "needs_background": "light"
     },
     "output_type": "display_data"
    }
   ],
   "source": [
    "show_graph(train_loss_history, train_acc_history, train_f1_history,\n",
    "           val_loss_history, val_acc_history, val_f1_history)"
   ]
  },
  {
   "cell_type": "markdown",
   "id": "f7c3a9fc-154f-4d18-9bd9-8ae74cd6048b",
   "metadata": {},
   "source": [
    "## Inference 과정"
   ]
  },
  {
   "cell_type": "code",
   "execution_count": 25,
   "id": "bf327410-18eb-49f9-844a-b45bef1d925b",
   "metadata": {},
   "outputs": [],
   "source": [
    "# sumission_dir 생성\n",
    "my_make_dir(cfg.submission_dir)"
   ]
  },
  {
   "cell_type": "markdown",
   "id": "68e08412-7cbb-42c7-b794-f228cc2ffbed",
   "metadata": {},
   "source": [
    "## 6.1 Test Dataset 정의"
   ]
  },
  {
   "cell_type": "code",
   "execution_count": 26,
   "id": "11048dc5-b268-4f61-86de-1590fa1a7277",
   "metadata": {},
   "outputs": [],
   "source": [
    "class TestDataset(Dataset):\n",
    "    def __init__(self, img_paths, transform):\n",
    "        self.img_paths = img_paths\n",
    "        self.transform = transform\n",
    "\n",
    "    def __getitem__(self, index):\n",
    "        image = np.array(Image.open(self.img_paths[index]))\n",
    "\n",
    "        if self.transform:\n",
    "            image = self.transform(image=image)\n",
    "            image = image['image']\n",
    "        return image\n",
    "\n",
    "    def __len__(self):\n",
    "        return len(self.img_paths)"
   ]
  },
  {
   "cell_type": "code",
   "execution_count": 32,
   "id": "d38276e4-449d-4c0a-a782-93aa70895caf",
   "metadata": {},
   "outputs": [
    {
     "data": {
      "text/plain": [
       "['/opt/ml/code/model/tf_efficientnet_b4_ns_1/checkpoint.pt',\n",
       " '/opt/ml/code/model/tf_efficientnet_b4_ns_2/checkpoint.pt',\n",
       " '/opt/ml/code/model/tf_efficientnet_b4_ns_3/checkpoint.pt',\n",
       " '/opt/ml/code/model/tf_efficientnet_b4_ns_4/checkpoint.pt',\n",
       " '/opt/ml/code/model/tf_efficientnet_b4_ns_5/checkpoint.pt']"
      ]
     },
     "execution_count": 32,
     "metadata": {},
     "output_type": "execute_result"
    }
   ],
   "source": [
    "sorted(glob.glob(os.path.join(cfg.model_save_path, cfg.model_name) + '_*/checkpoint.pt'))[2:]"
   ]
  },
  {
   "cell_type": "code",
   "execution_count": 34,
   "id": "8f8c6656-b02d-4811-954e-55bb35bc37c3",
   "metadata": {},
   "outputs": [],
   "source": [
    "test_transform = albumentations.Compose([\n",
    "    albumentations.CenterCrop(cfg.IMAGE_SIZE, cfg.IMAGE_SIZE, p=1.0),\n",
    "    albumentations.Normalize(cfg.mean_list, cfg.std_list, max_pixel_value=255.0, p=1.0),\n",
    "    ToTensorV2(p=1.0),\n",
    "])"
   ]
  },
  {
   "cell_type": "code",
   "execution_count": 35,
   "id": "5b3c9554-c81f-43ea-9ace-bcd687003107",
   "metadata": {},
   "outputs": [
    {
     "data": {
      "application/vnd.jupyter.widget-view+json": {
       "model_id": "b9a4fba4fcc949688acb9222adb6fbee",
       "version_major": 2,
       "version_minor": 0
      },
      "text/plain": [
       "HBox(children=(HTML(value=''), FloatProgress(value=0.0, max=394.0), HTML(value='')))"
      ]
     },
     "metadata": {},
     "output_type": "display_data"
    },
    {
     "name": "stdout",
     "output_type": "stream",
     "text": [
      "\n",
      "1 번째 sumission file 생성!\n"
     ]
    },
    {
     "data": {
      "application/vnd.jupyter.widget-view+json": {
       "model_id": "eb0a6e4f354242c89b6be2774c4b393a",
       "version_major": 2,
       "version_minor": 0
      },
      "text/plain": [
       "HBox(children=(HTML(value=''), FloatProgress(value=0.0, max=394.0), HTML(value='')))"
      ]
     },
     "metadata": {},
     "output_type": "display_data"
    },
    {
     "name": "stdout",
     "output_type": "stream",
     "text": [
      "\n",
      "2 번째 sumission file 생성!\n"
     ]
    },
    {
     "data": {
      "application/vnd.jupyter.widget-view+json": {
       "model_id": "1e1f35d2b8094181b8ae12b8434c5ec2",
       "version_major": 2,
       "version_minor": 0
      },
      "text/plain": [
       "HBox(children=(HTML(value=''), FloatProgress(value=0.0, max=394.0), HTML(value='')))"
      ]
     },
     "metadata": {},
     "output_type": "display_data"
    },
    {
     "name": "stdout",
     "output_type": "stream",
     "text": [
      "\n",
      "3 번째 sumission file 생성!\n"
     ]
    },
    {
     "data": {
      "application/vnd.jupyter.widget-view+json": {
       "model_id": "2600af51e4e64f73bd5cbf8b2c2f6dcb",
       "version_major": 2,
       "version_minor": 0
      },
      "text/plain": [
       "HBox(children=(HTML(value=''), FloatProgress(value=0.0, max=394.0), HTML(value='')))"
      ]
     },
     "metadata": {},
     "output_type": "display_data"
    },
    {
     "name": "stdout",
     "output_type": "stream",
     "text": [
      "\n",
      "4 번째 sumission file 생성!\n"
     ]
    },
    {
     "data": {
      "application/vnd.jupyter.widget-view+json": {
       "model_id": "f412f422f8904b8990d6db562e6a749d",
       "version_major": 2,
       "version_minor": 0
      },
      "text/plain": [
       "HBox(children=(HTML(value=''), FloatProgress(value=0.0, max=394.0), HTML(value='')))"
      ]
     },
     "metadata": {},
     "output_type": "display_data"
    },
    {
     "name": "stdout",
     "output_type": "stream",
     "text": [
      "\n",
      "5 번째 sumission file 생성!\n",
      "test inference is done!\n"
     ]
    }
   ],
   "source": [
    "# 테스트셋 추론 메인 코드\n",
    "\n",
    "# meta 데이터와 이미지 경로를 불러옵니다.\n",
    "submission = pd.read_csv(os.path.join(cfg.test_dir, 'info.csv'))\n",
    "image_dir = os.path.join(cfg.test_dir, 'images')\n",
    "\n",
    "# Test Dataset 클래스 객체를 생성하고 DataLoader를 만듭니다.\n",
    "image_paths = [os.path.join(image_dir, img_id) for img_id in submission.ImageID]\n",
    "\n",
    "dataset = TestDataset(image_paths, test_transform)\n",
    "\n",
    "loader = DataLoader(\n",
    "    dataset,\n",
    "    batch_size=cfg.BATCH_SIZE,\n",
    "    shuffle=False,\n",
    "    drop_last=False,\n",
    "    num_workers=cfg.NUM_WORKERS,\n",
    ")\n",
    "\n",
    "# KFOLD를 이용한 모델 5개의 checkpoint.pt path\n",
    "checkpoint_path_list = sorted(glob.glob(os.path.join(cfg.model_save_path, \n",
    "                                                     cfg.model_name) + '_*/checkpoint.pt'))[2:]\n",
    "for i, checkpoint_path in enumerate(checkpoint_path_list):\n",
    "    # 모델을 정의합니다. (학습한 모델이 있다면 torch.load로 모델을 불러주세요!)\n",
    "    model = ImgClassifier(model_name=cfg.model_name, \n",
    "                          n_class=cfg.CLASS_NUM, \n",
    "                          pretrained=False).to(device)\n",
    "    model.load_state_dict(torch.load(checkpoint_path))\n",
    "    model.eval()\n",
    "\n",
    "    # 모델이 테스트 데이터셋을 예측하고 결과를 저장합니다.\n",
    "    all_predictions = []\n",
    "    for images in tqdm(loader):\n",
    "        with torch.no_grad():\n",
    "            images = images.to(device)\n",
    "            pred = model(images)\n",
    "            pred = pred.argmax(dim=-1)\n",
    "            all_predictions.extend(pred.cpu().numpy())\n",
    "    submission['ans'] = all_predictions\n",
    "\n",
    "    # 제출할 파일을 저장합니다.\n",
    "    submission.to_csv(os.path.join(cfg.submission_dir, \n",
    "                                   'submission_{}.csv'.format(checkpoint_path.split('/')[-2])), \n",
    "                      index=False)\n",
    "    \n",
    "    print(f'{i + 1} 번째 sumission file 생성!')\n",
    "print('test inference is done!')"
   ]
  },
  {
   "cell_type": "code",
   "execution_count": 36,
   "id": "ad390b3a-5da0-4737-bea0-fc479fbf98d1",
   "metadata": {},
   "outputs": [],
   "source": [
    "submission_file_list = glob.glob(os.path.join(cfg.submission_dir, \n",
    "                                             'submission_{}_*'.format(cfg.model_name)))"
   ]
  },
  {
   "cell_type": "code",
   "execution_count": 37,
   "id": "e7d35f6a-210d-43e6-b57a-98f9680eeea3",
   "metadata": {},
   "outputs": [
    {
     "data": {
      "text/plain": [
       "['/opt/ml/code/submission/2021-08-27/submission_tf_efficientnet_b4_ns_3.csv',\n",
       " '/opt/ml/code/submission/2021-08-27/submission_tf_efficientnet_b4_ns_2.csv',\n",
       " '/opt/ml/code/submission/2021-08-27/submission_tf_efficientnet_b4_ns_5.csv',\n",
       " '/opt/ml/code/submission/2021-08-27/submission_tf_efficientnet_b4_ns_1.csv',\n",
       " '/opt/ml/code/submission/2021-08-27/submission_tf_efficientnet_b4_ns_4.csv']"
      ]
     },
     "execution_count": 37,
     "metadata": {},
     "output_type": "execute_result"
    }
   ],
   "source": [
    "submission_file_list"
   ]
  },
  {
   "cell_type": "code",
   "execution_count": 42,
   "id": "bc90b0f7-7efc-449d-938f-d2c2f3e7b05f",
   "metadata": {},
   "outputs": [
    {
     "data": {
      "text/plain": [
       "<matplotlib.axes._subplots.AxesSubplot at 0x7ff5c49718b0>"
      ]
     },
     "execution_count": 42,
     "metadata": {},
     "output_type": "execute_result"
    },
    {
     "data": {
      "image/png": "[encoded data removed]",
      "text/plain": [
       "<Figure size 432x288 with 1 Axes>"
      ]
     },
     "metadata": {
      "needs_background": "light"
     },
     "output_type": "display_data"
    }
   ],
   "source": [
    "import seaborn as sns\n",
    "result_df = pd.read_csv(submission_file_list[4])\n",
    "sns.countplot(result_df['ans'])"
   ]
  },
  {
   "cell_type": "code",
   "execution_count": 43,
   "id": "7c5030f0-6828-433d-b0df-5b5d8e0d5a8f",
   "metadata": {},
   "outputs": [],
   "source": [
    "for i, file in enumerate(submission_file_list):\n",
    "    if i == 0:\n",
    "        result_df = pd.read_csv(file)\n",
    "        result_df.rename({'ans': 'ans_1'}, axis=1, inplace=True)\n",
    "    else:\n",
    "        temp_df = pd.read_csv(file)\n",
    "        result_df['ans_{}'.format(i + 1)] = temp_df['ans']\n",
    "        \n",
    "result_df['ans'] = result_df.apply(lambda x: x.iloc[1:].value_counts().index[0], axis=1)\n",
    "result_df.drop(['ans_{}'.format(i) for i in range(1, 6)], axis=1, inplace=True)\n",
    "result_df.to_csv(os.path.join(cfg.submission_dir, \n",
    "                              'submission_{}_ensemble.csv'.format(cfg.model_name)),\n",
    "                 index=False)"
   ]
  },
  {
   "cell_type": "markdown",
   "id": "ec332d7c-19c5-42b2-87f5-4024b4d7994d",
   "metadata": {},
   "source": [
    "## 최종 데이터 모두 활용해 학습"
   ]
  },
  {
   "cell_type": "markdown",
   "id": "e4c36a13-7c74-4780-8226-5ef76419edca",
   "metadata": {},
   "source": [
    "## 학습 그래프 표출 함수 정의"
   ]
  },
  {
   "cell_type": "code",
   "execution_count": 18,
   "id": "7b8bc2f0-ae6b-4ffd-bcd0-32fb4d808e68",
   "metadata": {},
   "outputs": [],
   "source": [
    "def show_graph(train_loss_history, train_acc_history, train_f1_history,\n",
    "               val_loss_history, val_acc_history, val_f1_history):\n",
    "    \n",
    "    fig, axes = plt.subplots(1, 3, figsize=(10, 5))\n",
    "    \n",
    "    axes[0].plot(train_loss_history, label='train_loss')\n",
    "    axes[0].plot(val_loss_history, label='val_loss')\n",
    "    axes[1].plot(train_acc_history, label='train_acc')\n",
    "    axes[1].plot(val_acc_history, label='val_acc')\n",
    "    axes[2].plot(train_f1_history, label='train_f1')\n",
    "    axes[2].plot(val_f1_history, label='val_f1')\n",
    "\n",
    "    for ax in axes:\n",
    "        ax.spines['top'].set_visible(False)\n",
    "        ax.spines['right'].set_visible(False)\n",
    "        ax.legend()\n",
    "\n",
    "    plt.show()"
   ]
  },
  {
   "cell_type": "code",
   "execution_count": 19,
   "id": "3f95aac6-3887-4371-a7d6-bbc095585e38",
   "metadata": {},
   "outputs": [
    {
     "data": {
      "image/png": "[encoded data removed]",
      "text/plain": [
       "<Figure size 720x360 with 3 Axes>"
      ]
     },
     "metadata": {
      "needs_background": "light"
     },
     "output_type": "display_data"
    }
   ],
   "source": [
    "show_graph(train_loss_history, train_acc_history, train_f1_history,\n",
    "           val_loss_history, val_acc_history, val_f1_history)"
   ]
  },
  {
   "cell_type": "markdown",
   "id": "continued-feelings",
   "metadata": {},
   "source": [
    "## Inference 과정"
   ]
  },
  {
   "cell_type": "code",
   "execution_count": 20,
   "id": "c6ac2920-47d2-4ec4-b0c1-b5dba7621baf",
   "metadata": {},
   "outputs": [],
   "source": [
    "# sumission_dir 생성\n",
    "my_make_dir(cfg.submission_dir)"
   ]
  },
  {
   "cell_type": "markdown",
   "id": "183d4130-6e04-4654-88e0-1fde6ef38d29",
   "metadata": {},
   "source": [
    "## 6.1 Test Dataset 정의"
   ]
  },
  {
   "cell_type": "code",
   "execution_count": 21,
   "id": "acffdc4d-4bd5-4244-baa6-d4c56e66320e",
   "metadata": {},
   "outputs": [],
   "source": [
    "class TestDataset(Dataset):\n",
    "    def __init__(self, img_paths, transform):\n",
    "        self.img_paths = img_paths\n",
    "        self.transform = transform\n",
    "\n",
    "    def __getitem__(self, index):\n",
    "        image = np.array(Image.open(self.img_paths[index]))\n",
    "\n",
    "        if self.transform:\n",
    "            image = self.transform(image=image)\n",
    "            image = image['image']\n",
    "        return image\n",
    "\n",
    "    def __len__(self):\n",
    "        return len(self.img_paths)"
   ]
  },
  {
   "cell_type": "code",
   "execution_count": 22,
   "id": "f15360cb-8178-4969-bf1f-251550030ddd",
   "metadata": {},
   "outputs": [
    {
     "data": {
      "text/plain": [
       "['/opt/ml/code/model/tf_efficientnet_b4_ns_1/checkpoint.pt']"
      ]
     },
     "execution_count": 22,
     "metadata": {},
     "output_type": "execute_result"
    }
   ],
   "source": [
    "sorted(glob.glob(os.path.join(cfg.model_save_path, cfg.model_name) + '_*/checkpoint.pt'))"
   ]
  },
  {
   "cell_type": "code",
   "execution_count": 24,
   "id": "34e22051-734d-40ee-bbaa-9084ee0a7e5c",
   "metadata": {},
   "outputs": [],
   "source": [
    "test_transform = albumentations.Compose([\n",
    "    albumentations.CenterCrop(cfg.IMAGE_SIZE, cfg.IMAGE_SIZE, p=1.0),\n",
    "    albumentations.Normalize(cfg.mean_list, cfg.std_list, max_pixel_value=255.0, p=1.0),\n",
    "    ToTensorV2(p=1.0),\n",
    "])"
   ]
  },
  {
   "cell_type": "code",
   "execution_count": 25,
   "id": "coral-shade",
   "metadata": {},
   "outputs": [
    {
     "data": {
      "application/vnd.jupyter.widget-view+json": {
       "model_id": "dc8acded79574418a80031f20cd2a0b7",
       "version_major": 2,
       "version_minor": 0
      },
      "text/plain": [
       "HBox(children=(HTML(value=''), FloatProgress(value=0.0, max=394.0), HTML(value='')))"
      ]
     },
     "metadata": {},
     "output_type": "display_data"
    },
    {
     "name": "stdout",
     "output_type": "stream",
     "text": [
      "\n",
      "1 번째 sumission file 생성!\n",
      "test inference is done!\n"
     ]
    }
   ],
   "source": [
    "# 테스트셋 추론 메인 코드\n",
    "\n",
    "# meta 데이터와 이미지 경로를 불러옵니다.\n",
    "submission = pd.read_csv(os.path.join(cfg.test_dir, 'info.csv'))\n",
    "image_dir = os.path.join(cfg.test_dir, 'images')\n",
    "\n",
    "# Test Dataset 클래스 객체를 생성하고 DataLoader를 만듭니다.\n",
    "image_paths = [os.path.join(image_dir, img_id) for img_id in submission.ImageID]\n",
    "\n",
    "dataset = TestDataset(image_paths, test_transform)\n",
    "\n",
    "loader = DataLoader(\n",
    "    dataset,\n",
    "    batch_size=cfg.BATCH_SIZE,\n",
    "    shuffle=False,\n",
    "    drop_last=False,\n",
    "    num_workers=cfg.NUM_WORKERS,\n",
    ")\n",
    "\n",
    "# KFOLD를 이용한 모델 5개의 checkpoint.pt path\n",
    "checkpoint_path_list = sorted(glob.glob(os.path.join(cfg.model_save_path, \n",
    "                                                     cfg.model_name) + '_*/checkpoint.pt'))\n",
    "for i, checkpoint_path in enumerate(checkpoint_path_list):\n",
    "    # 모델을 정의합니다. (학습한 모델이 있다면 torch.load로 모델을 불러주세요!)\n",
    "    model = ImgClassifier(model_name=cfg.model_name, \n",
    "                          n_class=cfg.CLASS_NUM, \n",
    "                          pretrained=False).to(device)\n",
    "    model.load_state_dict(torch.load(checkpoint_path))\n",
    "    model.eval()\n",
    "\n",
    "    # 모델이 테스트 데이터셋을 예측하고 결과를 저장합니다.\n",
    "    all_predictions = []\n",
    "    for images in tqdm(loader):\n",
    "        with torch.no_grad():\n",
    "            images = images.to(device)\n",
    "            pred = model(images)\n",
    "            pred = pred.argmax(dim=-1)\n",
    "            all_predictions.extend(pred.cpu().numpy())\n",
    "    submission['ans'] = all_predictions\n",
    "\n",
    "    # 제출할 파일을 저장합니다.\n",
    "    submission.to_csv(os.path.join(cfg.submission_dir, \n",
    "                                   'submission_{}.csv'.format(checkpoint_path.split('/')[-2])), \n",
    "                      index=False)\n",
    "    \n",
    "    print(f'{i + 1} 번째 sumission file 생성!')\n",
    "print('test inference is done!')"
   ]
  },
  {
   "cell_type": "code",
   "execution_count": 26,
   "id": "1d433962-df60-4245-9ff5-ebebfe6abdda",
   "metadata": {},
   "outputs": [],
   "source": [
    "submission_file_list = glob.glob(os.path.join(cfg.submission_dir, \n",
    "                                             'submission_{}_*'.format(cfg.model_name)))"
   ]
  },
  {
   "cell_type": "code",
   "execution_count": 27,
   "id": "14a76a4c-e213-4236-9c3d-879ae7898d85",
   "metadata": {},
   "outputs": [
    {
     "data": {
      "text/plain": [
       "['/opt/ml/code/submission/2021-08-26/submission_tf_efficientnet_b4_ns_1.csv']"
      ]
     },
     "execution_count": 27,
     "metadata": {},
     "output_type": "execute_result"
    }
   ],
   "source": [
    "submission_file_list"
   ]
  },
  {
   "cell_type": "code",
   "execution_count": 28,
   "id": "444a782f-5f83-41fe-862b-03ed0b76c197",
   "metadata": {},
   "outputs": [
    {
     "data": {
      "text/plain": [
       "<matplotlib.axes._subplots.AxesSubplot at 0x7f2f4483e640>"
      ]
     },
     "execution_count": 28,
     "metadata": {},
     "output_type": "execute_result"
    },
    {
     "data": {
      "image/png": "[encoded data removed]",
      "text/plain": [
       "<Figure size 432x288 with 1 Axes>"
      ]
     },
     "metadata": {
      "needs_background": "light"
     },
     "output_type": "display_data"
    }
   ],
   "source": [
    "import seaborn as sns\n",
    "result_df = pd.read_csv(submission_file_list[0])\n",
    "sns.countplot(result_df['ans'])"
   ]
  },
  {
   "cell_type": "code",
   "execution_count": 36,
   "id": "5da54016-d632-4ee5-bcd4-b82a6754fa9b",
   "metadata": {},
   "outputs": [
    {
     "ename": "KeyError",
     "evalue": "\"['ans_2' 'ans_3' 'ans_4' 'ans_5'] not found in axis\"",
     "output_type": "error",
     "traceback": [
      "\u001b[0;31m---------------------------------------------------------------------------\u001b[0m",
      "\u001b[0;31mKeyError\u001b[0m                                  Traceback (most recent call last)",
      "\u001b[0;32m<ipython-input-36-c340df73f69a>\u001b[0m in \u001b[0;36m<module>\u001b[0;34m\u001b[0m\n\u001b[1;32m      8\u001b[0m \u001b[0;34m\u001b[0m\u001b[0m\n\u001b[1;32m      9\u001b[0m \u001b[0mresult_df\u001b[0m\u001b[0;34m[\u001b[0m\u001b[0;34m'ans'\u001b[0m\u001b[0;34m]\u001b[0m \u001b[0;34m=\u001b[0m \u001b[0mresult_df\u001b[0m\u001b[0;34m.\u001b[0m\u001b[0mapply\u001b[0m\u001b[0;34m(\u001b[0m\u001b[0;32mlambda\u001b[0m \u001b[0mx\u001b[0m\u001b[0;34m:\u001b[0m \u001b[0mx\u001b[0m\u001b[0;34m.\u001b[0m\u001b[0miloc\u001b[0m\u001b[0;34m[\u001b[0m\u001b[0;36m1\u001b[0m\u001b[0;34m:\u001b[0m\u001b[0;34m]\u001b[0m\u001b[0;34m.\u001b[0m\u001b[0mvalue_counts\u001b[0m\u001b[0;34m(\u001b[0m\u001b[0;34m)\u001b[0m\u001b[0;34m.\u001b[0m\u001b[0mindex\u001b[0m\u001b[0;34m[\u001b[0m\u001b[0;36m0\u001b[0m\u001b[0;34m]\u001b[0m\u001b[0;34m,\u001b[0m \u001b[0maxis\u001b[0m\u001b[0;34m=\u001b[0m\u001b[0;36m1\u001b[0m\u001b[0;34m)\u001b[0m\u001b[0;34m\u001b[0m\u001b[0;34m\u001b[0m\u001b[0m\n\u001b[0;32m---> 10\u001b[0;31m \u001b[0mresult_df\u001b[0m\u001b[0;34m.\u001b[0m\u001b[0mdrop\u001b[0m\u001b[0;34m(\u001b[0m\u001b[0;34m[\u001b[0m\u001b[0;34m'ans_{}'\u001b[0m\u001b[0;34m.\u001b[0m\u001b[0mformat\u001b[0m\u001b[0;34m(\u001b[0m\u001b[0mi\u001b[0m\u001b[0;34m)\u001b[0m \u001b[0;32mfor\u001b[0m \u001b[0mi\u001b[0m \u001b[0;32min\u001b[0m \u001b[0mrange\u001b[0m\u001b[0;34m(\u001b[0m\u001b[0;36m1\u001b[0m\u001b[0;34m,\u001b[0m \u001b[0;36m6\u001b[0m\u001b[0;34m)\u001b[0m\u001b[0;34m]\u001b[0m\u001b[0;34m,\u001b[0m \u001b[0maxis\u001b[0m\u001b[0;34m=\u001b[0m\u001b[0;36m1\u001b[0m\u001b[0;34m,\u001b[0m \u001b[0minplace\u001b[0m\u001b[0;34m=\u001b[0m\u001b[0;32mTrue\u001b[0m\u001b[0;34m)\u001b[0m\u001b[0;34m\u001b[0m\u001b[0;34m\u001b[0m\u001b[0m\n\u001b[0m\u001b[1;32m     11\u001b[0m result_df.to_csv(os.path.join(cfg.submission_dir, \n\u001b[1;32m     12\u001b[0m                               'submission_{}_ensemble.csv'.format(cfg.model_name)),\n",
      "\u001b[0;32m/opt/conda/lib/python3.8/site-packages/pandas/core/frame.py\u001b[0m in \u001b[0;36mdrop\u001b[0;34m(self, labels, axis, index, columns, level, inplace, errors)\u001b[0m\n\u001b[1;32m   4165\u001b[0m                 \u001b[0mweight\u001b[0m  \u001b[0;36m1.0\u001b[0m     \u001b[0;36m0.8\u001b[0m\u001b[0;34m\u001b[0m\u001b[0;34m\u001b[0m\u001b[0m\n\u001b[1;32m   4166\u001b[0m         \"\"\"\n\u001b[0;32m-> 4167\u001b[0;31m         return super().drop(\n\u001b[0m\u001b[1;32m   4168\u001b[0m             \u001b[0mlabels\u001b[0m\u001b[0;34m=\u001b[0m\u001b[0mlabels\u001b[0m\u001b[0;34m,\u001b[0m\u001b[0;34m\u001b[0m\u001b[0;34m\u001b[0m\u001b[0m\n\u001b[1;32m   4169\u001b[0m             \u001b[0maxis\u001b[0m\u001b[0;34m=\u001b[0m\u001b[0maxis\u001b[0m\u001b[0;34m,\u001b[0m\u001b[0;34m\u001b[0m\u001b[0;34m\u001b[0m\u001b[0m\n",
      "\u001b[0;32m/opt/conda/lib/python3.8/site-packages/pandas/core/generic.py\u001b[0m in \u001b[0;36mdrop\u001b[0;34m(self, labels, axis, index, columns, level, inplace, errors)\u001b[0m\n\u001b[1;32m   3887\u001b[0m         \u001b[0;32mfor\u001b[0m \u001b[0maxis\u001b[0m\u001b[0;34m,\u001b[0m \u001b[0mlabels\u001b[0m \u001b[0;32min\u001b[0m \u001b[0maxes\u001b[0m\u001b[0;34m.\u001b[0m\u001b[0mitems\u001b[0m\u001b[0;34m(\u001b[0m\u001b[0;34m)\u001b[0m\u001b[0;34m:\u001b[0m\u001b[0;34m\u001b[0m\u001b[0;34m\u001b[0m\u001b[0m\n\u001b[1;32m   3888\u001b[0m             \u001b[0;32mif\u001b[0m \u001b[0mlabels\u001b[0m \u001b[0;32mis\u001b[0m \u001b[0;32mnot\u001b[0m \u001b[0;32mNone\u001b[0m\u001b[0;34m:\u001b[0m\u001b[0;34m\u001b[0m\u001b[0;34m\u001b[0m\u001b[0m\n\u001b[0;32m-> 3889\u001b[0;31m                 \u001b[0mobj\u001b[0m \u001b[0;34m=\u001b[0m \u001b[0mobj\u001b[0m\u001b[0;34m.\u001b[0m\u001b[0m_drop_axis\u001b[0m\u001b[0;34m(\u001b[0m\u001b[0mlabels\u001b[0m\u001b[0;34m,\u001b[0m \u001b[0maxis\u001b[0m\u001b[0;34m,\u001b[0m \u001b[0mlevel\u001b[0m\u001b[0;34m=\u001b[0m\u001b[0mlevel\u001b[0m\u001b[0;34m,\u001b[0m \u001b[0merrors\u001b[0m\u001b[0;34m=\u001b[0m\u001b[0merrors\u001b[0m\u001b[0;34m)\u001b[0m\u001b[0;34m\u001b[0m\u001b[0;34m\u001b[0m\u001b[0m\n\u001b[0m\u001b[1;32m   3890\u001b[0m \u001b[0;34m\u001b[0m\u001b[0m\n\u001b[1;32m   3891\u001b[0m         \u001b[0;32mif\u001b[0m \u001b[0minplace\u001b[0m\u001b[0;34m:\u001b[0m\u001b[0;34m\u001b[0m\u001b[0;34m\u001b[0m\u001b[0m\n",
      "\u001b[0;32m/opt/conda/lib/python3.8/site-packages/pandas/core/generic.py\u001b[0m in \u001b[0;36m_drop_axis\u001b[0;34m(self, labels, axis, level, errors)\u001b[0m\n\u001b[1;32m   3921\u001b[0m                 \u001b[0mnew_axis\u001b[0m \u001b[0;34m=\u001b[0m \u001b[0maxis\u001b[0m\u001b[0;34m.\u001b[0m\u001b[0mdrop\u001b[0m\u001b[0;34m(\u001b[0m\u001b[0mlabels\u001b[0m\u001b[0;34m,\u001b[0m \u001b[0mlevel\u001b[0m\u001b[0;34m=\u001b[0m\u001b[0mlevel\u001b[0m\u001b[0;34m,\u001b[0m \u001b[0merrors\u001b[0m\u001b[0;34m=\u001b[0m\u001b[0merrors\u001b[0m\u001b[0;34m)\u001b[0m\u001b[0;34m\u001b[0m\u001b[0;34m\u001b[0m\u001b[0m\n\u001b[1;32m   3922\u001b[0m             \u001b[0;32melse\u001b[0m\u001b[0;34m:\u001b[0m\u001b[0;34m\u001b[0m\u001b[0;34m\u001b[0m\u001b[0m\n\u001b[0;32m-> 3923\u001b[0;31m                 \u001b[0mnew_axis\u001b[0m \u001b[0;34m=\u001b[0m \u001b[0maxis\u001b[0m\u001b[0;34m.\u001b[0m\u001b[0mdrop\u001b[0m\u001b[0;34m(\u001b[0m\u001b[0mlabels\u001b[0m\u001b[0;34m,\u001b[0m \u001b[0merrors\u001b[0m\u001b[0;34m=\u001b[0m\u001b[0merrors\u001b[0m\u001b[0;34m)\u001b[0m\u001b[0;34m\u001b[0m\u001b[0;34m\u001b[0m\u001b[0m\n\u001b[0m\u001b[1;32m   3924\u001b[0m             \u001b[0mresult\u001b[0m \u001b[0;34m=\u001b[0m \u001b[0mself\u001b[0m\u001b[0;34m.\u001b[0m\u001b[0mreindex\u001b[0m\u001b[0;34m(\u001b[0m\u001b[0;34m**\u001b[0m\u001b[0;34m{\u001b[0m\u001b[0maxis_name\u001b[0m\u001b[0;34m:\u001b[0m \u001b[0mnew_axis\u001b[0m\u001b[0;34m}\u001b[0m\u001b[0;34m)\u001b[0m\u001b[0;34m\u001b[0m\u001b[0;34m\u001b[0m\u001b[0m\n\u001b[1;32m   3925\u001b[0m \u001b[0;34m\u001b[0m\u001b[0m\n",
      "\u001b[0;32m/opt/conda/lib/python3.8/site-packages/pandas/core/indexes/base.py\u001b[0m in \u001b[0;36mdrop\u001b[0;34m(self, labels, errors)\u001b[0m\n\u001b[1;32m   5285\u001b[0m         \u001b[0;32mif\u001b[0m \u001b[0mmask\u001b[0m\u001b[0;34m.\u001b[0m\u001b[0many\u001b[0m\u001b[0;34m(\u001b[0m\u001b[0;34m)\u001b[0m\u001b[0;34m:\u001b[0m\u001b[0;34m\u001b[0m\u001b[0;34m\u001b[0m\u001b[0m\n\u001b[1;32m   5286\u001b[0m             \u001b[0;32mif\u001b[0m \u001b[0merrors\u001b[0m \u001b[0;34m!=\u001b[0m \u001b[0;34m\"ignore\"\u001b[0m\u001b[0;34m:\u001b[0m\u001b[0;34m\u001b[0m\u001b[0;34m\u001b[0m\u001b[0m\n\u001b[0;32m-> 5287\u001b[0;31m                 \u001b[0;32mraise\u001b[0m \u001b[0mKeyError\u001b[0m\u001b[0;34m(\u001b[0m\u001b[0;34mf\"{labels[mask]} not found in axis\"\u001b[0m\u001b[0;34m)\u001b[0m\u001b[0;34m\u001b[0m\u001b[0;34m\u001b[0m\u001b[0m\n\u001b[0m\u001b[1;32m   5288\u001b[0m             \u001b[0mindexer\u001b[0m \u001b[0;34m=\u001b[0m \u001b[0mindexer\u001b[0m\u001b[0;34m[\u001b[0m\u001b[0;34m~\u001b[0m\u001b[0mmask\u001b[0m\u001b[0;34m]\u001b[0m\u001b[0;34m\u001b[0m\u001b[0;34m\u001b[0m\u001b[0m\n\u001b[1;32m   5289\u001b[0m         \u001b[0;32mreturn\u001b[0m \u001b[0mself\u001b[0m\u001b[0;34m.\u001b[0m\u001b[0mdelete\u001b[0m\u001b[0;34m(\u001b[0m\u001b[0mindexer\u001b[0m\u001b[0;34m)\u001b[0m\u001b[0;34m\u001b[0m\u001b[0;34m\u001b[0m\u001b[0m\n",
      "\u001b[0;31mKeyError\u001b[0m: \"['ans_2' 'ans_3' 'ans_4' 'ans_5'] not found in axis\""
     ]
    }
   ],
   "source": [
    "for i, file in enumerate(submission_file_list):\n",
    "    if i == 0:\n",
    "        result_df = pd.read_csv(file)\n",
    "        result_df.rename({'ans': 'ans_1'}, axis=1, inplace=True)\n",
    "    else:\n",
    "        temp_df = pd.read_csv(file)\n",
    "        result_df['ans_{}'.format(i + 1)] = temp_df['ans']\n",
    "        \n",
    "result_df['ans'] = result_df.apply(lambda x: x.iloc[1:].value_counts().index[0], axis=1)\n",
    "result_df.drop(['ans_{}'.format(i) for i in range(1, 6)], axis=1, inplace=True)\n",
    "result_df.to_csv(os.path.join(cfg.submission_dir, \n",
    "                              'submission_{}_ensemble.csv'.format(cfg.model_name)),\n",
    "                 index=False)"
   ]
  },
  {
   "cell_type": "code",
   "execution_count": null,
   "id": "b96313eb-0fa4-4b87-955e-9fe7bfeb88df",
   "metadata": {},
   "outputs": [],
   "source": []
  }
 ],
 "metadata": {
  "kernelspec": {
   "display_name": "Python 3 (ipykernel)",
   "language": "python",
   "name": "python3"
  },
  "language_info": {
   "codemirror_mode": {
    "name": "ipython",
    "version": 3
   },
   "file_extension": ".py",
   "mimetype": "text/x-python",
   "name": "python",
   "nbconvert_exporter": "python",
   "pygments_lexer": "ipython3",
   "version": "3.8.5"
  }
 },
 "nbformat": 4,
 "nbformat_minor": 5
}
