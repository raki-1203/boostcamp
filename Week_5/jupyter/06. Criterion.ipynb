{
 "cells": [
  {
   "cell_type": "markdown",
   "id": "9ae05d7c-be51-47cb-9901-a169e3989acf",
   "metadata": {},
   "source": [
    "# Experiment 4: Criterion\n",
    "\n",
    "- Cross Entropy Loss\n",
    "- Label Smoothing Loss\n",
    "- F1 Loss\n",
    "- Focal Loss"
   ]
  },
  {
   "cell_type": "code",
   "execution_count": 24,
   "id": "a3eb68cb-69c0-424e-bfd5-b33a2f048846",
   "metadata": {},
   "outputs": [
    {
     "name": "stdout",
     "output_type": "stream",
     "text": [
      "PyTorch version: 1.7.1\n",
      "This notebook use cuda:0\n"
     ]
    }
   ],
   "source": [
    "import os\n",
    "import sys\n",
    "import pickle\n",
    "import glob\n",
    "import time\n",
    "from tqdm import tqdm\n",
    "from collections import Counter\n",
    "\n",
    "# scikit-learn\n",
    "from sklearn.metrics import f1_score, accuracy_score\n",
    "from sklearn.model_selection import StratifiedKFold\n",
    "\n",
    "# Data preprocessing\n",
    "import cv2\n",
    "import numpy as np\n",
    "import pandas as pd\n",
    "\n",
    "# data visualization\n",
    "import matplotlib.pyplot as plt\n",
    "import seaborn as sns\n",
    "from PIL import Image\n",
    "%matplotlib inline\n",
    "\n",
    "# pytorch\n",
    "import torch\n",
    "import torch.nn as nn\n",
    "import torch.optim as optim\n",
    "import torch.nn.functional as F\n",
    "from torch.utils.data import Dataset, DataLoader, random_split\n",
    "import torchvision\n",
    "from torchvision import datasets, transforms\n",
    "torch.manual_seed(0)\n",
    "print(f'PyTorch version: {torch.__version__}')\n",
    "\n",
    "# device setting\n",
    "device = torch.device('cuda:0' if torch.cuda.is_available() else 'cpu')\n",
    "print(f'This notebook use {device}')\n",
    "\n",
    "# ignore warnings\n",
    "import warnings\n",
    "warnings.filterwarnings('ignore')"
   ]
  },
  {
   "cell_type": "code",
   "execution_count": 2,
   "id": "be3c2049-dfe7-4cc3-aab9-e9b1e61309ec",
   "metadata": {},
   "outputs": [],
   "source": [
    "# 파일 경로 사용자 정의\n",
    "class path:\n",
    "    data = '/opt/ml/input/original_data'\n",
    "    train = f'{data}/train'\n",
    "    train_img = f'{train}/images'\n",
    "    train_df = f'{train}/train.csv'\n",
    "    test = f'{data}/eval'\n",
    "    test_img = f'{test}/images'\n",
    "    test_df = f'{test}/info.csv'"
   ]
  },
  {
   "cell_type": "code",
   "execution_count": 3,
   "id": "0fbed6c0-af24-4eef-9174-d6bbd94fd701",
   "metadata": {},
   "outputs": [],
   "source": [
    "BATCH_SIZE = 16\n",
    "NUM_WORKERS = 2\n",
    "LEARNING_RATE = 1e-4\n",
    "EPOCHS = 3"
   ]
  },
  {
   "cell_type": "markdown",
   "id": "05045135-fd65-48ab-9421-8f2d919b8730",
   "metadata": {},
   "source": [
    "## 1. Dataset"
   ]
  },
  {
   "cell_type": "code",
   "execution_count": 4,
   "id": "04e49a43-ef03-42ff-9e40-a160688e6edc",
   "metadata": {},
   "outputs": [],
   "source": [
    "class MaskDataset(Dataset):\n",
    "    def __init__(self, df, transform=None):\n",
    "        self.df = df\n",
    "        self.transform = transform\n",
    "        \n",
    "    def set_transform(self, transform):\n",
    "        self.transform = transform\n",
    "        \n",
    "    def __getitem__(self, idx):\n",
    "        data = self.df.iloc[idx]\n",
    "        target = data.target\n",
    "        image = Image.open(data.path)\n",
    "        \n",
    "        if self.transform:\n",
    "            image = self.transform(image)\n",
    "            \n",
    "        return image, target\n",
    "    \n",
    "    def __len__(self):\n",
    "        return len(self.df)"
   ]
  },
  {
   "cell_type": "code",
   "execution_count": 5,
   "id": "2b473283-c394-42f3-8526-565f83d8beeb",
   "metadata": {},
   "outputs": [],
   "source": [
    "class AddGaussianNoise(object):\n",
    "    def __init__(self, mean=0., std=1.):\n",
    "        self.std = std\n",
    "        self.mean = mean\n",
    "        \n",
    "    def __call__(self, tensor):\n",
    "        return tensor + torch.randn(tensor.size()) * self.std + self.mean\n",
    "    \n",
    "    def __repr__(self):\n",
    "        return self.__class__.__name__ + '(mean={0}, std={1})'.format(self.mean, self.std)"
   ]
  },
  {
   "cell_type": "code",
   "execution_count": 6,
   "id": "96e390be-2b75-49bd-b4ee-8256988c7f4d",
   "metadata": {},
   "outputs": [],
   "source": [
    "train_transforms = transforms.Compose([\n",
    "    transforms.CenterCrop(384),\n",
    "    transforms.Resize(224),\n",
    "    transforms.RandomHorizontalFlip(p=0.5),\n",
    "    transforms.ColorJitter(brightness=0.5, saturation=0.5, hue=0.5),\n",
    "    transforms.ToTensor(),\n",
    "    transforms.Normalize(mean=[0.548, 0.504, 0.479], std=[0.237, 0.247, 0.246]),\n",
    "    AddGaussianNoise(0., 1.),\n",
    "])"
   ]
  },
  {
   "cell_type": "code",
   "execution_count": 7,
   "id": "bc413d69-87c3-4ea2-a365-13efe2125af6",
   "metadata": {},
   "outputs": [],
   "source": [
    "valid_transforms = transforms.Compose([\n",
    "    transforms.CenterCrop(384),\n",
    "    transforms.Resize(224),\n",
    "    transforms.ToTensor(),\n",
    "    transforms.Normalize(mean=[0.548, 0.504, 0.479], std=[0.237, 0.247, 0.246]),\n",
    "])"
   ]
  },
  {
   "cell_type": "markdown",
   "id": "e74a1bac-459f-4606-b7f5-20da7ed701cc",
   "metadata": {},
   "source": [
    "## 2. Modeling"
   ]
  },
  {
   "cell_type": "code",
   "execution_count": 8,
   "id": "11c7bca5-a186-4f00-8562-12e4b9293b76",
   "metadata": {},
   "outputs": [],
   "source": [
    "import math\n",
    "from typing import TYPE_CHECKING, Any, Callable, Optional\n",
    "\n",
    "import torch\n",
    "import torch.optim\n",
    "\n",
    "if TYPE_CHECKING:\n",
    "    from torch.optim.optimizer import _params_t\n",
    "else:\n",
    "    _params_t = Any\n",
    "    \n",
    "class MADGRAD(torch.optim.Optimizer):\n",
    "    \"\"\"\n",
    "    MADGRAD_: A Momentumized, Adaptive, Dual Averaged Gradient Method for Stochastic \n",
    "    Optimization.\n",
    "    .. _MADGRAD: https://arxiv.org/abs/2101.11075\n",
    "    MADGRAD is a general purpose optimizer that can be used in place of SGD or\n",
    "    Adam may converge faster and generalize better. Currently GPU-only.\n",
    "    Typically, the same learning rate schedule that is used for SGD or Adam may\n",
    "    be used. The overall learning rate is not comparable to either method and\n",
    "    should be determined by a hyper-parameter sweep.\n",
    "    MADGRAD requires less weight decay than other methods, often as little as\n",
    "    zero. Momentum values used for SGD or Adam's beta1 should work here also.\n",
    "    On sparse problems both weight_decay and momentum should be set to 0.\n",
    "    Arguments:\n",
    "        params (iterable): \n",
    "            Iterable of parameters to optimize or dicts defining parameter groups.\n",
    "        lr (float): \n",
    "            Learning rate (default: 1e-2).\n",
    "        momentum (float): \n",
    "            Momentum value in  the range [0,1) (default: 0.9).\n",
    "        weight_decay (float): \n",
    "            Weight decay, i.e. a L2 penalty (default: 0).\n",
    "        eps (float): \n",
    "            Term added to the denominator outside of the root operation to improve numerical stability. (default: 1e-6).\n",
    "    \"\"\"\n",
    "\n",
    "    def __init__(\n",
    "        self, params: _params_t, lr: float = 1e-2, momentum: float = 0.9, weight_decay: float = 0, eps: float = 1e-6,\n",
    "    ):\n",
    "        if momentum < 0 or momentum >= 1:\n",
    "            raise ValueError(f\"Momentum {momentum} must be in the range [0,1]\")\n",
    "        if lr <= 0:\n",
    "            raise ValueError(f\"Learning rate {lr} must be positive\")\n",
    "        if weight_decay < 0:\n",
    "            raise ValueError(f\"Weight decay {weight_decay} must be non-negative\")\n",
    "        if eps < 0:\n",
    "            raise ValueError(f\"Eps must be non-negative\")\n",
    "\n",
    "        defaults = dict(lr=lr, eps=eps, momentum=momentum, weight_decay=weight_decay)\n",
    "        super().__init__(params, defaults)\n",
    "\n",
    "    @property\n",
    "    def supports_memory_efficient_fp16(self) -> bool:\n",
    "        return False\n",
    "\n",
    "    @property\n",
    "    def supports_flat_params(self) -> bool:\n",
    "        return True\n",
    "\n",
    "    def step(self, closure: Optional[Callable[[], float]] = None) -> Optional[float]:\n",
    "        \"\"\"Performs a single optimization step.\n",
    "        Arguments:\n",
    "            closure (callable, optional): A closure that reevaluates the model\n",
    "                and returns the loss.\n",
    "        \"\"\"\n",
    "        loss = None\n",
    "        if closure is not None:\n",
    "            loss = closure()\n",
    "\n",
    "        # step counter must be stored in state to ensure correct behavior under\n",
    "        # optimizer sharding\n",
    "        if 'k' not in self.state:\n",
    "            self.state['k'] = torch.tensor([0], dtype=torch.long)\n",
    "        k = self.state['k'].item()\n",
    "\n",
    "        for group in self.param_groups:\n",
    "            eps = group[\"eps\"]\n",
    "            lr = group[\"lr\"] + eps\n",
    "            decay = group[\"weight_decay\"]\n",
    "            momentum = group[\"momentum\"]\n",
    "\n",
    "            ck = 1 - momentum\n",
    "            lamb = lr * math.pow(k + 1, 0.5)\n",
    "\n",
    "            for p in group[\"params\"]:\n",
    "                if p.grad is None:\n",
    "                    continue\n",
    "                grad = p.grad.data\n",
    "                state = self.state[p]\n",
    "\n",
    "                if \"grad_sum_sq\" not in state:\n",
    "                    state[\"grad_sum_sq\"] = torch.zeros_like(p.data).detach()\n",
    "                    state[\"s\"] = torch.zeros_like(p.data).detach()\n",
    "                    if momentum != 0:\n",
    "                        state[\"x0\"] = torch.clone(p.data).detach()\n",
    "\n",
    "                if momentum != 0.0 and grad.is_sparse:\n",
    "                    raise RuntimeError(\"momentum != 0 is not compatible with sparse gradients\")\n",
    "\n",
    "                grad_sum_sq = state[\"grad_sum_sq\"]\n",
    "                s = state[\"s\"]\n",
    "\n",
    "                # Apply weight decay\n",
    "                if decay != 0:\n",
    "                    if grad.is_sparse:\n",
    "                        raise RuntimeError(\"weight_decay option is not compatible with sparse gradients\")\n",
    "\n",
    "                    grad.add_(p.data, alpha=decay)\n",
    "\n",
    "                if grad.is_sparse:\n",
    "                    grad = grad.coalesce()\n",
    "                    grad_val = grad._values()\n",
    "\n",
    "                    p_masked = p.sparse_mask(grad)\n",
    "                    grad_sum_sq_masked = grad_sum_sq.sparse_mask(grad)\n",
    "                    s_masked = s.sparse_mask(grad)\n",
    "\n",
    "                    # Compute x_0 from other known quantities\n",
    "                    rms_masked_vals = grad_sum_sq_masked._values().pow(1 / 3).add_(eps)\n",
    "                    x0_masked_vals = p_masked._values().addcdiv(s_masked._values(), rms_masked_vals, value=1)\n",
    "\n",
    "                    # Dense + sparse op\n",
    "                    grad_sq = grad * grad\n",
    "                    grad_sum_sq.add_(grad_sq, alpha=lamb)\n",
    "                    grad_sum_sq_masked.add_(grad_sq, alpha=lamb)\n",
    "\n",
    "                    rms_masked_vals = grad_sum_sq_masked._values().pow_(1 / 3).add_(eps)\n",
    "\n",
    "                    s.add_(grad, alpha=lamb)\n",
    "                    s_masked._values().add_(grad_val, alpha=lamb)\n",
    "\n",
    "                    # update masked copy of p\n",
    "                    p_kp1_masked_vals = x0_masked_vals.addcdiv(s_masked._values(), rms_masked_vals, value=-1)\n",
    "                    # Copy updated masked p to dense p using an add operation\n",
    "                    p_masked._values().add_(p_kp1_masked_vals, alpha=-1)\n",
    "                    p.data.add_(p_masked, alpha=-1)\n",
    "                else:\n",
    "                    if momentum == 0:\n",
    "                        # Compute x_0 from other known quantities\n",
    "                        rms = grad_sum_sq.pow(1 / 3).add_(eps)\n",
    "                        x0 = p.data.addcdiv(s, rms, value=1)\n",
    "                    else:\n",
    "                        x0 = state[\"x0\"]\n",
    "\n",
    "                    # Accumulate second moments\n",
    "                    grad_sum_sq.addcmul_(grad, grad, value=lamb)\n",
    "                    rms = grad_sum_sq.pow(1 / 3).add_(eps)\n",
    "\n",
    "                    # Update s\n",
    "                    s.data.add_(grad, alpha=lamb)\n",
    "\n",
    "                    # Step\n",
    "                    if momentum == 0:\n",
    "                        p.data.copy_(x0.addcdiv(s, rms, value=-1))\n",
    "                    else:\n",
    "                        z = x0.addcdiv(s, rms, value=-1)\n",
    "\n",
    "                        # p is a moving average of z\n",
    "                        p.data.mul_(1 - ck).add_(z, alpha=ck)\n",
    "\n",
    "\n",
    "        self.state['k'] += 1\n",
    "        return loss"
   ]
  },
  {
   "cell_type": "markdown",
   "id": "30ff3a2a-9bf9-46d3-8fa5-da50fff57e1e",
   "metadata": {},
   "source": [
    "### 2.1. Cross Entropy Loss"
   ]
  },
  {
   "cell_type": "code",
   "execution_count": 9,
   "id": "93885fab-7b66-4f8a-bfd7-0c75cb79de64",
   "metadata": {},
   "outputs": [],
   "source": [
    "model1 = torchvision.models.resnet18(pretrained=False)\n",
    "n_features = model1.fc.in_features\n",
    "model1.fc = nn.Linear(n_features, 18)\n",
    "model1 = model1.cuda()\n",
    "\n",
    "optimizer1 = MADGRAD(model1.parameters(), lr=LEARNING_RATE)\n",
    "criterion1 = nn.CrossEntropyLoss().to(device)"
   ]
  },
  {
   "cell_type": "markdown",
   "id": "3d1d2fc7-454b-4dfe-a1ee-8152cb956aa0",
   "metadata": {},
   "source": [
    "### 2.2.2 Label Smoothing Loss"
   ]
  },
  {
   "cell_type": "code",
   "execution_count": 10,
   "id": "b8454089-291f-4dd0-8023-d2357a275381",
   "metadata": {},
   "outputs": [],
   "source": [
    "# src: https://github.com/pytorch/pytorch/issues/7455\n",
    "class LabelSmoothingLoss(nn.Module):\n",
    "    def __init__(self, classes, smoothing=0.0, dim=-1):\n",
    "        super(LabelSmoothingLoss, self).__init__()\n",
    "        self.confidence = 1.0 - smoothing\n",
    "        self.smoothing = smoothing\n",
    "        self.cls = classes\n",
    "        self.dim = dim\n",
    "\n",
    "    def forward(self, pred, target):\n",
    "        pred = pred.log_softmax(dim=self.dim)\n",
    "        with torch.no_grad():\n",
    "            # true_dist = pred.data.clone()\n",
    "            true_dist = torch.zeros_like(pred)\n",
    "            true_dist.fill_(self.smoothing / (self.cls - 1))\n",
    "            true_dist.scatter_(1, target.data.unsqueeze(1), self.confidence)\n",
    "        return torch.mean(torch.sum(-true_dist * pred, dim=self.dim))\n"
   ]
  },
  {
   "cell_type": "code",
   "execution_count": 14,
   "id": "ddfd04f7-ca09-4994-a82f-c07e3d14cc7f",
   "metadata": {},
   "outputs": [],
   "source": [
    "model2 = torchvision.models.resnet18(pretrained=False)\n",
    "n_features = model2.fc.in_features\n",
    "model2.fc = nn.Linear(n_features, 18)\n",
    "model2 = model2.cuda()\n",
    "\n",
    "optimizer2 = MADGRAD(model2.parameters(), lr=LEARNING_RATE)\n",
    "criterion2 = LabelSmoothingLoss(classes=18, smoothing=0.1).to(device)"
   ]
  },
  {
   "cell_type": "markdown",
   "id": "92637c43-37e6-4156-a6ab-e3d50af0bc90",
   "metadata": {},
   "source": [
    "### 2.3 Focal Loss"
   ]
  },
  {
   "cell_type": "code",
   "execution_count": 12,
   "id": "1ff6b20a-9bdc-4267-8695-e8d77418b76a",
   "metadata": {},
   "outputs": [],
   "source": [
    "# src: https://discuss.pytorch.org/t/is-this-a-correct-implementation-for-focal-loss-in-pytorch/43327/8\n",
    "class FocalLoss(nn.Module):\n",
    "    def __init__(self, weight=None,\n",
    "                 gamma=2., reduction='mean'):\n",
    "        nn.Module.__init__(self)\n",
    "        self.weight = weight\n",
    "        self.gamma = gamma\n",
    "        self.reduction = reduction\n",
    "\n",
    "    def forward(self, input_tensor, target_tensor):\n",
    "        log_prob = F.log_softmax(input_tensor, dim=-1)\n",
    "        prob = torch.exp(log_prob)\n",
    "        return F.nll_loss(\n",
    "            ((1 - prob) ** self.gamma) * log_prob,\n",
    "            target_tensor,\n",
    "            weight=self.weight,\n",
    "            reduction=self.reduction\n",
    "        )"
   ]
  },
  {
   "cell_type": "code",
   "execution_count": 13,
   "id": "0e94a3d1-40e5-4d30-815b-62b4957fcbe6",
   "metadata": {},
   "outputs": [],
   "source": [
    "model3 = torchvision.models.resnet18(pretrained=False)\n",
    "n_features = model3.fc.in_features\n",
    "model3.fc = nn.Linear(n_features, 18)\n",
    "model3 = model3.cuda()\n",
    "\n",
    "optimizer3 = MADGRAD(model3.parameters(), lr=LEARNING_RATE)\n",
    "criterion3 = FocalLoss().to(device)"
   ]
  },
  {
   "cell_type": "markdown",
   "id": "b6c06788-3e2f-430a-9ebb-f1abd97732f5",
   "metadata": {},
   "source": [
    "### 2.4. F1 Loss"
   ]
  },
  {
   "cell_type": "code",
   "execution_count": 15,
   "id": "12d9abba-7d2e-42ce-ad81-2dad12d3efeb",
   "metadata": {},
   "outputs": [],
   "source": [
    "# src: https://gist.github.com/SuperShinyEyes/dcc68a08ff8b615442e3bc6a9b55a354\n",
    "class F1_Loss(nn.Module):\n",
    "    def __init__(self, classes=3, epsilon=1e-7):\n",
    "        super().__init__()\n",
    "        self.classes = classes\n",
    "        self.epsilon = epsilon\n",
    "    def forward(self, y_pred, y_true):\n",
    "        assert y_pred.ndim == 2\n",
    "        assert y_true.ndim == 1\n",
    "        y_true = F.one_hot(y_true, self.classes).to(torch.float32)\n",
    "        y_pred = F.softmax(y_pred, dim=1)\n",
    "\n",
    "        tp = (y_true * y_pred).sum(dim=0).to(torch.float32)\n",
    "        tn = ((1 - y_true) * (1 - y_pred)).sum(dim=0).to(torch.float32)\n",
    "        fp = ((1 - y_true) * y_pred).sum(dim=0).to(torch.float32)\n",
    "        fn = (y_true * (1 - y_pred)).sum(dim=0).to(torch.float32)\n",
    "\n",
    "        precision = tp / (tp + fp + self.epsilon)\n",
    "        recall = tp / (tp + fn + self.epsilon)\n",
    "\n",
    "        f1 = 2 * (precision * recall) / (precision + recall + self.epsilon)\n",
    "        f1 = f1.clamp(min=self.epsilon, max=1 - self.epsilon)\n",
    "        return 1 - f1.mean()"
   ]
  },
  {
   "cell_type": "code",
   "execution_count": 16,
   "id": "0540c55f-6ef2-4b5f-b4f0-07f54cba470f",
   "metadata": {},
   "outputs": [],
   "source": [
    "model4 = torchvision.models.resnet18(pretrained=False)\n",
    "n_features = model4.fc.in_features\n",
    "model4.fc = nn.Linear(n_features, 18)\n",
    "model4 = model4.cuda()\n",
    "\n",
    "optimizer4 = MADGRAD(model4.parameters(), lr=LEARNING_RATE)\n",
    "criterion4 = F1_Loss(classes=18).to(device)"
   ]
  },
  {
   "cell_type": "markdown",
   "id": "670a2d69-8bf7-449f-8f6a-9ea8671570f9",
   "metadata": {},
   "source": [
    "## 3. Training"
   ]
  },
  {
   "cell_type": "code",
   "execution_count": 17,
   "id": "c5530add-1c44-4727-a4b6-57d3bdf927f4",
   "metadata": {},
   "outputs": [],
   "source": [
    "def test_eval(model, valid_dataset):\n",
    "    model.eval()\n",
    "    with torch.no_grad():\n",
    "        y_true, y_pred = [], []\n",
    "        for image, label in tqdm(valid_dataset):\n",
    "            X = image.float().to(device)\n",
    "            y = label.item()\n",
    "            _, pred = torch.max(model(X), 1)\n",
    "            pred = pred.item()\n",
    "            y_true.append(y)\n",
    "            y_pred.append(pred)\n",
    "        y_true, y_pred = np.array(y_true), np.array(y_pred)\n",
    "        f1 = f1_score(y_true, y_pred, average='macro')\n",
    "        accuracy = accuracy_score(y_true, y_pred)\n",
    "    model.train()\n",
    "    return f1, accuracy"
   ]
  },
  {
   "cell_type": "code",
   "execution_count": 18,
   "id": "b2abc55f-7f02-43d4-a923-e77ae56d7bcc",
   "metadata": {},
   "outputs": [],
   "source": [
    "def train_model(train, test, model, criterion, optimizer, print_every=1):\n",
    "    print(f\"============ Training Starts! ============\")\n",
    "    best_accuracy = 0\n",
    "    for epoch in range(EPOCHS):\n",
    "        loss_sum = 0\n",
    "        for images, label in tqdm(train):\n",
    "            X = images.float().to(device)\n",
    "            y = label.to(device)\n",
    "            \n",
    "            y_pred = model(X)\n",
    "            loss = criterion(y_pred, y)\n",
    "            \n",
    "            optimizer.zero_grad()\n",
    "            loss.backward()\n",
    "            optimizer.step()\n",
    "            \n",
    "            loss_sum += loss\n",
    "            \n",
    "        if ((epoch % print_every) == 0) or (epoch == (EPOCHS - 1)):\n",
    "            loss_avg = loss_sum / len(train)\n",
    "            f1, accuracy = test_eval(model, test)\n",
    "            print(f\">> epoch:[{epoch + 1}/{EPOCHS}] cost: {loss_avg:5.3f} test_accuracy: {accuracy:5.3f} test_f1_score: {f1:5.3f}\")\n",
    "            \n",
    "    print(f\"============ Training Done! ============\")"
   ]
  },
  {
   "cell_type": "code",
   "execution_count": 19,
   "id": "d88c23b9-e1e1-4958-8420-061cfb91f06f",
   "metadata": {},
   "outputs": [],
   "source": [
    "def cross_validation(df, model, criterion, optimizer, k_folds=5):\n",
    "    skf = StratifiedKFold(n_splits=5)\n",
    "    for n_iter, (train_idx, valid_idx) in enumerate(skf.split(df, df.target), start=1):\n",
    "        print(f'>> Cross Validation {n_iter} Starts!')\n",
    "        train, valid = df.loc[train_idx], df.loc[valid_idx]\n",
    "        train_dataset, valid_dataset = MaskDataset(train), MaskDataset(valid)\n",
    "        \n",
    "        # augmentation 설정\n",
    "        train_dataset.set_transform(train_transforms)\n",
    "        valid_dataset.set_transform(valid_transforms)\n",
    "        \n",
    "        # DataLoader 생성\n",
    "        train_loader = DataLoader(train_dataset, batch_size=BATCH_SIZE, num_workers=NUM_WORKERS, shuffle=True)\n",
    "        valid_loader = DataLoader(valid_dataset, shuffle=False)\n",
    "        \n",
    "        train_model(train_loader, valid_loader, model, criterion, optimizer)\n",
    "        print()"
   ]
  },
  {
   "cell_type": "code",
   "execution_count": 20,
   "id": "b80c79c3-76af-4882-b83a-a6d0f61bc6fb",
   "metadata": {},
   "outputs": [],
   "source": [
    "df = pd.read_csv(f'{path.train}/train_modified.csv')[['path', 'target']]"
   ]
  },
  {
   "cell_type": "markdown",
   "id": "76b63c14-4f64-4ade-a0ea-fbc4833c8477",
   "metadata": {},
   "source": [
    "### 3.1. Cross Entropy Loss"
   ]
  },
  {
   "cell_type": "code",
   "execution_count": 21,
   "id": "b17d5334-bd8c-4685-a1b7-a210d5ed79ee",
   "metadata": {},
   "outputs": [
    {
     "name": "stderr",
     "output_type": "stream",
     "text": [
      "  0%|          | 0/945 [00:00<?, ?it/s]"
     ]
    },
    {
     "name": "stdout",
     "output_type": "stream",
     "text": [
      ">> Cross Validation 1 Starts!\n",
      "============ Training Starts! ============\n"
     ]
    },
    {
     "name": "stderr",
     "output_type": "stream",
     "text": [
      "100%|██████████| 945/945 [01:48<00:00,  8.70it/s]\n",
      "100%|██████████| 3780/3780 [00:45<00:00, 83.72it/s]\n",
      "  0%|          | 0/945 [00:00<?, ?it/s]"
     ]
    },
    {
     "name": "stdout",
     "output_type": "stream",
     "text": [
      ">> epoch:[1/3] cost: 1.535 test_accuracy: 0.648 test_f1_score: 0.429\n"
     ]
    },
    {
     "name": "stderr",
     "output_type": "stream",
     "text": [
      "100%|██████████| 945/945 [01:46<00:00,  8.86it/s]\n",
      "100%|██████████| 3780/3780 [00:45<00:00, 82.29it/s]\n",
      "  0%|          | 0/945 [00:00<?, ?it/s]"
     ]
    },
    {
     "name": "stdout",
     "output_type": "stream",
     "text": [
      ">> epoch:[2/3] cost: 0.892 test_accuracy: 0.716 test_f1_score: 0.575\n"
     ]
    },
    {
     "name": "stderr",
     "output_type": "stream",
     "text": [
      "100%|██████████| 945/945 [01:45<00:00,  8.92it/s]\n",
      "100%|██████████| 3780/3780 [00:45<00:00, 83.79it/s]\n",
      "  0%|          | 0/945 [00:00<?, ?it/s]"
     ]
    },
    {
     "name": "stdout",
     "output_type": "stream",
     "text": [
      ">> epoch:[3/3] cost: 0.688 test_accuracy: 0.757 test_f1_score: 0.597\n",
      "============ Training Done! ============\n",
      "\n",
      ">> Cross Validation 2 Starts!\n",
      "============ Training Starts! ============\n"
     ]
    },
    {
     "name": "stderr",
     "output_type": "stream",
     "text": [
      "100%|██████████| 945/945 [01:47<00:00,  8.76it/s]\n",
      "100%|██████████| 3780/3780 [00:45<00:00, 82.36it/s]\n",
      "  0%|          | 0/945 [00:00<?, ?it/s]"
     ]
    },
    {
     "name": "stdout",
     "output_type": "stream",
     "text": [
      ">> epoch:[1/3] cost: 0.610 test_accuracy: 0.830 test_f1_score: 0.700\n"
     ]
    },
    {
     "name": "stderr",
     "output_type": "stream",
     "text": [
      "100%|██████████| 945/945 [01:46<00:00,  8.88it/s]\n",
      "100%|██████████| 3780/3780 [00:45<00:00, 83.13it/s]\n",
      "  0%|          | 0/945 [00:00<?, ?it/s]"
     ]
    },
    {
     "name": "stdout",
     "output_type": "stream",
     "text": [
      ">> epoch:[2/3] cost: 0.505 test_accuracy: 0.809 test_f1_score: 0.616\n"
     ]
    },
    {
     "name": "stderr",
     "output_type": "stream",
     "text": [
      "100%|██████████| 945/945 [01:47<00:00,  8.81it/s]\n",
      "100%|██████████| 3780/3780 [00:46<00:00, 81.69it/s]\n",
      "  0%|          | 0/945 [00:00<?, ?it/s]"
     ]
    },
    {
     "name": "stdout",
     "output_type": "stream",
     "text": [
      ">> epoch:[3/3] cost: 0.439 test_accuracy: 0.770 test_f1_score: 0.657\n",
      "============ Training Done! ============\n",
      "\n",
      ">> Cross Validation 3 Starts!\n",
      "============ Training Starts! ============\n"
     ]
    },
    {
     "name": "stderr",
     "output_type": "stream",
     "text": [
      "100%|██████████| 945/945 [01:47<00:00,  8.79it/s]\n",
      "100%|██████████| 3780/3780 [00:45<00:00, 83.74it/s]\n",
      "  0%|          | 0/945 [00:00<?, ?it/s]"
     ]
    },
    {
     "name": "stdout",
     "output_type": "stream",
     "text": [
      ">> epoch:[1/3] cost: 0.405 test_accuracy: 0.816 test_f1_score: 0.663\n"
     ]
    },
    {
     "name": "stderr",
     "output_type": "stream",
     "text": [
      "100%|██████████| 945/945 [01:47<00:00,  8.78it/s]\n",
      "100%|██████████| 3780/3780 [00:45<00:00, 82.49it/s]\n",
      "  0%|          | 0/945 [00:00<?, ?it/s]"
     ]
    },
    {
     "name": "stdout",
     "output_type": "stream",
     "text": [
      ">> epoch:[2/3] cost: 0.346 test_accuracy: 0.829 test_f1_score: 0.720\n"
     ]
    },
    {
     "name": "stderr",
     "output_type": "stream",
     "text": [
      "100%|██████████| 945/945 [01:46<00:00,  8.84it/s]\n",
      "100%|██████████| 3780/3780 [00:46<00:00, 81.76it/s]\n",
      "  0%|          | 0/945 [00:00<?, ?it/s]"
     ]
    },
    {
     "name": "stdout",
     "output_type": "stream",
     "text": [
      ">> epoch:[3/3] cost: 0.287 test_accuracy: 0.838 test_f1_score: 0.705\n",
      "============ Training Done! ============\n",
      "\n",
      ">> Cross Validation 4 Starts!\n",
      "============ Training Starts! ============\n"
     ]
    },
    {
     "name": "stderr",
     "output_type": "stream",
     "text": [
      "100%|██████████| 945/945 [01:46<00:00,  8.84it/s]\n",
      "100%|██████████| 3780/3780 [00:46<00:00, 82.13it/s]\n",
      "  0%|          | 0/945 [00:00<?, ?it/s]"
     ]
    },
    {
     "name": "stdout",
     "output_type": "stream",
     "text": [
      ">> epoch:[1/3] cost: 0.311 test_accuracy: 0.907 test_f1_score: 0.828\n"
     ]
    },
    {
     "name": "stderr",
     "output_type": "stream",
     "text": [
      "100%|██████████| 945/945 [01:47<00:00,  8.80it/s]\n",
      "100%|██████████| 3780/3780 [00:45<00:00, 83.52it/s]\n",
      "  0%|          | 0/945 [00:00<?, ?it/s]"
     ]
    },
    {
     "name": "stdout",
     "output_type": "stream",
     "text": [
      ">> epoch:[2/3] cost: 0.251 test_accuracy: 0.892 test_f1_score: 0.808\n"
     ]
    },
    {
     "name": "stderr",
     "output_type": "stream",
     "text": [
      "100%|██████████| 945/945 [01:49<00:00,  8.65it/s]\n",
      "100%|██████████| 3780/3780 [00:47<00:00, 79.86it/s]\n",
      "  0%|          | 0/945 [00:00<?, ?it/s]"
     ]
    },
    {
     "name": "stdout",
     "output_type": "stream",
     "text": [
      ">> epoch:[3/3] cost: 0.213 test_accuracy: 0.859 test_f1_score: 0.751\n",
      "============ Training Done! ============\n",
      "\n",
      ">> Cross Validation 5 Starts!\n",
      "============ Training Starts! ============\n"
     ]
    },
    {
     "name": "stderr",
     "output_type": "stream",
     "text": [
      "100%|██████████| 945/945 [01:47<00:00,  8.79it/s]\n",
      "100%|██████████| 3780/3780 [00:45<00:00, 83.58it/s]\n",
      "  0%|          | 0/945 [00:00<?, ?it/s]"
     ]
    },
    {
     "name": "stdout",
     "output_type": "stream",
     "text": [
      ">> epoch:[1/3] cost: 0.236 test_accuracy: 0.923 test_f1_score: 0.885\n"
     ]
    },
    {
     "name": "stderr",
     "output_type": "stream",
     "text": [
      "100%|██████████| 945/945 [01:48<00:00,  8.74it/s]\n",
      "100%|██████████| 3780/3780 [00:47<00:00, 80.13it/s]\n",
      "  0%|          | 0/945 [00:00<?, ?it/s]"
     ]
    },
    {
     "name": "stdout",
     "output_type": "stream",
     "text": [
      ">> epoch:[2/3] cost: 0.198 test_accuracy: 0.884 test_f1_score: 0.839\n"
     ]
    },
    {
     "name": "stderr",
     "output_type": "stream",
     "text": [
      "100%|██████████| 945/945 [01:48<00:00,  8.69it/s]\n",
      "100%|██████████| 3780/3780 [00:45<00:00, 83.84it/s]"
     ]
    },
    {
     "name": "stdout",
     "output_type": "stream",
     "text": [
      ">> epoch:[3/3] cost: 0.163 test_accuracy: 0.916 test_f1_score: 0.838\n",
      "============ Training Done! ============\n",
      "\n"
     ]
    },
    {
     "name": "stderr",
     "output_type": "stream",
     "text": [
      "\n"
     ]
    }
   ],
   "source": [
    "cross_validation(df, model1, criterion1, optimizer1)"
   ]
  },
  {
   "cell_type": "markdown",
   "id": "c16ea311-0f64-4802-a97d-b08a2e76f6d0",
   "metadata": {},
   "source": [
    "### 3.2. Label Smoothing Loss"
   ]
  },
  {
   "cell_type": "code",
   "execution_count": 22,
   "id": "b6bcc611-6098-4922-9b95-87fb1eee9cf9",
   "metadata": {},
   "outputs": [
    {
     "name": "stderr",
     "output_type": "stream",
     "text": [
      "  0%|          | 0/945 [00:00<?, ?it/s]"
     ]
    },
    {
     "name": "stdout",
     "output_type": "stream",
     "text": [
      ">> Cross Validation 1 Starts!\n",
      "============ Training Starts! ============\n"
     ]
    },
    {
     "name": "stderr",
     "output_type": "stream",
     "text": [
      "100%|██████████| 945/945 [01:46<00:00,  8.85it/s]\n",
      "100%|██████████| 3780/3780 [00:44<00:00, 84.29it/s]\n",
      "  0%|          | 0/945 [00:00<?, ?it/s]"
     ]
    },
    {
     "name": "stdout",
     "output_type": "stream",
     "text": [
      ">> epoch:[1/3] cost: 1.825 test_accuracy: 0.552 test_f1_score: 0.368\n"
     ]
    },
    {
     "name": "stderr",
     "output_type": "stream",
     "text": [
      "100%|██████████| 945/945 [01:47<00:00,  8.81it/s]\n",
      "100%|██████████| 3780/3780 [00:47<00:00, 80.38it/s]\n",
      "  0%|          | 0/945 [00:00<?, ?it/s]"
     ]
    },
    {
     "name": "stdout",
     "output_type": "stream",
     "text": [
      ">> epoch:[2/3] cost: 1.332 test_accuracy: 0.736 test_f1_score: 0.537\n"
     ]
    },
    {
     "name": "stderr",
     "output_type": "stream",
     "text": [
      "100%|██████████| 945/945 [01:49<00:00,  8.64it/s]\n",
      "100%|██████████| 3780/3780 [00:48<00:00, 78.06it/s]\n",
      "  0%|          | 0/945 [00:00<?, ?it/s]"
     ]
    },
    {
     "name": "stdout",
     "output_type": "stream",
     "text": [
      ">> epoch:[3/3] cost: 1.176 test_accuracy: 0.702 test_f1_score: 0.522\n",
      "============ Training Done! ============\n",
      "\n",
      ">> Cross Validation 2 Starts!\n",
      "============ Training Starts! ============\n"
     ]
    },
    {
     "name": "stderr",
     "output_type": "stream",
     "text": [
      "100%|██████████| 945/945 [01:48<00:00,  8.69it/s]\n",
      "100%|██████████| 3780/3780 [00:47<00:00, 79.03it/s]\n",
      "  0%|          | 0/945 [00:00<?, ?it/s]"
     ]
    },
    {
     "name": "stdout",
     "output_type": "stream",
     "text": [
      ">> epoch:[1/3] cost: 1.110 test_accuracy: 0.788 test_f1_score: 0.659\n"
     ]
    },
    {
     "name": "stderr",
     "output_type": "stream",
     "text": [
      "100%|██████████| 945/945 [01:47<00:00,  8.77it/s]\n",
      "100%|██████████| 3780/3780 [00:46<00:00, 82.01it/s]\n",
      "  0%|          | 0/945 [00:00<?, ?it/s]"
     ]
    },
    {
     "name": "stdout",
     "output_type": "stream",
     "text": [
      ">> epoch:[2/3] cost: 1.037 test_accuracy: 0.660 test_f1_score: 0.520\n"
     ]
    },
    {
     "name": "stderr",
     "output_type": "stream",
     "text": [
      "100%|██████████| 945/945 [01:47<00:00,  8.78it/s]\n",
      "100%|██████████| 3780/3780 [00:47<00:00, 80.11it/s]\n",
      "  0%|          | 0/945 [00:00<?, ?it/s]"
     ]
    },
    {
     "name": "stdout",
     "output_type": "stream",
     "text": [
      ">> epoch:[3/3] cost: 0.969 test_accuracy: 0.784 test_f1_score: 0.636\n",
      "============ Training Done! ============\n",
      "\n",
      ">> Cross Validation 3 Starts!\n",
      "============ Training Starts! ============\n"
     ]
    },
    {
     "name": "stderr",
     "output_type": "stream",
     "text": [
      "100%|██████████| 945/945 [01:48<00:00,  8.74it/s]\n",
      "100%|██████████| 3780/3780 [00:47<00:00, 79.61it/s]\n",
      "  0%|          | 0/945 [00:00<?, ?it/s]"
     ]
    },
    {
     "name": "stdout",
     "output_type": "stream",
     "text": [
      ">> epoch:[1/3] cost: 0.933 test_accuracy: 0.869 test_f1_score: 0.745\n"
     ]
    },
    {
     "name": "stderr",
     "output_type": "stream",
     "text": [
      "100%|██████████| 945/945 [01:47<00:00,  8.76it/s]\n",
      "100%|██████████| 3780/3780 [00:48<00:00, 77.35it/s]\n",
      "  0%|          | 0/945 [00:00<?, ?it/s]"
     ]
    },
    {
     "name": "stdout",
     "output_type": "stream",
     "text": [
      ">> epoch:[2/3] cost: 0.881 test_accuracy: 0.839 test_f1_score: 0.694\n"
     ]
    },
    {
     "name": "stderr",
     "output_type": "stream",
     "text": [
      "100%|██████████| 945/945 [01:50<00:00,  8.54it/s]\n",
      "100%|██████████| 3780/3780 [01:21<00:00, 46.25it/s]\n",
      "  0%|          | 0/945 [00:00<?, ?it/s]"
     ]
    },
    {
     "name": "stdout",
     "output_type": "stream",
     "text": [
      ">> epoch:[3/3] cost: 0.837 test_accuracy: 0.839 test_f1_score: 0.677\n",
      "============ Training Done! ============\n",
      "\n",
      ">> Cross Validation 4 Starts!\n",
      "============ Training Starts! ============\n"
     ]
    },
    {
     "name": "stderr",
     "output_type": "stream",
     "text": [
      "100%|██████████| 945/945 [02:15<00:00,  6.99it/s]\n",
      "100%|██████████| 3780/3780 [01:20<00:00, 46.80it/s]\n",
      "  0%|          | 0/945 [00:00<?, ?it/s]"
     ]
    },
    {
     "name": "stdout",
     "output_type": "stream",
     "text": [
      ">> epoch:[1/3] cost: 0.855 test_accuracy: 0.923 test_f1_score: 0.848\n"
     ]
    },
    {
     "name": "stderr",
     "output_type": "stream",
     "text": [
      "100%|██████████| 945/945 [02:11<00:00,  7.17it/s]\n",
      "100%|██████████| 3780/3780 [01:22<00:00, 45.91it/s]\n",
      "  0%|          | 0/945 [00:00<?, ?it/s]"
     ]
    },
    {
     "name": "stdout",
     "output_type": "stream",
     "text": [
      ">> epoch:[2/3] cost: 0.809 test_accuracy: 0.885 test_f1_score: 0.796\n"
     ]
    },
    {
     "name": "stderr",
     "output_type": "stream",
     "text": [
      "100%|██████████| 945/945 [02:14<00:00,  7.05it/s]\n",
      "100%|██████████| 3780/3780 [01:21<00:00, 46.47it/s]\n",
      "  0%|          | 0/945 [00:00<?, ?it/s]"
     ]
    },
    {
     "name": "stdout",
     "output_type": "stream",
     "text": [
      ">> epoch:[3/3] cost: 0.772 test_accuracy: 0.901 test_f1_score: 0.836\n",
      "============ Training Done! ============\n",
      "\n",
      ">> Cross Validation 5 Starts!\n",
      "============ Training Starts! ============\n"
     ]
    },
    {
     "name": "stderr",
     "output_type": "stream",
     "text": [
      "100%|██████████| 945/945 [02:14<00:00,  7.04it/s]\n",
      "100%|██████████| 3780/3780 [01:18<00:00, 47.86it/s]\n",
      "  0%|          | 0/945 [00:00<?, ?it/s]"
     ]
    },
    {
     "name": "stdout",
     "output_type": "stream",
     "text": [
      ">> epoch:[1/3] cost: 0.789 test_accuracy: 0.915 test_f1_score: 0.869\n"
     ]
    },
    {
     "name": "stderr",
     "output_type": "stream",
     "text": [
      "100%|██████████| 945/945 [02:16<00:00,  6.93it/s]\n",
      "100%|██████████| 3780/3780 [01:17<00:00, 48.95it/s]\n",
      "  0%|          | 0/945 [00:00<?, ?it/s]"
     ]
    },
    {
     "name": "stdout",
     "output_type": "stream",
     "text": [
      ">> epoch:[2/3] cost: 0.754 test_accuracy: 0.928 test_f1_score: 0.880\n"
     ]
    },
    {
     "name": "stderr",
     "output_type": "stream",
     "text": [
      "100%|██████████| 945/945 [02:18<00:00,  6.83it/s]\n",
      "100%|██████████| 3780/3780 [01:24<00:00, 44.80it/s]\n"
     ]
    },
    {
     "name": "stdout",
     "output_type": "stream",
     "text": [
      ">> epoch:[3/3] cost: 0.720 test_accuracy: 0.934 test_f1_score: 0.884\n",
      "============ Training Done! ============\n",
      "\n"
     ]
    }
   ],
   "source": [
    "cross_validation(df, model2, criterion2, optimizer2)"
   ]
  },
  {
   "cell_type": "markdown",
   "id": "d0242fe1-9ad2-4db3-a329-c006e9a689fb",
   "metadata": {},
   "source": [
    "### 3.3. Focal Loss"
   ]
  },
  {
   "cell_type": "code",
   "execution_count": 25,
   "id": "15d78df3-0af2-438b-92ab-ee77c5a2a9f3",
   "metadata": {},
   "outputs": [
    {
     "name": "stderr",
     "output_type": "stream",
     "text": [
      "  0%|          | 0/945 [00:00<?, ?it/s]"
     ]
    },
    {
     "name": "stdout",
     "output_type": "stream",
     "text": [
      ">> Cross Validation 1 Starts!\n",
      "============ Training Starts! ============\n"
     ]
    },
    {
     "name": "stderr",
     "output_type": "stream",
     "text": [
      "100%|██████████| 945/945 [01:49<00:00,  8.66it/s]\n",
      "100%|██████████| 3780/3780 [01:28<00:00, 42.53it/s]\n",
      "  0%|          | 0/945 [00:00<?, ?it/s]"
     ]
    },
    {
     "name": "stdout",
     "output_type": "stream",
     "text": [
      ">> epoch:[1/3] cost: 1.119 test_accuracy: 0.453 test_f1_score: 0.279\n"
     ]
    },
    {
     "name": "stderr",
     "output_type": "stream",
     "text": [
      "100%|██████████| 945/945 [02:05<00:00,  7.51it/s]\n",
      "100%|██████████| 3780/3780 [01:23<00:00, 45.38it/s]\n",
      "  0%|          | 0/945 [00:00<?, ?it/s]"
     ]
    },
    {
     "name": "stdout",
     "output_type": "stream",
     "text": [
      ">> epoch:[2/3] cost: 0.533 test_accuracy: 0.659 test_f1_score: 0.468\n"
     ]
    },
    {
     "name": "stderr",
     "output_type": "stream",
     "text": [
      "100%|██████████| 945/945 [02:08<00:00,  7.37it/s]\n",
      "100%|██████████| 3780/3780 [01:19<00:00, 47.50it/s]\n",
      "  0%|          | 0/945 [00:00<?, ?it/s]"
     ]
    },
    {
     "name": "stdout",
     "output_type": "stream",
     "text": [
      ">> epoch:[3/3] cost: 0.374 test_accuracy: 0.730 test_f1_score: 0.577\n",
      "============ Training Done! ============\n",
      "\n",
      ">> Cross Validation 2 Starts!\n",
      "============ Training Starts! ============\n"
     ]
    },
    {
     "name": "stderr",
     "output_type": "stream",
     "text": [
      "100%|██████████| 945/945 [02:11<00:00,  7.19it/s]\n",
      "100%|██████████| 3780/3780 [01:22<00:00, 45.92it/s]\n",
      "  0%|          | 0/945 [00:00<?, ?it/s]"
     ]
    },
    {
     "name": "stdout",
     "output_type": "stream",
     "text": [
      ">> epoch:[1/3] cost: 0.324 test_accuracy: 0.800 test_f1_score: 0.614\n"
     ]
    },
    {
     "name": "stderr",
     "output_type": "stream",
     "text": [
      "100%|██████████| 945/945 [02:10<00:00,  7.21it/s]\n",
      "100%|██████████| 3780/3780 [01:20<00:00, 46.86it/s]\n",
      "  0%|          | 0/945 [00:00<?, ?it/s]"
     ]
    },
    {
     "name": "stdout",
     "output_type": "stream",
     "text": [
      ">> epoch:[2/3] cost: 0.257 test_accuracy: 0.728 test_f1_score: 0.651\n"
     ]
    },
    {
     "name": "stderr",
     "output_type": "stream",
     "text": [
      "100%|██████████| 945/945 [02:14<00:00,  7.03it/s]\n",
      "100%|██████████| 3780/3780 [01:18<00:00, 48.17it/s]\n",
      "  0%|          | 0/945 [00:00<?, ?it/s]"
     ]
    },
    {
     "name": "stdout",
     "output_type": "stream",
     "text": [
      ">> epoch:[3/3] cost: 0.206 test_accuracy: 0.776 test_f1_score: 0.693\n",
      "============ Training Done! ============\n",
      "\n",
      ">> Cross Validation 3 Starts!\n",
      "============ Training Starts! ============\n"
     ]
    },
    {
     "name": "stderr",
     "output_type": "stream",
     "text": [
      "100%|██████████| 945/945 [02:15<00:00,  6.96it/s]\n",
      "100%|██████████| 3780/3780 [01:20<00:00, 46.83it/s]\n",
      "  0%|          | 0/945 [00:00<?, ?it/s]"
     ]
    },
    {
     "name": "stdout",
     "output_type": "stream",
     "text": [
      ">> epoch:[1/3] cost: 0.193 test_accuracy: 0.816 test_f1_score: 0.720\n"
     ]
    },
    {
     "name": "stderr",
     "output_type": "stream",
     "text": [
      "100%|██████████| 945/945 [02:12<00:00,  7.11it/s]\n",
      "100%|██████████| 3780/3780 [01:23<00:00, 45.48it/s]\n",
      "  0%|          | 0/945 [00:00<?, ?it/s]"
     ]
    },
    {
     "name": "stdout",
     "output_type": "stream",
     "text": [
      ">> epoch:[2/3] cost: 0.155 test_accuracy: 0.831 test_f1_score: 0.715\n"
     ]
    },
    {
     "name": "stderr",
     "output_type": "stream",
     "text": [
      "100%|██████████| 945/945 [02:14<00:00,  7.01it/s]\n",
      "100%|██████████| 3780/3780 [01:25<00:00, 44.30it/s]\n",
      "  0%|          | 0/945 [00:00<?, ?it/s]"
     ]
    },
    {
     "name": "stdout",
     "output_type": "stream",
     "text": [
      ">> epoch:[3/3] cost: 0.140 test_accuracy: 0.771 test_f1_score: 0.682\n",
      "============ Training Done! ============\n",
      "\n",
      ">> Cross Validation 4 Starts!\n",
      "============ Training Starts! ============\n"
     ]
    },
    {
     "name": "stderr",
     "output_type": "stream",
     "text": [
      "100%|██████████| 945/945 [02:14<00:00,  7.01it/s]\n",
      "100%|██████████| 3780/3780 [01:23<00:00, 45.06it/s]\n",
      "  0%|          | 0/945 [00:00<?, ?it/s]"
     ]
    },
    {
     "name": "stdout",
     "output_type": "stream",
     "text": [
      ">> epoch:[1/3] cost: 0.144 test_accuracy: 0.875 test_f1_score: 0.786\n"
     ]
    },
    {
     "name": "stderr",
     "output_type": "stream",
     "text": [
      "100%|██████████| 945/945 [02:10<00:00,  7.25it/s]\n",
      "100%|██████████| 3780/3780 [01:25<00:00, 44.01it/s]\n",
      "  0%|          | 0/945 [00:00<?, ?it/s]"
     ]
    },
    {
     "name": "stdout",
     "output_type": "stream",
     "text": [
      ">> epoch:[2/3] cost: 0.111 test_accuracy: 0.874 test_f1_score: 0.782\n"
     ]
    },
    {
     "name": "stderr",
     "output_type": "stream",
     "text": [
      "100%|██████████| 945/945 [02:13<00:00,  7.06it/s]\n",
      "100%|██████████| 3780/3780 [01:20<00:00, 46.75it/s]\n",
      "  0%|          | 0/945 [00:00<?, ?it/s]"
     ]
    },
    {
     "name": "stdout",
     "output_type": "stream",
     "text": [
      ">> epoch:[3/3] cost: 0.091 test_accuracy: 0.883 test_f1_score: 0.822\n",
      "============ Training Done! ============\n",
      "\n",
      ">> Cross Validation 5 Starts!\n",
      "============ Training Starts! ============\n"
     ]
    },
    {
     "name": "stderr",
     "output_type": "stream",
     "text": [
      "100%|██████████| 945/945 [02:14<00:00,  7.02it/s]\n",
      "100%|██████████| 3780/3780 [01:20<00:00, 47.07it/s]\n",
      "  0%|          | 0/945 [00:00<?, ?it/s]"
     ]
    },
    {
     "name": "stdout",
     "output_type": "stream",
     "text": [
      ">> epoch:[1/3] cost: 0.109 test_accuracy: 0.884 test_f1_score: 0.857\n"
     ]
    },
    {
     "name": "stderr",
     "output_type": "stream",
     "text": [
      "100%|██████████| 945/945 [02:12<00:00,  7.12it/s]\n",
      "100%|██████████| 3780/3780 [01:22<00:00, 45.58it/s]\n",
      "  0%|          | 0/945 [00:00<?, ?it/s]"
     ]
    },
    {
     "name": "stdout",
     "output_type": "stream",
     "text": [
      ">> epoch:[2/3] cost: 0.085 test_accuracy: 0.831 test_f1_score: 0.788\n"
     ]
    },
    {
     "name": "stderr",
     "output_type": "stream",
     "text": [
      "100%|██████████| 945/945 [02:12<00:00,  7.13it/s]\n",
      "100%|██████████| 3780/3780 [01:25<00:00, 44.34it/s]\n"
     ]
    },
    {
     "name": "stdout",
     "output_type": "stream",
     "text": [
      ">> epoch:[3/3] cost: 0.078 test_accuracy: 0.883 test_f1_score: 0.840\n",
      "============ Training Done! ============\n",
      "\n"
     ]
    }
   ],
   "source": [
    "cross_validation(df, model3, criterion3, optimizer3)"
   ]
  },
  {
   "cell_type": "markdown",
   "id": "5ddb6403-5bfc-461a-97bf-b6bf3c7f83d8",
   "metadata": {},
   "source": [
    "### 3.4. F1 Loss"
   ]
  },
  {
   "cell_type": "code",
   "execution_count": 26,
   "id": "1ab26d54-fb84-4c70-af17-310e876f508f",
   "metadata": {},
   "outputs": [
    {
     "name": "stderr",
     "output_type": "stream",
     "text": [
      "  0%|          | 0/945 [00:00<?, ?it/s]"
     ]
    },
    {
     "name": "stdout",
     "output_type": "stream",
     "text": [
      ">> Cross Validation 1 Starts!\n",
      "============ Training Starts! ============\n"
     ]
    },
    {
     "name": "stderr",
     "output_type": "stream",
     "text": [
      "100%|██████████| 945/945 [02:12<00:00,  7.16it/s]\n",
      "100%|██████████| 3780/3780 [01:20<00:00, 46.79it/s]\n",
      "  0%|          | 0/945 [00:00<?, ?it/s]"
     ]
    },
    {
     "name": "stdout",
     "output_type": "stream",
     "text": [
      ">> epoch:[1/3] cost: 0.884 test_accuracy: 0.268 test_f1_score: 0.140\n"
     ]
    },
    {
     "name": "stderr",
     "output_type": "stream",
     "text": [
      "100%|██████████| 945/945 [02:09<00:00,  7.30it/s]\n",
      "100%|██████████| 3780/3780 [01:24<00:00, 44.90it/s]\n",
      "  0%|          | 0/945 [00:00<?, ?it/s]"
     ]
    },
    {
     "name": "stdout",
     "output_type": "stream",
     "text": [
      ">> epoch:[2/3] cost: 0.789 test_accuracy: 0.504 test_f1_score: 0.343\n"
     ]
    },
    {
     "name": "stderr",
     "output_type": "stream",
     "text": [
      "100%|██████████| 945/945 [02:09<00:00,  7.29it/s]\n",
      "100%|██████████| 3780/3780 [01:22<00:00, 45.68it/s]\n"
     ]
    },
    {
     "name": "stdout",
     "output_type": "stream",
     "text": [
      ">> epoch:[3/3] cost: 0.741 test_accuracy: 0.531 test_f1_score: 0.365\n",
      "============ Training Done! ============\n",
      "\n",
      ">> Cross Validation 2 Starts!\n"
     ]
    },
    {
     "name": "stderr",
     "output_type": "stream",
     "text": [
      "  0%|          | 0/945 [00:00<?, ?it/s]"
     ]
    },
    {
     "name": "stdout",
     "output_type": "stream",
     "text": [
      "============ Training Starts! ============\n"
     ]
    },
    {
     "name": "stderr",
     "output_type": "stream",
     "text": [
      "100%|██████████| 945/945 [02:10<00:00,  7.26it/s]\n",
      "100%|██████████| 3780/3780 [01:19<00:00, 47.51it/s]\n",
      "  0%|          | 0/945 [00:00<?, ?it/s]"
     ]
    },
    {
     "name": "stdout",
     "output_type": "stream",
     "text": [
      ">> epoch:[1/3] cost: 0.720 test_accuracy: 0.713 test_f1_score: 0.502\n"
     ]
    },
    {
     "name": "stderr",
     "output_type": "stream",
     "text": [
      "100%|██████████| 945/945 [02:12<00:00,  7.14it/s]\n",
      "100%|██████████| 3780/3780 [01:24<00:00, 44.67it/s]\n",
      "  0%|          | 0/945 [00:00<?, ?it/s]"
     ]
    },
    {
     "name": "stdout",
     "output_type": "stream",
     "text": [
      ">> epoch:[2/3] cost: 0.701 test_accuracy: 0.704 test_f1_score: 0.518\n"
     ]
    },
    {
     "name": "stderr",
     "output_type": "stream",
     "text": [
      "100%|██████████| 945/945 [02:12<00:00,  7.12it/s]\n",
      "100%|██████████| 3780/3780 [01:21<00:00, 46.44it/s]\n",
      "  0%|          | 0/945 [00:00<?, ?it/s]"
     ]
    },
    {
     "name": "stdout",
     "output_type": "stream",
     "text": [
      ">> epoch:[3/3] cost: 0.691 test_accuracy: 0.716 test_f1_score: 0.511\n",
      "============ Training Done! ============\n",
      "\n",
      ">> Cross Validation 3 Starts!\n",
      "============ Training Starts! ============\n"
     ]
    },
    {
     "name": "stderr",
     "output_type": "stream",
     "text": [
      "100%|██████████| 945/945 [02:09<00:00,  7.28it/s]\n",
      "100%|██████████| 3780/3780 [01:20<00:00, 46.95it/s]\n",
      "  0%|          | 0/945 [00:00<?, ?it/s]"
     ]
    },
    {
     "name": "stdout",
     "output_type": "stream",
     "text": [
      ">> epoch:[1/3] cost: 0.680 test_accuracy: 0.777 test_f1_score: 0.575\n"
     ]
    },
    {
     "name": "stderr",
     "output_type": "stream",
     "text": [
      "100%|██████████| 945/945 [02:15<00:00,  7.00it/s]\n",
      "100%|██████████| 3780/3780 [01:21<00:00, 46.35it/s]\n",
      "  0%|          | 0/945 [00:00<?, ?it/s]"
     ]
    },
    {
     "name": "stdout",
     "output_type": "stream",
     "text": [
      ">> epoch:[2/3] cost: 0.671 test_accuracy: 0.766 test_f1_score: 0.566\n"
     ]
    },
    {
     "name": "stderr",
     "output_type": "stream",
     "text": [
      "100%|██████████| 945/945 [02:15<00:00,  7.00it/s]\n",
      "100%|██████████| 3780/3780 [01:22<00:00, 45.61it/s]\n",
      "  0%|          | 0/945 [00:00<?, ?it/s]"
     ]
    },
    {
     "name": "stdout",
     "output_type": "stream",
     "text": [
      ">> epoch:[3/3] cost: 0.661 test_accuracy: 0.766 test_f1_score: 0.551\n",
      "============ Training Done! ============\n",
      "\n",
      ">> Cross Validation 4 Starts!\n",
      "============ Training Starts! ============\n"
     ]
    },
    {
     "name": "stderr",
     "output_type": "stream",
     "text": [
      "100%|██████████| 945/945 [02:14<00:00,  7.03it/s]\n",
      "100%|██████████| 3780/3780 [01:21<00:00, 46.37it/s]\n",
      "  0%|          | 0/945 [00:00<?, ?it/s]"
     ]
    },
    {
     "name": "stdout",
     "output_type": "stream",
     "text": [
      ">> epoch:[1/3] cost: 0.665 test_accuracy: 0.712 test_f1_score: 0.539\n"
     ]
    },
    {
     "name": "stderr",
     "output_type": "stream",
     "text": [
      "100%|██████████| 945/945 [02:13<00:00,  7.06it/s]\n",
      "100%|██████████| 3780/3780 [01:20<00:00, 46.76it/s]\n",
      "  0%|          | 0/945 [00:00<?, ?it/s]"
     ]
    },
    {
     "name": "stdout",
     "output_type": "stream",
     "text": [
      ">> epoch:[2/3] cost: 0.658 test_accuracy: 0.784 test_f1_score: 0.568\n"
     ]
    },
    {
     "name": "stderr",
     "output_type": "stream",
     "text": [
      "100%|██████████| 945/945 [02:16<00:00,  6.93it/s]\n",
      "100%|██████████| 3780/3780 [01:26<00:00, 43.78it/s]\n",
      "  0%|          | 0/945 [00:00<?, ?it/s]"
     ]
    },
    {
     "name": "stdout",
     "output_type": "stream",
     "text": [
      ">> epoch:[3/3] cost: 0.652 test_accuracy: 0.782 test_f1_score: 0.580\n",
      "============ Training Done! ============\n",
      "\n",
      ">> Cross Validation 5 Starts!\n",
      "============ Training Starts! ============\n"
     ]
    },
    {
     "name": "stderr",
     "output_type": "stream",
     "text": [
      "100%|██████████| 945/945 [02:17<00:00,  6.90it/s]\n",
      "100%|██████████| 3780/3780 [01:25<00:00, 44.04it/s]\n",
      "  0%|          | 0/945 [00:00<?, ?it/s]"
     ]
    },
    {
     "name": "stdout",
     "output_type": "stream",
     "text": [
      ">> epoch:[1/3] cost: 0.654 test_accuracy: 0.846 test_f1_score: 0.628\n"
     ]
    },
    {
     "name": "stderr",
     "output_type": "stream",
     "text": [
      "100%|██████████| 945/945 [02:09<00:00,  7.28it/s]\n",
      "100%|██████████| 3780/3780 [01:25<00:00, 44.00it/s]\n",
      "  0%|          | 0/945 [00:00<?, ?it/s]"
     ]
    },
    {
     "name": "stdout",
     "output_type": "stream",
     "text": [
      ">> epoch:[2/3] cost: 0.648 test_accuracy: 0.819 test_f1_score: 0.598\n"
     ]
    },
    {
     "name": "stderr",
     "output_type": "stream",
     "text": [
      "100%|██████████| 945/945 [02:13<00:00,  7.09it/s]\n",
      "100%|██████████| 3780/3780 [01:21<00:00, 46.59it/s]\n"
     ]
    },
    {
     "name": "stdout",
     "output_type": "stream",
     "text": [
      ">> epoch:[3/3] cost: 0.643 test_accuracy: 0.822 test_f1_score: 0.605\n",
      "============ Training Done! ============\n",
      "\n"
     ]
    }
   ],
   "source": [
    "cross_validation(df, model4, criterion4, optimizer4)"
   ]
  },
  {
   "cell_type": "code",
   "execution_count": null,
   "id": "9e9f3d4d-70d8-4953-874f-0ccff3bd6406",
   "metadata": {},
   "outputs": [],
   "source": []
  }
 ],
 "metadata": {
  "kernelspec": {
   "display_name": "Python 3 (ipykernel)",
   "language": "python",
   "name": "python3"
  },
  "language_info": {
   "codemirror_mode": {
    "name": "ipython",
    "version": 3
   },
   "file_extension": ".py",
   "mimetype": "text/x-python",
   "name": "python",
   "nbconvert_exporter": "python",
   "pygments_lexer": "ipython3",
   "version": "3.8.5"
  }
 },
 "nbformat": 4,
 "nbformat_minor": 5
}
