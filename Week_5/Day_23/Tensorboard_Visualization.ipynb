{
 "cells": [
  {
   "cell_type": "code",
   "execution_count": 17,
   "id": "d9eab960-fd77-40c8-89ff-6510ccc38930",
   "metadata": {},
   "outputs": [],
   "source": [
    "import os\n",
    "import pandas as pd\n",
    "from tensorflow.python.summary.summary_iterator import summary_iterator"
   ]
  },
  {
   "cell_type": "code",
   "execution_count": 22,
   "id": "7491b0af-0be5-4b10-a8cc-729789bcdffa",
   "metadata": {},
   "outputs": [],
   "source": [
    "def convert_tb_data(root_dir, sort_by=None):\n",
    "\n",
    "    def convert_tfevent(filepath):\n",
    "        return pd.DataFrame([\n",
    "            parse_tfevent(e) for e in summary_iterator(filepath) if len(e.summary.value)\n",
    "        ])\n",
    "\n",
    "    def parse_tfevent(tfevent):\n",
    "        return dict(\n",
    "            wall_time=tfevent.wall_time,\n",
    "            name=tfevent.summary.value[0].tag,\n",
    "            step=tfevent.step,\n",
    "            value=float(tfevent.summary.value[0].simple_value),\n",
    "        )\n",
    "\n",
    "    columns_order = ['wall_time', 'name', 'step', 'value']\n",
    "    \n",
    "    out = []\n",
    "    for (root, _, filenames) in os.walk(root_dir):\n",
    "        for filename in filenames:\n",
    "            if 'events.out.tfevents' not in filename:\n",
    "                continue\n",
    "            file_full_path = os.path.join(root, filename)\n",
    "            out.append(convert_tfevent(file_full_path))\n",
    "            \n",
    "    # Concatenate (and sort) all partial individual dataframes\n",
    "    all_df = pd.concat(out)[columns_order]\n",
    "    if sort_by is not None:\n",
    "        all_df = all_df.sort_values(sort_by)\n",
    "        \n",
    "    return all_df.reset_index(drop=True)"
   ]
  },
  {
   "cell_type": "code",
   "execution_count": 23,
   "id": "2453d395-6add-435c-b98e-05c16e641195",
   "metadata": {},
   "outputs": [
    {
     "name": "stderr",
     "output_type": "stream",
     "text": [
      "WARNING:tensorflow:From /opt/conda/lib/python3.8/site-packages/tensorflow/python/summary/summary_iterator.py:31: tf_record_iterator (from tensorflow.python.lib.io.tf_record) is deprecated and will be removed in a future version.\n",
      "Instructions for updating:\n",
      "Use eager execution and: \n",
      "`tf.data.TFRecordDataset(path)`\n"
     ]
    }
   ],
   "source": [
    "dir_path = '/opt/ml/code/image-classification-level1-06/model/effi_b2_pr_fold/'\n",
    "df = convert_tb_data(dir_path)"
   ]
  },
  {
   "cell_type": "code",
   "execution_count": 25,
   "id": "d4cb4d30-62ef-4859-bfe5-958ec55fdb8a",
   "metadata": {},
   "outputs": [
    {
     "data": {
      "text/html": [
       "<div>\n",
       "<style scoped>\n",
       "    .dataframe tbody tr th:only-of-type {\n",
       "        vertical-align: middle;\n",
       "    }\n",
       "\n",
       "    .dataframe tbody tr th {\n",
       "        vertical-align: top;\n",
       "    }\n",
       "\n",
       "    .dataframe thead th {\n",
       "        text-align: right;\n",
       "    }\n",
       "</style>\n",
       "<table border=\"1\" class=\"dataframe\">\n",
       "  <thead>\n",
       "    <tr style=\"text-align: right;\">\n",
       "      <th></th>\n",
       "      <th>wall_time</th>\n",
       "      <th>name</th>\n",
       "      <th>step</th>\n",
       "      <th>value</th>\n",
       "    </tr>\n",
       "  </thead>\n",
       "  <tbody>\n",
       "    <tr>\n",
       "      <th>46</th>\n",
       "      <td>1.630504e+09</td>\n",
       "      <td>Val/f1-score</td>\n",
       "      <td>0</td>\n",
       "      <td>0.444253</td>\n",
       "    </tr>\n",
       "    <tr>\n",
       "      <th>94</th>\n",
       "      <td>1.630504e+09</td>\n",
       "      <td>Val/f1-score</td>\n",
       "      <td>1</td>\n",
       "      <td>0.647580</td>\n",
       "    </tr>\n",
       "    <tr>\n",
       "      <th>142</th>\n",
       "      <td>1.630504e+09</td>\n",
       "      <td>Val/f1-score</td>\n",
       "      <td>2</td>\n",
       "      <td>0.709771</td>\n",
       "    </tr>\n",
       "    <tr>\n",
       "      <th>190</th>\n",
       "      <td>1.630504e+09</td>\n",
       "      <td>Val/f1-score</td>\n",
       "      <td>3</td>\n",
       "      <td>0.672324</td>\n",
       "    </tr>\n",
       "    <tr>\n",
       "      <th>238</th>\n",
       "      <td>1.630504e+09</td>\n",
       "      <td>Val/f1-score</td>\n",
       "      <td>4</td>\n",
       "      <td>0.684619</td>\n",
       "    </tr>\n",
       "    <tr>\n",
       "      <th>286</th>\n",
       "      <td>1.630504e+09</td>\n",
       "      <td>Val/f1-score</td>\n",
       "      <td>5</td>\n",
       "      <td>0.717129</td>\n",
       "    </tr>\n",
       "    <tr>\n",
       "      <th>334</th>\n",
       "      <td>1.630504e+09</td>\n",
       "      <td>Val/f1-score</td>\n",
       "      <td>6</td>\n",
       "      <td>0.711361</td>\n",
       "    </tr>\n",
       "    <tr>\n",
       "      <th>382</th>\n",
       "      <td>1.630504e+09</td>\n",
       "      <td>Val/f1-score</td>\n",
       "      <td>7</td>\n",
       "      <td>0.718053</td>\n",
       "    </tr>\n",
       "    <tr>\n",
       "      <th>430</th>\n",
       "      <td>1.630504e+09</td>\n",
       "      <td>Val/f1-score</td>\n",
       "      <td>8</td>\n",
       "      <td>0.722786</td>\n",
       "    </tr>\n",
       "    <tr>\n",
       "      <th>478</th>\n",
       "      <td>1.630504e+09</td>\n",
       "      <td>Val/f1-score</td>\n",
       "      <td>9</td>\n",
       "      <td>0.715138</td>\n",
       "    </tr>\n",
       "    <tr>\n",
       "      <th>526</th>\n",
       "      <td>1.630504e+09</td>\n",
       "      <td>Val/f1-score</td>\n",
       "      <td>10</td>\n",
       "      <td>0.728078</td>\n",
       "    </tr>\n",
       "    <tr>\n",
       "      <th>574</th>\n",
       "      <td>1.630504e+09</td>\n",
       "      <td>Val/f1-score</td>\n",
       "      <td>11</td>\n",
       "      <td>0.722931</td>\n",
       "    </tr>\n",
       "    <tr>\n",
       "      <th>622</th>\n",
       "      <td>1.630504e+09</td>\n",
       "      <td>Val/f1-score</td>\n",
       "      <td>12</td>\n",
       "      <td>0.709565</td>\n",
       "    </tr>\n",
       "    <tr>\n",
       "      <th>670</th>\n",
       "      <td>1.630504e+09</td>\n",
       "      <td>Val/f1-score</td>\n",
       "      <td>13</td>\n",
       "      <td>0.712267</td>\n",
       "    </tr>\n",
       "    <tr>\n",
       "      <th>718</th>\n",
       "      <td>1.630504e+09</td>\n",
       "      <td>Val/f1-score</td>\n",
       "      <td>14</td>\n",
       "      <td>0.721839</td>\n",
       "    </tr>\n",
       "  </tbody>\n",
       "</table>\n",
       "</div>"
      ],
      "text/plain": [
       "        wall_time          name  step     value\n",
       "46   1.630504e+09  Val/f1-score     0  0.444253\n",
       "94   1.630504e+09  Val/f1-score     1  0.647580\n",
       "142  1.630504e+09  Val/f1-score     2  0.709771\n",
       "190  1.630504e+09  Val/f1-score     3  0.672324\n",
       "238  1.630504e+09  Val/f1-score     4  0.684619\n",
       "286  1.630504e+09  Val/f1-score     5  0.717129\n",
       "334  1.630504e+09  Val/f1-score     6  0.711361\n",
       "382  1.630504e+09  Val/f1-score     7  0.718053\n",
       "430  1.630504e+09  Val/f1-score     8  0.722786\n",
       "478  1.630504e+09  Val/f1-score     9  0.715138\n",
       "526  1.630504e+09  Val/f1-score    10  0.728078\n",
       "574  1.630504e+09  Val/f1-score    11  0.722931\n",
       "622  1.630504e+09  Val/f1-score    12  0.709565\n",
       "670  1.630504e+09  Val/f1-score    13  0.712267\n",
       "718  1.630504e+09  Val/f1-score    14  0.721839"
      ]
     },
     "execution_count": 25,
     "metadata": {},
     "output_type": "execute_result"
    }
   ],
   "source": [
    "df[df.name == 'Val/f1-score']"
   ]
  },
  {
   "cell_type": "code",
   "execution_count": 27,
   "id": "b33e4e60-d842-43d3-bf69-8e596210b2ec",
   "metadata": {},
   "outputs": [],
   "source": [
    "import matplotlib.pyplot as plt"
   ]
  },
  {
   "cell_type": "code",
   "execution_count": 28,
   "id": "010e9770-d9ea-4c97-834d-730a43ff6e70",
   "metadata": {},
   "outputs": [
    {
     "data": {
      "text/plain": [
       "[<matplotlib.lines.Line2D at 0x7f7fb3473820>]"
      ]
     },
     "execution_count": 28,
     "metadata": {},
     "output_type": "execute_result"
    },
    {
     "data": {
      "image/png": "[encoded data removed]",
      "text/plain": [
       "<Figure size 432x288 with 1 Axes>"
      ]
     },
     "metadata": {
      "needs_background": "light"
     },
     "output_type": "display_data"
    }
   ],
   "source": [
    "plt.plot('value', data=df[df.name == 'Val/f1-score'])"
   ]
  },
  {
   "cell_type": "code",
   "execution_count": null,
   "id": "da15297c-4261-4c32-a395-1b938d5bbb62",
   "metadata": {},
   "outputs": [],
   "source": []
  }
 ],
 "metadata": {
  "kernelspec": {
   "display_name": "Python 3 (ipykernel)",
   "language": "python",
   "name": "python3"
  },
  "language_info": {
   "codemirror_mode": {
    "name": "ipython",
    "version": 3
   },
   "file_extension": ".py",
   "mimetype": "text/x-python",
   "name": "python",
   "nbconvert_exporter": "python",
   "pygments_lexer": "ipython3",
   "version": "3.8.5"
  }
 },
 "nbformat": 4,
 "nbformat_minor": 5
}
